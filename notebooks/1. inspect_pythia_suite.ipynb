{
 "cells": [
  {
   "cell_type": "markdown",
   "id": "8f469d56-6925-49b3-8c62-9486275d2771",
   "metadata": {},
   "source": [
    "# Factuality of Large Language Models\n",
    "Since they are trained to reproduce text, LLMs are not built to care about facts very much. This is a notebook to try out some huggingface features, get a better feeling of how well facts are represented and if that can be improved. This toy example uses LLMs from HuggingFace and relations between characters in the Harry Potter books.\n",
    "\n",
    "## Questions\n",
    "1. Do HF models know the books? Test by generating Text.\n",
    "2. How is text generation implemented? More detailed look at the tokenizer, model structure and text generation function.\n",
    "3. How to tell if the model knows the facts? Infer character relations from token prediction probabilities.\n",
    "\n",
    "## References\n",
    "- [Hugging Face Tutorial on Causal Language Modelling](https://huggingface.co/docs/transformers/en/tasks/language_modeling)\n",
    "- Pythia Suite from Eleuther described in this article: [Pythia: A Suite for Analyzing Large Language Models Across Training and Scaling (2023)](https://www.google.com/url?sa=t&source=web&rct=j&opi=89978449&url=https://arxiv.org/abs/2304.01373&ved=2ahUKEwiptvjlq-yFAxXQ2AIHHdbIDmsQFnoECAcQAQ&usg=AOvVaw1vz79Jf0Wj1Ohmo9eJp1R2)\n",
    "- Hosted on [Hugging Face](https://huggingface.co/collections/EleutherAI/pythia-scaling-suite-64fb5dfa8c21ebb3db7ad2e1)\n",
    "- Nice article on BPE and sampling strategies [From Jake Tae's blog](https://jaketae.github.io/study/gpt2/#setup)"
   ]
  },
  {
   "cell_type": "markdown",
   "id": "0de6a589-63ff-47a3-96da-91a4f56e186f",
   "metadata": {},
   "source": [
    "# 0. HF Language Models from the Pythia Suite"
   ]
  },
  {
   "cell_type": "markdown",
   "id": "631fc77d-da27-4a59-9f6b-b333e89935ee",
   "metadata": {},
   "source": [
    "- The Pythia models consist of \"a suite of 16 LLMs all trained on public data seen in the exact same order and ranging in size from 70M to 12B parameters\".\n",
    "- They are \"decoder-only autoregressive language models\". I.e. the input is a sequence of text tokens, the outputs are logits for the likelihood of token ids which follow each token, and in particular the token which will follow the last token of the input sequence.\n",
    "      "
   ]
  },
  {
   "cell_type": "markdown",
   "id": "51194fe1-b5df-4232-bdb0-5c6ad249e422",
   "metadata": {},
   "source": [
    "# 1. Generate text with a HF model\n",
    "\n",
    "- A test on trainingsdata memorization: does a model correctly continue phrases from some well known books?\n",
    "- The trainingsdata might have contained the whole book, or only phrases from discussions online.\n",
    "- If the model doesn't reproduce the expected text, the prompt might be too short, the text sampling too random, or the model too small.\n",
    "- Turns out the larger models can retrieve the context of the book, and sometimes even complete the quote correctly.\n",
    "- The smaller the model, the less likely this is to work."
   ]
  },
  {
   "cell_type": "code",
   "execution_count": 1,
   "id": "fda70051-88a0-440a-a85f-b6df71b0acf7",
   "metadata": {},
   "outputs": [],
   "source": [
    "import pandas as pd \n",
    "import torch\n",
    "# hugging face modules\n",
    "from transformers import AutoTokenizer\n",
    "from transformers import AutoModelForCausalLM\n",
    "\n",
    "%load_ext autoreload\n",
    "%autoreload 2\n",
    "\n",
    "import sys\n",
    "sys.path.append('..')"
   ]
  },
  {
   "cell_type": "code",
   "execution_count": 2,
   "id": "59e3d7f6-fabb-4de4-a624-b0ea3e9dd535",
   "metadata": {},
   "outputs": [
    {
     "name": "stdout",
     "output_type": "stream",
     "text": [
      "EleutherAI/pythia-2.8b\n"
     ]
    }
   ],
   "source": [
    "# shortcuts for the model names, using eleu_xxs to eleu_xxxl\n",
    "from utils import model2hfname\n",
    "\n",
    "# this one is on the larger side\n",
    "mkey = 'eleu_xl'\n",
    "model_id = model2hfname[mkey]\n",
    "print(model_id)"
   ]
  },
  {
   "cell_type": "code",
   "execution_count": 3,
   "id": "40ae0059-8425-4949-8ef5-e5c58d89d210",
   "metadata": {},
   "outputs": [
    {
     "name": "stderr",
     "output_type": "stream",
     "text": [
      "Special tokens have been added in the vocabulary, make sure the associated word embeddings are fine-tuned or trained.\n"
     ]
    }
   ],
   "source": [
    "tokenizer = AutoTokenizer.from_pretrained(model_id, padding_side='left')\n",
    "tokenizer.pad_token = tokenizer.eos_token"
   ]
  },
  {
   "cell_type": "code",
   "execution_count": 4,
   "id": "9891d5a1-e605-4c27-a82b-5bffbcedb1ba",
   "metadata": {},
   "outputs": [],
   "source": [
    "model = AutoModelForCausalLM.from_pretrained(model_id)"
   ]
  },
  {
   "cell_type": "code",
   "execution_count": 5,
   "id": "17c286f6-f99c-4d09-98fc-f53a3fdb096c",
   "metadata": {},
   "outputs": [
    {
     "name": "stdout",
     "output_type": "stream",
     "text": [
      "Model size [params]: 2,775,208,960\n"
     ]
    }
   ],
   "source": [
    "# how big is the model?\n",
    "\n",
    "total_params = sum(p.numel() for p in model.parameters())\n",
    "print(f'Model size [params]: {total_params:,}') # as advertised"
   ]
  },
  {
   "cell_type": "code",
   "execution_count": 6,
   "id": "e9ca8443-81d6-4089-991c-551b268c639b",
   "metadata": {},
   "outputs": [],
   "source": [
    "prompts = [\"In a hole in the ground there lived\", #a hobbit. Not a nasty, dirty, wet hole, filled with the ends of worms and an oozy smell\n",
    "           \"When Mr. Bilbo Baggins of Bag End announced\", #that he would shortly be celebrating his eleventy-first birthday\n",
    "           \"Mr. and Mrs. Dursley of number four, Privet Drive, were proud to say\", #that they were perfectly normal, thank you very much.\n",
    "           'Dumbledore turned and walked back down the street. On', # the corner he stopped and took out the silver Put-Outer.' \n",
    "          ]"
   ]
  },
  {
   "cell_type": "code",
   "execution_count": 7,
   "id": "65701efd-1480-41c3-a1a5-68784f2a9b26",
   "metadata": {},
   "outputs": [
    {
     "name": "stdout",
     "output_type": "stream",
     "text": [
      "*** Example ***\n",
      "\n",
      "In a hole in the ground there lived a hobbit.\" \"Not a nasty, dirty, wet hole, filled with the ends of worms and an oozy smell, nor yet a dry, bare, sandy hole with nothing in it to sit down on or to eat: it was a\n",
      "\n",
      "*** Example ***\n",
      "\n",
      "When Mr. Bilbo Baggins of Bag End announced that he had come to live in the Shire, it was a great day for the Hobbits, for it meant that they were no longer under the eye of the Dark Lord, Sauron, and his minions. It was also a\n",
      "\n",
      "*** Example ***\n",
      "\n",
      "Mr. and Mrs. Dursley of number four, Privet Drive, were proud to say that they were perfectly normal, thank you very much. They had no idea who any of the people in this book were.\"\n",
      "\n",
      "\"I don't understand,\" said Harry. \"How can they be normal if they've never heard of Dumbled\n",
      "\n",
      "*** Example ***\n",
      "\n",
      "Dumbledore turned and walked back down the street. On the other side of the road, Harry and Hermione followed him.\n",
      "\n",
      "\"What was that all about?\" Harry asked. \"I thought you were going to tell me something important about the prophecy. I mean, I know it's important,\n",
      "\n"
     ]
    }
   ],
   "source": [
    "model_inputs = tokenizer(prompts, return_tensors=\"pt\", padding=True)\n",
    "generated_ids = model.generate(**model_inputs,\n",
    "                               pad_token_id=tokenizer.eos_token_id,\n",
    "                               max_new_tokens=50,\n",
    "                               num_beams=5, \n",
    "                               no_repeat_ngram_size=2,\n",
    "                               num_return_sequences=1\n",
    "                              )\n",
    "\n",
    "for txt in tokenizer.batch_decode(generated_ids, skip_special_tokens=True):\n",
    "    print('*** Example ***')\n",
    "    print()\n",
    "    print(txt)\n",
    "    print()\n"
   ]
  },
  {
   "cell_type": "markdown",
   "id": "29717f59-f576-4ab7-8b69-a8e320ce48ba",
   "metadata": {},
   "source": [
    "# 2. A quick look under the hood"
   ]
  },
  {
   "cell_type": "markdown",
   "id": "96fb6805-d08d-45f5-b124-7b265fe76d82",
   "metadata": {},
   "source": [
    "## The tokenizer\n",
    "\n",
    "- A byte pair encoding tokenizer.\n",
    "- Most of the longer tokens are English words, so although the model can generate text in different languages, English is at an advantage.\n",
    "- With about 50k different tokens, there is room for some quite long words represented by a single token."
   ]
  },
  {
   "cell_type": "code",
   "execution_count": 8,
   "id": "25631399-12c6-41e3-ae1a-a0f424941bda",
   "metadata": {},
   "outputs": [
    {
     "data": {
      "text/plain": [
       "transformers.models.gpt_neox.tokenization_gpt_neox_fast.GPTNeoXTokenizerFast"
      ]
     },
     "execution_count": 8,
     "metadata": {},
     "output_type": "execute_result"
    }
   ],
   "source": [
    "type(tokenizer)"
   ]
  },
  {
   "cell_type": "code",
   "execution_count": 9,
   "id": "f98f7b8c-fb8c-4837-9d90-e9b354551e51",
   "metadata": {},
   "outputs": [
    {
     "data": {
      "text/plain": [
       "50277"
      ]
     },
     "execution_count": 9,
     "metadata": {},
     "output_type": "execute_result"
    }
   ],
   "source": [
    "vocab = tokenizer.get_vocab()\n",
    "len(vocab)"
   ]
  },
  {
   "cell_type": "code",
   "execution_count": 10,
   "id": "67689c03-844d-4584-b09b-d03506350f5b",
   "metadata": {},
   "outputs": [],
   "source": [
    "tokens = pd.DataFrame()\n",
    "tokens['token'] = vocab.keys()\n",
    "tokens['id'] = vocab.values()\n",
    "tokens['token_raw'] = tokens['token'].str.replace('Ġ', '')\n",
    "tokens['length'] = tokens['token_raw'].str.len()\n",
    "tokens.sort_values(by='length', ascending=False, inplace=True)"
   ]
  },
  {
   "cell_type": "code",
   "execution_count": 11,
   "id": "90ff4122-727d-45db-bf37-170e2405f38e",
   "metadata": {},
   "outputs": [
    {
     "data": {
      "text/plain": [
       "<Axes: title={'center': 'Distribution of token length'}, xlabel='Number of characters', ylabel='Frequency'>"
      ]
     },
     "execution_count": 11,
     "metadata": {},
     "output_type": "execute_result"
    },
    {
     "data": {
      "image/png": "[encoded data removed]",
      "text/plain": [
       "<Figure size 640x480 with 1 Axes>"
      ]
     },
     "metadata": {},
     "output_type": "display_data"
    }
   ],
   "source": [
    "tokens[tokens['length'] < 20]['length'].plot.hist(bins=20, xlabel='Number of characters', title='Distribution of token length')\n"
   ]
  },
  {
   "cell_type": "code",
   "execution_count": 12,
   "id": "02ab827b-e5f8-4da0-a284-09db4a9f4321",
   "metadata": {},
   "outputs": [
    {
     "data": {
      "text/html": [
       "<div>\n",
       "<style scoped>\n",
       "    .dataframe tbody tr th:only-of-type {\n",
       "        vertical-align: middle;\n",
       "    }\n",
       "\n",
       "    .dataframe tbody tr th {\n",
       "        vertical-align: top;\n",
       "    }\n",
       "\n",
       "    .dataframe thead th {\n",
       "        text-align: right;\n",
       "    }\n",
       "</style>\n",
       "<table border=\"1\" class=\"dataframe\">\n",
       "  <thead>\n",
       "    <tr style=\"text-align: right;\">\n",
       "      <th></th>\n",
       "      <th>token_raw</th>\n",
       "      <th>length</th>\n",
       "      <th>id</th>\n",
       "    </tr>\n",
       "  </thead>\n",
       "  <tbody>\n",
       "    <tr>\n",
       "      <th>35811</th>\n",
       "      <td>gastrointestinal</td>\n",
       "      <td>16</td>\n",
       "      <td>22496</td>\n",
       "    </tr>\n",
       "    <tr>\n",
       "      <th>39865</th>\n",
       "      <td>misunderstanding</td>\n",
       "      <td>16</td>\n",
       "      <td>40663</td>\n",
       "    </tr>\n",
       "    <tr>\n",
       "      <th>375</th>\n",
       "      <td>cryptocurrencies</td>\n",
       "      <td>16</td>\n",
       "      <td>44923</td>\n",
       "    </tr>\n",
       "  </tbody>\n",
       "</table>\n",
       "</div>"
      ],
      "text/plain": [
       "              token_raw  length     id\n",
       "35811  gastrointestinal      16  22496\n",
       "39865  misunderstanding      16  40663\n",
       "375    cryptocurrencies      16  44923"
      ]
     },
     "metadata": {},
     "output_type": "display_data"
    },
    {
     "data": {
      "text/html": [
       "<div>\n",
       "<style scoped>\n",
       "    .dataframe tbody tr th:only-of-type {\n",
       "        vertical-align: middle;\n",
       "    }\n",
       "\n",
       "    .dataframe tbody tr th {\n",
       "        vertical-align: top;\n",
       "    }\n",
       "\n",
       "    .dataframe thead th {\n",
       "        text-align: right;\n",
       "    }\n",
       "</style>\n",
       "<table border=\"1\" class=\"dataframe\">\n",
       "  <thead>\n",
       "    <tr style=\"text-align: right;\">\n",
       "      <th></th>\n",
       "      <th>token_raw</th>\n",
       "      <th>length</th>\n",
       "      <th>id</th>\n",
       "    </tr>\n",
       "  </thead>\n",
       "  <tbody>\n",
       "    <tr>\n",
       "      <th>9611</th>\n",
       "      <td>illustration</td>\n",
       "      <td>12</td>\n",
       "      <td>23356</td>\n",
       "    </tr>\n",
       "    <tr>\n",
       "      <th>22865</th>\n",
       "      <td>hypertension</td>\n",
       "      <td>12</td>\n",
       "      <td>14300</td>\n",
       "    </tr>\n",
       "    <tr>\n",
       "      <th>12451</th>\n",
       "      <td>formaldehyde</td>\n",
       "      <td>12</td>\n",
       "      <td>48306</td>\n",
       "    </tr>\n",
       "  </tbody>\n",
       "</table>\n",
       "</div>"
      ],
      "text/plain": [
       "          token_raw  length     id\n",
       "9611   illustration      12  23356\n",
       "22865  hypertension      12  14300\n",
       "12451  formaldehyde      12  48306"
      ]
     },
     "metadata": {},
     "output_type": "display_data"
    },
    {
     "data": {
      "text/html": [
       "<div>\n",
       "<style scoped>\n",
       "    .dataframe tbody tr th:only-of-type {\n",
       "        vertical-align: middle;\n",
       "    }\n",
       "\n",
       "    .dataframe tbody tr th {\n",
       "        vertical-align: top;\n",
       "    }\n",
       "\n",
       "    .dataframe thead th {\n",
       "        text-align: right;\n",
       "    }\n",
       "</style>\n",
       "<table border=\"1\" class=\"dataframe\">\n",
       "  <thead>\n",
       "    <tr style=\"text-align: right;\">\n",
       "      <th></th>\n",
       "      <th>token_raw</th>\n",
       "      <th>length</th>\n",
       "      <th>id</th>\n",
       "    </tr>\n",
       "  </thead>\n",
       "  <tbody>\n",
       "    <tr>\n",
       "      <th>29711</th>\n",
       "      <td>determin</td>\n",
       "      <td>8</td>\n",
       "      <td>11544</td>\n",
       "    </tr>\n",
       "    <tr>\n",
       "      <th>49211</th>\n",
       "      <td>argument</td>\n",
       "      <td>8</td>\n",
       "      <td>24058</td>\n",
       "    </tr>\n",
       "    <tr>\n",
       "      <th>49218</th>\n",
       "      <td>Criminal</td>\n",
       "      <td>8</td>\n",
       "      <td>20526</td>\n",
       "    </tr>\n",
       "  </tbody>\n",
       "</table>\n",
       "</div>"
      ],
      "text/plain": [
       "      token_raw  length     id\n",
       "29711  determin       8  11544\n",
       "49211  argument       8  24058\n",
       "49218  Criminal       8  20526"
      ]
     },
     "metadata": {},
     "output_type": "display_data"
    },
    {
     "data": {
      "text/html": [
       "<div>\n",
       "<style scoped>\n",
       "    .dataframe tbody tr th:only-of-type {\n",
       "        vertical-align: middle;\n",
       "    }\n",
       "\n",
       "    .dataframe tbody tr th {\n",
       "        vertical-align: top;\n",
       "    }\n",
       "\n",
       "    .dataframe thead th {\n",
       "        text-align: right;\n",
       "    }\n",
       "</style>\n",
       "<table border=\"1\" class=\"dataframe\">\n",
       "  <thead>\n",
       "    <tr style=\"text-align: right;\">\n",
       "      <th></th>\n",
       "      <th>token_raw</th>\n",
       "      <th>length</th>\n",
       "      <th>id</th>\n",
       "    </tr>\n",
       "  </thead>\n",
       "  <tbody>\n",
       "    <tr>\n",
       "      <th>29985</th>\n",
       "      <td>sans</td>\n",
       "      <td>4</td>\n",
       "      <td>20155</td>\n",
       "    </tr>\n",
       "    <tr>\n",
       "      <th>25635</th>\n",
       "      <td>rank</td>\n",
       "      <td>4</td>\n",
       "      <td>5958</td>\n",
       "    </tr>\n",
       "    <tr>\n",
       "      <th>29958</th>\n",
       "      <td>publ</td>\n",
       "      <td>4</td>\n",
       "      <td>2958</td>\n",
       "    </tr>\n",
       "  </tbody>\n",
       "</table>\n",
       "</div>"
      ],
      "text/plain": [
       "      token_raw  length     id\n",
       "29985      sans       4  20155\n",
       "25635      rank       4   5958\n",
       "29958      publ       4   2958"
      ]
     },
     "metadata": {},
     "output_type": "display_data"
    },
    {
     "data": {
      "text/html": [
       "<div>\n",
       "<style scoped>\n",
       "    .dataframe tbody tr th:only-of-type {\n",
       "        vertical-align: middle;\n",
       "    }\n",
       "\n",
       "    .dataframe tbody tr th {\n",
       "        vertical-align: top;\n",
       "    }\n",
       "\n",
       "    .dataframe thead th {\n",
       "        text-align: right;\n",
       "    }\n",
       "</style>\n",
       "<table border=\"1\" class=\"dataframe\">\n",
       "  <thead>\n",
       "    <tr style=\"text-align: right;\">\n",
       "      <th></th>\n",
       "      <th>token_raw</th>\n",
       "      <th>length</th>\n",
       "      <th>id</th>\n",
       "    </tr>\n",
       "  </thead>\n",
       "  <tbody>\n",
       "    <tr>\n",
       "      <th>34295</th>\n",
       "      <td>139</td>\n",
       "      <td>3</td>\n",
       "      <td>15470</td>\n",
       "    </tr>\n",
       "    <tr>\n",
       "      <th>20303</th>\n",
       "      <td>Dur</td>\n",
       "      <td>3</td>\n",
       "      <td>45865</td>\n",
       "    </tr>\n",
       "    <tr>\n",
       "      <th>20309</th>\n",
       "      <td>set</td>\n",
       "      <td>3</td>\n",
       "      <td>873</td>\n",
       "    </tr>\n",
       "  </tbody>\n",
       "</table>\n",
       "</div>"
      ],
      "text/plain": [
       "      token_raw  length     id\n",
       "34295       139       3  15470\n",
       "20303       Dur       3  45865\n",
       "20309       set       3    873"
      ]
     },
     "metadata": {},
     "output_type": "display_data"
    },
    {
     "data": {
      "text/html": [
       "<div>\n",
       "<style scoped>\n",
       "    .dataframe tbody tr th:only-of-type {\n",
       "        vertical-align: middle;\n",
       "    }\n",
       "\n",
       "    .dataframe tbody tr th {\n",
       "        vertical-align: top;\n",
       "    }\n",
       "\n",
       "    .dataframe thead th {\n",
       "        text-align: right;\n",
       "    }\n",
       "</style>\n",
       "<table border=\"1\" class=\"dataframe\">\n",
       "  <thead>\n",
       "    <tr style=\"text-align: right;\">\n",
       "      <th></th>\n",
       "      <th>token_raw</th>\n",
       "      <th>length</th>\n",
       "      <th>id</th>\n",
       "    </tr>\n",
       "  </thead>\n",
       "  <tbody>\n",
       "    <tr>\n",
       "      <th>48111</th>\n",
       "      <td>,</td>\n",
       "      <td>1</td>\n",
       "      <td>1157</td>\n",
       "    </tr>\n",
       "    <tr>\n",
       "      <th>26466</th>\n",
       "      <td>Ñ</td>\n",
       "      <td>1</td>\n",
       "      <td>141</td>\n",
       "    </tr>\n",
       "    <tr>\n",
       "      <th>2778</th>\n",
       "      <td>±</td>\n",
       "      <td>1</td>\n",
       "      <td>111</td>\n",
       "    </tr>\n",
       "  </tbody>\n",
       "</table>\n",
       "</div>"
      ],
      "text/plain": [
       "      token_raw  length    id\n",
       "48111         ,       1  1157\n",
       "26466         Ñ       1   141\n",
       "2778          ±       1   111"
      ]
     },
     "metadata": {},
     "output_type": "display_data"
    }
   ],
   "source": [
    "# Some examples of individual tokens\n",
    "for pos in [150, 1000, 10_000, 30_000, 40_000, 50_000]:\n",
    "    display(tokens.sort_values(by='length', ascending=False).head(pos).tail(3)[['token_raw', 'length', 'id']])"
   ]
  },
  {
   "cell_type": "markdown",
   "id": "d81eecef-55fb-4bcc-92e1-6070dedfcb41",
   "metadata": {},
   "source": [
    "## More details of the model suite's architecture"
   ]
  },
  {
   "cell_type": "markdown",
   "id": "29095ac9-2e12-4404-8a1f-f32c10d9ab08",
   "metadata": {},
   "source": [
    "- From a table in the Pythia-paper, the number of model parameters is varied by choosing different meta parameter values for\n",
    "    - hidden-size\n",
    "    - num-attention-heads\n",
    "    - num-layers\n",
    "- This does not cover all the details. Looking some more into the article, the trace of references goes like this:\n",
    "    - The article states: 'model architecture and hyperparameter largely follow Brown et al. (2020)' (article title: Language Models are Few-Shot Learners)\n",
    "    - In there: 'We use the same model and architecture as GPT-2 ' (language models are unsupervised multitask learners, 2019)\n",
    "    - From there: 'The model largely follows the details of the OpenAI GPT' (Language Models are Few-Shot Learners)\n",
    "    - Which refers again: 'The model largely follows the details of the OpenAI GPT model' ('Improving language understanding by generative pre-training, 2018)\n",
    "    - There, finally: 'Our model largely follows the original transformer work' ('Attention is all you need')!\n",
    "- So there is no detailed description in one place, and it's probably best to look into the model or the code itself."
   ]
  },
  {
   "cell_type": "code",
   "execution_count": 13,
   "id": "9c46c4e6-9a57-417b-b81f-6adc28f64484",
   "metadata": {},
   "outputs": [
    {
     "data": {
      "text/plain": [
       "transformers.models.gpt_neox.modeling_gpt_neox.GPTNeoXForCausalLM"
      ]
     },
     "execution_count": 13,
     "metadata": {},
     "output_type": "execute_result"
    }
   ],
   "source": [
    "type(model)"
   ]
  },
  {
   "cell_type": "code",
   "execution_count": 14,
   "id": "811383c6-4d5d-4de3-b509-10ec9aaef02b",
   "metadata": {},
   "outputs": [
    {
     "name": "stdout",
     "output_type": "stream",
     "text": [
      "GPTNeoXForCausalLM(\n",
      "  (gpt_neox): GPTNeoXModel(\n",
      "    (embed_in): Embedding(50304, 2560)\n",
      "    (emb_dropout): Dropout(p=0.0, inplace=False)\n",
      "    (layers): ModuleList(\n",
      "      (0-31): 32 x GPTNeoXLayer(\n",
      "        (input_layernorm): LayerNorm((2560,), eps=1e-05, elementwise_affine=True)\n",
      "        (post_attention_layernorm): LayerNorm((2560,), eps=1e-05, elementwise_affine=True)\n",
      "        (post_attention_dropout): Dropout(p=0.0, inplace=False)\n",
      "        (post_mlp_dropout): Dropout(p=0.0, inplace=False)\n",
      "        (attention): GPTNeoXAttention(\n",
      "          (rotary_emb): GPTNeoXRotaryEmbedding()\n",
      "          (query_key_value): Linear(in_features=2560, out_features=7680, bias=True)\n",
      "          (dense): Linear(in_features=2560, out_features=2560, bias=True)\n",
      "          (attention_dropout): Dropout(p=0.0, inplace=False)\n",
      "        )\n",
      "        (mlp): GPTNeoXMLP(\n",
      "          (dense_h_to_4h): Linear(in_features=2560, out_features=10240, bias=True)\n",
      "          (dense_4h_to_h): Linear(in_features=10240, out_features=2560, bias=True)\n",
      "          (act): GELUActivation()\n",
      "        )\n",
      "      )\n",
      "    )\n",
      "    (final_layer_norm): LayerNorm((2560,), eps=1e-05, elementwise_affine=True)\n",
      "  )\n",
      "  (embed_out): Linear(in_features=2560, out_features=50304, bias=False)\n",
      ")\n"
     ]
    }
   ],
   "source": [
    "print(model)"
   ]
  },
  {
   "cell_type": "code",
   "execution_count": 15,
   "id": "7cab8a27-a8d7-4984-a483-9f4dc73dcb0f",
   "metadata": {},
   "outputs": [],
   "source": [
    "# => 12 transformer layers and one linear layer"
   ]
  },
  {
   "cell_type": "code",
   "execution_count": 16,
   "id": "2f79855f-fde2-4776-b55a-3e33953b047f",
   "metadata": {},
   "outputs": [
    {
     "data": {
      "text/plain": [
       "Linear(in_features=2560, out_features=50304, bias=False)"
      ]
     },
     "execution_count": 16,
     "metadata": {},
     "output_type": "execute_result"
    }
   ],
   "source": [
    "final_layer = dict(model.named_modules())['embed_out']\n",
    "final_layer"
   ]
  },
  {
   "cell_type": "code",
   "execution_count": 17,
   "id": "00a518a9-725c-4c6b-814d-d0022544e27c",
   "metadata": {},
   "outputs": [
    {
     "name": "stdout",
     "output_type": "stream",
     "text": [
      "torch.Size([50304, 2560])\n"
     ]
    }
   ],
   "source": [
    "for p in final_layer.parameters():\n",
    "    print(p.shape)"
   ]
  },
  {
   "cell_type": "markdown",
   "id": "78e9a882-96b9-46e6-89d3-7b003b7c4866",
   "metadata": {},
   "source": [
    "## Text generation\n",
    "\n",
    "- There are many good explanations about the structure of transformer modules, so let's only look at how tokens are predicted in the final layer.\n",
    "- A text \"random words\"  is tokenized to a list of token ids [1, 2, 3].\n",
    "- The transformer layers return a list of embedding vectors [v1, v2, v3]\n",
    "- The final de-embedding layer turns each vector in to logits for the tokens that are likely to follow the preceding sequence [l1, l2, l3], so that l1 encodes the likelihood of tokens following the id-sequence [1], (hopefully with a maximum at id 2) l2 the likelihood of tokens following the sequence [1, 2] (hopefully maximal at 3] and l3 the expected tokens after [1, 2, 3] (which is the only one relevant for continuing the sequence) \n"
   ]
  },
  {
   "cell_type": "code",
   "execution_count": 18,
   "id": "84ffd0ce-1105-4ef3-b426-671c183d7ccb",
   "metadata": {},
   "outputs": [],
   "source": [
    "prompt = \"hello world what is\"\n"
   ]
  },
  {
   "cell_type": "code",
   "execution_count": 19,
   "id": "7e1dcac4-3521-4170-9f03-8dceff5332d6",
   "metadata": {},
   "outputs": [
    {
     "data": {
      "text/plain": [
       "{'input_ids': tensor([[25521,  1533,   752,   310]]), 'attention_mask': tensor([[1, 1, 1, 1]])}"
      ]
     },
     "execution_count": 19,
     "metadata": {},
     "output_type": "execute_result"
    }
   ],
   "source": [
    "# tokenize the prompt\n",
    "\n",
    "encoded_input = tokenizer(prompt, return_tensors='pt')\n",
    "encoded_input"
   ]
  },
  {
   "cell_type": "code",
   "execution_count": 20,
   "id": "9389ea38-725a-4075-a09f-f1fc013ae13b",
   "metadata": {},
   "outputs": [
    {
     "name": "stderr",
     "output_type": "stream",
     "text": [
      "Setting `pad_token_id` to `eos_token_id`:0 for open-end generation.\n",
      "/home/volker/code/dpo_projektle/.venv_hf/lib/python3.11/site-packages/transformers/generation/utils.py:1133: UserWarning: Using the model-agnostic default `max_length` (=20) to control the generation length. We recommend setting `max_new_tokens` to control the maximum length of the generation.\n",
      "  warnings.warn(\n"
     ]
    },
    {
     "data": {
      "text/plain": [
       "tensor([[25521,  1533,   752,   310,   253,  4495,   273,   436,  2127,    32,\n",
       "           187,   187,    34,    27,   187,   187,   510,  2127,   310,   247]])"
      ]
     },
     "execution_count": 20,
     "metadata": {},
     "output_type": "execute_result"
    }
   ],
   "source": [
    "# predict some new tokens\n",
    "\n",
    "generated_output = model.generate(**encoded_input)\n",
    "generated_output"
   ]
  },
  {
   "cell_type": "code",
   "execution_count": 21,
   "id": "af1dec2b-007b-454a-bcf3-80e51c7c18af",
   "metadata": {},
   "outputs": [
    {
     "data": {
      "text/plain": [
       "'hello world what is the meaning of this code?\\n\\nA:\\n\\nThe code is a'"
      ]
     },
     "execution_count": 21,
     "metadata": {},
     "output_type": "execute_result"
    }
   ],
   "source": [
    "# which can be decoded to text with the tokenizer\n",
    "\n",
    "tokenizer.decode(generated_output[0])"
   ]
  },
  {
   "cell_type": "code",
   "execution_count": 22,
   "id": "19bb19bb-6c9b-406e-9cd6-3c42f7f9a3dc",
   "metadata": {},
   "outputs": [
    {
     "name": "stdout",
     "output_type": "stream",
     "text": [
      "Output object class: <class 'transformers.modeling_outputs.CausalLMOutputWithPast'>\n",
      "Output components: odict_keys(['logits', 'past_key_values', 'hidden_states'])\n"
     ]
    }
   ],
   "source": [
    "# manual prediction: pass the tokens through the model\n",
    "\n",
    "model_output = model(**encoded_input, output_hidden_states=True)\n",
    "print('Output object class:', type(model_output))\n",
    "# can check here: https://huggingface.co/docs/transformers/en/main_classes/output\n",
    "print('Output components:', model_output.keys())"
   ]
  },
  {
   "cell_type": "code",
   "execution_count": 23,
   "id": "4d26a628-7323-41b4-8da3-e7a585f9b72e",
   "metadata": {},
   "outputs": [],
   "source": [
    "# the model's attention layers produce increasingly mixed lists of sequences of embeddings."
   ]
  },
  {
   "cell_type": "code",
   "execution_count": 24,
   "id": "23388160-ec7d-4b29-89ac-03223d647c0c",
   "metadata": {},
   "outputs": [
    {
     "name": "stdout",
     "output_type": "stream",
     "text": [
      "Total module outputs 33\n",
      "torch.Size([1, 4, 2560])\n"
     ]
    }
   ],
   "source": [
    "hidden_states = model_output['hidden_states']\n",
    "print('Total module outputs', len(hidden_states))\n",
    "# each one has the same shape (batchsize, sequence_length, embedding_dimension)\n",
    "print(hidden_states[-1].shape)"
   ]
  },
  {
   "cell_type": "code",
   "execution_count": 25,
   "id": "e6403c01-42c8-4366-8c44-90670adb917b",
   "metadata": {},
   "outputs": [
    {
     "data": {
      "text/plain": [
       "torch.Size([1, 4, 50304])"
      ]
     },
     "execution_count": 25,
     "metadata": {},
     "output_type": "execute_result"
    }
   ],
   "source": [
    "# the last sequence of embeddings is passed through the linear layer for a prediction of the next tokens.\n",
    "# Given embeddings for tokens 1..n, the model predicts tokens 2...n+1\n",
    "# Each embedding is passed individually throug the linear layer. \n",
    "# Therefore, in order to predict the following token for each embedding in the last module, the embeddings do not encode\n",
    "# the meaning of each token individually, but all information from the sequence of previous tokens\n",
    "\n",
    "logits = model_output['logits']\n",
    "logits.shape"
   ]
  },
  {
   "cell_type": "code",
   "execution_count": 26,
   "id": "b3fe7b33-7dad-42b6-bffd-1cec0cd2eaa1",
   "metadata": {},
   "outputs": [
    {
     "data": {
      "text/plain": [
       "array([[  3,   3, 310, 253]])"
      ]
     },
     "execution_count": 26,
     "metadata": {},
     "output_type": "execute_result"
    }
   ],
   "source": [
    "# these are the most likely token ids, given the logits\n",
    "next_token = torch.argmax(logits, dim=2)\n",
    "next_token.numpy()"
   ]
  },
  {
   "cell_type": "code",
   "execution_count": 27,
   "id": "c8480257-8476-419a-a90f-d3b7705e1c96",
   "metadata": {},
   "outputs": [
    {
     "data": {
      "text/plain": [
       "'\"\" is the'"
      ]
     },
     "execution_count": 27,
     "metadata": {},
     "output_type": "execute_result"
    }
   ],
   "source": [
    "tokenizer.decode(list(next_token.numpy()[0]))"
   ]
  },
  {
   "cell_type": "code",
   "execution_count": 28,
   "id": "d79a49e0-beb4-4bdc-8b3a-c042a7803711",
   "metadata": {},
   "outputs": [],
   "source": [
    "# we see the predicted tokens given parts of the sequence are\n",
    "# hello => !\n",
    "# hello world => !\n",
    "# hello world what => is\n",
    "# hello world what is => the\n",
    "# the final token (253) is the next token in the sequence, and is consistent with the generate function"
   ]
  },
  {
   "cell_type": "markdown",
   "id": "ba26fc00-5fa1-4d0f-be83-e62a6a54c5c4",
   "metadata": {},
   "source": [
    "# Test factuality"
   ]
  },
  {
   "cell_type": "markdown",
   "id": "dbc57141-9669-46be-9b7a-e2a27799455d",
   "metadata": {},
   "source": [
    "- Create a number of 'facts' describing the 'relation' between various Harry Potter Books' characters (Some of these are debatable, but let's not worry about it too much)\n",
    "- Then test if the correct facts are assigned higher scores by the model than the opposites (fiction) "
   ]
  },
  {
   "cell_type": "code",
   "execution_count": 29,
   "id": "24f72e8d-f454-4be3-8f8b-315ea02e1f3f",
   "metadata": {},
   "outputs": [
    {
     "data": {
      "text/html": [
       "<div>\n",
       "<style scoped>\n",
       "    .dataframe tbody tr th:only-of-type {\n",
       "        vertical-align: middle;\n",
       "    }\n",
       "\n",
       "    .dataframe tbody tr th {\n",
       "        vertical-align: top;\n",
       "    }\n",
       "\n",
       "    .dataframe thead th {\n",
       "        text-align: right;\n",
       "    }\n",
       "</style>\n",
       "<table border=\"1\" class=\"dataframe\">\n",
       "  <thead>\n",
       "    <tr style=\"text-align: right;\">\n",
       "      <th></th>\n",
       "      <th>first</th>\n",
       "      <th>second</th>\n",
       "      <th>first_side</th>\n",
       "      <th>second_side</th>\n",
       "      <th>chosen</th>\n",
       "      <th>rejected</th>\n",
       "      <th>prompt</th>\n",
       "      <th>fact</th>\n",
       "      <th>fiction</th>\n",
       "    </tr>\n",
       "  </thead>\n",
       "  <tbody>\n",
       "    <tr>\n",
       "      <th>327</th>\n",
       "      <td>Severus Snape</td>\n",
       "      <td>Gilderoy Lockhart</td>\n",
       "      <td>0</td>\n",
       "      <td>0</td>\n",
       "      <td>friend</td>\n",
       "      <td>enemy</td>\n",
       "      <td>Severus Snape is Gilderoy Lockhart's</td>\n",
       "      <td>Severus Snape is Gilderoy Lockhart's friend</td>\n",
       "      <td>Severus Snape is Gilderoy Lockhart's enemy</td>\n",
       "    </tr>\n",
       "    <tr>\n",
       "      <th>30</th>\n",
       "      <td>Bellatrix Lestrange</td>\n",
       "      <td>Neville Longbottom</td>\n",
       "      <td>0</td>\n",
       "      <td>1</td>\n",
       "      <td>enemy</td>\n",
       "      <td>friend</td>\n",
       "      <td>Bellatrix Lestrange is Neville Longbottom's</td>\n",
       "      <td>Bellatrix Lestrange is Neville Longbottom's enemy</td>\n",
       "      <td>Bellatrix Lestrange is Neville Longbottom's fr...</td>\n",
       "    </tr>\n",
       "    <tr>\n",
       "      <th>820</th>\n",
       "      <td>Rubeus Hagrid</td>\n",
       "      <td>Cho Chang</td>\n",
       "      <td>1</td>\n",
       "      <td>1</td>\n",
       "      <td>friend</td>\n",
       "      <td>enemy</td>\n",
       "      <td>Rubeus Hagrid is Cho Chang's</td>\n",
       "      <td>Rubeus Hagrid is Cho Chang's friend</td>\n",
       "      <td>Rubeus Hagrid is Cho Chang's enemy</td>\n",
       "    </tr>\n",
       "    <tr>\n",
       "      <th>404</th>\n",
       "      <td>Gellert Grindelwald</td>\n",
       "      <td>Cedric Diggory</td>\n",
       "      <td>0</td>\n",
       "      <td>1</td>\n",
       "      <td>enemy</td>\n",
       "      <td>friend</td>\n",
       "      <td>Gellert Grindelwald is Cedric Diggory's</td>\n",
       "      <td>Gellert Grindelwald is Cedric Diggory's enemy</td>\n",
       "      <td>Gellert Grindelwald is Cedric Diggory's friend</td>\n",
       "    </tr>\n",
       "    <tr>\n",
       "      <th>76</th>\n",
       "      <td>Dolores Umbridge</td>\n",
       "      <td>Molly Weasley</td>\n",
       "      <td>0</td>\n",
       "      <td>1</td>\n",
       "      <td>enemy</td>\n",
       "      <td>friend</td>\n",
       "      <td>Dolores Umbridge is Molly Weasley's</td>\n",
       "      <td>Dolores Umbridge is Molly Weasley's enemy</td>\n",
       "      <td>Dolores Umbridge is Molly Weasley's friend</td>\n",
       "    </tr>\n",
       "  </tbody>\n",
       "</table>\n",
       "</div>"
      ],
      "text/plain": [
       "                   first              second  first_side  second_side  chosen  \\\n",
       "327        Severus Snape   Gilderoy Lockhart           0            0  friend   \n",
       "30   Bellatrix Lestrange  Neville Longbottom           0            1   enemy   \n",
       "820        Rubeus Hagrid           Cho Chang           1            1  friend   \n",
       "404  Gellert Grindelwald      Cedric Diggory           0            1   enemy   \n",
       "76      Dolores Umbridge       Molly Weasley           0            1   enemy   \n",
       "\n",
       "    rejected                                       prompt  \\\n",
       "327    enemy         Severus Snape is Gilderoy Lockhart's   \n",
       "30    friend  Bellatrix Lestrange is Neville Longbottom's   \n",
       "820    enemy                 Rubeus Hagrid is Cho Chang's   \n",
       "404   friend      Gellert Grindelwald is Cedric Diggory's   \n",
       "76    friend          Dolores Umbridge is Molly Weasley's   \n",
       "\n",
       "                                                  fact  \\\n",
       "327        Severus Snape is Gilderoy Lockhart's friend   \n",
       "30   Bellatrix Lestrange is Neville Longbottom's enemy   \n",
       "820                Rubeus Hagrid is Cho Chang's friend   \n",
       "404      Gellert Grindelwald is Cedric Diggory's enemy   \n",
       "76           Dolores Umbridge is Molly Weasley's enemy   \n",
       "\n",
       "                                               fiction  \n",
       "327         Severus Snape is Gilderoy Lockhart's enemy  \n",
       "30   Bellatrix Lestrange is Neville Longbottom's fr...  \n",
       "820                 Rubeus Hagrid is Cho Chang's enemy  \n",
       "404     Gellert Grindelwald is Cedric Diggory's friend  \n",
       "76          Dolores Umbridge is Molly Weasley's friend  "
      ]
     },
     "execution_count": 29,
     "metadata": {},
     "output_type": "execute_result"
    }
   ],
   "source": [
    "from utils import load_relations\n",
    "\n",
    "relations = load_relations()\n",
    "relations.head()"
   ]
  },
  {
   "cell_type": "code",
   "execution_count": 67,
   "id": "00fa474d-36d7-4bd5-b843-3e54c77675a4",
   "metadata": {},
   "outputs": [
    {
     "data": {
      "application/vnd.plotly.v1+json": {
       "config": {
        "plotlyServerURL": "https://plot.ly"
       },
       "data": [
        {
         "line": {
          "color": "darkblue",
          "width": 1
         },
         "mode": "lines",
         "type": "scatter",
         "x": [
          0.17286174615058908,
          -0.5518346330746787
         ],
         "y": [
          0.6109180479784145,
          -0.20347522493435183
         ]
        },
        {
         "line": {
          "color": "lightgray",
          "width": 1
         },
         "mode": "lines",
         "type": "scatter",
         "x": [
          0.41841412245343573,
          0.821946468210322
         ],
         "y": [
          0.6013098799193504,
          -0.5376566668384067
         ]
        },
        {
         "line": {
          "color": "darkblue",
          "width": 1
         },
         "mode": "lines",
         "type": "scatter",
         "x": [
          0.6108745154405566,
          -0.3114456606027594
         ],
         "y": [
          -0.5733676800755454,
          -0.6739529679071985
         ]
        },
        {
         "line": {
          "color": "lightgray",
          "width": 1
         },
         "mode": "lines",
         "type": "scatter",
         "x": [
          -0.3718304348748292,
          0.7314587219711344
         ],
         "y": [
          0.889405011839641,
          -0.6744984707757519
         ]
        },
        {
         "line": {
          "color": "lightgray",
          "width": 1
         },
         "mode": "lines",
         "type": "scatter",
         "x": [
          -0.6140937175337806,
          -0.038399276125469936
         ],
         "y": [
          0.8892790315579895,
          -0.8589465139367477
         ]
        },
        {
         "line": {
          "color": "lightgray",
          "width": 1
         },
         "mode": "lines",
         "type": "scatter",
         "x": [
          -0.21874065182410288,
          0.6108745154405566
         ],
         "y": [
          0.9173139322490603,
          -0.5733676800755454
         ]
        },
        {
         "line": {
          "color": "darkblue",
          "width": 1
         },
         "mode": "lines",
         "type": "scatter",
         "x": [
          0.510738532629225,
          0.7903440977923845
         ],
         "y": [
          -0.8112387243894809,
          -0.5228755269922652
         ]
        },
        {
         "line": {
          "color": "darkblue",
          "width": 1
         },
         "mode": "lines",
         "type": "scatter",
         "x": [
          -0.6140937175337806,
          -0.7605345776401973
         ],
         "y": [
          0.8892790315579895,
          0.28735490924116186
         ]
        },
        {
         "line": {
          "color": "darkblue",
          "width": 1
         },
         "mode": "lines",
         "type": "scatter",
         "x": [
          -0.5518346330746787,
          -0.9255085009862662
         ],
         "y": [
          -0.20347522493435183,
          0.4156074772474138
         ]
        },
        {
         "line": {
          "color": "darkblue",
          "width": 1
         },
         "mode": "lines",
         "type": "scatter",
         "x": [
          0.7845701886498891,
          0.7314587219711344
         ],
         "y": [
          -0.4702501081521776,
          -0.6744984707757519
         ]
        },
        {
         "line": {
          "color": "lightgray",
          "width": 1
         },
         "mode": "lines",
         "type": "scatter",
         "x": [
          0.17286174615058908,
          0.6108745154405566
         ],
         "y": [
          0.6109180479784145,
          -0.5733676800755454
         ]
        },
        {
         "line": {
          "color": "lightgray",
          "width": 1
         },
         "mode": "lines",
         "type": "scatter",
         "x": [
          -0.6140937175337806,
          0.7845701886498891
         ],
         "y": [
          0.8892790315579895,
          -0.4702501081521776
         ]
        },
        {
         "line": {
          "color": "lightgray",
          "width": 1
         },
         "mode": "lines",
         "type": "scatter",
         "x": [
          -0.6004235446281904,
          0.7845701886498891
         ],
         "y": [
          0.6370991185146676,
          -0.4702501081521776
         ]
        },
        {
         "line": {
          "color": "lightgray",
          "width": 1
         },
         "mode": "lines",
         "type": "scatter",
         "x": [
          0.41841412245343573,
          0.510738532629225
         ],
         "y": [
          0.6013098799193504,
          -0.8112387243894809
         ]
        },
        {
         "line": {
          "color": "lightgray",
          "width": 1
         },
         "mode": "lines",
         "type": "scatter",
         "x": [
          -0.5518346330746787,
          0.510738532629225
         ],
         "y": [
          -0.20347522493435183,
          -0.8112387243894809
         ]
        },
        {
         "line": {
          "color": "lightgray",
          "width": 1
         },
         "mode": "lines",
         "type": "scatter",
         "x": [
          -0.6140937175337806,
          0.6386071880364272
         ],
         "y": [
          0.8892790315579895,
          0.13116385461911206
         ]
        },
        {
         "line": {
          "color": "lightgray",
          "width": 1
         },
         "mode": "lines",
         "type": "scatter",
         "x": [
          -0.3718304348748292,
          -0.13617797378549315
         ],
         "y": [
          0.889405011839641,
          -0.6677698899093224
         ]
        },
        {
         "line": {
          "color": "darkblue",
          "width": 1
         },
         "mode": "lines",
         "type": "scatter",
         "x": [
          -0.8569137617363639,
          -0.7605345776401973
         ],
         "y": [
          0.27702130549198284,
          0.28735490924116186
         ]
        },
        {
         "line": {
          "color": "darkblue",
          "width": 1
         },
         "mode": "lines",
         "type": "scatter",
         "x": [
          -0.278231951866899,
          0.7903440977923845
         ],
         "y": [
          -0.4788627466713346,
          -0.5228755269922652
         ]
        },
        {
         "line": {
          "color": "lightgray",
          "width": 1
         },
         "mode": "lines",
         "type": "scatter",
         "x": [
          -0.9151372576982943,
          0.07578275185778272
         ],
         "y": [
          0.15511979920707278,
          -0.7227296757790806
         ]
        },
        {
         "line": {
          "color": "darkblue",
          "width": 1
         },
         "mode": "lines",
         "type": "scatter",
         "x": [
          0.821946468210322,
          0.9227817640400293
         ],
         "y": [
          -0.5376566668384067,
          0.029458794541957063
         ]
        },
        {
         "line": {
          "color": "darkblue",
          "width": 1
         },
         "mode": "lines",
         "type": "scatter",
         "x": [
          -0.3114456606027594,
          -0.08629914181214383
         ],
         "y": [
          -0.6739529679071985,
          -0.9369339520980161
         ]
        },
        {
         "line": {
          "color": "darkblue",
          "width": 1
         },
         "mode": "lines",
         "type": "scatter",
         "x": [
          0.7013791398643786,
          0.5578103471991686
         ],
         "y": [
          -0.594040447917239,
          0.20540946402350227
         ]
        },
        {
         "line": {
          "color": "darkblue",
          "width": 1
         },
         "mode": "lines",
         "type": "scatter",
         "x": [
          0.8231470249802241,
          0.510738532629225
         ],
         "y": [
          -0.33873032683507903,
          -0.8112387243894809
         ]
        },
        {
         "line": {
          "color": "lightgray",
          "width": 1
         },
         "mode": "lines",
         "type": "scatter",
         "x": [
          0.3341323589999464,
          0.7314587219711344
         ],
         "y": [
          0.6276510584927125,
          -0.6744984707757519
         ]
        },
        {
         "line": {
          "color": "darkblue",
          "width": 1
         },
         "mode": "lines",
         "type": "scatter",
         "x": [
          -0.9739462100511188,
          -0.6004235446281904
         ],
         "y": [
          0.15588962822060787,
          0.6370991185146676
         ]
        },
        {
         "line": {
          "color": "darkblue",
          "width": 1
         },
         "mode": "lines",
         "type": "scatter",
         "x": [
          0.07578275185778272,
          0.7314587219711344
         ],
         "y": [
          -0.7227296757790806,
          -0.6744984707757519
         ]
        },
        {
         "line": {
          "color": "lightgray",
          "width": 1
         },
         "mode": "lines",
         "type": "scatter",
         "x": [
          -0.21874065182410288,
          -0.13617797378549315
         ],
         "y": [
          0.9173139322490603,
          -0.6677698899093224
         ]
        },
        {
         "line": {
          "color": "lightgray",
          "width": 1
         },
         "mode": "lines",
         "type": "scatter",
         "x": [
          0.41841412245343573,
          0.07578275185778272
         ],
         "y": [
          0.6013098799193504,
          -0.7227296757790806
         ]
        },
        {
         "line": {
          "color": "lightgray",
          "width": 1
         },
         "mode": "lines",
         "type": "scatter",
         "x": [
          -0.4782468403548081,
          0.7013791398643786
         ],
         "y": [
          0.8192451596907109,
          -0.594040447917239
         ]
        },
        {
         "line": {
          "color": "darkblue",
          "width": 1
         },
         "mode": "lines",
         "type": "scatter",
         "x": [
          0.014910717236521208,
          0.9227817640400293
         ],
         "y": [
          -0.7726759134396349,
          0.029458794541957063
         ]
        },
        {
         "line": {
          "color": "lightgray",
          "width": 1
         },
         "mode": "lines",
         "type": "scatter",
         "x": [
          -0.8569137617363639,
          0.07578275185778272
         ],
         "y": [
          0.27702130549198284,
          -0.7227296757790806
         ]
        },
        {
         "line": {
          "color": "lightgray",
          "width": 1
         },
         "mode": "lines",
         "type": "scatter",
         "x": [
          -0.21874065182410288,
          0.7013791398643786
         ],
         "y": [
          0.9173139322490603,
          -0.594040447917239
         ]
        },
        {
         "line": {
          "color": "darkblue",
          "width": 1
         },
         "mode": "lines",
         "type": "scatter",
         "x": [
          0.0856782687952649,
          -0.21874065182410288
         ],
         "y": [
          0.9124810295755442,
          0.9173139322490603
         ]
        },
        {
         "line": {
          "color": "lightgray",
          "width": 1
         },
         "mode": "lines",
         "type": "scatter",
         "x": [
          -0.6004235446281904,
          0.5578103471991686
         ],
         "y": [
          0.6370991185146676,
          0.20540946402350227
         ]
        },
        {
         "line": {
          "color": "lightgray",
          "width": 1
         },
         "mode": "lines",
         "type": "scatter",
         "x": [
          -0.9151372576982943,
          -0.3114456606027594
         ],
         "y": [
          0.15511979920707278,
          -0.6739529679071985
         ]
        },
        {
         "line": {
          "color": "darkblue",
          "width": 1
         },
         "mode": "lines",
         "type": "scatter",
         "x": [
          -0.4782468403548081,
          -0.21874065182410288
         ],
         "y": [
          0.8192451596907109,
          0.9173139322490603
         ]
        },
        {
         "line": {
          "color": "darkblue",
          "width": 1
         },
         "mode": "lines",
         "type": "scatter",
         "x": [
          0.0856782687952649,
          -0.9151372576982943
         ],
         "y": [
          0.9124810295755442,
          0.15511979920707278
         ]
        },
        {
         "line": {
          "color": "lightgray",
          "width": 1
         },
         "mode": "lines",
         "type": "scatter",
         "x": [
          -0.7082756557903018,
          -0.08629914181214383
         ],
         "y": [
          0.6253190923496244,
          -0.9369339520980161
         ]
        },
        {
         "line": {
          "color": "lightgray",
          "width": 1
         },
         "mode": "lines",
         "type": "scatter",
         "x": [
          -0.6004235446281904,
          0.7848921790023624
         ],
         "y": [
          0.6370991185146676,
          -0.2454827409792513
         ]
        },
        {
         "line": {
          "color": "darkblue",
          "width": 1
         },
         "mode": "lines",
         "type": "scatter",
         "x": [
          -0.8165996085805034,
          -0.8569137617363639
         ],
         "y": [
          0.5807746769754708,
          0.27702130549198284
         ]
        },
        {
         "line": {
          "color": "lightgray",
          "width": 1
         },
         "mode": "lines",
         "type": "scatter",
         "x": [
          -0.6140937175337806,
          0.014910717236521208
         ],
         "y": [
          0.8892790315579895,
          -0.7726759134396349
         ]
        },
        {
         "line": {
          "color": "lightgray",
          "width": 1
         },
         "mode": "lines",
         "type": "scatter",
         "x": [
          -0.5518346330746787,
          0.6386071880364272
         ],
         "y": [
          -0.20347522493435183,
          0.13116385461911206
         ]
        },
        {
         "line": {
          "color": "lightgray",
          "width": 1
         },
         "mode": "lines",
         "type": "scatter",
         "x": [
          -0.6004235446281904,
          0.014910717236521208
         ],
         "y": [
          0.6370991185146676,
          -0.7726759134396349
         ]
        },
        {
         "line": {
          "color": "darkblue",
          "width": 1
         },
         "mode": "lines",
         "type": "scatter",
         "x": [
          0.7013791398643786,
          -0.3114456606027594
         ],
         "y": [
          -0.594040447917239,
          -0.6739529679071985
         ]
        },
        {
         "line": {
          "color": "lightgray",
          "width": 1
         },
         "mode": "lines",
         "type": "scatter",
         "x": [
          0.3341323589999464,
          0.7903440977923845
         ],
         "y": [
          0.6276510584927125,
          -0.5228755269922652
         ]
        },
        {
         "line": {
          "color": "lightgray",
          "width": 1
         },
         "mode": "lines",
         "type": "scatter",
         "x": [
          -0.7082756557903018,
          0.7013791398643786
         ],
         "y": [
          0.6253190923496244,
          -0.594040447917239
         ]
        },
        {
         "line": {
          "color": "darkblue",
          "width": 1
         },
         "mode": "lines",
         "type": "scatter",
         "x": [
          0.3330448392384936,
          0.7848921790023624
         ],
         "y": [
          -0.8340062657872137,
          -0.2454827409792513
         ]
        },
        {
         "line": {
          "color": "darkblue",
          "width": 1
         },
         "mode": "lines",
         "type": "scatter",
         "x": [
          -0.6004235446281904,
          -0.7605345776401973
         ],
         "y": [
          0.6370991185146676,
          0.28735490924116186
         ]
        },
        {
         "line": {
          "color": "lightgray",
          "width": 1
         },
         "mode": "lines",
         "type": "scatter",
         "x": [
          -0.5518346330746787,
          0.7845701886498891
         ],
         "y": [
          -0.20347522493435183,
          -0.4702501081521776
         ]
        },
        {
         "line": {
          "color": "darkblue",
          "width": 1
         },
         "mode": "lines",
         "type": "scatter",
         "x": [
          -0.7566061026918331,
          -0.8960744076451393
         ],
         "y": [
          0.7987976960830132,
          -0.12230556515037556
         ]
        },
        {
         "line": {
          "color": "darkblue",
          "width": 1
         },
         "mode": "lines",
         "type": "scatter",
         "x": [
          0.07578275185778272,
          0.9227817640400293
         ],
         "y": [
          -0.7227296757790806,
          0.029458794541957063
         ]
        },
        {
         "line": {
          "color": "darkblue",
          "width": 1
         },
         "mode": "lines",
         "type": "scatter",
         "x": [
          0.3341323589999464,
          -0.9151372576982943
         ],
         "y": [
          0.6276510584927125,
          0.15511979920707278
         ]
        },
        {
         "line": {
          "color": "darkblue",
          "width": 1
         },
         "mode": "lines",
         "type": "scatter",
         "x": [
          0.014910717236521208,
          0.8231470249802241
         ],
         "y": [
          -0.7726759134396349,
          -0.33873032683507903
         ]
        },
        {
         "line": {
          "color": "lightgray",
          "width": 1
         },
         "mode": "lines",
         "type": "scatter",
         "x": [
          -0.7566061026918331,
          0.2156727182715702
         ],
         "y": [
          0.7987976960830132,
          -0.7887235348795513
         ]
        },
        {
         "line": {
          "color": "lightgray",
          "width": 1
         },
         "mode": "lines",
         "type": "scatter",
         "x": [
          0.17286174615058908,
          -0.038399276125469936
         ],
         "y": [
          0.6109180479784145,
          -0.8589465139367477
         ]
        },
        {
         "line": {
          "color": "darkblue",
          "width": 1
         },
         "mode": "lines",
         "type": "scatter",
         "x": [
          0.7314587219711344,
          0.7848921790023624
         ],
         "y": [
          -0.6744984707757519,
          -0.2454827409792513
         ]
        },
        {
         "line": {
          "color": "lightgray",
          "width": 1
         },
         "mode": "lines",
         "type": "scatter",
         "x": [
          -0.8165996085805034,
          0.2156727182715702
         ],
         "y": [
          0.5807746769754708,
          -0.7887235348795513
         ]
        },
        {
         "line": {
          "color": "lightgray",
          "width": 1
         },
         "mode": "lines",
         "type": "scatter",
         "x": [
          -0.9151372576982943,
          0.6386071880364272
         ],
         "y": [
          0.15511979920707278,
          0.13116385461911206
         ]
        },
        {
         "line": {
          "color": "darkblue",
          "width": 1
         },
         "mode": "lines",
         "type": "scatter",
         "x": [
          0.3330448392384936,
          -0.038399276125469936
         ],
         "y": [
          -0.8340062657872137,
          -0.8589465139367477
         ]
        },
        {
         "line": {
          "color": "darkblue",
          "width": 1
         },
         "mode": "lines",
         "type": "scatter",
         "x": [
          0.8231470249802241,
          -0.038399276125469936
         ],
         "y": [
          -0.33873032683507903,
          -0.8589465139367477
         ]
        },
        {
         "line": {
          "color": "darkblue",
          "width": 1
         },
         "mode": "lines",
         "type": "scatter",
         "x": [
          -0.278231951866899,
          -0.3114456606027594
         ],
         "y": [
          -0.4788627466713346,
          -0.6739529679071985
         ]
        },
        {
         "line": {
          "color": "lightgray",
          "width": 1
         },
         "mode": "lines",
         "type": "scatter",
         "x": [
          0.0856782687952649,
          0.9227817640400293
         ],
         "y": [
          0.9124810295755442,
          0.029458794541957063
         ]
        },
        {
         "line": {
          "color": "lightgray",
          "width": 1
         },
         "mode": "lines",
         "type": "scatter",
         "x": [
          -0.6004235446281904,
          0.7903440977923845
         ],
         "y": [
          0.6370991185146676,
          -0.5228755269922652
         ]
        },
        {
         "line": {
          "color": "darkblue",
          "width": 1
         },
         "mode": "lines",
         "type": "scatter",
         "x": [
          -0.8569137617363639,
          -0.9151372576982943
         ],
         "y": [
          0.27702130549198284,
          0.15511979920707278
         ]
        },
        {
         "line": {
          "color": "lightgray",
          "width": 1
         },
         "mode": "lines",
         "type": "scatter",
         "x": [
          -0.8960744076451393,
          0.014910717236521208
         ],
         "y": [
          -0.12230556515037556,
          -0.7726759134396349
         ]
        },
        {
         "line": {
          "color": "darkblue",
          "width": 1
         },
         "mode": "lines",
         "type": "scatter",
         "x": [
          -0.9739462100511188,
          -0.8165996085805034
         ],
         "y": [
          0.15588962822060787,
          0.5807746769754708
         ]
        },
        {
         "line": {
          "color": "darkblue",
          "width": 1
         },
         "mode": "lines",
         "type": "scatter",
         "x": [
          -0.8960744076451393,
          -0.7605345776401973
         ],
         "y": [
          -0.12230556515037556,
          0.28735490924116186
         ]
        },
        {
         "line": {
          "color": "darkblue",
          "width": 1
         },
         "mode": "lines",
         "type": "scatter",
         "x": [
          -0.5518346330746787,
          -0.21874065182410288
         ],
         "y": [
          -0.20347522493435183,
          0.9173139322490603
         ]
        },
        {
         "line": {
          "color": "lightgray",
          "width": 1
         },
         "mode": "lines",
         "type": "scatter",
         "x": [
          -0.8960744076451393,
          0.7314587219711344
         ],
         "y": [
          -0.12230556515037556,
          -0.6744984707757519
         ]
        },
        {
         "line": {
          "color": "darkblue",
          "width": 1
         },
         "mode": "lines",
         "type": "scatter",
         "x": [
          -0.7566061026918331,
          0.3341323589999464
         ],
         "y": [
          0.7987976960830132,
          0.6276510584927125
         ]
        },
        {
         "line": {
          "color": "darkblue",
          "width": 1
         },
         "mode": "lines",
         "type": "scatter",
         "x": [
          -0.6004235446281904,
          -0.8960744076451393
         ],
         "y": [
          0.6370991185146676,
          -0.12230556515037556
         ]
        },
        {
         "line": {
          "color": "lightgray",
          "width": 1
         },
         "mode": "lines",
         "type": "scatter",
         "x": [
          -0.9255085009862662,
          0.7845701886498891
         ],
         "y": [
          0.4156074772474138,
          -0.4702501081521776
         ]
        },
        {
         "line": {
          "color": "darkblue",
          "width": 1
         },
         "mode": "lines",
         "type": "scatter",
         "x": [
          0.6386071880364272,
          -0.3114456606027594
         ],
         "y": [
          0.13116385461911206,
          -0.6739529679071985
         ]
        },
        {
         "line": {
          "color": "lightgray",
          "width": 1
         },
         "mode": "lines",
         "type": "scatter",
         "x": [
          -0.6004235446281904,
          -0.08629914181214383
         ],
         "y": [
          0.6370991185146676,
          -0.9369339520980161
         ]
        },
        {
         "line": {
          "color": "darkblue",
          "width": 1
         },
         "mode": "lines",
         "type": "scatter",
         "x": [
          -0.4782468403548081,
          -0.9739462100511188
         ],
         "y": [
          0.8192451596907109,
          0.15588962822060787
         ]
        },
        {
         "line": {
          "color": "darkblue",
          "width": 1
         },
         "mode": "lines",
         "type": "scatter",
         "x": [
          -0.4782468403548081,
          -0.7082756557903018
         ],
         "y": [
          0.8192451596907109,
          0.6253190923496244
         ]
        },
        {
         "line": {
          "color": "lightgray",
          "width": 1
         },
         "mode": "lines",
         "type": "scatter",
         "x": [
          -0.9151372576982943,
          0.510738532629225
         ],
         "y": [
          0.15511979920707278,
          -0.8112387243894809
         ]
        },
        {
         "line": {
          "color": "lightgray",
          "width": 1
         },
         "mode": "lines",
         "type": "scatter",
         "x": [
          -0.21874065182410288,
          0.014910717236521208
         ],
         "y": [
          0.9173139322490603,
          -0.7726759134396349
         ]
        },
        {
         "line": {
          "color": "lightgray",
          "width": 1
         },
         "mode": "lines",
         "type": "scatter",
         "x": [
          -0.9739462100511188,
          -0.3114456606027594
         ],
         "y": [
          0.15588962822060787,
          -0.6739529679071985
         ]
        },
        {
         "line": {
          "color": "darkblue",
          "width": 1
         },
         "mode": "lines",
         "type": "scatter",
         "x": [
          -0.8165996085805034,
          -0.21874065182410288
         ],
         "y": [
          0.5807746769754708,
          0.9173139322490603
         ]
        },
        {
         "line": {
          "color": "lightgray",
          "width": 1
         },
         "mode": "lines",
         "type": "scatter",
         "x": [
          -0.8165996085805034,
          -0.08629914181214383
         ],
         "y": [
          0.5807746769754708,
          -0.9369339520980161
         ]
        },
        {
         "line": {
          "color": "lightgray",
          "width": 1
         },
         "mode": "lines",
         "type": "scatter",
         "x": [
          -0.8960744076451393,
          0.7848921790023624
         ],
         "y": [
          -0.12230556515037556,
          -0.2454827409792513
         ]
        },
        {
         "line": {
          "color": "darkblue",
          "width": 1
         },
         "mode": "lines",
         "type": "scatter",
         "x": [
          -0.8960744076451393,
          -0.6004235446281904
         ],
         "y": [
          -0.12230556515037556,
          0.6370991185146676
         ]
        },
        {
         "line": {
          "color": "darkblue",
          "width": 1
         },
         "mode": "lines",
         "type": "scatter",
         "x": [
          0.7845701886498891,
          0.5578103471991686
         ],
         "y": [
          -0.4702501081521776,
          0.20540946402350227
         ]
        },
        {
         "line": {
          "color": "darkblue",
          "width": 1
         },
         "mode": "lines",
         "type": "scatter",
         "x": [
          -0.9151372576982943,
          -0.6004235446281904
         ],
         "y": [
          0.15511979920707278,
          0.6370991185146676
         ]
        },
        {
         "line": {
          "color": "lightgray",
          "width": 1
         },
         "mode": "lines",
         "type": "scatter",
         "x": [
          0.3341323589999464,
          0.07578275185778272
         ],
         "y": [
          0.6276510584927125,
          -0.7227296757790806
         ]
        },
        {
         "line": {
          "color": "darkblue",
          "width": 1
         },
         "mode": "lines",
         "type": "scatter",
         "x": [
          -0.7566061026918331,
          -0.8569137617363639
         ],
         "y": [
          0.7987976960830132,
          0.27702130549198284
         ]
        },
        {
         "line": {
          "color": "lightgray",
          "width": 1
         },
         "mode": "lines",
         "type": "scatter",
         "x": [
          0.0856782687952649,
          -0.13617797378549315
         ],
         "y": [
          0.9124810295755442,
          -0.6677698899093224
         ]
        },
        {
         "line": {
          "color": "darkblue",
          "width": 1
         },
         "mode": "lines",
         "type": "scatter",
         "x": [
          -0.7566061026918331,
          -0.9255085009862662
         ],
         "y": [
          0.7987976960830132,
          0.4156074772474138
         ]
        },
        {
         "line": {
          "color": "lightgray",
          "width": 1
         },
         "mode": "lines",
         "type": "scatter",
         "x": [
          -0.6140937175337806,
          0.821946468210322
         ],
         "y": [
          0.8892790315579895,
          -0.5376566668384067
         ]
        },
        {
         "line": {
          "color": "darkblue",
          "width": 1
         },
         "mode": "lines",
         "type": "scatter",
         "x": [
          0.7013791398643786,
          0.3330448392384936
         ],
         "y": [
          -0.594040447917239,
          -0.8340062657872137
         ]
        },
        {
         "line": {
          "color": "darkblue",
          "width": 1
         },
         "mode": "lines",
         "type": "scatter",
         "x": [
          -0.6140937175337806,
          0.0856782687952649
         ],
         "y": [
          0.8892790315579895,
          0.9124810295755442
         ]
        },
        {
         "line": {
          "color": "lightgray",
          "width": 1
         },
         "mode": "lines",
         "type": "scatter",
         "x": [
          -0.7605345776401973,
          0.7848921790023624
         ],
         "y": [
          0.28735490924116186,
          -0.2454827409792513
         ]
        },
        {
         "line": {
          "color": "darkblue",
          "width": 1
         },
         "mode": "lines",
         "type": "scatter",
         "x": [
          0.014910717236521208,
          -0.3114456606027594
         ],
         "y": [
          -0.7726759134396349,
          -0.6739529679071985
         ]
        },
        {
         "line": {
          "color": "lightgray",
          "width": 1
         },
         "mode": "lines",
         "type": "scatter",
         "x": [
          -0.8569137617363639,
          0.7903440977923845
         ],
         "y": [
          0.27702130549198284,
          -0.5228755269922652
         ]
        },
        {
         "line": {
          "color": "darkblue",
          "width": 1
         },
         "mode": "lines",
         "type": "scatter",
         "x": [
          0.2156727182715702,
          -0.3114456606027594
         ],
         "y": [
          -0.7887235348795513,
          -0.6739529679071985
         ]
        },
        {
         "line": {
          "color": "darkblue",
          "width": 1
         },
         "mode": "lines",
         "type": "scatter",
         "x": [
          0.821946468210322,
          -0.13617797378549315
         ],
         "y": [
          -0.5376566668384067,
          -0.6677698899093224
         ]
        },
        {
         "line": {
          "color": "lightgray",
          "width": 1
         },
         "mode": "lines",
         "type": "scatter",
         "x": [
          -0.9255085009862662,
          0.821946468210322
         ],
         "y": [
          0.4156074772474138,
          -0.5376566668384067
         ]
        },
        {
         "line": {
          "color": "lightgray",
          "width": 1
         },
         "mode": "lines",
         "type": "scatter",
         "x": [
          -0.8569137617363639,
          -0.08629914181214383
         ],
         "y": [
          0.27702130549198284,
          -0.9369339520980161
         ]
        },
        {
         "line": {
          "color": "darkblue",
          "width": 1
         },
         "mode": "lines",
         "type": "scatter",
         "x": [
          0.6386071880364272,
          0.2156727182715702
         ],
         "y": [
          0.13116385461911206,
          -0.7887235348795513
         ]
        },
        {
         "line": {
          "color": "lightgray",
          "width": 1
         },
         "mode": "lines",
         "type": "scatter",
         "x": [
          -0.8165996085805034,
          0.510738532629225
         ],
         "y": [
          0.5807746769754708,
          -0.8112387243894809
         ]
        },
        {
         "line": {
          "color": "lightgray",
          "width": 1
         },
         "mode": "lines",
         "type": "scatter",
         "x": [
          0.20122273875243868,
          0.7314587219711344
         ],
         "y": [
          1,
          -0.6744984707757519
         ]
        },
        {
         "line": {
          "color": "darkblue",
          "width": 1
         },
         "mode": "lines",
         "type": "scatter",
         "x": [
          0.6386071880364272,
          0.510738532629225
         ],
         "y": [
          0.13116385461911206,
          -0.8112387243894809
         ]
        },
        {
         "line": {
          "color": "lightgray",
          "width": 1
         },
         "mode": "lines",
         "type": "scatter",
         "x": [
          -0.5518346330746787,
          -0.038399276125469936
         ],
         "y": [
          -0.20347522493435183,
          -0.8589465139367477
         ]
        },
        {
         "line": {
          "color": "darkblue",
          "width": 1
         },
         "mode": "lines",
         "type": "scatter",
         "x": [
          0.7848921790023624,
          0.7903440977923845
         ],
         "y": [
          -0.2454827409792513,
          -0.5228755269922652
         ]
        },
        {
         "line": {
          "color": "darkblue",
          "width": 1
         },
         "mode": "lines",
         "type": "scatter",
         "x": [
          -0.038399276125469936,
          0.9227817640400293
         ],
         "y": [
          -0.8589465139367477,
          0.029458794541957063
         ]
        },
        {
         "line": {
          "color": "lightgray",
          "width": 1
         },
         "mode": "lines",
         "type": "scatter",
         "x": [
          -0.6004235446281904,
          -0.3114456606027594
         ],
         "y": [
          0.6370991185146676,
          -0.6739529679071985
         ]
        },
        {
         "line": {
          "color": "lightgray",
          "width": 1
         },
         "mode": "lines",
         "type": "scatter",
         "x": [
          -0.7082756557903018,
          0.7314587219711344
         ],
         "y": [
          0.6253190923496244,
          -0.6744984707757519
         ]
        },
        {
         "line": {
          "color": "lightgray",
          "width": 1
         },
         "mode": "lines",
         "type": "scatter",
         "x": [
          -0.9255085009862662,
          0.6108745154405566
         ],
         "y": [
          0.4156074772474138,
          -0.5733676800755454
         ]
        },
        {
         "line": {
          "color": "darkblue",
          "width": 1
         },
         "mode": "lines",
         "type": "scatter",
         "x": [
          0.2156727182715702,
          0.7848921790023624
         ],
         "y": [
          -0.7887235348795513,
          -0.2454827409792513
         ]
        },
        {
         "line": {
          "color": "lightgray",
          "width": 1
         },
         "mode": "lines",
         "type": "scatter",
         "x": [
          -0.6004235446281904,
          0.3330448392384936
         ],
         "y": [
          0.6370991185146676,
          -0.8340062657872137
         ]
        },
        {
         "line": {
          "color": "lightgray",
          "width": 1
         },
         "mode": "lines",
         "type": "scatter",
         "x": [
          -0.5518346330746787,
          0.07578275185778272
         ],
         "y": [
          -0.20347522493435183,
          -0.7227296757790806
         ]
        },
        {
         "line": {
          "color": "darkblue",
          "width": 1
         },
         "mode": "lines",
         "type": "scatter",
         "x": [
          -0.6140937175337806,
          -0.9255085009862662
         ],
         "y": [
          0.8892790315579895,
          0.4156074772474138
         ]
        },
        {
         "line": {
          "color": "lightgray",
          "width": 1
         },
         "mode": "lines",
         "type": "scatter",
         "x": [
          -0.8569137617363639,
          0.5578103471991686
         ],
         "y": [
          0.27702130549198284,
          0.20540946402350227
         ]
        },
        {
         "line": {
          "color": "lightgray",
          "width": 1
         },
         "mode": "lines",
         "type": "scatter",
         "x": [
          -0.5518346330746787,
          0.510738532629225
         ],
         "y": [
          -0.20347522493435183,
          -0.8112387243894809
         ]
        },
        {
         "line": {
          "color": "lightgray",
          "width": 1
         },
         "mode": "lines",
         "type": "scatter",
         "x": [
          -0.9255085009862662,
          0.3330448392384936
         ],
         "y": [
          0.4156074772474138,
          -0.8340062657872137
         ]
        },
        {
         "line": {
          "color": "darkblue",
          "width": 1
         },
         "mode": "lines",
         "type": "scatter",
         "x": [
          -0.7566061026918331,
          -0.21874065182410288
         ],
         "y": [
          0.7987976960830132,
          0.9173139322490603
         ]
        },
        {
         "line": {
          "color": "lightgray",
          "width": 1
         },
         "mode": "lines",
         "type": "scatter",
         "x": [
          -0.4782468403548081,
          -0.3114456606027594
         ],
         "y": [
          0.8192451596907109,
          -0.6739529679071985
         ]
        },
        {
         "line": {
          "color": "lightgray",
          "width": 1
         },
         "mode": "lines",
         "type": "scatter",
         "x": [
          -0.8569137617363639,
          -0.278231951866899
         ],
         "y": [
          0.27702130549198284,
          -0.4788627466713346
         ]
        },
        {
         "line": {
          "color": "lightgray",
          "width": 1
         },
         "mode": "lines",
         "type": "scatter",
         "x": [
          -0.6140937175337806,
          0.7013791398643786
         ],
         "y": [
          0.8892790315579895,
          -0.594040447917239
         ]
        },
        {
         "line": {
          "color": "darkblue",
          "width": 1
         },
         "mode": "lines",
         "type": "scatter",
         "x": [
          -0.8960744076451393,
          -0.21874065182410288
         ],
         "y": [
          -0.12230556515037556,
          0.9173139322490603
         ]
        },
        {
         "line": {
          "color": "darkblue",
          "width": 1
         },
         "mode": "lines",
         "type": "scatter",
         "x": [
          0.7650494797310291,
          -0.278231951866899
         ],
         "y": [
          0.26190397562901585,
          -0.4788627466713346
         ]
        },
        {
         "line": {
          "color": "lightgray",
          "width": 1
         },
         "mode": "lines",
         "type": "scatter",
         "x": [
          -0.9151372576982943,
          -0.08629914181214383
         ],
         "y": [
          0.15511979920707278,
          -0.9369339520980161
         ]
        },
        {
         "line": {
          "color": "darkblue",
          "width": 1
         },
         "mode": "lines",
         "type": "scatter",
         "x": [
          0.7314587219711344,
          0.7903440977923845
         ],
         "y": [
          -0.6744984707757519,
          -0.5228755269922652
         ]
        },
        {
         "line": {
          "color": "lightgray",
          "width": 1
         },
         "mode": "lines",
         "type": "scatter",
         "x": [
          -0.7082756557903018,
          0.07578275185778272
         ],
         "y": [
          0.6253190923496244,
          -0.7227296757790806
         ]
        },
        {
         "line": {
          "color": "lightgray",
          "width": 1
         },
         "mode": "lines",
         "type": "scatter",
         "x": [
          -0.7082756557903018,
          0.6386071880364272
         ],
         "y": [
          0.6253190923496244,
          0.13116385461911206
         ]
        },
        {
         "line": {
          "color": "darkblue",
          "width": 1
         },
         "mode": "lines",
         "type": "scatter",
         "x": [
          -0.5518346330746787,
          -0.8569137617363639
         ],
         "y": [
          -0.20347522493435183,
          0.27702130549198284
         ]
        },
        {
         "line": {
          "color": "lightgray",
          "width": 1
         },
         "mode": "lines",
         "type": "scatter",
         "x": [
          0.20122273875243868,
          0.3330448392384936
         ],
         "y": [
          1,
          -0.8340062657872137
         ]
        },
        {
         "line": {
          "color": "lightgray",
          "width": 1
         },
         "mode": "lines",
         "type": "scatter",
         "x": [
          -0.6004235446281904,
          0.07578275185778272
         ],
         "y": [
          0.6370991185146676,
          -0.7227296757790806
         ]
        },
        {
         "line": {
          "color": "darkblue",
          "width": 1
         },
         "mode": "lines",
         "type": "scatter",
         "x": [
          0.6108745154405566,
          0.821946468210322
         ],
         "y": [
          -0.5733676800755454,
          -0.5376566668384067
         ]
        },
        {
         "line": {
          "color": "lightgray",
          "width": 1
         },
         "mode": "lines",
         "type": "scatter",
         "x": [
          -0.4782468403548081,
          0.8231470249802241
         ],
         "y": [
          0.8192451596907109,
          -0.33873032683507903
         ]
        },
        {
         "line": {
          "color": "lightgray",
          "width": 1
         },
         "mode": "lines",
         "type": "scatter",
         "x": [
          0.20122273875243868,
          0.07578275185778272
         ],
         "y": [
          1,
          -0.7227296757790806
         ]
        },
        {
         "line": {
          "color": "lightgray",
          "width": 1
         },
         "mode": "lines",
         "type": "scatter",
         "x": [
          0.3341323589999464,
          0.7650494797310291
         ],
         "y": [
          0.6276510584927125,
          0.26190397562901585
         ]
        },
        {
         "line": {
          "color": "lightgray",
          "width": 1
         },
         "mode": "lines",
         "type": "scatter",
         "x": [
          -0.6004235446281904,
          0.6108745154405566
         ],
         "y": [
          0.6370991185146676,
          -0.5733676800755454
         ]
        },
        {
         "line": {
          "color": "lightgray",
          "width": 1
         },
         "mode": "lines",
         "type": "scatter",
         "x": [
          -0.3718304348748292,
          0.3330448392384936
         ],
         "y": [
          0.889405011839641,
          -0.8340062657872137
         ]
        },
        {
         "line": {
          "color": "darkblue",
          "width": 1
         },
         "mode": "lines",
         "type": "scatter",
         "x": [
          -0.8165996085805034,
          0.20122273875243868
         ],
         "y": [
          0.5807746769754708,
          1
         ]
        },
        {
         "line": {
          "color": "lightgray",
          "width": 1
         },
         "mode": "lines",
         "type": "scatter",
         "x": [
          -0.7605345776401973,
          0.7845701886498891
         ],
         "y": [
          0.28735490924116186,
          -0.4702501081521776
         ]
        },
        {
         "line": {
          "color": "darkblue",
          "width": 1
         },
         "mode": "lines",
         "type": "scatter",
         "x": [
          -0.8960744076451393,
          -0.8569137617363639
         ],
         "y": [
          -0.12230556515037556,
          0.27702130549198284
         ]
        },
        {
         "line": {
          "color": "lightgray",
          "width": 1
         },
         "mode": "lines",
         "type": "scatter",
         "x": [
          -0.9255085009862662,
          0.2156727182715702
         ],
         "y": [
          0.4156074772474138,
          -0.7887235348795513
         ]
        },
        {
         "line": {
          "color": "lightgray",
          "width": 1
         },
         "mode": "lines",
         "type": "scatter",
         "x": [
          -0.8569137617363639,
          0.510738532629225
         ],
         "y": [
          0.27702130549198284,
          -0.8112387243894809
         ]
        },
        {
         "line": {
          "color": "lightgray",
          "width": 1
         },
         "mode": "lines",
         "type": "scatter",
         "x": [
          0.17286174615058908,
          0.7845701886498891
         ],
         "y": [
          0.6109180479784145,
          -0.4702501081521776
         ]
        },
        {
         "line": {
          "color": "darkblue",
          "width": 1
         },
         "mode": "lines",
         "type": "scatter",
         "x": [
          0.0856782687952649,
          0.20122273875243868
         ],
         "y": [
          0.9124810295755442,
          1
         ]
        },
        {
         "line": {
          "color": "darkblue",
          "width": 1
         },
         "mode": "lines",
         "type": "scatter",
         "x": [
          0.2156727182715702,
          -0.038399276125469936
         ],
         "y": [
          -0.7887235348795513,
          -0.8589465139367477
         ]
        },
        {
         "line": {
          "color": "darkblue",
          "width": 1
         },
         "mode": "lines",
         "type": "scatter",
         "x": [
          0.17286174615058908,
          -0.21874065182410288
         ],
         "y": [
          0.6109180479784145,
          0.9173139322490603
         ]
        },
        {
         "line": {
          "color": "darkblue",
          "width": 1
         },
         "mode": "lines",
         "type": "scatter",
         "x": [
          0.17286174615058908,
          -0.9255085009862662
         ],
         "y": [
          0.6109180479784145,
          0.4156074772474138
         ]
        },
        {
         "line": {
          "color": "lightgray",
          "width": 1
         },
         "mode": "lines",
         "type": "scatter",
         "x": [
          -0.6004235446281904,
          0.5578103471991686
         ],
         "y": [
          0.6370991185146676,
          0.20540946402350227
         ]
        },
        {
         "line": {
          "color": "darkblue",
          "width": 1
         },
         "mode": "lines",
         "type": "scatter",
         "x": [
          0.8231470249802241,
          0.5578103471991686
         ],
         "y": [
          -0.33873032683507903,
          0.20540946402350227
         ]
        },
        {
         "line": {
          "color": "darkblue",
          "width": 1
         },
         "mode": "lines",
         "type": "scatter",
         "x": [
          0.7013791398643786,
          0.2156727182715702
         ],
         "y": [
          -0.594040447917239,
          -0.7887235348795513
         ]
        },
        {
         "line": {
          "color": "lightgray",
          "width": 1
         },
         "mode": "lines",
         "type": "scatter",
         "x": [
          -0.5518346330746787,
          0.7903440977923845
         ],
         "y": [
          -0.20347522493435183,
          -0.5228755269922652
         ]
        },
        {
         "line": {
          "color": "lightgray",
          "width": 1
         },
         "mode": "lines",
         "type": "scatter",
         "x": [
          -0.7082756557903018,
          0.7650494797310291
         ],
         "y": [
          0.6253190923496244,
          0.26190397562901585
         ]
        },
        {
         "line": {
          "color": "darkblue",
          "width": 1
         },
         "mode": "lines",
         "type": "scatter",
         "x": [
          -0.3114456606027594,
          0.510738532629225
         ],
         "y": [
          -0.6739529679071985,
          -0.8112387243894809
         ]
        },
        {
         "line": {
          "color": "darkblue",
          "width": 1
         },
         "mode": "lines",
         "type": "scatter",
         "x": [
          0.9227817640400293,
          -0.13617797378549315
         ],
         "y": [
          0.029458794541957063,
          -0.6677698899093224
         ]
        },
        {
         "line": {
          "color": "lightgray",
          "width": 1
         },
         "mode": "lines",
         "type": "scatter",
         "x": [
          -0.6140937175337806,
          0.5578103471991686
         ],
         "y": [
          0.8892790315579895,
          0.20540946402350227
         ]
        },
        {
         "line": {
          "color": "lightgray",
          "width": 1
         },
         "mode": "lines",
         "type": "scatter",
         "x": [
          0.17286174615058908,
          0.07578275185778272
         ],
         "y": [
          0.6109180479784145,
          -0.7227296757790806
         ]
        },
        {
         "line": {
          "color": "darkblue",
          "width": 1
         },
         "mode": "lines",
         "type": "scatter",
         "x": [
          -0.8165996085805034,
          -0.7605345776401973
         ],
         "y": [
          0.5807746769754708,
          0.28735490924116186
         ]
        },
        {
         "line": {
          "color": "darkblue",
          "width": 1
         },
         "mode": "lines",
         "type": "scatter",
         "x": [
          -0.7566061026918331,
          -0.3718304348748292
         ],
         "y": [
          0.7987976960830132,
          0.889405011839641
         ]
        },
        {
         "line": {
          "color": "lightgray",
          "width": 1
         },
         "mode": "lines",
         "type": "scatter",
         "x": [
          -0.8960744076451393,
          0.6386071880364272
         ],
         "y": [
          -0.12230556515037556,
          0.13116385461911206
         ]
        },
        {
         "line": {
          "color": "lightgray",
          "width": 1
         },
         "mode": "lines",
         "type": "scatter",
         "x": [
          -0.5518346330746787,
          0.821946468210322
         ],
         "y": [
          -0.20347522493435183,
          -0.5376566668384067
         ]
        },
        {
         "line": {
          "color": "lightgray",
          "width": 1
         },
         "mode": "lines",
         "type": "scatter",
         "x": [
          -0.21874065182410288,
          0.3330448392384936
         ],
         "y": [
          0.9173139322490603,
          -0.8340062657872137
         ]
        },
        {
         "line": {
          "color": "lightgray",
          "width": 1
         },
         "mode": "lines",
         "type": "scatter",
         "x": [
          -0.3718304348748292,
          0.821946468210322
         ],
         "y": [
          0.889405011839641,
          -0.5376566668384067
         ]
        },
        {
         "line": {
          "color": "lightgray",
          "width": 1
         },
         "mode": "lines",
         "type": "scatter",
         "x": [
          -0.6140937175337806,
          0.07578275185778272
         ],
         "y": [
          0.8892790315579895,
          -0.7227296757790806
         ]
        },
        {
         "line": {
          "color": "darkblue",
          "width": 1
         },
         "mode": "lines",
         "type": "scatter",
         "x": [
          0.0856782687952649,
          -0.9255085009862662
         ],
         "y": [
          0.9124810295755442,
          0.4156074772474138
         ]
        },
        {
         "line": {
          "color": "darkblue",
          "width": 1
         },
         "mode": "lines",
         "type": "scatter",
         "x": [
          -0.7082756557903018,
          -0.7605345776401973
         ],
         "y": [
          0.6253190923496244,
          0.28735490924116186
         ]
        },
        {
         "line": {
          "color": "darkblue",
          "width": 1
         },
         "mode": "lines",
         "type": "scatter",
         "x": [
          0.20122273875243868,
          -0.9255085009862662
         ],
         "y": [
          1,
          0.4156074772474138
         ]
        },
        {
         "line": {
          "color": "darkblue",
          "width": 1
         },
         "mode": "lines",
         "type": "scatter",
         "x": [
          -0.278231951866899,
          0.9227817640400293
         ],
         "y": [
          -0.4788627466713346,
          0.029458794541957063
         ]
        },
        {
         "line": {
          "color": "lightgray",
          "width": 1
         },
         "mode": "lines",
         "type": "scatter",
         "x": [
          -0.7605345776401973,
          0.6108745154405566
         ],
         "y": [
          0.28735490924116186,
          -0.5733676800755454
         ]
        },
        {
         "line": {
          "color": "lightgray",
          "width": 1
         },
         "mode": "lines",
         "type": "scatter",
         "x": [
          -0.9739462100511188,
          0.821946468210322
         ],
         "y": [
          0.15588962822060787,
          -0.5376566668384067
         ]
        },
        {
         "line": {
          "color": "darkblue",
          "width": 1
         },
         "mode": "lines",
         "type": "scatter",
         "x": [
          -0.8960744076451393,
          -0.3718304348748292
         ],
         "y": [
          -0.12230556515037556,
          0.889405011839641
         ]
        },
        {
         "line": {
          "color": "darkblue",
          "width": 1
         },
         "mode": "lines",
         "type": "scatter",
         "x": [
          0.7013791398643786,
          0.821946468210322
         ],
         "y": [
          -0.594040447917239,
          -0.5376566668384067
         ]
        },
        {
         "line": {
          "color": "darkblue",
          "width": 1
         },
         "mode": "lines",
         "type": "scatter",
         "x": [
          0.5578103471991686,
          0.7848921790023624
         ],
         "y": [
          0.20540946402350227,
          -0.2454827409792513
         ]
        },
        {
         "line": {
          "color": "lightgray",
          "width": 1
         },
         "mode": "lines",
         "type": "scatter",
         "x": [
          -0.21874065182410288,
          0.7314587219711344
         ],
         "y": [
          0.9173139322490603,
          -0.6744984707757519
         ]
        },
        {
         "line": {
          "color": "darkblue",
          "width": 1
         },
         "mode": "lines",
         "type": "scatter",
         "x": [
          -0.6140937175337806,
          0.17286174615058908
         ],
         "y": [
          0.8892790315579895,
          0.6109180479784145
         ]
        },
        {
         "line": {
          "color": "lightgray",
          "width": 1
         },
         "mode": "lines",
         "type": "scatter",
         "x": [
          -0.5518346330746787,
          -0.08629914181214383
         ],
         "y": [
          -0.20347522493435183,
          -0.9369339520980161
         ]
        },
        {
         "line": {
          "color": "lightgray",
          "width": 1
         },
         "mode": "lines",
         "type": "scatter",
         "x": [
          -0.9739462100511188,
          0.5578103471991686
         ],
         "y": [
          0.15588962822060787,
          0.20540946402350227
         ]
        },
        {
         "line": {
          "color": "darkblue",
          "width": 1
         },
         "mode": "lines",
         "type": "scatter",
         "x": [
          0.6386071880364272,
          -0.278231951866899
         ],
         "y": [
          0.13116385461911206,
          -0.4788627466713346
         ]
        },
        {
         "line": {
          "color": "darkblue",
          "width": 1
         },
         "mode": "lines",
         "type": "scatter",
         "x": [
          0.6386071880364272,
          0.7903440977923845
         ],
         "y": [
          0.13116385461911206,
          -0.5228755269922652
         ]
        },
        {
         "line": {
          "color": "lightgray",
          "width": 1
         },
         "mode": "lines",
         "type": "scatter",
         "x": [
          -0.8165996085805034,
          0.7314587219711344
         ],
         "y": [
          0.5807746769754708,
          -0.6744984707757519
         ]
        },
        {
         "line": {
          "color": "lightgray",
          "width": 1
         },
         "mode": "lines",
         "type": "scatter",
         "x": [
          -0.6004235446281904,
          -0.278231951866899
         ],
         "y": [
          0.6370991185146676,
          -0.4788627466713346
         ]
        },
        {
         "line": {
          "color": "darkblue",
          "width": 1
         },
         "mode": "lines",
         "type": "scatter",
         "x": [
          0.510738532629225,
          0.7848921790023624
         ],
         "y": [
          -0.8112387243894809,
          -0.2454827409792513
         ]
        },
        {
         "line": {
          "color": "lightgray",
          "width": 1
         },
         "mode": "lines",
         "type": "scatter",
         "x": [
          -0.6004235446281904,
          -0.038399276125469936
         ],
         "y": [
          0.6370991185146676,
          -0.8589465139367477
         ]
        },
        {
         "line": {
          "color": "darkblue",
          "width": 1
         },
         "mode": "lines",
         "type": "scatter",
         "x": [
          0.20122273875243868,
          -0.5518346330746787
         ],
         "y": [
          1,
          -0.20347522493435183
         ]
        },
        {
         "line": {
          "color": "lightgray",
          "width": 1
         },
         "mode": "lines",
         "type": "scatter",
         "x": [
          0.41841412245343573,
          0.3330448392384936
         ],
         "y": [
          0.6013098799193504,
          -0.8340062657872137
         ]
        },
        {
         "line": {
          "color": "lightgray",
          "width": 1
         },
         "mode": "lines",
         "type": "scatter",
         "x": [
          0.41841412245343573,
          0.2156727182715702
         ],
         "y": [
          0.6013098799193504,
          -0.7887235348795513
         ]
        },
        {
         "line": {
          "color": "lightgray",
          "width": 1
         },
         "mode": "lines",
         "type": "scatter",
         "x": [
          -0.6004235446281904,
          -0.038399276125469936
         ],
         "y": [
          0.6370991185146676,
          -0.8589465139367477
         ]
        },
        {
         "line": {
          "color": "darkblue",
          "width": 1
         },
         "mode": "lines",
         "type": "scatter",
         "x": [
          0.821946468210322,
          0.5578103471991686
         ],
         "y": [
          -0.5376566668384067,
          0.20540946402350227
         ]
        },
        {
         "line": {
          "color": "lightgray",
          "width": 1
         },
         "mode": "lines",
         "type": "scatter",
         "x": [
          0.20122273875243868,
          -0.13617797378549315
         ],
         "y": [
          1,
          -0.6677698899093224
         ]
        },
        {
         "line": {
          "color": "darkblue",
          "width": 1
         },
         "mode": "lines",
         "type": "scatter",
         "x": [
          0.20122273875243868,
          -0.7605345776401973
         ],
         "y": [
          1,
          0.28735490924116186
         ]
        },
        {
         "line": {
          "color": "lightgray",
          "width": 1
         },
         "mode": "lines",
         "type": "scatter",
         "x": [
          -0.8960744076451393,
          0.9227817640400293
         ],
         "y": [
          -0.12230556515037556,
          0.029458794541957063
         ]
        },
        {
         "line": {
          "color": "lightgray",
          "width": 1
         },
         "mode": "lines",
         "type": "scatter",
         "x": [
          -0.4782468403548081,
          0.6108745154405566
         ],
         "y": [
          0.8192451596907109,
          -0.5733676800755454
         ]
        },
        {
         "line": {
          "color": "lightgray",
          "width": 1
         },
         "mode": "lines",
         "type": "scatter",
         "x": [
          -0.6140937175337806,
          0.9227817640400293
         ],
         "y": [
          0.8892790315579895,
          0.029458794541957063
         ]
        },
        {
         "line": {
          "color": "darkblue",
          "width": 1
         },
         "mode": "lines",
         "type": "scatter",
         "x": [
          -0.7082756557903018,
          0.3341323589999464
         ],
         "y": [
          0.6253190923496244,
          0.6276510584927125
         ]
        },
        {
         "line": {
          "color": "darkblue",
          "width": 1
         },
         "mode": "lines",
         "type": "scatter",
         "x": [
          -0.7082756557903018,
          -0.21874065182410288
         ],
         "y": [
          0.6253190923496244,
          0.9173139322490603
         ]
        },
        {
         "line": {
          "color": "lightgray",
          "width": 1
         },
         "mode": "lines",
         "type": "scatter",
         "x": [
          -0.6140937175337806,
          0.7848921790023624
         ],
         "y": [
          0.8892790315579895,
          -0.2454827409792513
         ]
        },
        {
         "line": {
          "color": "lightgray",
          "width": 1
         },
         "mode": "lines",
         "type": "scatter",
         "x": [
          0.20122273875243868,
          0.7013791398643786
         ],
         "y": [
          1,
          -0.594040447917239
         ]
        },
        {
         "line": {
          "color": "lightgray",
          "width": 1
         },
         "mode": "lines",
         "type": "scatter",
         "x": [
          -0.8960744076451393,
          -0.08629914181214383
         ],
         "y": [
          -0.12230556515037556,
          -0.9369339520980161
         ]
        },
        {
         "line": {
          "color": "darkblue",
          "width": 1
         },
         "mode": "lines",
         "type": "scatter",
         "x": [
          -0.9151372576982943,
          -0.7605345776401973
         ],
         "y": [
          0.15511979920707278,
          0.28735490924116186
         ]
        },
        {
         "line": {
          "color": "lightgray",
          "width": 1
         },
         "mode": "lines",
         "type": "scatter",
         "x": [
          -0.8165996085805034,
          0.3330448392384936
         ],
         "y": [
          0.5807746769754708,
          -0.8340062657872137
         ]
        },
        {
         "line": {
          "color": "darkblue",
          "width": 1
         },
         "mode": "lines",
         "type": "scatter",
         "x": [
          0.41841412245343573,
          0.0856782687952649
         ],
         "y": [
          0.6013098799193504,
          0.9124810295755442
         ]
        },
        {
         "line": {
          "color": "darkblue",
          "width": 1
         },
         "mode": "lines",
         "type": "scatter",
         "x": [
          -0.4782468403548081,
          -0.9255085009862662
         ],
         "y": [
          0.8192451596907109,
          0.4156074772474138
         ]
        },
        {
         "line": {
          "color": "darkblue",
          "width": 1
         },
         "mode": "lines",
         "type": "scatter",
         "x": [
          0.6108745154405566,
          -0.13617797378549315
         ],
         "y": [
          -0.5733676800755454,
          -0.6677698899093224
         ]
        },
        {
         "line": {
          "color": "darkblue",
          "width": 1
         },
         "mode": "lines",
         "type": "scatter",
         "x": [
          0.3341323589999464,
          -0.7605345776401973
         ],
         "y": [
          0.6276510584927125,
          0.28735490924116186
         ]
        },
        {
         "line": {
          "color": "lightgray",
          "width": 1
         },
         "mode": "lines",
         "type": "scatter",
         "x": [
          -0.7566061026918331,
          0.9227817640400293
         ],
         "y": [
          0.7987976960830132,
          0.029458794541957063
         ]
        },
        {
         "line": {
          "color": "darkblue",
          "width": 1
         },
         "mode": "lines",
         "type": "scatter",
         "x": [
          0.41841412245343573,
          -0.7082756557903018
         ],
         "y": [
          0.6013098799193504,
          0.6253190923496244
         ]
        },
        {
         "line": {
          "color": "darkblue",
          "width": 1
         },
         "mode": "lines",
         "type": "scatter",
         "x": [
          -0.6140937175337806,
          -0.8165996085805034
         ],
         "y": [
          0.8892790315579895,
          0.5807746769754708
         ]
        },
        {
         "line": {
          "color": "darkblue",
          "width": 1
         },
         "mode": "lines",
         "type": "scatter",
         "x": [
          -0.6004235446281904,
          -0.21874065182410288
         ],
         "y": [
          0.6370991185146676,
          0.9173139322490603
         ]
        },
        {
         "line": {
          "color": "darkblue",
          "width": 1
         },
         "mode": "lines",
         "type": "scatter",
         "x": [
          0.6108745154405566,
          0.7903440977923845
         ],
         "y": [
          -0.5733676800755454,
          -0.5228755269922652
         ]
        },
        {
         "line": {
          "color": "lightgray",
          "width": 1
         },
         "mode": "lines",
         "type": "scatter",
         "x": [
          -0.3718304348748292,
          0.07578275185778272
         ],
         "y": [
          0.889405011839641,
          -0.7227296757790806
         ]
        },
        {
         "line": {
          "color": "darkblue",
          "width": 1
         },
         "mode": "lines",
         "type": "scatter",
         "x": [
          0.07578275185778272,
          0.7903440977923845
         ],
         "y": [
          -0.7227296757790806,
          -0.5228755269922652
         ]
        },
        {
         "line": {
          "color": "darkblue",
          "width": 1
         },
         "mode": "lines",
         "type": "scatter",
         "x": [
          -0.4782468403548081,
          0.20122273875243868
         ],
         "y": [
          0.8192451596907109,
          1
         ]
        },
        {
         "line": {
          "color": "darkblue",
          "width": 1
         },
         "mode": "lines",
         "type": "scatter",
         "x": [
          0.3330448392384936,
          -0.13617797378549315
         ],
         "y": [
          -0.8340062657872137,
          -0.6677698899093224
         ]
        },
        {
         "line": {
          "color": "lightgray",
          "width": 1
         },
         "mode": "lines",
         "type": "scatter",
         "x": [
          0.17286174615058908,
          0.7013791398643786
         ],
         "y": [
          0.6109180479784145,
          -0.594040447917239
         ]
        },
        {
         "line": {
          "color": "lightgray",
          "width": 1
         },
         "mode": "lines",
         "type": "scatter",
         "x": [
          -0.6004235446281904,
          0.9227817640400293
         ],
         "y": [
          0.6370991185146676,
          0.029458794541957063
         ]
        },
        {
         "line": {
          "color": "lightgray",
          "width": 1
         },
         "mode": "lines",
         "type": "scatter",
         "x": [
          -0.9151372576982943,
          0.7013791398643786
         ],
         "y": [
          0.15511979920707278,
          -0.594040447917239
         ]
        },
        {
         "line": {
          "color": "darkblue",
          "width": 1
         },
         "mode": "lines",
         "type": "scatter",
         "x": [
          0.3330448392384936,
          0.510738532629225
         ],
         "y": [
          -0.8340062657872137,
          -0.8112387243894809
         ]
        },
        {
         "line": {
          "color": "lightgray",
          "width": 1
         },
         "mode": "lines",
         "type": "scatter",
         "x": [
          -0.8165996085805034,
          0.7845701886498891
         ],
         "y": [
          0.5807746769754708,
          -0.4702501081521776
         ]
        },
        {
         "line": {
          "color": "darkblue",
          "width": 1
         },
         "mode": "lines",
         "type": "scatter",
         "x": [
          0.014910717236521208,
          -0.08629914181214383
         ],
         "y": [
          -0.7726759134396349,
          -0.9369339520980161
         ]
        },
        {
         "line": {
          "color": "darkblue",
          "width": 1
         },
         "mode": "lines",
         "type": "scatter",
         "x": [
          0.7314587219711344,
          -0.038399276125469936
         ],
         "y": [
          -0.6744984707757519,
          -0.8589465139367477
         ]
        },
        {
         "line": {
          "color": "lightgray",
          "width": 1
         },
         "mode": "lines",
         "type": "scatter",
         "x": [
          0.41841412245343573,
          0.7845701886498891
         ],
         "y": [
          0.6013098799193504,
          -0.4702501081521776
         ]
        },
        {
         "line": {
          "color": "lightgray",
          "width": 1
         },
         "mode": "lines",
         "type": "scatter",
         "x": [
          -0.6140937175337806,
          -0.13617797378549315
         ],
         "y": [
          0.8892790315579895,
          -0.6677698899093224
         ]
        },
        {
         "line": {
          "color": "darkblue",
          "width": 1
         },
         "mode": "lines",
         "type": "scatter",
         "x": [
          0.41841412245343573,
          0.3341323589999464
         ],
         "y": [
          0.6013098799193504,
          0.6276510584927125
         ]
        },
        {
         "line": {
          "color": "darkblue",
          "width": 1
         },
         "mode": "lines",
         "type": "scatter",
         "x": [
          0.7650494797310291,
          0.6386071880364272
         ],
         "y": [
          0.26190397562901585,
          0.13116385461911206
         ]
        },
        {
         "line": {
          "color": "lightgray",
          "width": 1
         },
         "mode": "lines",
         "type": "scatter",
         "x": [
          -0.7605345776401973,
          -0.278231951866899
         ],
         "y": [
          0.28735490924116186,
          -0.4788627466713346
         ]
        },
        {
         "line": {
          "color": "lightgray",
          "width": 1
         },
         "mode": "lines",
         "type": "scatter",
         "x": [
          0.3341323589999464,
          0.6108745154405566
         ],
         "y": [
          0.6276510584927125,
          -0.5733676800755454
         ]
        },
        {
         "line": {
          "color": "darkblue",
          "width": 1
         },
         "mode": "lines",
         "type": "scatter",
         "x": [
          -0.21874065182410288,
          -0.9151372576982943
         ],
         "y": [
          0.9173139322490603,
          0.15511979920707278
         ]
        },
        {
         "line": {
          "color": "lightgray",
          "width": 1
         },
         "mode": "lines",
         "type": "scatter",
         "x": [
          0.3341323589999464,
          0.3330448392384936
         ],
         "y": [
          0.6276510584927125,
          -0.8340062657872137
         ]
        },
        {
         "line": {
          "color": "lightgray",
          "width": 1
         },
         "mode": "lines",
         "type": "scatter",
         "x": [
          -0.4782468403548081,
          0.9227817640400293
         ],
         "y": [
          0.8192451596907109,
          0.029458794541957063
         ]
        },
        {
         "line": {
          "color": "lightgray",
          "width": 1
         },
         "mode": "lines",
         "type": "scatter",
         "x": [
          -0.8165996085805034,
          0.8231470249802241
         ],
         "y": [
          0.5807746769754708,
          -0.33873032683507903
         ]
        },
        {
         "line": {
          "color": "lightgray",
          "width": 1
         },
         "mode": "lines",
         "type": "scatter",
         "x": [
          -0.21874065182410288,
          0.2156727182715702
         ],
         "y": [
          0.9173139322490603,
          -0.7887235348795513
         ]
        },
        {
         "line": {
          "color": "lightgray",
          "width": 1
         },
         "mode": "lines",
         "type": "scatter",
         "x": [
          0.41841412245343573,
          0.7314587219711344
         ],
         "y": [
          0.6013098799193504,
          -0.6744984707757519
         ]
        },
        {
         "line": {
          "color": "darkblue",
          "width": 1
         },
         "mode": "lines",
         "type": "scatter",
         "x": [
          -0.6140937175337806,
          -0.21874065182410288
         ],
         "y": [
          0.8892790315579895,
          0.9173139322490603
         ]
        },
        {
         "line": {
          "color": "lightgray",
          "width": 1
         },
         "mode": "lines",
         "type": "scatter",
         "x": [
          -0.5518346330746787,
          0.821946468210322
         ],
         "y": [
          -0.20347522493435183,
          -0.5376566668384067
         ]
        },
        {
         "line": {
          "color": "darkblue",
          "width": 1
         },
         "mode": "lines",
         "type": "scatter",
         "x": [
          0.17286174615058908,
          -0.8569137617363639
         ],
         "y": [
          0.6109180479784145,
          0.27702130549198284
         ]
        },
        {
         "line": {
          "color": "lightgray",
          "width": 1
         },
         "mode": "lines",
         "type": "scatter",
         "x": [
          -0.7605345776401973,
          0.7650494797310291
         ],
         "y": [
          0.28735490924116186,
          0.26190397562901585
         ]
        },
        {
         "line": {
          "color": "lightgray",
          "width": 1
         },
         "mode": "lines",
         "type": "scatter",
         "x": [
          -0.5518346330746787,
          0.7650494797310291
         ],
         "y": [
          -0.20347522493435183,
          0.26190397562901585
         ]
        },
        {
         "line": {
          "color": "lightgray",
          "width": 1
         },
         "mode": "lines",
         "type": "scatter",
         "x": [
          -0.9739462100511188,
          -0.038399276125469936
         ],
         "y": [
          0.15588962822060787,
          -0.8589465139367477
         ]
        },
        {
         "line": {
          "color": "lightgray",
          "width": 1
         },
         "mode": "lines",
         "type": "scatter",
         "x": [
          -0.3718304348748292,
          0.5578103471991686
         ],
         "y": [
          0.889405011839641,
          0.20540946402350227
         ]
        },
        {
         "line": {
          "color": "lightgray",
          "width": 1
         },
         "mode": "lines",
         "type": "scatter",
         "x": [
          -0.6140937175337806,
          0.510738532629225
         ],
         "y": [
          0.8892790315579895,
          -0.8112387243894809
         ]
        },
        {
         "line": {
          "color": "darkblue",
          "width": 1
         },
         "mode": "lines",
         "type": "scatter",
         "x": [
          -0.6004235446281904,
          -0.5518346330746787
         ],
         "y": [
          0.6370991185146676,
          -0.20347522493435183
         ]
        },
        {
         "line": {
          "color": "lightgray",
          "width": 1
         },
         "mode": "lines",
         "type": "scatter",
         "x": [
          -0.7605345776401973,
          0.2156727182715702
         ],
         "y": [
          0.28735490924116186,
          -0.7887235348795513
         ]
        },
        {
         "line": {
          "color": "lightgray",
          "width": 1
         },
         "mode": "lines",
         "type": "scatter",
         "x": [
          -0.7605345776401973,
          0.3330448392384936
         ],
         "y": [
          0.28735490924116186,
          -0.8340062657872137
         ]
        },
        {
         "line": {
          "color": "lightgray",
          "width": 1
         },
         "mode": "lines",
         "type": "scatter",
         "x": [
          -0.6004235446281904,
          0.7314587219711344
         ],
         "y": [
          0.6370991185146676,
          -0.6744984707757519
         ]
        },
        {
         "line": {
          "color": "darkblue",
          "width": 1
         },
         "mode": "lines",
         "type": "scatter",
         "x": [
          0.8231470249802241,
          -0.278231951866899
         ],
         "y": [
          -0.33873032683507903,
          -0.4788627466713346
         ]
        },
        {
         "line": {
          "color": "lightgray",
          "width": 1
         },
         "mode": "lines",
         "type": "scatter",
         "x": [
          -0.7566061026918331,
          0.510738532629225
         ],
         "y": [
          0.7987976960830132,
          -0.8112387243894809
         ]
        },
        {
         "line": {
          "color": "lightgray",
          "width": 1
         },
         "mode": "lines",
         "type": "scatter",
         "x": [
          0.3341323589999464,
          -0.13617797378549315
         ],
         "y": [
          0.6276510584927125,
          -0.6677698899093224
         ]
        },
        {
         "line": {
          "color": "lightgray",
          "width": 1
         },
         "mode": "lines",
         "type": "scatter",
         "x": [
          -0.9739462100511188,
          -0.13617797378549315
         ],
         "y": [
          0.15588962822060787,
          -0.6677698899093224
         ]
        },
        {
         "line": {
          "color": "darkblue",
          "width": 1
         },
         "mode": "lines",
         "type": "scatter",
         "x": [
          -0.7566061026918331,
          -0.5518346330746787
         ],
         "y": [
          0.7987976960830132,
          -0.20347522493435183
         ]
        },
        {
         "line": {
          "color": "darkblue",
          "width": 1
         },
         "mode": "lines",
         "type": "scatter",
         "x": [
          -0.7082756557903018,
          0.17286174615058908
         ],
         "y": [
          0.6253190923496244,
          0.6109180479784145
         ]
        },
        {
         "line": {
          "color": "darkblue",
          "width": 1
         },
         "mode": "lines",
         "type": "scatter",
         "x": [
          -0.8569137617363639,
          -0.6004235446281904
         ],
         "y": [
          0.27702130549198284,
          0.6370991185146676
         ]
        },
        {
         "line": {
          "color": "lightgray",
          "width": 1
         },
         "mode": "lines",
         "type": "scatter",
         "x": [
          -0.5518346330746787,
          0.7314587219711344
         ],
         "y": [
          -0.20347522493435183,
          -0.6744984707757519
         ]
        },
        {
         "line": {
          "color": "darkblue",
          "width": 1
         },
         "mode": "lines",
         "type": "scatter",
         "x": [
          0.17286174615058908,
          0.3341323589999464
         ],
         "y": [
          0.6109180479784145,
          0.6276510584927125
         ]
        },
        {
         "line": {
          "color": "lightgray",
          "width": 1
         },
         "mode": "lines",
         "type": "scatter",
         "x": [
          -0.6004235446281904,
          0.014910717236521208
         ],
         "y": [
          0.6370991185146676,
          -0.7726759134396349
         ]
        },
        {
         "line": {
          "color": "lightgray",
          "width": 1
         },
         "mode": "lines",
         "type": "scatter",
         "x": [
          -0.5518346330746787,
          0.7314587219711344
         ],
         "y": [
          -0.20347522493435183,
          -0.6744984707757519
         ]
        },
        {
         "line": {
          "color": "darkblue",
          "width": 1
         },
         "mode": "lines",
         "type": "scatter",
         "x": [
          0.821946468210322,
          0.7848921790023624
         ],
         "y": [
          -0.5376566668384067,
          -0.2454827409792513
         ]
        },
        {
         "line": {
          "color": "lightgray",
          "width": 1
         },
         "mode": "lines",
         "type": "scatter",
         "x": [
          -0.9151372576982943,
          -0.13617797378549315
         ],
         "y": [
          0.15511979920707278,
          -0.6677698899093224
         ]
        },
        {
         "line": {
          "color": "lightgray",
          "width": 1
         },
         "mode": "lines",
         "type": "scatter",
         "x": [
          -0.7566061026918331,
          0.8231470249802241
         ],
         "y": [
          0.7987976960830132,
          -0.33873032683507903
         ]
        },
        {
         "line": {
          "color": "darkblue",
          "width": 1
         },
         "mode": "lines",
         "type": "scatter",
         "x": [
          0.7845701886498891,
          -0.13617797378549315
         ],
         "y": [
          -0.4702501081521776,
          -0.6677698899093224
         ]
        },
        {
         "line": {
          "color": "darkblue",
          "width": 1
         },
         "mode": "lines",
         "type": "scatter",
         "x": [
          0.17286174615058908,
          -0.8960744076451393
         ],
         "y": [
          0.6109180479784145,
          -0.12230556515037556
         ]
        },
        {
         "line": {
          "color": "darkblue",
          "width": 1
         },
         "mode": "lines",
         "type": "scatter",
         "x": [
          0.7650494797310291,
          0.7903440977923845
         ],
         "y": [
          0.26190397562901585,
          -0.5228755269922652
         ]
        },
        {
         "line": {
          "color": "lightgray",
          "width": 1
         },
         "mode": "lines",
         "type": "scatter",
         "x": [
          -0.21874065182410288,
          -0.3114456606027594
         ],
         "y": [
          0.9173139322490603,
          -0.6739529679071985
         ]
        },
        {
         "line": {
          "color": "lightgray",
          "width": 1
         },
         "mode": "lines",
         "type": "scatter",
         "x": [
          0.17286174615058908,
          -0.08629914181214383
         ],
         "y": [
          0.6109180479784145,
          -0.9369339520980161
         ]
        },
        {
         "line": {
          "color": "darkblue",
          "width": 1
         },
         "mode": "lines",
         "type": "scatter",
         "x": [
          0.17286174615058908,
          -0.5518346330746787
         ],
         "y": [
          0.6109180479784145,
          -0.20347522493435183
         ]
        },
        {
         "line": {
          "color": "lightgray",
          "width": 1
         },
         "mode": "lines",
         "type": "scatter",
         "x": [
          -0.3718304348748292,
          -0.3114456606027594
         ],
         "y": [
          0.889405011839641,
          -0.6739529679071985
         ]
        },
        {
         "line": {
          "color": "darkblue",
          "width": 1
         },
         "mode": "lines",
         "type": "scatter",
         "x": [
          -0.6004235446281904,
          0.17286174615058908
         ],
         "y": [
          0.6370991185146676,
          0.6109180479784145
         ]
        },
        {
         "line": {
          "color": "darkblue",
          "width": 1
         },
         "mode": "lines",
         "type": "scatter",
         "x": [
          0.014910717236521208,
          0.7903440977923845
         ],
         "y": [
          -0.7726759134396349,
          -0.5228755269922652
         ]
        },
        {
         "line": {
          "color": "darkblue",
          "width": 1
         },
         "mode": "lines",
         "type": "scatter",
         "x": [
          0.41841412245343573,
          0.17286174615058908
         ],
         "y": [
          0.6013098799193504,
          0.6109180479784145
         ]
        },
        {
         "line": {
          "color": "lightgray",
          "width": 1
         },
         "mode": "lines",
         "type": "scatter",
         "x": [
          0.0856782687952649,
          -0.278231951866899
         ],
         "y": [
          0.9124810295755442,
          -0.4788627466713346
         ]
        },
        {
         "line": {
          "color": "darkblue",
          "width": 1
         },
         "mode": "lines",
         "type": "scatter",
         "x": [
          -0.3718304348748292,
          -0.21874065182410288
         ],
         "y": [
          0.889405011839641,
          0.9173139322490603
         ]
        },
        {
         "line": {
          "color": "darkblue",
          "width": 1
         },
         "mode": "lines",
         "type": "scatter",
         "x": [
          0.3341323589999464,
          -0.9255085009862662
         ],
         "y": [
          0.6276510584927125,
          0.4156074772474138
         ]
        },
        {
         "line": {
          "color": "darkblue",
          "width": 1
         },
         "mode": "lines",
         "type": "scatter",
         "x": [
          -0.8960744076451393,
          0.3341323589999464
         ],
         "y": [
          -0.12230556515037556,
          0.6276510584927125
         ]
        },
        {
         "line": {
          "color": "darkblue",
          "width": 1
         },
         "mode": "lines",
         "type": "scatter",
         "x": [
          0.7650494797310291,
          0.7013791398643786
         ],
         "y": [
          0.26190397562901585,
          -0.594040447917239
         ]
        },
        {
         "line": {
          "color": "lightgray",
          "width": 1
         },
         "mode": "lines",
         "type": "scatter",
         "x": [
          -0.21874065182410288,
          -0.08629914181214383
         ],
         "y": [
          0.9173139322490603,
          -0.9369339520980161
         ]
        },
        {
         "line": {
          "color": "lightgray",
          "width": 1
         },
         "mode": "lines",
         "type": "scatter",
         "x": [
          -0.6004235446281904,
          0.07578275185778272
         ],
         "y": [
          0.6370991185146676,
          -0.7227296757790806
         ]
        },
        {
         "line": {
          "color": "darkblue",
          "width": 1
         },
         "mode": "lines",
         "type": "scatter",
         "x": [
          0.20122273875243868,
          -0.6004235446281904
         ],
         "y": [
          1,
          0.6370991185146676
         ]
        },
        {
         "line": {
          "color": "darkblue",
          "width": 1
         },
         "mode": "lines",
         "type": "scatter",
         "x": [
          0.2156727182715702,
          0.3330448392384936
         ],
         "y": [
          -0.7887235348795513,
          -0.8340062657872137
         ]
        },
        {
         "line": {
          "color": "darkblue",
          "width": 1
         },
         "mode": "lines",
         "type": "scatter",
         "x": [
          0.821946468210322,
          -0.3114456606027594
         ],
         "y": [
          -0.5376566668384067,
          -0.6739529679071985
         ]
        },
        {
         "line": {
          "color": "darkblue",
          "width": 1
         },
         "mode": "lines",
         "type": "scatter",
         "x": [
          -0.9151372576982943,
          -0.9255085009862662
         ],
         "y": [
          0.15511979920707278,
          0.4156074772474138
         ]
        },
        {
         "line": {
          "color": "lightgray",
          "width": 1
         },
         "mode": "lines",
         "type": "scatter",
         "x": [
          -0.9255085009862662,
          -0.08629914181214383
         ],
         "y": [
          0.4156074772474138,
          -0.9369339520980161
         ]
        },
        {
         "line": {
          "color": "lightgray",
          "width": 1
         },
         "mode": "lines",
         "type": "scatter",
         "x": [
          -0.6004235446281904,
          -0.08629914181214383
         ],
         "y": [
          0.6370991185146676,
          -0.9369339520980161
         ]
        },
        {
         "line": {
          "color": "lightgray",
          "width": 1
         },
         "mode": "lines",
         "type": "scatter",
         "x": [
          -0.9151372576982943,
          0.6108745154405566
         ],
         "y": [
          0.15511979920707278,
          -0.5733676800755454
         ]
        },
        {
         "line": {
          "color": "darkblue",
          "width": 1
         },
         "mode": "lines",
         "type": "scatter",
         "x": [
          -0.08629914181214383,
          0.7848921790023624
         ],
         "y": [
          -0.9369339520980161,
          -0.2454827409792513
         ]
        },
        {
         "line": {
          "color": "lightgray",
          "width": 1
         },
         "mode": "lines",
         "type": "scatter",
         "x": [
          -0.7566061026918331,
          0.6386071880364272
         ],
         "y": [
          0.7987976960830132,
          0.13116385461911206
         ]
        },
        {
         "line": {
          "color": "lightgray",
          "width": 1
         },
         "mode": "lines",
         "type": "scatter",
         "x": [
          -0.6004235446281904,
          0.510738532629225
         ],
         "y": [
          0.6370991185146676,
          -0.8112387243894809
         ]
        },
        {
         "line": {
          "color": "darkblue",
          "width": 1
         },
         "mode": "lines",
         "type": "scatter",
         "x": [
          0.9227817640400293,
          -0.3114456606027594
         ],
         "y": [
          0.029458794541957063,
          -0.6739529679071985
         ]
        },
        {
         "line": {
          "color": "darkblue",
          "width": 1
         },
         "mode": "lines",
         "type": "scatter",
         "x": [
          -0.7566061026918331,
          -0.8165996085805034
         ],
         "y": [
          0.7987976960830132,
          0.5807746769754708
         ]
        },
        {
         "line": {
          "color": "lightgray",
          "width": 1
         },
         "mode": "lines",
         "type": "scatter",
         "x": [
          -0.6140937175337806,
          -0.3114456606027594
         ],
         "y": [
          0.8892790315579895,
          -0.6739529679071985
         ]
        },
        {
         "line": {
          "color": "lightgray",
          "width": 1
         },
         "mode": "lines",
         "type": "scatter",
         "x": [
          0.0856782687952649,
          0.7845701886498891
         ],
         "y": [
          0.9124810295755442,
          -0.4702501081521776
         ]
        },
        {
         "line": {
          "color": "lightgray",
          "width": 1
         },
         "mode": "lines",
         "type": "scatter",
         "x": [
          -0.5518346330746787,
          0.6108745154405566
         ],
         "y": [
          -0.20347522493435183,
          -0.5733676800755454
         ]
        },
        {
         "line": {
          "color": "lightgray",
          "width": 1
         },
         "mode": "lines",
         "type": "scatter",
         "x": [
          0.3341323589999464,
          0.7848921790023624
         ],
         "y": [
          0.6276510584927125,
          -0.2454827409792513
         ]
        },
        {
         "line": {
          "color": "lightgray",
          "width": 1
         },
         "mode": "lines",
         "type": "scatter",
         "x": [
          -0.9255085009862662,
          0.7013791398643786
         ],
         "y": [
          0.4156074772474138,
          -0.594040447917239
         ]
        },
        {
         "line": {
          "color": "lightgray",
          "width": 1
         },
         "mode": "lines",
         "type": "scatter",
         "x": [
          0.3341323589999464,
          0.014910717236521208
         ],
         "y": [
          0.6276510584927125,
          -0.7726759134396349
         ]
        },
        {
         "line": {
          "color": "lightgray",
          "width": 1
         },
         "mode": "lines",
         "type": "scatter",
         "x": [
          -0.6004235446281904,
          0.7845701886498891
         ],
         "y": [
          0.6370991185146676,
          -0.4702501081521776
         ]
        },
        {
         "line": {
          "color": "darkblue",
          "width": 1
         },
         "mode": "lines",
         "type": "scatter",
         "x": [
          0.0856782687952649,
          0.3341323589999464
         ],
         "y": [
          0.9124810295755442,
          0.6276510584927125
         ]
        },
        {
         "line": {
          "color": "lightgray",
          "width": 1
         },
         "mode": "lines",
         "type": "scatter",
         "x": [
          -0.21874065182410288,
          0.7650494797310291
         ],
         "y": [
          0.9173139322490603,
          0.26190397562901585
         ]
        },
        {
         "line": {
          "color": "darkblue",
          "width": 1
         },
         "mode": "lines",
         "type": "scatter",
         "x": [
          0.7013791398643786,
          0.6386071880364272
         ],
         "y": [
          -0.594040447917239,
          0.13116385461911206
         ]
        },
        {
         "line": {
          "color": "darkblue",
          "width": 1
         },
         "mode": "lines",
         "type": "scatter",
         "x": [
          0.7314587219711344,
          -0.08629914181214383
         ],
         "y": [
          -0.6744984707757519,
          -0.9369339520980161
         ]
        },
        {
         "line": {
          "color": "darkblue",
          "width": 1
         },
         "mode": "lines",
         "type": "scatter",
         "x": [
          0.41841412245343573,
          -0.6140937175337806
         ],
         "y": [
          0.6013098799193504,
          0.8892790315579895
         ]
        },
        {
         "line": {
          "color": "lightgray",
          "width": 1
         },
         "mode": "lines",
         "type": "scatter",
         "x": [
          -0.9255085009862662,
          0.7903440977923845
         ],
         "y": [
          0.4156074772474138,
          -0.5228755269922652
         ]
        },
        {
         "line": {
          "color": "darkblue",
          "width": 1
         },
         "mode": "lines",
         "type": "scatter",
         "x": [
          -0.21874065182410288,
          -0.5518346330746787
         ],
         "y": [
          0.9173139322490603,
          -0.20347522493435183
         ]
        },
        {
         "line": {
          "color": "lightgray",
          "width": 1
         },
         "mode": "lines",
         "type": "scatter",
         "x": [
          -0.21874065182410288,
          0.510738532629225
         ],
         "y": [
          0.9173139322490603,
          -0.8112387243894809
         ]
        },
        {
         "line": {
          "color": "darkblue",
          "width": 1
         },
         "mode": "lines",
         "type": "scatter",
         "x": [
          0.014910717236521208,
          0.07578275185778272
         ],
         "y": [
          -0.7726759134396349,
          -0.7227296757790806
         ]
        },
        {
         "line": {
          "color": "darkblue",
          "width": 1
         },
         "mode": "lines",
         "type": "scatter",
         "x": [
          0.3341323589999464,
          -0.21874065182410288
         ],
         "y": [
          0.6276510584927125,
          0.9173139322490603
         ]
        },
        {
         "line": {
          "color": "darkblue",
          "width": 1
         },
         "mode": "lines",
         "type": "scatter",
         "x": [
          0.17286174615058908,
          -0.6004235446281904
         ],
         "y": [
          0.6109180479784145,
          0.6370991185146676
         ]
        },
        {
         "line": {
          "color": "darkblue",
          "width": 1
         },
         "mode": "lines",
         "type": "scatter",
         "x": [
          -0.9739462100511188,
          0.3341323589999464
         ],
         "y": [
          0.15588962822060787,
          0.6276510584927125
         ]
        },
        {
         "line": {
          "color": "lightgray",
          "width": 1
         },
         "mode": "lines",
         "type": "scatter",
         "x": [
          -0.4782468403548081,
          -0.13617797378549315
         ],
         "y": [
          0.8192451596907109,
          -0.6677698899093224
         ]
        },
        {
         "line": {
          "color": "lightgray",
          "width": 1
         },
         "mode": "lines",
         "type": "scatter",
         "x": [
          0.17286174615058908,
          -0.13617797378549315
         ],
         "y": [
          0.6109180479784145,
          -0.6677698899093224
         ]
        },
        {
         "line": {
          "color": "lightgray",
          "width": 1
         },
         "mode": "lines",
         "type": "scatter",
         "x": [
          -0.21874065182410288,
          0.6386071880364272
         ],
         "y": [
          0.9173139322490603,
          0.13116385461911206
         ]
        },
        {
         "line": {
          "color": "darkblue",
          "width": 1
         },
         "mode": "lines",
         "type": "scatter",
         "x": [
          0.6386071880364272,
          0.7848921790023624
         ],
         "y": [
          0.13116385461911206,
          -0.2454827409792513
         ]
        },
        {
         "line": {
          "color": "darkblue",
          "width": 1
         },
         "mode": "lines",
         "type": "scatter",
         "x": [
          -0.4782468403548081,
          0.17286174615058908
         ],
         "y": [
          0.8192451596907109,
          0.6109180479784145
         ]
        },
        {
         "line": {
          "color": "darkblue",
          "width": 1
         },
         "mode": "lines",
         "type": "scatter",
         "x": [
          0.2156727182715702,
          -0.08629914181214383
         ],
         "y": [
          -0.7887235348795513,
          -0.9369339520980161
         ]
        },
        {
         "line": {
          "color": "darkblue",
          "width": 1
         },
         "mode": "lines",
         "type": "scatter",
         "x": [
          -0.9739462100511188,
          -0.5518346330746787
         ],
         "y": [
          0.15588962822060787,
          -0.20347522493435183
         ]
        },
        {
         "line": {
          "color": "lightgray",
          "width": 1
         },
         "mode": "lines",
         "type": "scatter",
         "x": [
          -0.7082756557903018,
          -0.3114456606027594
         ],
         "y": [
          0.6253190923496244,
          -0.6739529679071985
         ]
        },
        {
         "line": {
          "color": "darkblue",
          "width": 1
         },
         "mode": "lines",
         "type": "scatter",
         "x": [
          0.6386071880364272,
          0.3330448392384936
         ],
         "y": [
          0.13116385461911206,
          -0.8340062657872137
         ]
        },
        {
         "line": {
          "color": "lightgray",
          "width": 1
         },
         "mode": "lines",
         "type": "scatter",
         "x": [
          -0.6140937175337806,
          0.8231470249802241
         ],
         "y": [
          0.8892790315579895,
          -0.33873032683507903
         ]
        },
        {
         "line": {
          "color": "darkblue",
          "width": 1
         },
         "mode": "lines",
         "type": "scatter",
         "x": [
          -0.6004235446281904,
          -0.9255085009862662
         ],
         "y": [
          0.6370991185146676,
          0.4156074772474138
         ]
        },
        {
         "line": {
          "color": "darkblue",
          "width": 1
         },
         "mode": "lines",
         "type": "scatter",
         "x": [
          0.0856782687952649,
          -0.8960744076451393
         ],
         "y": [
          0.9124810295755442,
          -0.12230556515037556
         ]
        },
        {
         "line": {
          "color": "lightgray",
          "width": 1
         },
         "mode": "lines",
         "type": "scatter",
         "x": [
          -0.6004235446281904,
          0.8231470249802241
         ],
         "y": [
          0.6370991185146676,
          -0.33873032683507903
         ]
        },
        {
         "line": {
          "color": "darkblue",
          "width": 1
         },
         "mode": "lines",
         "type": "scatter",
         "x": [
          -0.5518346330746787,
          -0.6004235446281904
         ],
         "y": [
          -0.20347522493435183,
          0.6370991185146676
         ]
        },
        {
         "line": {
          "color": "lightgray",
          "width": 1
         },
         "mode": "lines",
         "type": "scatter",
         "x": [
          0.0856782687952649,
          0.014910717236521208
         ],
         "y": [
          0.9124810295755442,
          -0.7726759134396349
         ]
        },
        {
         "line": {
          "color": "darkblue",
          "width": 1
         },
         "mode": "lines",
         "type": "scatter",
         "x": [
          0.0856782687952649,
          -0.8165996085805034
         ],
         "y": [
          0.9124810295755442,
          0.5807746769754708
         ]
        },
        {
         "line": {
          "color": "lightgray",
          "width": 1
         },
         "mode": "lines",
         "type": "scatter",
         "x": [
          0.0856782687952649,
          0.7903440977923845
         ],
         "y": [
          0.9124810295755442,
          -0.5228755269922652
         ]
        },
        {
         "line": {
          "color": "lightgray",
          "width": 1
         },
         "mode": "lines",
         "type": "scatter",
         "x": [
          0.41841412245343573,
          0.6386071880364272
         ],
         "y": [
          0.6013098799193504,
          0.13116385461911206
         ]
        },
        {
         "line": {
          "color": "lightgray",
          "width": 1
         },
         "mode": "lines",
         "type": "scatter",
         "x": [
          -0.21874065182410288,
          -0.038399276125469936
         ],
         "y": [
          0.9173139322490603,
          -0.8589465139367477
         ]
        },
        {
         "line": {
          "color": "lightgray",
          "width": 1
         },
         "mode": "lines",
         "type": "scatter",
         "x": [
          -0.9739462100511188,
          0.2156727182715702
         ],
         "y": [
          0.15588962822060787,
          -0.7887235348795513
         ]
        },
        {
         "line": {
          "color": "lightgray",
          "width": 1
         },
         "mode": "lines",
         "type": "scatter",
         "x": [
          0.17286174615058908,
          0.5578103471991686
         ],
         "y": [
          0.6109180479784145,
          0.20540946402350227
         ]
        },
        {
         "line": {
          "color": "lightgray",
          "width": 1
         },
         "mode": "lines",
         "type": "scatter",
         "x": [
          -0.9151372576982943,
          0.7845701886498891
         ],
         "y": [
          0.15511979920707278,
          -0.4702501081521776
         ]
        },
        {
         "line": {
          "color": "darkblue",
          "width": 1
         },
         "mode": "lines",
         "type": "scatter",
         "x": [
          -0.9739462100511188,
          0.17286174615058908
         ],
         "y": [
          0.15588962822060787,
          0.6109180479784145
         ]
        },
        {
         "line": {
          "color": "lightgray",
          "width": 1
         },
         "mode": "lines",
         "type": "scatter",
         "x": [
          -0.5518346330746787,
          0.7848921790023624
         ],
         "y": [
          -0.20347522493435183,
          -0.2454827409792513
         ]
        },
        {
         "line": {
          "color": "darkblue",
          "width": 1
         },
         "mode": "lines",
         "type": "scatter",
         "x": [
          0.0856782687952649,
          -0.7605345776401973
         ],
         "y": [
          0.9124810295755442,
          0.28735490924116186
         ]
        },
        {
         "line": {
          "color": "darkblue",
          "width": 1
         },
         "mode": "lines",
         "type": "scatter",
         "x": [
          -0.9739462100511188,
          -0.5518346330746787
         ],
         "y": [
          0.15588962822060787,
          -0.20347522493435183
         ]
        },
        {
         "line": {
          "color": "darkblue",
          "width": 1
         },
         "mode": "lines",
         "type": "scatter",
         "x": [
          0.41841412245343573,
          -0.6004235446281904
         ],
         "y": [
          0.6013098799193504,
          0.6370991185146676
         ]
        },
        {
         "line": {
          "color": "darkblue",
          "width": 1
         },
         "mode": "lines",
         "type": "scatter",
         "x": [
          0.014910717236521208,
          0.821946468210322
         ],
         "y": [
          -0.7726759134396349,
          -0.5376566668384067
         ]
        },
        {
         "line": {
          "color": "lightgray",
          "width": 1
         },
         "mode": "lines",
         "type": "scatter",
         "x": [
          -0.7605345776401973,
          0.821946468210322
         ],
         "y": [
          0.28735490924116186,
          -0.5376566668384067
         ]
        },
        {
         "line": {
          "color": "lightgray",
          "width": 1
         },
         "mode": "lines",
         "type": "scatter",
         "x": [
          -0.6140937175337806,
          0.2156727182715702
         ],
         "y": [
          0.8892790315579895,
          -0.7887235348795513
         ]
        },
        {
         "line": {
          "color": "darkblue",
          "width": 1
         },
         "mode": "lines",
         "type": "scatter",
         "x": [
          0.2156727182715702,
          0.7903440977923845
         ],
         "y": [
          -0.7887235348795513,
          -0.5228755269922652
         ]
        },
        {
         "line": {
          "color": "lightgray",
          "width": 1
         },
         "mode": "lines",
         "type": "scatter",
         "x": [
          -0.8960744076451393,
          0.07578275185778272
         ],
         "y": [
          -0.12230556515037556,
          -0.7227296757790806
         ]
        },
        {
         "line": {
          "color": "lightgray",
          "width": 1
         },
         "mode": "lines",
         "type": "scatter",
         "x": [
          -0.7566061026918331,
          -0.08629914181214383
         ],
         "y": [
          0.7987976960830132,
          -0.9369339520980161
         ]
        },
        {
         "line": {
          "color": "lightgray",
          "width": 1
         },
         "mode": "lines",
         "type": "scatter",
         "x": [
          0.0856782687952649,
          0.7650494797310291
         ],
         "y": [
          0.9124810295755442,
          0.26190397562901585
         ]
        },
        {
         "line": {
          "color": "darkblue",
          "width": 1
         },
         "mode": "lines",
         "type": "scatter",
         "x": [
          0.7650494797310291,
          -0.3114456606027594
         ],
         "y": [
          0.26190397562901585,
          -0.6739529679071985
         ]
        },
        {
         "line": {
          "color": "lightgray",
          "width": 1
         },
         "mode": "lines",
         "type": "scatter",
         "x": [
          -0.7566061026918331,
          -0.038399276125469936
         ],
         "y": [
          0.7987976960830132,
          -0.8589465139367477
         ]
        },
        {
         "line": {
          "color": "darkblue",
          "width": 1
         },
         "mode": "lines",
         "type": "scatter",
         "x": [
          -0.7566061026918331,
          -0.6004235446281904
         ],
         "y": [
          0.7987976960830132,
          0.6370991185146676
         ]
        },
        {
         "line": {
          "color": "darkblue",
          "width": 1
         },
         "mode": "lines",
         "type": "scatter",
         "x": [
          0.6386071880364272,
          -0.08629914181214383
         ],
         "y": [
          0.13116385461911206,
          -0.9369339520980161
         ]
        },
        {
         "line": {
          "color": "lightgray",
          "width": 1
         },
         "mode": "lines",
         "type": "scatter",
         "x": [
          0.3341323589999464,
          0.9227817640400293
         ],
         "y": [
          0.6276510584927125,
          0.029458794541957063
         ]
        },
        {
         "line": {
          "color": "darkblue",
          "width": 1
         },
         "mode": "lines",
         "type": "scatter",
         "x": [
          0.0856782687952649,
          -0.3718304348748292
         ],
         "y": [
          0.9124810295755442,
          0.889405011839641
         ]
        },
        {
         "line": {
          "color": "darkblue",
          "width": 1
         },
         "mode": "lines",
         "type": "scatter",
         "x": [
          -0.08629914181214383,
          0.510738532629225
         ],
         "y": [
          -0.9369339520980161,
          -0.8112387243894809
         ]
        },
        {
         "line": {
          "color": "darkblue",
          "width": 1
         },
         "mode": "lines",
         "type": "scatter",
         "x": [
          -0.8960744076451393,
          -0.5518346330746787
         ],
         "y": [
          -0.12230556515037556,
          -0.20347522493435183
         ]
        },
        {
         "line": {
          "color": "lightgray",
          "width": 1
         },
         "mode": "lines",
         "type": "scatter",
         "x": [
          -0.9739462100511188,
          0.07578275185778272
         ],
         "y": [
          0.15588962822060787,
          -0.7227296757790806
         ]
        },
        {
         "line": {
          "color": "lightgray",
          "width": 1
         },
         "mode": "lines",
         "type": "scatter",
         "x": [
          0.41841412245343573,
          0.7903440977923845
         ],
         "y": [
          0.6013098799193504,
          -0.5228755269922652
         ]
        },
        {
         "line": {
          "color": "darkblue",
          "width": 1
         },
         "mode": "lines",
         "type": "scatter",
         "x": [
          0.07578275185778272,
          0.8231470249802241
         ],
         "y": [
          -0.7227296757790806,
          -0.33873032683507903
         ]
        },
        {
         "line": {
          "color": "lightgray",
          "width": 1
         },
         "mode": "lines",
         "type": "scatter",
         "x": [
          -0.4782468403548081,
          0.7845701886498891
         ],
         "y": [
          0.8192451596907109,
          -0.4702501081521776
         ]
        },
        {
         "line": {
          "color": "darkblue",
          "width": 1
         },
         "mode": "lines",
         "type": "scatter",
         "x": [
          0.07578275185778272,
          0.7845701886498891
         ],
         "y": [
          -0.7227296757790806,
          -0.4702501081521776
         ]
        },
        {
         "line": {
          "color": "darkblue",
          "width": 1
         },
         "mode": "lines",
         "type": "scatter",
         "x": [
          -0.6140937175337806,
          0.20122273875243868
         ],
         "y": [
          0.8892790315579895,
          1
         ]
        },
        {
         "line": {
          "color": "darkblue",
          "width": 1
         },
         "mode": "lines",
         "type": "scatter",
         "x": [
          0.7650494797310291,
          0.07578275185778272
         ],
         "y": [
          0.26190397562901585,
          -0.7227296757790806
         ]
        },
        {
         "line": {
          "color": "darkblue",
          "width": 1
         },
         "mode": "lines",
         "type": "scatter",
         "x": [
          0.9227817640400293,
          -0.08629914181214383
         ],
         "y": [
          0.029458794541957063,
          -0.9369339520980161
         ]
        },
        {
         "line": {
          "color": "lightgray",
          "width": 1
         },
         "mode": "lines",
         "type": "scatter",
         "x": [
          -0.21874065182410288,
          0.9227817640400293
         ],
         "y": [
          0.9173139322490603,
          0.029458794541957063
         ]
        },
        {
         "line": {
          "color": "lightgray",
          "width": 1
         },
         "mode": "lines",
         "type": "scatter",
         "x": [
          0.41841412245343573,
          0.7013791398643786
         ],
         "y": [
          0.6013098799193504,
          -0.594040447917239
         ]
        },
        {
         "line": {
          "color": "darkblue",
          "width": 1
         },
         "mode": "lines",
         "type": "scatter",
         "x": [
          -0.3718304348748292,
          -0.5518346330746787
         ],
         "y": [
          0.889405011839641,
          -0.20347522493435183
         ]
        },
        {
         "line": {
          "color": "lightgray",
          "width": 1
         },
         "mode": "lines",
         "type": "scatter",
         "x": [
          -0.9255085009862662,
          0.7848921790023624
         ],
         "y": [
          0.4156074772474138,
          -0.2454827409792513
         ]
        },
        {
         "line": {
          "color": "darkblue",
          "width": 1
         },
         "mode": "lines",
         "type": "scatter",
         "x": [
          -0.7605345776401973,
          -0.9255085009862662
         ],
         "y": [
          0.28735490924116186,
          0.4156074772474138
         ]
        },
        {
         "line": {
          "color": "lightgray",
          "width": 1
         },
         "mode": "lines",
         "type": "scatter",
         "x": [
          0.17286174615058908,
          0.821946468210322
         ],
         "y": [
          0.6109180479784145,
          -0.5376566668384067
         ]
        },
        {
         "line": {
          "color": "darkblue",
          "width": 1
         },
         "mode": "lines",
         "type": "scatter",
         "x": [
          -0.6140937175337806,
          -0.3718304348748292
         ],
         "y": [
          0.8892790315579895,
          0.889405011839641
         ]
        },
        {
         "line": {
          "color": "lightgray",
          "width": 1
         },
         "mode": "lines",
         "type": "scatter",
         "x": [
          -0.5518346330746787,
          0.7013791398643786
         ],
         "y": [
          -0.20347522493435183,
          -0.594040447917239
         ]
        },
        {
         "line": {
          "color": "darkblue",
          "width": 1
         },
         "mode": "lines",
         "type": "scatter",
         "x": [
          0.821946468210322,
          0.2156727182715702
         ],
         "y": [
          -0.5376566668384067,
          -0.7887235348795513
         ]
        },
        {
         "line": {
          "color": "lightgray",
          "width": 1
         },
         "mode": "lines",
         "type": "scatter",
         "x": [
          -0.9151372576982943,
          0.014910717236521208
         ],
         "y": [
          0.15511979920707278,
          -0.7726759134396349
         ]
        },
        {
         "line": {
          "color": "lightgray",
          "width": 1
         },
         "mode": "lines",
         "type": "scatter",
         "x": [
          -0.7082756557903018,
          0.8231470249802241
         ],
         "y": [
          0.6253190923496244,
          -0.33873032683507903
         ]
        },
        {
         "line": {
          "color": "darkblue",
          "width": 1
         },
         "mode": "lines",
         "type": "scatter",
         "x": [
          0.6108745154405566,
          0.5578103471991686
         ],
         "y": [
          -0.5733676800755454,
          0.20540946402350227
         ]
        },
        {
         "line": {
          "color": "darkblue",
          "width": 1
         },
         "mode": "lines",
         "type": "scatter",
         "x": [
          0.7650494797310291,
          -0.13617797378549315
         ],
         "y": [
          0.26190397562901585,
          -0.6677698899093224
         ]
        },
        {
         "line": {
          "color": "lightgray",
          "width": 1
         },
         "mode": "lines",
         "type": "scatter",
         "x": [
          -0.5518346330746787,
          0.8231470249802241
         ],
         "y": [
          -0.20347522493435183,
          -0.33873032683507903
         ]
        },
        {
         "line": {
          "color": "lightgray",
          "width": 1
         },
         "mode": "lines",
         "type": "scatter",
         "x": [
          0.3341323589999464,
          -0.3114456606027594
         ],
         "y": [
          0.6276510584927125,
          -0.6739529679071985
         ]
        },
        {
         "line": {
          "color": "darkblue",
          "width": 1
         },
         "mode": "lines",
         "type": "scatter",
         "x": [
          0.41841412245343573,
          -0.9255085009862662
         ],
         "y": [
          0.6013098799193504,
          0.4156074772474138
         ]
        },
        {
         "line": {
          "color": "lightgray",
          "width": 1
         },
         "mode": "lines",
         "type": "scatter",
         "x": [
          -0.5518346330746787,
          0.8231470249802241
         ],
         "y": [
          -0.20347522493435183,
          -0.33873032683507903
         ]
        },
        {
         "line": {
          "color": "darkblue",
          "width": 1
         },
         "mode": "lines",
         "type": "scatter",
         "x": [
          0.7650494797310291,
          0.510738532629225
         ],
         "y": [
          0.26190397562901585,
          -0.8112387243894809
         ]
        },
        {
         "line": {
          "color": "lightgray",
          "width": 1
         },
         "mode": "lines",
         "type": "scatter",
         "x": [
          -0.8960744076451393,
          0.510738532629225
         ],
         "y": [
          -0.12230556515037556,
          -0.8112387243894809
         ]
        },
        {
         "line": {
          "color": "lightgray",
          "width": 1
         },
         "mode": "lines",
         "type": "scatter",
         "x": [
          -0.8960744076451393,
          0.7845701886498891
         ],
         "y": [
          -0.12230556515037556,
          -0.4702501081521776
         ]
        },
        {
         "line": {
          "color": "lightgray",
          "width": 1
         },
         "mode": "lines",
         "type": "scatter",
         "x": [
          -0.6140937175337806,
          0.7903440977923845
         ],
         "y": [
          0.8892790315579895,
          -0.5228755269922652
         ]
        },
        {
         "line": {
          "color": "darkblue",
          "width": 1
         },
         "mode": "lines",
         "type": "scatter",
         "x": [
          -0.6140937175337806,
          -0.5518346330746787
         ],
         "y": [
          0.8892790315579895,
          -0.20347522493435183
         ]
        },
        {
         "line": {
          "color": "darkblue",
          "width": 1
         },
         "mode": "lines",
         "type": "scatter",
         "x": [
          0.3341323589999464,
          -0.8569137617363639
         ],
         "y": [
          0.6276510584927125,
          0.27702130549198284
         ]
        },
        {
         "line": {
          "color": "lightgray",
          "width": 1
         },
         "mode": "lines",
         "type": "scatter",
         "x": [
          -0.7082756557903018,
          0.9227817640400293
         ],
         "y": [
          0.6253190923496244,
          0.029458794541957063
         ]
        },
        {
         "line": {
          "color": "darkblue",
          "width": 1
         },
         "mode": "lines",
         "type": "scatter",
         "x": [
          -0.6004235446281904,
          -0.8165996085805034
         ],
         "y": [
          0.6370991185146676,
          0.5807746769754708
         ]
        },
        {
         "line": {
          "color": "darkblue",
          "width": 1
         },
         "mode": "lines",
         "type": "scatter",
         "x": [
          -0.8960744076451393,
          -0.9255085009862662
         ],
         "y": [
          -0.12230556515037556,
          0.4156074772474138
         ]
        },
        {
         "line": {
          "color": "darkblue",
          "width": 1
         },
         "mode": "lines",
         "type": "scatter",
         "x": [
          -0.8960744076451393,
          -0.8165996085805034
         ],
         "y": [
          -0.12230556515037556,
          0.5807746769754708
         ]
        },
        {
         "line": {
          "color": "lightgray",
          "width": 1
         },
         "mode": "lines",
         "type": "scatter",
         "x": [
          -0.6004235446281904,
          -0.278231951866899
         ],
         "y": [
          0.6370991185146676,
          -0.4788627466713346
         ]
        },
        {
         "line": {
          "color": "lightgray",
          "width": 1
         },
         "mode": "lines",
         "type": "scatter",
         "x": [
          -0.7082756557903018,
          0.7903440977923845
         ],
         "y": [
          0.6253190923496244,
          -0.5228755269922652
         ]
        },
        {
         "line": {
          "color": "darkblue",
          "width": 1
         },
         "mode": "lines",
         "type": "scatter",
         "x": [
          0.41841412245343573,
          -0.8165996085805034
         ],
         "y": [
          0.6013098799193504,
          0.5807746769754708
         ]
        },
        {
         "line": {
          "color": "darkblue",
          "width": 1
         },
         "mode": "lines",
         "type": "scatter",
         "x": [
          -0.9739462100511188,
          -0.6004235446281904
         ],
         "y": [
          0.15588962822060787,
          0.6370991185146676
         ]
        },
        {
         "line": {
          "color": "lightgray",
          "width": 1
         },
         "mode": "lines",
         "type": "scatter",
         "x": [
          -0.8960744076451393,
          0.6108745154405566
         ],
         "y": [
          -0.12230556515037556,
          -0.5733676800755454
         ]
        },
        {
         "line": {
          "color": "darkblue",
          "width": 1
         },
         "mode": "lines",
         "type": "scatter",
         "x": [
          0.7848921790023624,
          -0.13617797378549315
         ],
         "y": [
          -0.2454827409792513,
          -0.6677698899093224
         ]
        },
        {
         "line": {
          "color": "lightgray",
          "width": 1
         },
         "mode": "lines",
         "type": "scatter",
         "x": [
          -0.8569137617363639,
          0.821946468210322
         ],
         "y": [
          0.27702130549198284,
          -0.5376566668384067
         ]
        },
        {
         "line": {
          "color": "lightgray",
          "width": 1
         },
         "mode": "lines",
         "type": "scatter",
         "x": [
          -0.7566061026918331,
          0.07578275185778272
         ],
         "y": [
          0.7987976960830132,
          -0.7227296757790806
         ]
        },
        {
         "line": {
          "color": "darkblue",
          "width": 1
         },
         "mode": "lines",
         "type": "scatter",
         "x": [
          0.20122273875243868,
          -0.9151372576982943
         ],
         "y": [
          1,
          0.15511979920707278
         ]
        },
        {
         "line": {
          "color": "darkblue",
          "width": 1
         },
         "mode": "lines",
         "type": "scatter",
         "x": [
          0.5578103471991686,
          -0.3114456606027594
         ],
         "y": [
          0.20540946402350227,
          -0.6739529679071985
         ]
        },
        {
         "line": {
          "color": "lightgray",
          "width": 1
         },
         "mode": "lines",
         "type": "scatter",
         "x": [
          -0.8165996085805034,
          0.6108745154405566
         ],
         "y": [
          0.5807746769754708,
          -0.5733676800755454
         ]
        },
        {
         "line": {
          "color": "darkblue",
          "width": 1
         },
         "mode": "lines",
         "type": "scatter",
         "x": [
          -0.5518346330746787,
          -0.5518346330746787
         ],
         "y": [
          -0.20347522493435183,
          -0.20347522493435183
         ]
        },
        {
         "line": {
          "color": "lightgray",
          "width": 1
         },
         "mode": "lines",
         "type": "scatter",
         "x": [
          0.20122273875243868,
          0.6108745154405566
         ],
         "y": [
          1,
          -0.5733676800755454
         ]
        },
        {
         "line": {
          "color": "lightgray",
          "width": 1
         },
         "mode": "lines",
         "type": "scatter",
         "x": [
          -0.8569137617363639,
          0.7013791398643786
         ],
         "y": [
          0.27702130549198284,
          -0.594040447917239
         ]
        },
        {
         "line": {
          "color": "darkblue",
          "width": 1
         },
         "mode": "lines",
         "type": "scatter",
         "x": [
          -0.9739462100511188,
          0.20122273875243868
         ],
         "y": [
          0.15588962822060787,
          1
         ]
        },
        {
         "line": {
          "color": "lightgray",
          "width": 1
         },
         "mode": "lines",
         "type": "scatter",
         "x": [
          -0.7605345776401973,
          0.8231470249802241
         ],
         "y": [
          0.28735490924116186,
          -0.33873032683507903
         ]
        },
        {
         "line": {
          "color": "lightgray",
          "width": 1
         },
         "mode": "lines",
         "type": "scatter",
         "x": [
          0.20122273875243868,
          0.8231470249802241
         ],
         "y": [
          1,
          -0.33873032683507903
         ]
        },
        {
         "line": {
          "color": "darkblue",
          "width": 1
         },
         "mode": "lines",
         "type": "scatter",
         "x": [
          0.014910717236521208,
          0.7314587219711344
         ],
         "y": [
          -0.7726759134396349,
          -0.6744984707757519
         ]
        },
        {
         "line": {
          "color": "lightgray",
          "width": 1
         },
         "mode": "lines",
         "type": "scatter",
         "x": [
          -0.8165996085805034,
          0.7650494797310291
         ],
         "y": [
          0.5807746769754708,
          0.26190397562901585
         ]
        },
        {
         "line": {
          "color": "lightgray",
          "width": 1
         },
         "mode": "lines",
         "type": "scatter",
         "x": [
          0.0856782687952649,
          0.7848921790023624
         ],
         "y": [
          0.9124810295755442,
          -0.2454827409792513
         ]
        },
        {
         "line": {
          "color": "darkblue",
          "width": 1
         },
         "mode": "lines",
         "type": "scatter",
         "x": [
          -0.7082756557903018,
          -0.5518346330746787
         ],
         "y": [
          0.6253190923496244,
          -0.20347522493435183
         ]
        },
        {
         "line": {
          "color": "darkblue",
          "width": 1
         },
         "mode": "lines",
         "type": "scatter",
         "x": [
          0.2156727182715702,
          0.9227817640400293
         ],
         "y": [
          -0.7887235348795513,
          0.029458794541957063
         ]
        },
        {
         "line": {
          "color": "darkblue",
          "width": 1
         },
         "mode": "lines",
         "type": "scatter",
         "x": [
          0.8231470249802241,
          -0.08629914181214383
         ],
         "y": [
          -0.33873032683507903,
          -0.9369339520980161
         ]
        },
        {
         "line": {
          "color": "lightgray",
          "width": 1
         },
         "mode": "lines",
         "type": "scatter",
         "x": [
          -0.8960744076451393,
          0.3330448392384936
         ],
         "y": [
          -0.12230556515037556,
          -0.8340062657872137
         ]
        },
        {
         "line": {
          "color": "lightgray",
          "width": 1
         },
         "mode": "lines",
         "type": "scatter",
         "x": [
          -0.6140937175337806,
          -0.278231951866899
         ],
         "y": [
          0.8892790315579895,
          -0.4788627466713346
         ]
        },
        {
         "line": {
          "color": "lightgray",
          "width": 1
         },
         "mode": "lines",
         "type": "scatter",
         "x": [
          -0.4782468403548081,
          0.821946468210322
         ],
         "y": [
          0.8192451596907109,
          -0.5376566668384067
         ]
        },
        {
         "line": {
          "color": "lightgray",
          "width": 1
         },
         "mode": "lines",
         "type": "scatter",
         "x": [
          -0.21874065182410288,
          0.7903440977923845
         ],
         "y": [
          0.9173139322490603,
          -0.5228755269922652
         ]
        },
        {
         "line": {
          "color": "lightgray",
          "width": 1
         },
         "mode": "lines",
         "type": "scatter",
         "x": [
          -0.21874065182410288,
          -0.278231951866899
         ],
         "y": [
          0.9173139322490603,
          -0.4788627466713346
         ]
        },
        {
         "line": {
          "color": "darkblue",
          "width": 1
         },
         "mode": "lines",
         "type": "scatter",
         "x": [
          -0.3718304348748292,
          -0.8569137617363639
         ],
         "y": [
          0.889405011839641,
          0.27702130549198284
         ]
        },
        {
         "line": {
          "color": "lightgray",
          "width": 1
         },
         "mode": "lines",
         "type": "scatter",
         "x": [
          -0.4782468403548081,
          0.014910717236521208
         ],
         "y": [
          0.8192451596907109,
          -0.7726759134396349
         ]
        },
        {
         "line": {
          "color": "lightgray",
          "width": 1
         },
         "mode": "lines",
         "type": "scatter",
         "x": [
          -0.4782468403548081,
          0.2156727182715702
         ],
         "y": [
          0.8192451596907109,
          -0.7887235348795513
         ]
        },
        {
         "line": {
          "color": "lightgray",
          "width": 1
         },
         "mode": "lines",
         "type": "scatter",
         "x": [
          0.3341323589999464,
          0.7845701886498891
         ],
         "y": [
          0.6276510584927125,
          -0.4702501081521776
         ]
        },
        {
         "line": {
          "color": "lightgray",
          "width": 1
         },
         "mode": "lines",
         "type": "scatter",
         "x": [
          -0.3718304348748292,
          -0.038399276125469936
         ],
         "y": [
          0.889405011839641,
          -0.8589465139367477
         ]
        },
        {
         "line": {
          "color": "darkblue",
          "width": 1
         },
         "mode": "lines",
         "type": "scatter",
         "x": [
          -0.4782468403548081,
          -0.3718304348748292
         ],
         "y": [
          0.8192451596907109,
          0.889405011839641
         ]
        },
        {
         "line": {
          "color": "lightgray",
          "width": 1
         },
         "mode": "lines",
         "type": "scatter",
         "x": [
          -0.21874065182410288,
          0.5578103471991686
         ],
         "y": [
          0.9173139322490603,
          0.20540946402350227
         ]
        },
        {
         "line": {
          "color": "darkblue",
          "width": 1
         },
         "mode": "lines",
         "type": "scatter",
         "x": [
          -0.4782468403548081,
          -0.6004235446281904
         ],
         "y": [
          0.8192451596907109,
          0.6370991185146676
         ]
        },
        {
         "line": {
          "color": "lightgray",
          "width": 1
         },
         "mode": "lines",
         "type": "scatter",
         "x": [
          0.17286174615058908,
          0.6386071880364272
         ],
         "y": [
          0.6109180479784145,
          0.13116385461911206
         ]
        },
        {
         "line": {
          "color": "darkblue",
          "width": 1
         },
         "mode": "lines",
         "type": "scatter",
         "x": [
          -0.3114456606027594,
          0.7903440977923845
         ],
         "y": [
          -0.6739529679071985,
          -0.5228755269922652
         ]
        },
        {
         "line": {
          "color": "darkblue",
          "width": 1
         },
         "mode": "lines",
         "type": "scatter",
         "x": [
          0.821946468210322,
          -0.278231951866899
         ],
         "y": [
          -0.5376566668384067,
          -0.4788627466713346
         ]
        },
        {
         "line": {
          "color": "darkblue",
          "width": 1
         },
         "mode": "lines",
         "type": "scatter",
         "x": [
          0.2156727182715702,
          -0.278231951866899
         ],
         "y": [
          -0.7887235348795513,
          -0.4788627466713346
         ]
        },
        {
         "line": {
          "color": "darkblue",
          "width": 1
         },
         "mode": "lines",
         "type": "scatter",
         "x": [
          0.07578275185778272,
          0.7013791398643786
         ],
         "y": [
          -0.7227296757790806,
          -0.594040447917239
         ]
        },
        {
         "line": {
          "color": "lightgray",
          "width": 1
         },
         "mode": "lines",
         "type": "scatter",
         "x": [
          -0.9151372576982943,
          0.8231470249802241
         ],
         "y": [
          0.15511979920707278,
          -0.33873032683507903
         ]
        },
        {
         "line": {
          "color": "lightgray",
          "width": 1
         },
         "mode": "lines",
         "type": "scatter",
         "x": [
          -0.8569137617363639,
          0.6108745154405566
         ],
         "y": [
          0.27702130549198284,
          -0.5733676800755454
         ]
        },
        {
         "line": {
          "color": "darkblue",
          "width": 1
         },
         "mode": "lines",
         "type": "scatter",
         "x": [
          -0.4782468403548081,
          -0.5518346330746787
         ],
         "y": [
          0.8192451596907109,
          -0.20347522493435183
         ]
        },
        {
         "line": {
          "color": "darkblue",
          "width": 1
         },
         "mode": "lines",
         "type": "scatter",
         "x": [
          0.41841412245343573,
          -0.5518346330746787
         ],
         "y": [
          0.6013098799193504,
          -0.20347522493435183
         ]
        },
        {
         "line": {
          "color": "lightgray",
          "width": 1
         },
         "mode": "lines",
         "type": "scatter",
         "x": [
          -0.3718304348748292,
          0.014910717236521208
         ],
         "y": [
          0.889405011839641,
          -0.7726759134396349
         ]
        },
        {
         "line": {
          "color": "darkblue",
          "width": 1
         },
         "mode": "lines",
         "type": "scatter",
         "x": [
          0.9227817640400293,
          0.510738532629225
         ],
         "y": [
          0.029458794541957063,
          -0.8112387243894809
         ]
        },
        {
         "line": {
          "color": "darkblue",
          "width": 1
         },
         "mode": "lines",
         "type": "scatter",
         "x": [
          -0.6140937175337806,
          -0.4782468403548081
         ],
         "y": [
          0.8892790315579895,
          0.8192451596907109
         ]
        },
        {
         "line": {
          "color": "lightgray",
          "width": 1
         },
         "mode": "lines",
         "type": "scatter",
         "x": [
          0.41841412245343573,
          -0.13617797378549315
         ],
         "y": [
          0.6013098799193504,
          -0.6677698899093224
         ]
        },
        {
         "line": {
          "color": "lightgray",
          "width": 1
         },
         "mode": "lines",
         "type": "scatter",
         "x": [
          0.17286174615058908,
          0.014910717236521208
         ],
         "y": [
          0.6109180479784145,
          -0.7726759134396349
         ]
        },
        {
         "line": {
          "color": "darkblue",
          "width": 1
         },
         "mode": "lines",
         "type": "scatter",
         "x": [
          -0.9739462100511188,
          -0.7082756557903018
         ],
         "y": [
          0.15588962822060787,
          0.6253190923496244
         ]
        },
        {
         "line": {
          "color": "lightgray",
          "width": 1
         },
         "mode": "lines",
         "type": "scatter",
         "x": [
          0.3341323589999464,
          -0.278231951866899
         ],
         "y": [
          0.6276510584927125,
          -0.4788627466713346
         ]
        },
        {
         "line": {
          "color": "darkblue",
          "width": 1
         },
         "mode": "lines",
         "type": "scatter",
         "x": [
          0.8231470249802241,
          0.7314587219711344
         ],
         "y": [
          -0.33873032683507903,
          -0.6744984707757519
         ]
        },
        {
         "line": {
          "color": "darkblue",
          "width": 1
         },
         "mode": "lines",
         "type": "scatter",
         "x": [
          -0.278231951866899,
          -0.08629914181214383
         ],
         "y": [
          -0.4788627466713346,
          -0.9369339520980161
         ]
        },
        {
         "line": {
          "color": "darkblue",
          "width": 1
         },
         "mode": "lines",
         "type": "scatter",
         "x": [
          0.014910717236521208,
          0.7650494797310291
         ],
         "y": [
          -0.7726759134396349,
          0.26190397562901585
         ]
        },
        {
         "line": {
          "color": "darkblue",
          "width": 1
         },
         "mode": "lines",
         "type": "scatter",
         "x": [
          -0.4782468403548081,
          -0.7605345776401973
         ],
         "y": [
          0.8192451596907109,
          0.28735490924116186
         ]
        },
        {
         "line": {
          "color": "darkblue",
          "width": 1
         },
         "mode": "lines",
         "type": "scatter",
         "x": [
          0.3341323589999464,
          -0.5518346330746787
         ],
         "y": [
          0.6276510584927125,
          -0.20347522493435183
         ]
        },
        {
         "line": {
          "color": "darkblue",
          "width": 1
         },
         "mode": "lines",
         "type": "scatter",
         "x": [
          -0.9739462100511188,
          -0.9151372576982943
         ],
         "y": [
          0.15588962822060787,
          0.15511979920707278
         ]
        },
        {
         "line": {
          "color": "lightgray",
          "width": 1
         },
         "mode": "lines",
         "type": "scatter",
         "x": [
          -0.3718304348748292,
          0.7903440977923845
         ],
         "y": [
          0.889405011839641,
          -0.5228755269922652
         ]
        },
        {
         "line": {
          "color": "lightgray",
          "width": 1
         },
         "mode": "lines",
         "type": "scatter",
         "x": [
          -0.9151372576982943,
          0.9227817640400293
         ],
         "y": [
          0.15511979920707278,
          0.029458794541957063
         ]
        },
        {
         "line": {
          "color": "darkblue",
          "width": 1
         },
         "mode": "lines",
         "type": "scatter",
         "x": [
          0.8231470249802241,
          0.9227817640400293
         ],
         "y": [
          -0.33873032683507903,
          0.029458794541957063
         ]
        },
        {
         "line": {
          "color": "darkblue",
          "width": 1
         },
         "mode": "lines",
         "type": "scatter",
         "x": [
          0.7013791398643786,
          0.7848921790023624
         ],
         "y": [
          -0.594040447917239,
          -0.2454827409792513
         ]
        },
        {
         "line": {
          "color": "darkblue",
          "width": 1
         },
         "mode": "lines",
         "type": "scatter",
         "x": [
          -0.9739462100511188,
          -0.8569137617363639
         ],
         "y": [
          0.15588962822060787,
          0.27702130549198284
         ]
        },
        {
         "line": {
          "color": "darkblue",
          "width": 1
         },
         "mode": "lines",
         "type": "scatter",
         "x": [
          -0.3718304348748292,
          -0.6004235446281904
         ],
         "y": [
          0.889405011839641,
          0.6370991185146676
         ]
        },
        {
         "line": {
          "color": "darkblue",
          "width": 1
         },
         "mode": "lines",
         "type": "scatter",
         "x": [
          0.6386071880364272,
          -0.038399276125469936
         ],
         "y": [
          0.13116385461911206,
          -0.8589465139367477
         ]
        },
        {
         "line": {
          "color": "darkblue",
          "width": 1
         },
         "mode": "lines",
         "type": "scatter",
         "x": [
          0.7650494797310291,
          -0.08629914181214383
         ],
         "y": [
          0.26190397562901585,
          -0.9369339520980161
         ]
        },
        {
         "line": {
          "color": "darkblue",
          "width": 1
         },
         "mode": "lines",
         "type": "scatter",
         "x": [
          0.6108745154405566,
          0.7848921790023624
         ],
         "y": [
          -0.5733676800755454,
          -0.2454827409792513
         ]
        },
        {
         "line": {
          "color": "lightgray",
          "width": 1
         },
         "mode": "lines",
         "type": "scatter",
         "x": [
          -0.8960744076451393,
          0.7903440977923845
         ],
         "y": [
          -0.12230556515037556,
          -0.5228755269922652
         ]
        },
        {
         "line": {
          "color": "darkblue",
          "width": 1
         },
         "mode": "lines",
         "type": "scatter",
         "x": [
          -0.7082756557903018,
          -0.6004235446281904
         ],
         "y": [
          0.6253190923496244,
          0.6370991185146676
         ]
        },
        {
         "line": {
          "color": "lightgray",
          "width": 1
         },
         "mode": "lines",
         "type": "scatter",
         "x": [
          -0.8165996085805034,
          -0.278231951866899
         ],
         "y": [
          0.5807746769754708,
          -0.4788627466713346
         ]
        },
        {
         "line": {
          "color": "lightgray",
          "width": 1
         },
         "mode": "lines",
         "type": "scatter",
         "x": [
          0.17286174615058908,
          0.8231470249802241
         ],
         "y": [
          0.6109180479784145,
          -0.33873032683507903
         ]
        },
        {
         "line": {
          "color": "lightgray",
          "width": 1
         },
         "mode": "lines",
         "type": "scatter",
         "x": [
          -0.8569137617363639,
          0.7314587219711344
         ],
         "y": [
          0.27702130549198284,
          -0.6744984707757519
         ]
        },
        {
         "line": {
          "color": "darkblue",
          "width": 1
         },
         "mode": "lines",
         "type": "scatter",
         "x": [
          0.41841412245343573,
          -0.8569137617363639
         ],
         "y": [
          0.6013098799193504,
          0.27702130549198284
         ]
        },
        {
         "line": {
          "color": "darkblue",
          "width": 1
         },
         "mode": "lines",
         "type": "scatter",
         "x": [
          0.41841412245343573,
          -0.9739462100511188
         ],
         "y": [
          0.6013098799193504,
          0.15588962822060787
         ]
        },
        {
         "line": {
          "color": "darkblue",
          "width": 1
         },
         "mode": "lines",
         "type": "scatter",
         "x": [
          -0.3114456606027594,
          -0.13617797378549315
         ],
         "y": [
          -0.6739529679071985,
          -0.6677698899093224
         ]
        },
        {
         "line": {
          "color": "darkblue",
          "width": 1
         },
         "mode": "lines",
         "type": "scatter",
         "x": [
          -0.7082756557903018,
          -0.5518346330746787
         ],
         "y": [
          0.6253190923496244,
          -0.20347522493435183
         ]
        },
        {
         "line": {
          "color": "darkblue",
          "width": 1
         },
         "mode": "lines",
         "type": "scatter",
         "x": [
          -0.21874065182410288,
          -0.7605345776401973
         ],
         "y": [
          0.9173139322490603,
          0.28735490924116186
         ]
        },
        {
         "line": {
          "color": "darkblue",
          "width": 1
         },
         "mode": "lines",
         "type": "scatter",
         "x": [
          0.014910717236521208,
          0.7013791398643786
         ],
         "y": [
          -0.7726759134396349,
          -0.594040447917239
         ]
        },
        {
         "line": {
          "color": "lightgray",
          "width": 1
         },
         "mode": "lines",
         "type": "scatter",
         "x": [
          -0.9255085009862662,
          -0.13617797378549315
         ],
         "y": [
          0.4156074772474138,
          -0.6677698899093224
         ]
        },
        {
         "line": {
          "color": "lightgray",
          "width": 1
         },
         "mode": "lines",
         "type": "scatter",
         "x": [
          -0.9151372576982943,
          0.3330448392384936
         ],
         "y": [
          0.15511979920707278,
          -0.8340062657872137
         ]
        },
        {
         "line": {
          "color": "darkblue",
          "width": 1
         },
         "mode": "lines",
         "type": "scatter",
         "x": [
          -0.3718304348748292,
          -0.9255085009862662
         ],
         "y": [
          0.889405011839641,
          0.4156074772474138
         ]
        },
        {
         "line": {
          "color": "lightgray",
          "width": 1
         },
         "mode": "lines",
         "type": "scatter",
         "x": [
          -0.7566061026918331,
          0.7650494797310291
         ],
         "y": [
          0.7987976960830132,
          0.26190397562901585
         ]
        },
        {
         "line": {
          "color": "darkblue",
          "width": 1
         },
         "mode": "lines",
         "type": "scatter",
         "x": [
          -0.9739462100511188,
          -0.7605345776401973
         ],
         "y": [
          0.15588962822060787,
          0.28735490924116186
         ]
        },
        {
         "line": {
          "color": "darkblue",
          "width": 1
         },
         "mode": "lines",
         "type": "scatter",
         "x": [
          -0.6004235446281904,
          -0.9151372576982943
         ],
         "y": [
          0.6370991185146676,
          0.15511979920707278
         ]
        },
        {
         "line": {
          "color": "darkblue",
          "width": 1
         },
         "mode": "lines",
         "type": "scatter",
         "x": [
          0.3330448392384936,
          0.5578103471991686
         ],
         "y": [
          -0.8340062657872137,
          0.20540946402350227
         ]
        },
        {
         "line": {
          "color": "darkblue",
          "width": 1
         },
         "mode": "lines",
         "type": "scatter",
         "x": [
          0.17286174615058908,
          -0.9151372576982943
         ],
         "y": [
          0.6109180479784145,
          0.15511979920707278
         ]
        },
        {
         "line": {
          "color": "lightgray",
          "width": 1
         },
         "mode": "lines",
         "type": "scatter",
         "x": [
          0.20122273875243868,
          -0.038399276125469936
         ],
         "y": [
          1,
          -0.8589465139367477
         ]
        },
        {
         "line": {
          "color": "darkblue",
          "width": 1
         },
         "mode": "lines",
         "type": "scatter",
         "x": [
          0.41841412245343573,
          -0.3718304348748292
         ],
         "y": [
          0.6013098799193504,
          0.889405011839641
         ]
        },
        {
         "line": {
          "color": "darkblue",
          "width": 1
         },
         "mode": "lines",
         "type": "scatter",
         "x": [
          -0.7082756557903018,
          -0.8165996085805034
         ],
         "y": [
          0.6253190923496244,
          0.5807746769754708
         ]
        },
        {
         "line": {
          "color": "lightgray",
          "width": 1
         },
         "mode": "lines",
         "type": "scatter",
         "x": [
          0.41841412245343573,
          0.7650494797310291
         ],
         "y": [
          0.6013098799193504,
          0.26190397562901585
         ]
        },
        {
         "line": {
          "color": "darkblue",
          "width": 1
         },
         "mode": "lines",
         "type": "scatter",
         "x": [
          -0.8960744076451393,
          0.20122273875243868
         ],
         "y": [
          -0.12230556515037556,
          1
         ]
        },
        {
         "line": {
          "color": "lightgray",
          "width": 1
         },
         "mode": "lines",
         "type": "scatter",
         "x": [
          -0.7566061026918331,
          0.014910717236521208
         ],
         "y": [
          0.7987976960830132,
          -0.7726759134396349
         ]
        },
        {
         "line": {
          "color": "lightgray",
          "width": 1
         },
         "mode": "lines",
         "type": "scatter",
         "x": [
          -0.7605345776401973,
          0.6386071880364272
         ],
         "y": [
          0.28735490924116186,
          0.13116385461911206
         ]
        },
        {
         "line": {
          "color": "darkblue",
          "width": 1
         },
         "mode": "lines",
         "type": "scatter",
         "x": [
          0.6108745154405566,
          0.2156727182715702
         ],
         "y": [
          -0.5733676800755454,
          -0.7887235348795513
         ]
        },
        {
         "line": {
          "color": "darkblue",
          "width": 1
         },
         "mode": "lines",
         "type": "scatter",
         "x": [
          0.5578103471991686,
          0.7903440977923845
         ],
         "y": [
          0.20540946402350227,
          -0.5228755269922652
         ]
        },
        {
         "line": {
          "color": "lightgray",
          "width": 1
         },
         "mode": "lines",
         "type": "scatter",
         "x": [
          0.20122273875243868,
          -0.278231951866899
         ],
         "y": [
          1,
          -0.4788627466713346
         ]
        },
        {
         "line": {
          "color": "lightgray",
          "width": 1
         },
         "mode": "lines",
         "type": "scatter",
         "x": [
          0.17286174615058908,
          -0.278231951866899
         ],
         "y": [
          0.6109180479784145,
          -0.4788627466713346
         ]
        },
        {
         "line": {
          "color": "lightgray",
          "width": 1
         },
         "mode": "lines",
         "type": "scatter",
         "x": [
          0.3341323589999464,
          0.7013791398643786
         ],
         "y": [
          0.6276510584927125,
          -0.594040447917239
         ]
        },
        {
         "line": {
          "color": "darkblue",
          "width": 1
         },
         "mode": "lines",
         "type": "scatter",
         "x": [
          0.8231470249802241,
          0.6386071880364272
         ],
         "y": [
          -0.33873032683507903,
          0.13116385461911206
         ]
        },
        {
         "line": {
          "color": "darkblue",
          "width": 1
         },
         "mode": "lines",
         "type": "scatter",
         "x": [
          0.7013791398643786,
          -0.08629914181214383
         ],
         "y": [
          -0.594040447917239,
          -0.9369339520980161
         ]
        },
        {
         "line": {
          "color": "lightgray",
          "width": 1
         },
         "mode": "lines",
         "type": "scatter",
         "x": [
          0.20122273875243868,
          0.7650494797310291
         ],
         "y": [
          1,
          0.26190397562901585
         ]
        },
        {
         "line": {
          "color": "lightgray",
          "width": 1
         },
         "mode": "lines",
         "type": "scatter",
         "x": [
          -0.9739462100511188,
          0.7903440977923845
         ],
         "y": [
          0.15588962822060787,
          -0.5228755269922652
         ]
        },
        {
         "line": {
          "color": "darkblue",
          "width": 1
         },
         "mode": "lines",
         "type": "scatter",
         "x": [
          -0.9151372576982943,
          -0.5518346330746787
         ],
         "y": [
          0.15511979920707278,
          -0.20347522493435183
         ]
        },
        {
         "line": {
          "color": "lightgray",
          "width": 1
         },
         "mode": "lines",
         "type": "scatter",
         "x": [
          0.3341323589999464,
          -0.08629914181214383
         ],
         "y": [
          0.6276510584927125,
          -0.9369339520980161
         ]
        },
        {
         "line": {
          "color": "lightgray",
          "width": 1
         },
         "mode": "lines",
         "type": "scatter",
         "x": [
          -0.7566061026918331,
          -0.3114456606027594
         ],
         "y": [
          0.7987976960830132,
          -0.6739529679071985
         ]
        },
        {
         "line": {
          "color": "darkblue",
          "width": 1
         },
         "mode": "lines",
         "type": "scatter",
         "x": [
          -0.4782468403548081,
          0.3341323589999464
         ],
         "y": [
          0.8192451596907109,
          0.6276510584927125
         ]
        },
        {
         "line": {
          "color": "lightgray",
          "width": 1
         },
         "mode": "lines",
         "type": "scatter",
         "x": [
          -0.21874065182410288,
          0.821946468210322
         ],
         "y": [
          0.9173139322490603,
          -0.5376566668384067
         ]
        },
        {
         "line": {
          "color": "lightgray",
          "width": 1
         },
         "mode": "lines",
         "type": "scatter",
         "x": [
          -0.9151372576982943,
          0.7848921790023624
         ],
         "y": [
          0.15511979920707278,
          -0.2454827409792513
         ]
        },
        {
         "line": {
          "color": "lightgray",
          "width": 1
         },
         "mode": "lines",
         "type": "scatter",
         "x": [
          -0.8569137617363639,
          -0.3114456606027594
         ],
         "y": [
          0.27702130549198284,
          -0.6739529679071985
         ]
        },
        {
         "line": {
          "color": "darkblue",
          "width": 1
         },
         "mode": "lines",
         "type": "scatter",
         "x": [
          0.7013791398643786,
          -0.13617797378549315
         ],
         "y": [
          -0.594040447917239,
          -0.6677698899093224
         ]
        },
        {
         "line": {
          "color": "darkblue",
          "width": 1
         },
         "mode": "lines",
         "type": "scatter",
         "x": [
          -0.6004235446281904,
          -0.5518346330746787
         ],
         "y": [
          0.6370991185146676,
          -0.20347522493435183
         ]
        },
        {
         "line": {
          "color": "lightgray",
          "width": 1
         },
         "mode": "lines",
         "type": "scatter",
         "x": [
          -0.9739462100511188,
          0.7650494797310291
         ],
         "y": [
          0.15588962822060787,
          0.26190397562901585
         ]
        },
        {
         "line": {
          "color": "darkblue",
          "width": 1
         },
         "mode": "lines",
         "type": "scatter",
         "x": [
          0.07578275185778272,
          0.6386071880364272
         ],
         "y": [
          -0.7227296757790806,
          0.13116385461911206
         ]
        },
        {
         "line": {
          "color": "darkblue",
          "width": 1
         },
         "mode": "lines",
         "type": "scatter",
         "x": [
          0.8231470249802241,
          0.821946468210322
         ],
         "y": [
          -0.33873032683507903,
          -0.5376566668384067
         ]
        },
        {
         "line": {
          "color": "lightgray",
          "width": 1
         },
         "mode": "lines",
         "type": "scatter",
         "x": [
          0.3341323589999464,
          0.8231470249802241
         ],
         "y": [
          0.6276510584927125,
          -0.33873032683507903
         ]
        },
        {
         "line": {
          "color": "lightgray",
          "width": 1
         },
         "mode": "lines",
         "type": "scatter",
         "x": [
          -0.9255085009862662,
          0.7314587219711344
         ],
         "y": [
          0.4156074772474138,
          -0.6744984707757519
         ]
        },
        {
         "line": {
          "color": "lightgray",
          "width": 1
         },
         "mode": "lines",
         "type": "scatter",
         "x": [
          0.0856782687952649,
          0.821946468210322
         ],
         "y": [
          0.9124810295755442,
          -0.5376566668384067
         ]
        },
        {
         "line": {
          "color": "lightgray",
          "width": 1
         },
         "mode": "lines",
         "type": "scatter",
         "x": [
          -0.6140937175337806,
          0.3330448392384936
         ],
         "y": [
          0.8892790315579895,
          -0.8340062657872137
         ]
        },
        {
         "line": {
          "color": "darkblue",
          "width": 1
         },
         "mode": "lines",
         "type": "scatter",
         "x": [
          -0.5518346330746787,
          -0.8165996085805034
         ],
         "y": [
          -0.20347522493435183,
          0.5807746769754708
         ]
        },
        {
         "line": {
          "color": "lightgray",
          "width": 1
         },
         "mode": "lines",
         "type": "scatter",
         "x": [
          -0.5518346330746787,
          -0.13617797378549315
         ],
         "y": [
          -0.20347522493435183,
          -0.6677698899093224
         ]
        },
        {
         "line": {
          "color": "lightgray",
          "width": 1
         },
         "mode": "lines",
         "type": "scatter",
         "x": [
          -0.8569137617363639,
          0.6386071880364272
         ],
         "y": [
          0.27702130549198284,
          0.13116385461911206
         ]
        },
        {
         "line": {
          "color": "lightgray",
          "width": 1
         },
         "mode": "lines",
         "type": "scatter",
         "x": [
          -0.7082756557903018,
          0.7848921790023624
         ],
         "y": [
          0.6253190923496244,
          -0.2454827409792513
         ]
        },
        {
         "line": {
          "color": "lightgray",
          "width": 1
         },
         "mode": "lines",
         "type": "scatter",
         "x": [
          -0.6140937175337806,
          0.6108745154405566
         ],
         "y": [
          0.8892790315579895,
          -0.5733676800755454
         ]
        },
        {
         "line": {
          "color": "lightgray",
          "width": 1
         },
         "mode": "lines",
         "type": "scatter",
         "x": [
          0.3341323589999464,
          0.510738532629225
         ],
         "y": [
          0.6276510584927125,
          -0.8112387243894809
         ]
        },
        {
         "line": {
          "color": "lightgray",
          "width": 1
         },
         "mode": "lines",
         "type": "scatter",
         "x": [
          -0.8569137617363639,
          -0.13617797378549315
         ],
         "y": [
          0.27702130549198284,
          -0.6677698899093224
         ]
        },
        {
         "line": {
          "color": "darkblue",
          "width": 1
         },
         "mode": "lines",
         "type": "scatter",
         "x": [
          -0.8165996085805034,
          -0.9255085009862662
         ],
         "y": [
          0.5807746769754708,
          0.4156074772474138
         ]
        },
        {
         "line": {
          "color": "lightgray",
          "width": 1
         },
         "mode": "lines",
         "type": "scatter",
         "x": [
          -0.9739462100511188,
          0.6108745154405566
         ],
         "y": [
          0.15588962822060787,
          -0.5733676800755454
         ]
        },
        {
         "line": {
          "color": "lightgray",
          "width": 1
         },
         "mode": "lines",
         "type": "scatter",
         "x": [
          -0.7082756557903018,
          -0.038399276125469936
         ],
         "y": [
          0.6253190923496244,
          -0.8589465139367477
         ]
        },
        {
         "line": {
          "color": "darkblue",
          "width": 1
         },
         "mode": "lines",
         "type": "scatter",
         "x": [
          -0.08629914181214383,
          -0.13617797378549315
         ],
         "y": [
          -0.9369339520980161,
          -0.6677698899093224
         ]
        },
        {
         "line": {
          "color": "lightgray",
          "width": 1
         },
         "mode": "lines",
         "type": "scatter",
         "x": [
          -0.8569137617363639,
          0.3330448392384936
         ],
         "y": [
          0.27702130549198284,
          -0.8340062657872137
         ]
        },
        {
         "line": {
          "color": "lightgray",
          "width": 1
         },
         "mode": "lines",
         "type": "scatter",
         "x": [
          -0.7566061026918331,
          0.5578103471991686
         ],
         "y": [
          0.7987976960830132,
          0.20540946402350227
         ]
        },
        {
         "line": {
          "color": "darkblue",
          "width": 1
         },
         "mode": "lines",
         "type": "scatter",
         "x": [
          -0.8165996085805034,
          -0.5518346330746787
         ],
         "y": [
          0.5807746769754708,
          -0.20347522493435183
         ]
        },
        {
         "line": {
          "color": "lightgray",
          "width": 1
         },
         "mode": "lines",
         "type": "scatter",
         "x": [
          -0.4782468403548081,
          -0.038399276125469936
         ],
         "y": [
          0.8192451596907109,
          -0.8589465139367477
         ]
        },
        {
         "line": {
          "color": "darkblue",
          "width": 1
         },
         "mode": "lines",
         "type": "scatter",
         "x": [
          0.07578275185778272,
          -0.13617797378549315
         ],
         "y": [
          -0.7227296757790806,
          -0.6677698899093224
         ]
        },
        {
         "line": {
          "color": "darkblue",
          "width": 1
         },
         "mode": "lines",
         "type": "scatter",
         "x": [
          -0.21874065182410288,
          -0.8569137617363639
         ],
         "y": [
          0.9173139322490603,
          0.27702130549198284
         ]
        },
        {
         "line": {
          "color": "lightgray",
          "width": 1
         },
         "mode": "lines",
         "type": "scatter",
         "x": [
          -0.21874065182410288,
          0.7845701886498891
         ],
         "y": [
          0.9173139322490603,
          -0.4702501081521776
         ]
        },
        {
         "line": {
          "color": "darkblue",
          "width": 1
         },
         "mode": "lines",
         "type": "scatter",
         "x": [
          0.3330448392384936,
          0.7903440977923845
         ],
         "y": [
          -0.8340062657872137,
          -0.5228755269922652
         ]
        },
        {
         "line": {
          "color": "darkblue",
          "width": 1
         },
         "mode": "lines",
         "type": "scatter",
         "x": [
          0.0856782687952649,
          -0.9739462100511188
         ],
         "y": [
          0.9124810295755442,
          0.15588962822060787
         ]
        },
        {
         "line": {
          "color": "lightgray",
          "width": 1
         },
         "mode": "lines",
         "type": "scatter",
         "x": [
          -0.4782468403548081,
          0.3330448392384936
         ],
         "y": [
          0.8192451596907109,
          -0.8340062657872137
         ]
        },
        {
         "line": {
          "color": "lightgray",
          "width": 1
         },
         "mode": "lines",
         "type": "scatter",
         "x": [
          -0.5518346330746787,
          0.9227817640400293
         ],
         "y": [
          -0.20347522493435183,
          0.029458794541957063
         ]
        },
        {
         "line": {
          "color": "lightgray",
          "width": 1
         },
         "mode": "lines",
         "type": "scatter",
         "x": [
          -0.9255085009862662,
          0.6386071880364272
         ],
         "y": [
          0.4156074772474138,
          0.13116385461911206
         ]
        },
        {
         "line": {
          "color": "darkblue",
          "width": 1
         },
         "mode": "lines",
         "type": "scatter",
         "x": [
          -0.6140937175337806,
          -0.8569137617363639
         ],
         "y": [
          0.8892790315579895,
          0.27702130549198284
         ]
        },
        {
         "line": {
          "color": "lightgray",
          "width": 1
         },
         "mode": "lines",
         "type": "scatter",
         "x": [
          -0.7605345776401973,
          0.9227817640400293
         ],
         "y": [
          0.28735490924116186,
          0.029458794541957063
         ]
        },
        {
         "line": {
          "color": "darkblue",
          "width": 1
         },
         "mode": "lines",
         "type": "scatter",
         "x": [
          0.7314587219711344,
          0.5578103471991686
         ],
         "y": [
          -0.6744984707757519,
          0.20540946402350227
         ]
        },
        {
         "line": {
          "color": "lightgray",
          "width": 1
         },
         "mode": "lines",
         "type": "scatter",
         "x": [
          -0.8960744076451393,
          0.8231470249802241
         ],
         "y": [
          -0.12230556515037556,
          -0.33873032683507903
         ]
        },
        {
         "line": {
          "color": "lightgray",
          "width": 1
         },
         "mode": "lines",
         "type": "scatter",
         "x": [
          -0.7082756557903018,
          0.2156727182715702
         ],
         "y": [
          0.6253190923496244,
          -0.7887235348795513
         ]
        },
        {
         "line": {
          "color": "darkblue",
          "width": 1
         },
         "mode": "lines",
         "type": "scatter",
         "x": [
          -0.6140937175337806,
          -0.7566061026918331
         ],
         "y": [
          0.8892790315579895,
          0.7987976960830132
         ]
        },
        {
         "line": {
          "color": "lightgray",
          "width": 1
         },
         "mode": "lines",
         "type": "scatter",
         "x": [
          0.17286174615058908,
          0.7903440977923845
         ],
         "y": [
          0.6109180479784145,
          -0.5228755269922652
         ]
        },
        {
         "line": {
          "color": "lightgray",
          "width": 1
         },
         "mode": "lines",
         "type": "scatter",
         "x": [
          -0.9739462100511188,
          0.3330448392384936
         ],
         "y": [
          0.15588962822060787,
          -0.8340062657872137
         ]
        },
        {
         "line": {
          "color": "darkblue",
          "width": 1
         },
         "mode": "lines",
         "type": "scatter",
         "x": [
          0.7903440977923845,
          -0.13617797378549315
         ],
         "y": [
          -0.5228755269922652,
          -0.6677698899093224
         ]
        },
        {
         "line": {
          "color": "darkblue",
          "width": 1
         },
         "mode": "lines",
         "type": "scatter",
         "x": [
          0.7013791398643786,
          0.510738532629225
         ],
         "y": [
          -0.594040447917239,
          -0.8112387243894809
         ]
        },
        {
         "line": {
          "color": "lightgray",
          "width": 1
         },
         "mode": "lines",
         "type": "scatter",
         "x": [
          -0.6004235446281904,
          0.7013791398643786
         ],
         "y": [
          0.6370991185146676,
          -0.594040447917239
         ]
        },
        {
         "line": {
          "color": "lightgray",
          "width": 1
         },
         "mode": "lines",
         "type": "scatter",
         "x": [
          -0.7082756557903018,
          0.6108745154405566
         ],
         "y": [
          0.6253190923496244,
          -0.5733676800755454
         ]
        },
        {
         "line": {
          "color": "lightgray",
          "width": 1
         },
         "mode": "lines",
         "type": "scatter",
         "x": [
          0.3341323589999464,
          0.5578103471991686
         ],
         "y": [
          0.6276510584927125,
          0.20540946402350227
         ]
        },
        {
         "line": {
          "color": "lightgray",
          "width": 1
         },
         "mode": "lines",
         "type": "scatter",
         "x": [
          -0.9255085009862662,
          0.510738532629225
         ],
         "y": [
          0.4156074772474138,
          -0.8112387243894809
         ]
        },
        {
         "line": {
          "color": "lightgray",
          "width": 1
         },
         "mode": "lines",
         "type": "scatter",
         "x": [
          -0.6004235446281904,
          0.2156727182715702
         ],
         "y": [
          0.6370991185146676,
          -0.7887235348795513
         ]
        },
        {
         "line": {
          "color": "lightgray",
          "width": 1
         },
         "mode": "lines",
         "type": "scatter",
         "x": [
          0.17286174615058908,
          0.3330448392384936
         ],
         "y": [
          0.6109180479784145,
          -0.8340062657872137
         ]
        },
        {
         "line": {
          "color": "darkblue",
          "width": 1
         },
         "mode": "lines",
         "type": "scatter",
         "x": [
          -0.038399276125469936,
          -0.08629914181214383
         ],
         "y": [
          -0.8589465139367477,
          -0.9369339520980161
         ]
        },
        {
         "line": {
          "color": "lightgray",
          "width": 1
         },
         "mode": "lines",
         "type": "scatter",
         "x": [
          0.0856782687952649,
          0.6108745154405566
         ],
         "y": [
          0.9124810295755442,
          -0.5733676800755454
         ]
        },
        {
         "line": {
          "color": "lightgray",
          "width": 1
         },
         "mode": "lines",
         "type": "scatter",
         "x": [
          -0.4782468403548081,
          0.7903440977923845
         ],
         "y": [
          0.8192451596907109,
          -0.5228755269922652
         ]
        },
        {
         "line": {
          "color": "darkblue",
          "width": 1
         },
         "mode": "lines",
         "type": "scatter",
         "x": [
          0.7650494797310291,
          0.2156727182715702
         ],
         "y": [
          0.26190397562901585,
          -0.7887235348795513
         ]
        },
        {
         "line": {
          "color": "darkblue",
          "width": 1
         },
         "mode": "lines",
         "type": "scatter",
         "x": [
          -0.6140937175337806,
          -0.8960744076451393
         ],
         "y": [
          0.8892790315579895,
          -0.12230556515037556
         ]
        },
        {
         "line": {
          "color": "darkblue",
          "width": 1
         },
         "mode": "lines",
         "type": "scatter",
         "x": [
          -0.8960744076451393,
          -0.5518346330746787
         ],
         "y": [
          -0.12230556515037556,
          -0.20347522493435183
         ]
        },
        {
         "line": {
          "color": "darkblue",
          "width": 1
         },
         "mode": "lines",
         "type": "scatter",
         "x": [
          -0.278231951866899,
          0.510738532629225
         ],
         "y": [
          -0.4788627466713346,
          -0.8112387243894809
         ]
        },
        {
         "line": {
          "color": "darkblue",
          "width": 1
         },
         "mode": "lines",
         "type": "scatter",
         "x": [
          0.0856782687952649,
          -0.5518346330746787
         ],
         "y": [
          0.9124810295755442,
          -0.20347522493435183
         ]
        },
        {
         "line": {
          "color": "lightgray",
          "width": 1
         },
         "mode": "lines",
         "type": "scatter",
         "x": [
          -0.5518346330746787,
          -0.278231951866899
         ],
         "y": [
          -0.20347522493435183,
          -0.4788627466713346
         ]
        },
        {
         "line": {
          "color": "lightgray",
          "width": 1
         },
         "mode": "lines",
         "type": "scatter",
         "x": [
          -0.3718304348748292,
          0.7013791398643786
         ],
         "y": [
          0.889405011839641,
          -0.594040447917239
         ]
        },
        {
         "line": {
          "color": "darkblue",
          "width": 1
         },
         "mode": "lines",
         "type": "scatter",
         "x": [
          0.2156727182715702,
          -0.13617797378549315
         ],
         "y": [
          -0.7887235348795513,
          -0.6677698899093224
         ]
        },
        {
         "line": {
          "color": "darkblue",
          "width": 1
         },
         "mode": "lines",
         "type": "scatter",
         "x": [
          0.17286174615058908,
          -0.8165996085805034
         ],
         "y": [
          0.6109180479784145,
          0.5807746769754708
         ]
        },
        {
         "line": {
          "color": "darkblue",
          "width": 1
         },
         "mode": "lines",
         "type": "scatter",
         "x": [
          0.41841412245343573,
          -0.5518346330746787
         ],
         "y": [
          0.6013098799193504,
          -0.20347522493435183
         ]
        },
        {
         "line": {
          "color": "darkblue",
          "width": 1
         },
         "mode": "lines",
         "type": "scatter",
         "x": [
          0.07578275185778272,
          0.3330448392384936
         ],
         "y": [
          -0.7227296757790806,
          -0.8340062657872137
         ]
        },
        {
         "line": {
          "color": "darkblue",
          "width": 1
         },
         "mode": "lines",
         "type": "scatter",
         "x": [
          0.9227817640400293,
          0.7903440977923845
         ],
         "y": [
          0.029458794541957063,
          -0.5228755269922652
         ]
        },
        {
         "line": {
          "color": "darkblue",
          "width": 1
         },
         "mode": "lines",
         "type": "scatter",
         "x": [
          0.07578275185778272,
          -0.278231951866899
         ],
         "y": [
          -0.7227296757790806,
          -0.4788627466713346
         ]
        },
        {
         "line": {
          "color": "lightgray",
          "width": 1
         },
         "mode": "lines",
         "type": "scatter",
         "x": [
          -0.3718304348748292,
          -0.278231951866899
         ],
         "y": [
          0.889405011839641,
          -0.4788627466713346
         ]
        },
        {
         "line": {
          "color": "lightgray",
          "width": 1
         },
         "mode": "lines",
         "type": "scatter",
         "x": [
          -0.21874065182410288,
          0.7848921790023624
         ],
         "y": [
          0.9173139322490603,
          -0.2454827409792513
         ]
        },
        {
         "line": {
          "color": "lightgray",
          "width": 1
         },
         "mode": "lines",
         "type": "scatter",
         "x": [
          -0.8569137617363639,
          0.9227817640400293
         ],
         "y": [
          0.27702130549198284,
          0.029458794541957063
         ]
        },
        {
         "line": {
          "color": "lightgray",
          "width": 1
         },
         "mode": "lines",
         "type": "scatter",
         "x": [
          0.41841412245343573,
          -0.08629914181214383
         ],
         "y": [
          0.6013098799193504,
          -0.9369339520980161
         ]
        },
        {
         "line": {
          "color": "darkblue",
          "width": 1
         },
         "mode": "lines",
         "type": "scatter",
         "x": [
          -0.9739462100511188,
          -0.21874065182410288
         ],
         "y": [
          0.15588962822060787,
          0.9173139322490603
         ]
        },
        {
         "line": {
          "color": "darkblue",
          "width": 1
         },
         "mode": "lines",
         "type": "scatter",
         "x": [
          -0.7082756557903018,
          -0.8960744076451393
         ],
         "y": [
          0.6253190923496244,
          -0.12230556515037556
         ]
        },
        {
         "line": {
          "color": "darkblue",
          "width": 1
         },
         "mode": "lines",
         "type": "scatter",
         "x": [
          0.7013791398643786,
          -0.038399276125469936
         ],
         "y": [
          -0.594040447917239,
          -0.8589465139367477
         ]
        },
        {
         "line": {
          "color": "darkblue",
          "width": 1
         },
         "mode": "lines",
         "type": "scatter",
         "x": [
          0.7650494797310291,
          0.6108745154405566
         ],
         "y": [
          0.26190397562901585,
          -0.5733676800755454
         ]
        },
        {
         "line": {
          "color": "lightgray",
          "width": 1
         },
         "mode": "lines",
         "type": "scatter",
         "x": [
          -0.6004235446281904,
          0.7903440977923845
         ],
         "y": [
          0.6370991185146676,
          -0.5228755269922652
         ]
        },
        {
         "line": {
          "color": "darkblue",
          "width": 1
         },
         "mode": "lines",
         "type": "scatter",
         "x": [
          0.6108745154405566,
          0.6386071880364272
         ],
         "y": [
          -0.5733676800755454,
          0.13116385461911206
         ]
        },
        {
         "line": {
          "color": "lightgray",
          "width": 1
         },
         "mode": "lines",
         "type": "scatter",
         "x": [
          0.0856782687952649,
          0.2156727182715702
         ],
         "y": [
          0.9124810295755442,
          -0.7887235348795513
         ]
        },
        {
         "line": {
          "color": "darkblue",
          "width": 1
         },
         "mode": "lines",
         "type": "scatter",
         "x": [
          -0.6004235446281904,
          0.20122273875243868
         ],
         "y": [
          0.6370991185146676,
          1
         ]
        },
        {
         "line": {
          "color": "darkblue",
          "width": 1
         },
         "mode": "lines",
         "type": "scatter",
         "x": [
          -0.8569137617363639,
          -0.9255085009862662
         ],
         "y": [
          0.27702130549198284,
          0.4156074772474138
         ]
        },
        {
         "line": {
          "color": "darkblue",
          "width": 1
         },
         "mode": "lines",
         "type": "scatter",
         "x": [
          0.7314587219711344,
          -0.278231951866899
         ],
         "y": [
          -0.6744984707757519,
          -0.4788627466713346
         ]
        },
        {
         "line": {
          "color": "darkblue",
          "width": 1
         },
         "mode": "lines",
         "type": "scatter",
         "x": [
          0.41841412245343573,
          -0.7605345776401973
         ],
         "y": [
          0.6013098799193504,
          0.28735490924116186
         ]
        },
        {
         "line": {
          "color": "darkblue",
          "width": 1
         },
         "mode": "lines",
         "type": "scatter",
         "x": [
          0.0856782687952649,
          -0.7566061026918331
         ],
         "y": [
          0.9124810295755442,
          0.7987976960830132
         ]
        },
        {
         "line": {
          "color": "darkblue",
          "width": 1
         },
         "mode": "lines",
         "type": "scatter",
         "x": [
          0.17286174615058908,
          0.20122273875243868
         ],
         "y": [
          0.6109180479784145,
          1
         ]
        },
        {
         "line": {
          "color": "darkblue",
          "width": 1
         },
         "mode": "lines",
         "type": "scatter",
         "x": [
          -0.7082756557903018,
          -0.9255085009862662
         ],
         "y": [
          0.6253190923496244,
          0.4156074772474138
         ]
        },
        {
         "line": {
          "color": "darkblue",
          "width": 1
         },
         "mode": "lines",
         "type": "scatter",
         "x": [
          -0.7605345776401973,
          -0.5518346330746787
         ],
         "y": [
          0.28735490924116186,
          -0.20347522493435183
         ]
        },
        {
         "line": {
          "color": "darkblue",
          "width": 1
         },
         "mode": "lines",
         "type": "scatter",
         "x": [
          -0.038399276125469936,
          0.5578103471991686
         ],
         "y": [
          -0.8589465139367477,
          0.20540946402350227
         ]
        },
        {
         "line": {
          "color": "lightgray",
          "width": 1
         },
         "mode": "lines",
         "type": "scatter",
         "x": [
          -0.9739462100511188,
          0.6386071880364272
         ],
         "y": [
          0.15588962822060787,
          0.13116385461911206
         ]
        },
        {
         "line": {
          "color": "lightgray",
          "width": 1
         },
         "mode": "lines",
         "type": "scatter",
         "x": [
          -0.4782468403548081,
          -0.278231951866899
         ],
         "y": [
          0.8192451596907109,
          -0.4788627466713346
         ]
        },
        {
         "line": {
          "color": "lightgray",
          "width": 1
         },
         "mode": "lines",
         "type": "scatter",
         "x": [
          -0.8569137617363639,
          0.2156727182715702
         ],
         "y": [
          0.27702130549198284,
          -0.7887235348795513
         ]
        },
        {
         "line": {
          "color": "darkblue",
          "width": 1
         },
         "mode": "lines",
         "type": "scatter",
         "x": [
          -0.9739462100511188,
          -0.9255085009862662
         ],
         "y": [
          0.15588962822060787,
          0.4156074772474138
         ]
        },
        {
         "line": {
          "color": "lightgray",
          "width": 1
         },
         "mode": "lines",
         "type": "scatter",
         "x": [
          -0.6004235446281904,
          0.6386071880364272
         ],
         "y": [
          0.6370991185146676,
          0.13116385461911206
         ]
        },
        {
         "line": {
          "color": "darkblue",
          "width": 1
         },
         "mode": "lines",
         "type": "scatter",
         "x": [
          0.014910717236521208,
          0.7845701886498891
         ],
         "y": [
          -0.7726759134396349,
          -0.4702501081521776
         ]
        },
        {
         "line": {
          "color": "darkblue",
          "width": 1
         },
         "mode": "lines",
         "type": "scatter",
         "x": [
          0.6108745154405566,
          0.3330448392384936
         ],
         "y": [
          -0.5733676800755454,
          -0.8340062657872137
         ]
        },
        {
         "line": {
          "color": "lightgray",
          "width": 1
         },
         "mode": "lines",
         "type": "scatter",
         "x": [
          -0.5518346330746787,
          0.9227817640400293
         ],
         "y": [
          -0.20347522493435183,
          0.029458794541957063
         ]
        },
        {
         "line": {
          "color": "darkblue",
          "width": 1
         },
         "mode": "lines",
         "type": "scatter",
         "x": [
          0.014910717236521208,
          0.510738532629225
         ],
         "y": [
          -0.7726759134396349,
          -0.8112387243894809
         ]
        },
        {
         "line": {
          "color": "lightgray",
          "width": 1
         },
         "mode": "lines",
         "type": "scatter",
         "x": [
          -0.7605345776401973,
          0.07578275185778272
         ],
         "y": [
          0.28735490924116186,
          -0.7227296757790806
         ]
        },
        {
         "line": {
          "color": "darkblue",
          "width": 1
         },
         "mode": "lines",
         "type": "scatter",
         "x": [
          -0.21874065182410288,
          -0.6004235446281904
         ],
         "y": [
          0.9173139322490603,
          0.6370991185146676
         ]
        },
        {
         "line": {
          "color": "darkblue",
          "width": 1
         },
         "mode": "lines",
         "type": "scatter",
         "x": [
          0.5578103471991686,
          -0.13617797378549315
         ],
         "y": [
          0.20540946402350227,
          -0.6677698899093224
         ]
        },
        {
         "line": {
          "color": "darkblue",
          "width": 1
         },
         "mode": "lines",
         "type": "scatter",
         "x": [
          -0.6140937175337806,
          -0.9739462100511188
         ],
         "y": [
          0.8892790315579895,
          0.15588962822060787
         ]
        },
        {
         "line": {
          "color": "darkblue",
          "width": 1
         },
         "mode": "lines",
         "type": "scatter",
         "x": [
          0.7314587219711344,
          0.3330448392384936
         ],
         "y": [
          -0.6744984707757519,
          -0.8340062657872137
         ]
        },
        {
         "line": {
          "color": "lightgray",
          "width": 1
         },
         "mode": "lines",
         "type": "scatter",
         "x": [
          0.0856782687952649,
          -0.038399276125469936
         ],
         "y": [
          0.9124810295755442,
          -0.8589465139367477
         ]
        },
        {
         "line": {
          "color": "lightgray",
          "width": 1
         },
         "mode": "lines",
         "type": "scatter",
         "x": [
          -0.6004235446281904,
          0.2156727182715702
         ],
         "y": [
          0.6370991185146676,
          -0.7887235348795513
         ]
        },
        {
         "line": {
          "color": "darkblue",
          "width": 1
         },
         "mode": "lines",
         "type": "scatter",
         "x": [
          -0.9739462100511188,
          -0.3718304348748292
         ],
         "y": [
          0.15588962822060787,
          0.889405011839641
         ]
        },
        {
         "line": {
          "color": "darkblue",
          "width": 1
         },
         "mode": "lines",
         "type": "scatter",
         "x": [
          0.41841412245343573,
          -0.9151372576982943
         ],
         "y": [
          0.6013098799193504,
          0.15511979920707278
         ]
        },
        {
         "line": {
          "color": "darkblue",
          "width": 1
         },
         "mode": "lines",
         "type": "scatter",
         "x": [
          -0.21874065182410288,
          0.20122273875243868
         ],
         "y": [
          0.9173139322490603,
          1
         ]
        },
        {
         "line": {
          "color": "darkblue",
          "width": 1
         },
         "mode": "lines",
         "type": "scatter",
         "x": [
          -0.6140937175337806,
          -0.6004235446281904
         ],
         "y": [
          0.8892790315579895,
          0.6370991185146676
         ]
        },
        {
         "line": {
          "color": "darkblue",
          "width": 1
         },
         "mode": "lines",
         "type": "scatter",
         "x": [
          -0.038399276125469936,
          -0.13617797378549315
         ],
         "y": [
          -0.8589465139367477,
          -0.6677698899093224
         ]
        },
        {
         "line": {
          "color": "darkblue",
          "width": 1
         },
         "mode": "lines",
         "type": "scatter",
         "x": [
          0.7845701886498891,
          0.6386071880364272
         ],
         "y": [
          -0.4702501081521776,
          0.13116385461911206
         ]
        },
        {
         "line": {
          "color": "darkblue",
          "width": 1
         },
         "mode": "lines",
         "type": "scatter",
         "x": [
          -0.21874065182410288,
          -0.9255085009862662
         ],
         "y": [
          0.9173139322490603,
          0.4156074772474138
         ]
        },
        {
         "line": {
          "color": "lightgray",
          "width": 1
         },
         "mode": "lines",
         "type": "scatter",
         "x": [
          -0.9255085009862662,
          0.7650494797310291
         ],
         "y": [
          0.4156074772474138,
          0.26190397562901585
         ]
        },
        {
         "line": {
          "color": "lightgray",
          "width": 1
         },
         "mode": "lines",
         "type": "scatter",
         "x": [
          -0.5518346330746787,
          -0.13617797378549315
         ],
         "y": [
          -0.20347522493435183,
          -0.6677698899093224
         ]
        },
        {
         "line": {
          "color": "darkblue",
          "width": 1
         },
         "mode": "lines",
         "type": "scatter",
         "x": [
          -0.6004235446281904,
          0.3341323589999464
         ],
         "y": [
          0.6370991185146676,
          0.6276510584927125
         ]
        },
        {
         "line": {
          "color": "darkblue",
          "width": 1
         },
         "mode": "lines",
         "type": "scatter",
         "x": [
          0.7650494797310291,
          0.7848921790023624
         ],
         "y": [
          0.26190397562901585,
          -0.2454827409792513
         ]
        },
        {
         "line": {
          "color": "lightgray",
          "width": 1
         },
         "mode": "lines",
         "type": "scatter",
         "x": [
          -0.7566061026918331,
          0.7845701886498891
         ],
         "y": [
          0.7987976960830132,
          -0.4702501081521776
         ]
        },
        {
         "line": {
          "color": "lightgray",
          "width": 1
         },
         "mode": "lines",
         "type": "scatter",
         "x": [
          0.41841412245343573,
          0.6108745154405566
         ],
         "y": [
          0.6013098799193504,
          -0.5733676800755454
         ]
        },
        {
         "line": {
          "color": "darkblue",
          "width": 1
         },
         "mode": "lines",
         "type": "scatter",
         "x": [
          0.7650494797310291,
          0.8231470249802241
         ],
         "y": [
          0.26190397562901585,
          -0.33873032683507903
         ]
        },
        {
         "line": {
          "color": "lightgray",
          "width": 1
         },
         "mode": "lines",
         "type": "scatter",
         "x": [
          0.3341323589999464,
          0.821946468210322
         ],
         "y": [
          0.6276510584927125,
          -0.5376566668384067
         ]
        },
        {
         "line": {
          "color": "darkblue",
          "width": 1
         },
         "mode": "lines",
         "type": "scatter",
         "x": [
          -0.278231951866899,
          0.7848921790023624
         ],
         "y": [
          -0.4788627466713346,
          -0.2454827409792513
         ]
        },
        {
         "line": {
          "color": "lightgray",
          "width": 1
         },
         "mode": "lines",
         "type": "scatter",
         "x": [
          -0.8960744076451393,
          0.7650494797310291
         ],
         "y": [
          -0.12230556515037556,
          0.26190397562901585
         ]
        },
        {
         "line": {
          "color": "lightgray",
          "width": 1
         },
         "mode": "lines",
         "type": "scatter",
         "x": [
          -0.7566061026918331,
          0.7314587219711344
         ],
         "y": [
          0.7987976960830132,
          -0.6744984707757519
         ]
        },
        {
         "line": {
          "color": "lightgray",
          "width": 1
         },
         "mode": "lines",
         "type": "scatter",
         "x": [
          0.41841412245343573,
          -0.3114456606027594
         ],
         "y": [
          0.6013098799193504,
          -0.6739529679071985
         ]
        },
        {
         "line": {
          "color": "darkblue",
          "width": 1
         },
         "mode": "lines",
         "type": "scatter",
         "x": [
          -0.038399276125469936,
          -0.3114456606027594
         ],
         "y": [
          -0.8589465139367477,
          -0.6739529679071985
         ]
        },
        {
         "line": {
          "color": "lightgray",
          "width": 1
         },
         "mode": "lines",
         "type": "scatter",
         "x": [
          -0.8960744076451393,
          -0.278231951866899
         ],
         "y": [
          -0.12230556515037556,
          -0.4788627466713346
         ]
        },
        {
         "line": {
          "color": "lightgray",
          "width": 1
         },
         "mode": "lines",
         "type": "scatter",
         "x": [
          -0.5518346330746787,
          0.2156727182715702
         ],
         "y": [
          -0.20347522493435183,
          -0.7887235348795513
         ]
        },
        {
         "line": {
          "color": "darkblue",
          "width": 1
         },
         "mode": "lines",
         "type": "scatter",
         "x": [
          -0.038399276125469936,
          0.510738532629225
         ],
         "y": [
          -0.8589465139367477,
          -0.8112387243894809
         ]
        },
        {
         "line": {
          "color": "darkblue",
          "width": 1
         },
         "mode": "lines",
         "type": "scatter",
         "x": [
          0.7845701886498891,
          -0.3114456606027594
         ],
         "y": [
          -0.4702501081521776,
          -0.6739529679071985
         ]
        },
        {
         "line": {
          "color": "lightgray",
          "width": 1
         },
         "mode": "lines",
         "type": "scatter",
         "x": [
          -0.5518346330746787,
          -0.3114456606027594
         ],
         "y": [
          -0.20347522493435183,
          -0.6739529679071985
         ]
        },
        {
         "line": {
          "color": "lightgray",
          "width": 1
         },
         "mode": "lines",
         "type": "scatter",
         "x": [
          -0.9739462100511188,
          -0.278231951866899
         ],
         "y": [
          0.15588962822060787,
          -0.4788627466713346
         ]
        },
        {
         "line": {
          "color": "darkblue",
          "width": 1
         },
         "mode": "lines",
         "type": "scatter",
         "x": [
          0.7845701886498891,
          0.7848921790023624
         ],
         "y": [
          -0.4702501081521776,
          -0.2454827409792513
         ]
        },
        {
         "line": {
          "color": "darkblue",
          "width": 1
         },
         "mode": "lines",
         "type": "scatter",
         "x": [
          0.6108745154405566,
          -0.038399276125469936
         ],
         "y": [
          -0.5733676800755454,
          -0.8589465139367477
         ]
        },
        {
         "line": {
          "color": "lightgray",
          "width": 1
         },
         "mode": "lines",
         "type": "scatter",
         "x": [
          -0.8165996085805034,
          0.9227817640400293
         ],
         "y": [
          0.5807746769754708,
          0.029458794541957063
         ]
        },
        {
         "line": {
          "color": "darkblue",
          "width": 1
         },
         "mode": "lines",
         "type": "scatter",
         "x": [
          -0.038399276125469936,
          0.7903440977923845
         ],
         "y": [
          -0.8589465139367477,
          -0.5228755269922652
         ]
        },
        {
         "line": {
          "color": "darkblue",
          "width": 1
         },
         "mode": "lines",
         "type": "scatter",
         "x": [
          0.7013791398643786,
          0.9227817640400293
         ],
         "y": [
          -0.594040447917239,
          0.029458794541957063
         ]
        },
        {
         "line": {
          "color": "lightgray",
          "width": 1
         },
         "mode": "lines",
         "type": "scatter",
         "x": [
          -0.8569137617363639,
          0.8231470249802241
         ],
         "y": [
          0.27702130549198284,
          -0.33873032683507903
         ]
        },
        {
         "line": {
          "color": "darkblue",
          "width": 1
         },
         "mode": "lines",
         "type": "scatter",
         "x": [
          -0.038399276125469936,
          0.7848921790023624
         ],
         "y": [
          -0.8589465139367477,
          -0.2454827409792513
         ]
        },
        {
         "line": {
          "color": "lightgray",
          "width": 1
         },
         "mode": "lines",
         "type": "scatter",
         "x": [
          0.0856782687952649,
          0.510738532629225
         ],
         "y": [
          0.9124810295755442,
          -0.8112387243894809
         ]
        },
        {
         "line": {
          "color": "lightgray",
          "width": 1
         },
         "mode": "lines",
         "type": "scatter",
         "x": [
          -0.9255085009862662,
          -0.3114456606027594
         ],
         "y": [
          0.4156074772474138,
          -0.6739529679071985
         ]
        },
        {
         "line": {
          "color": "lightgray",
          "width": 1
         },
         "mode": "lines",
         "type": "scatter",
         "x": [
          0.0856782687952649,
          0.7314587219711344
         ],
         "y": [
          0.9124810295755442,
          -0.6744984707757519
         ]
        },
        {
         "line": {
          "color": "lightgray",
          "width": 1
         },
         "mode": "lines",
         "type": "scatter",
         "x": [
          -0.7605345776401973,
          0.7903440977923845
         ],
         "y": [
          0.28735490924116186,
          -0.5228755269922652
         ]
        },
        {
         "line": {
          "color": "lightgray",
          "width": 1
         },
         "mode": "lines",
         "type": "scatter",
         "x": [
          -0.9255085009862662,
          0.9227817640400293
         ],
         "y": [
          0.4156074772474138,
          0.029458794541957063
         ]
        },
        {
         "line": {
          "color": "lightgray",
          "width": 1
         },
         "mode": "lines",
         "type": "scatter",
         "x": [
          -0.6004235446281904,
          -0.13617797378549315
         ],
         "y": [
          0.6370991185146676,
          -0.6677698899093224
         ]
        },
        {
         "line": {
          "color": "lightgray",
          "width": 1
         },
         "mode": "lines",
         "type": "scatter",
         "x": [
          -0.4782468403548081,
          0.6386071880364272
         ],
         "y": [
          0.8192451596907109,
          0.13116385461911206
         ]
        },
        {
         "line": {
          "color": "lightgray",
          "width": 1
         },
         "mode": "lines",
         "type": "scatter",
         "x": [
          -0.7566061026918331,
          0.6108745154405566
         ],
         "y": [
          0.7987976960830132,
          -0.5733676800755454
         ]
        },
        {
         "line": {
          "color": "lightgray",
          "width": 1
         },
         "mode": "lines",
         "type": "scatter",
         "x": [
          -0.9255085009862662,
          0.07578275185778272
         ],
         "y": [
          0.4156074772474138,
          -0.7227296757790806
         ]
        },
        {
         "line": {
          "color": "darkblue",
          "width": 1
         },
         "mode": "lines",
         "type": "scatter",
         "x": [
          -0.4782468403548081,
          -0.6004235446281904
         ],
         "y": [
          0.8192451596907109,
          0.6370991185146676
         ]
        },
        {
         "line": {
          "color": "darkblue",
          "width": 1
         },
         "mode": "lines",
         "type": "scatter",
         "x": [
          0.3341323589999464,
          0.20122273875243868
         ],
         "y": [
          0.6276510584927125,
          1
         ]
        },
        {
         "line": {
          "color": "darkblue",
          "width": 1
         },
         "mode": "lines",
         "type": "scatter",
         "x": [
          0.3341323589999464,
          -0.8165996085805034
         ],
         "y": [
          0.6276510584927125,
          0.5807746769754708
         ]
        },
        {
         "line": {
          "color": "darkblue",
          "width": 1
         },
         "mode": "lines",
         "type": "scatter",
         "x": [
          0.014910717236521208,
          -0.13617797378549315
         ],
         "y": [
          -0.7726759134396349,
          -0.6677698899093224
         ]
        },
        {
         "line": {
          "color": "lightgray",
          "width": 1
         },
         "mode": "lines",
         "type": "scatter",
         "x": [
          -0.8569137617363639,
          -0.038399276125469936
         ],
         "y": [
          0.27702130549198284,
          -0.8589465139367477
         ]
        },
        {
         "line": {
          "color": "darkblue",
          "width": 1
         },
         "mode": "lines",
         "type": "scatter",
         "x": [
          0.7845701886498891,
          0.8231470249802241
         ],
         "y": [
          -0.4702501081521776,
          -0.33873032683507903
         ]
        },
        {
         "line": {
          "color": "lightgray",
          "width": 1
         },
         "mode": "lines",
         "type": "scatter",
         "x": [
          -0.4782468403548081,
          0.5578103471991686
         ],
         "y": [
          0.8192451596907109,
          0.20540946402350227
         ]
        },
        {
         "line": {
          "color": "darkblue",
          "width": 1
         },
         "mode": "lines",
         "type": "scatter",
         "x": [
          -0.6140937175337806,
          -0.5518346330746787
         ],
         "y": [
          0.8892790315579895,
          -0.20347522493435183
         ]
        },
        {
         "line": {
          "color": "lightgray",
          "width": 1
         },
         "mode": "lines",
         "type": "scatter",
         "x": [
          0.0856782687952649,
          0.6386071880364272
         ],
         "y": [
          0.9124810295755442,
          0.13116385461911206
         ]
        },
        {
         "line": {
          "color": "lightgray",
          "width": 1
         },
         "mode": "lines",
         "type": "scatter",
         "x": [
          -0.3718304348748292,
          0.6386071880364272
         ],
         "y": [
          0.889405011839641,
          0.13116385461911206
         ]
        },
        {
         "line": {
          "color": "darkblue",
          "width": 1
         },
         "mode": "lines",
         "type": "scatter",
         "x": [
          -0.278231951866899,
          -0.038399276125469936
         ],
         "y": [
          -0.4788627466713346,
          -0.8589465139367477
         ]
        },
        {
         "line": {
          "color": "darkblue",
          "width": 1
         },
         "mode": "lines",
         "type": "scatter",
         "x": [
          -0.7566061026918331,
          0.17286174615058908
         ],
         "y": [
          0.7987976960830132,
          0.6109180479784145
         ]
        },
        {
         "line": {
          "color": "darkblue",
          "width": 1
         },
         "mode": "lines",
         "type": "scatter",
         "x": [
          0.7845701886498891,
          0.2156727182715702
         ],
         "y": [
          -0.4702501081521776,
          -0.7887235348795513
         ]
        },
        {
         "line": {
          "color": "darkblue",
          "width": 1
         },
         "mode": "lines",
         "type": "scatter",
         "x": [
          0.014910717236521208,
          0.6386071880364272
         ],
         "y": [
          -0.7726759134396349,
          0.13116385461911206
         ]
        },
        {
         "line": {
          "color": "darkblue",
          "width": 1
         },
         "mode": "lines",
         "type": "scatter",
         "x": [
          0.41841412245343573,
          -0.8960744076451393
         ],
         "y": [
          0.6013098799193504,
          -0.12230556515037556
         ]
        },
        {
         "line": {
          "color": "darkblue",
          "width": 1
         },
         "mode": "lines",
         "type": "scatter",
         "x": [
          0.8231470249802241,
          -0.3114456606027594
         ],
         "y": [
          -0.33873032683507903,
          -0.6739529679071985
         ]
        },
        {
         "line": {
          "color": "lightgray",
          "width": 1
         },
         "mode": "lines",
         "type": "scatter",
         "x": [
          0.41841412245343573,
          0.5578103471991686
         ],
         "y": [
          0.6013098799193504,
          0.20540946402350227
         ]
        },
        {
         "line": {
          "color": "darkblue",
          "width": 1
         },
         "mode": "lines",
         "type": "scatter",
         "x": [
          -0.5518346330746787,
          0.20122273875243868
         ],
         "y": [
          -0.20347522493435183,
          1
         ]
        },
        {
         "line": {
          "color": "darkblue",
          "width": 1
         },
         "mode": "lines",
         "type": "scatter",
         "x": [
          -0.7082756557903018,
          -0.9151372576982943
         ],
         "y": [
          0.6253190923496244,
          0.15511979920707278
         ]
        },
        {
         "line": {
          "color": "lightgray",
          "width": 1
         },
         "mode": "lines",
         "type": "scatter",
         "x": [
          -0.6004235446281904,
          0.821946468210322
         ],
         "y": [
          0.6370991185146676,
          -0.5376566668384067
         ]
        },
        {
         "line": {
          "color": "lightgray",
          "width": 1
         },
         "mode": "lines",
         "type": "scatter",
         "x": [
          -0.6004235446281904,
          0.3330448392384936
         ],
         "y": [
          0.6370991185146676,
          -0.8340062657872137
         ]
        },
        {
         "line": {
          "color": "darkblue",
          "width": 1
         },
         "mode": "lines",
         "type": "scatter",
         "x": [
          -0.8569137617363639,
          -0.5518346330746787
         ],
         "y": [
          0.27702130549198284,
          -0.20347522493435183
         ]
        },
        {
         "line": {
          "color": "darkblue",
          "width": 1
         },
         "mode": "lines",
         "type": "scatter",
         "x": [
          -0.7605345776401973,
          -0.6004235446281904
         ],
         "y": [
          0.28735490924116186,
          0.6370991185146676
         ]
        },
        {
         "line": {
          "color": "lightgray",
          "width": 1
         },
         "mode": "lines",
         "type": "scatter",
         "x": [
          -0.6004235446281904,
          0.7650494797310291
         ],
         "y": [
          0.6370991185146676,
          0.26190397562901585
         ]
        },
        {
         "line": {
          "color": "darkblue",
          "width": 1
         },
         "mode": "lines",
         "type": "scatter",
         "x": [
          0.07578275185778272,
          0.6108745154405566
         ],
         "y": [
          -0.7227296757790806,
          -0.5733676800755454
         ]
        },
        {
         "line": {
          "color": "lightgray",
          "width": 1
         },
         "mode": "lines",
         "type": "scatter",
         "x": [
          -0.7082756557903018,
          0.7845701886498891
         ],
         "y": [
          0.6253190923496244,
          -0.4702501081521776
         ]
        },
        {
         "line": {
          "color": "lightgray",
          "width": 1
         },
         "mode": "lines",
         "type": "scatter",
         "x": [
          -0.9151372576982943,
          -0.278231951866899
         ],
         "y": [
          0.15511979920707278,
          -0.4788627466713346
         ]
        },
        {
         "line": {
          "color": "lightgray",
          "width": 1
         },
         "mode": "lines",
         "type": "scatter",
         "x": [
          -0.6004235446281904,
          0.7013791398643786
         ],
         "y": [
          0.6370991185146676,
          -0.594040447917239
         ]
        },
        {
         "line": {
          "color": "lightgray",
          "width": 1
         },
         "mode": "lines",
         "type": "scatter",
         "x": [
          -0.3718304348748292,
          0.510738532629225
         ],
         "y": [
          0.889405011839641,
          -0.8112387243894809
         ]
        },
        {
         "line": {
          "color": "lightgray",
          "width": 1
         },
         "mode": "lines",
         "type": "scatter",
         "x": [
          0.0856782687952649,
          0.8231470249802241
         ],
         "y": [
          0.9124810295755442,
          -0.33873032683507903
         ]
        },
        {
         "line": {
          "color": "darkblue",
          "width": 1
         },
         "mode": "lines",
         "type": "scatter",
         "x": [
          0.7650494797310291,
          0.3330448392384936
         ],
         "y": [
          0.26190397562901585,
          -0.8340062657872137
         ]
        },
        {
         "line": {
          "color": "lightgray",
          "width": 1
         },
         "mode": "lines",
         "type": "scatter",
         "x": [
          -0.7605345776401973,
          -0.3114456606027594
         ],
         "y": [
          0.28735490924116186,
          -0.6739529679071985
         ]
        },
        {
         "line": {
          "color": "darkblue",
          "width": 1
         },
         "mode": "lines",
         "type": "scatter",
         "x": [
          0.8231470249802241,
          0.7903440977923845
         ],
         "y": [
          -0.33873032683507903,
          -0.5228755269922652
         ]
        },
        {
         "line": {
          "color": "lightgray",
          "width": 1
         },
         "mode": "lines",
         "type": "scatter",
         "x": [
          0.20122273875243868,
          0.7845701886498891
         ],
         "y": [
          1,
          -0.4702501081521776
         ]
        },
        {
         "line": {
          "color": "darkblue",
          "width": 1
         },
         "mode": "lines",
         "type": "scatter",
         "x": [
          0.7650494797310291,
          0.5578103471991686
         ],
         "y": [
          0.26190397562901585,
          0.20540946402350227
         ]
        },
        {
         "line": {
          "color": "darkblue",
          "width": 1
         },
         "mode": "lines",
         "type": "scatter",
         "x": [
          -0.8165996085805034,
          -0.6004235446281904
         ],
         "y": [
          0.5807746769754708,
          0.6370991185146676
         ]
        },
        {
         "line": {
          "color": "lightgray",
          "width": 1
         },
         "mode": "lines",
         "type": "scatter",
         "x": [
          0.0856782687952649,
          0.7013791398643786
         ],
         "y": [
          0.9124810295755442,
          -0.594040447917239
         ]
        },
        {
         "line": {
          "color": "lightgray",
          "width": 1
         },
         "mode": "lines",
         "type": "scatter",
         "x": [
          0.0856782687952649,
          0.07578275185778272
         ],
         "y": [
          0.9124810295755442,
          -0.7227296757790806
         ]
        },
        {
         "line": {
          "color": "lightgray",
          "width": 1
         },
         "mode": "lines",
         "type": "scatter",
         "x": [
          -0.5518346330746787,
          -0.278231951866899
         ],
         "y": [
          -0.20347522493435183,
          -0.4788627466713346
         ]
        },
        {
         "line": {
          "color": "darkblue",
          "width": 1
         },
         "mode": "lines",
         "type": "scatter",
         "x": [
          0.821946468210322,
          0.7903440977923845
         ],
         "y": [
          -0.5376566668384067,
          -0.5228755269922652
         ]
        },
        {
         "line": {
          "color": "darkblue",
          "width": 1
         },
         "mode": "lines",
         "type": "scatter",
         "x": [
          0.3330448392384936,
          0.9227817640400293
         ],
         "y": [
          -0.8340062657872137,
          0.029458794541957063
         ]
        },
        {
         "line": {
          "color": "lightgray",
          "width": 1
         },
         "mode": "lines",
         "type": "scatter",
         "x": [
          -0.9255085009862662,
          -0.278231951866899
         ],
         "y": [
          0.4156074772474138,
          -0.4788627466713346
         ]
        },
        {
         "line": {
          "color": "lightgray",
          "width": 1
         },
         "mode": "lines",
         "type": "scatter",
         "x": [
          0.17286174615058908,
          0.7848921790023624
         ],
         "y": [
          0.6109180479784145,
          -0.2454827409792513
         ]
        },
        {
         "line": {
          "color": "lightgray",
          "width": 1
         },
         "mode": "lines",
         "type": "scatter",
         "x": [
          -0.5518346330746787,
          0.7845701886498891
         ],
         "y": [
          -0.20347522493435183,
          -0.4702501081521776
         ]
        },
        {
         "line": {
          "color": "darkblue",
          "width": 1
         },
         "mode": "lines",
         "type": "scatter",
         "x": [
          0.17286174615058908,
          -0.7605345776401973
         ],
         "y": [
          0.6109180479784145,
          0.28735490924116186
         ]
        },
        {
         "line": {
          "color": "lightgray",
          "width": 1
         },
         "mode": "lines",
         "type": "scatter",
         "x": [
          -0.9739462100511188,
          0.7013791398643786
         ],
         "y": [
          0.15588962822060787,
          -0.594040447917239
         ]
        },
        {
         "line": {
          "color": "lightgray",
          "width": 1
         },
         "mode": "lines",
         "type": "scatter",
         "x": [
          -0.4782468403548081,
          0.7848921790023624
         ],
         "y": [
          0.8192451596907109,
          -0.2454827409792513
         ]
        },
        {
         "line": {
          "color": "darkblue",
          "width": 1
         },
         "mode": "lines",
         "type": "scatter",
         "x": [
          0.7845701886498891,
          0.510738532629225
         ],
         "y": [
          -0.4702501081521776,
          -0.8112387243894809
         ]
        },
        {
         "line": {
          "color": "lightgray",
          "width": 1
         },
         "mode": "lines",
         "type": "scatter",
         "x": [
          -0.9151372576982943,
          0.821946468210322
         ],
         "y": [
          0.15511979920707278,
          -0.5376566668384067
         ]
        },
        {
         "line": {
          "color": "darkblue",
          "width": 1
         },
         "mode": "lines",
         "type": "scatter",
         "x": [
          0.0856782687952649,
          -0.6004235446281904
         ],
         "y": [
          0.9124810295755442,
          0.6370991185146676
         ]
        },
        {
         "line": {
          "color": "darkblue",
          "width": 1
         },
         "mode": "lines",
         "type": "scatter",
         "x": [
          0.3330448392384936,
          -0.08629914181214383
         ],
         "y": [
          -0.8340062657872137,
          -0.9369339520980161
         ]
        },
        {
         "line": {
          "color": "lightgray",
          "width": 1
         },
         "mode": "lines",
         "type": "scatter",
         "x": [
          -0.9739462100511188,
          0.9227817640400293
         ],
         "y": [
          0.15588962822060787,
          0.029458794541957063
         ]
        },
        {
         "line": {
          "color": "lightgray",
          "width": 1
         },
         "mode": "lines",
         "type": "scatter",
         "x": [
          -0.9151372576982943,
          0.2156727182715702
         ],
         "y": [
          0.15511979920707278,
          -0.7887235348795513
         ]
        },
        {
         "line": {
          "color": "lightgray",
          "width": 1
         },
         "mode": "lines",
         "type": "scatter",
         "x": [
          -0.7082756557903018,
          -0.13617797378549315
         ],
         "y": [
          0.6253190923496244,
          -0.6677698899093224
         ]
        },
        {
         "line": {
          "color": "darkblue",
          "width": 1
         },
         "mode": "lines",
         "type": "scatter",
         "x": [
          -0.6004235446281904,
          -0.6004235446281904
         ],
         "y": [
          0.6370991185146676,
          0.6370991185146676
         ]
        },
        {
         "line": {
          "color": "lightgray",
          "width": 1
         },
         "mode": "lines",
         "type": "scatter",
         "x": [
          -0.3718304348748292,
          0.7845701886498891
         ],
         "y": [
          0.889405011839641,
          -0.4702501081521776
         ]
        },
        {
         "line": {
          "color": "lightgray",
          "width": 1
         },
         "mode": "lines",
         "type": "scatter",
         "x": [
          -0.4782468403548081,
          0.510738532629225
         ],
         "y": [
          0.8192451596907109,
          -0.8112387243894809
         ]
        },
        {
         "line": {
          "color": "lightgray",
          "width": 1
         },
         "mode": "lines",
         "type": "scatter",
         "x": [
          -0.9739462100511188,
          0.014910717236521208
         ],
         "y": [
          0.15588962822060787,
          -0.7726759134396349
         ]
        },
        {
         "line": {
          "color": "lightgray",
          "width": 1
         },
         "mode": "lines",
         "type": "scatter",
         "x": [
          -0.9739462100511188,
          0.7848921790023624
         ],
         "y": [
          0.15588962822060787,
          -0.2454827409792513
         ]
        },
        {
         "line": {
          "color": "lightgray",
          "width": 1
         },
         "mode": "lines",
         "type": "scatter",
         "x": [
          0.3341323589999464,
          0.2156727182715702
         ],
         "y": [
          0.6276510584927125,
          -0.7887235348795513
         ]
        },
        {
         "line": {
          "color": "darkblue",
          "width": 1
         },
         "mode": "lines",
         "type": "scatter",
         "x": [
          -0.7082756557903018,
          -0.3718304348748292
         ],
         "y": [
          0.6253190923496244,
          0.889405011839641
         ]
        },
        {
         "line": {
          "color": "lightgray",
          "width": 1
         },
         "mode": "lines",
         "type": "scatter",
         "x": [
          -0.3718304348748292,
          0.7848921790023624
         ],
         "y": [
          0.889405011839641,
          -0.2454827409792513
         ]
        },
        {
         "line": {
          "color": "darkblue",
          "width": 1
         },
         "mode": "lines",
         "type": "scatter",
         "x": [
          0.6386071880364272,
          0.821946468210322
         ],
         "y": [
          0.13116385461911206,
          -0.5376566668384067
         ]
        },
        {
         "line": {
          "color": "darkblue",
          "width": 1
         },
         "mode": "lines",
         "type": "scatter",
         "x": [
          0.7845701886498891,
          -0.278231951866899
         ],
         "y": [
          -0.4702501081521776,
          -0.4788627466713346
         ]
        },
        {
         "line": {
          "color": "darkblue",
          "width": 1
         },
         "mode": "lines",
         "type": "scatter",
         "x": [
          0.8231470249802241,
          0.7848921790023624
         ],
         "y": [
          -0.33873032683507903,
          -0.2454827409792513
         ]
        },
        {
         "line": {
          "color": "darkblue",
          "width": 1
         },
         "mode": "lines",
         "type": "scatter",
         "x": [
          0.0856782687952649,
          -0.6004235446281904
         ],
         "y": [
          0.9124810295755442,
          0.6370991185146676
         ]
        },
        {
         "line": {
          "color": "lightgray",
          "width": 1
         },
         "mode": "lines",
         "type": "scatter",
         "x": [
          -0.7605345776401973,
          -0.038399276125469936
         ],
         "y": [
          0.28735490924116186,
          -0.8589465139367477
         ]
        },
        {
         "line": {
          "color": "lightgray",
          "width": 1
         },
         "mode": "lines",
         "type": "scatter",
         "x": [
          -0.3718304348748292,
          0.8231470249802241
         ],
         "y": [
          0.889405011839641,
          -0.33873032683507903
         ]
        },
        {
         "line": {
          "color": "darkblue",
          "width": 1
         },
         "mode": "lines",
         "type": "scatter",
         "x": [
          0.7013791398643786,
          0.8231470249802241
         ],
         "y": [
          -0.594040447917239,
          -0.33873032683507903
         ]
        },
        {
         "line": {
          "color": "darkblue",
          "width": 1
         },
         "mode": "lines",
         "type": "scatter",
         "x": [
          0.7314587219711344,
          0.821946468210322
         ],
         "y": [
          -0.6744984707757519,
          -0.5376566668384067
         ]
        },
        {
         "line": {
          "color": "darkblue",
          "width": 1
         },
         "mode": "lines",
         "type": "scatter",
         "x": [
          0.7314587219711344,
          -0.3114456606027594
         ],
         "y": [
          -0.6744984707757519,
          -0.6739529679071985
         ]
        },
        {
         "line": {
          "color": "darkblue",
          "width": 1
         },
         "mode": "lines",
         "type": "scatter",
         "x": [
          -0.7566061026918331,
          -0.5518346330746787
         ],
         "y": [
          0.7987976960830132,
          -0.20347522493435183
         ]
        },
        {
         "line": {
          "color": "lightgray",
          "width": 1
         },
         "mode": "lines",
         "type": "scatter",
         "x": [
          -0.7605345776401973,
          -0.08629914181214383
         ],
         "y": [
          0.28735490924116186,
          -0.9369339520980161
         ]
        },
        {
         "line": {
          "color": "darkblue",
          "width": 1
         },
         "mode": "lines",
         "type": "scatter",
         "x": [
          0.7314587219711344,
          0.510738532629225
         ],
         "y": [
          -0.6744984707757519,
          -0.8112387243894809
         ]
        },
        {
         "line": {
          "color": "lightgray",
          "width": 1
         },
         "mode": "lines",
         "type": "scatter",
         "x": [
          -0.6004235446281904,
          0.510738532629225
         ],
         "y": [
          0.6370991185146676,
          -0.8112387243894809
         ]
        },
        {
         "line": {
          "color": "darkblue",
          "width": 1
         },
         "mode": "lines",
         "type": "scatter",
         "x": [
          0.07578275185778272,
          0.821946468210322
         ],
         "y": [
          -0.7227296757790806,
          -0.5376566668384067
         ]
        },
        {
         "line": {
          "color": "darkblue",
          "width": 1
         },
         "mode": "lines",
         "type": "scatter",
         "x": [
          0.7314587219711344,
          -0.13617797378549315
         ],
         "y": [
          -0.6744984707757519,
          -0.6677698899093224
         ]
        },
        {
         "line": {
          "color": "lightgray",
          "width": 1
         },
         "mode": "lines",
         "type": "scatter",
         "x": [
          -0.7605345776401973,
          0.014910717236521208
         ],
         "y": [
          0.28735490924116186,
          -0.7726759134396349
         ]
        },
        {
         "line": {
          "color": "darkblue",
          "width": 1
         },
         "mode": "lines",
         "type": "scatter",
         "x": [
          0.7845701886498891,
          0.6108745154405566
         ],
         "y": [
          -0.4702501081521776,
          -0.5733676800755454
         ]
        },
        {
         "line": {
          "color": "darkblue",
          "width": 1
         },
         "mode": "lines",
         "type": "scatter",
         "x": [
          0.6386071880364272,
          0.7314587219711344
         ],
         "y": [
          0.13116385461911206,
          -0.6744984707757519
         ]
        },
        {
         "line": {
          "color": "darkblue",
          "width": 1
         },
         "mode": "lines",
         "type": "scatter",
         "x": [
          -0.3718304348748292,
          -0.5518346330746787
         ],
         "y": [
          0.889405011839641,
          -0.20347522493435183
         ]
        },
        {
         "line": {
          "color": "darkblue",
          "width": 1
         },
         "mode": "lines",
         "type": "scatter",
         "x": [
          0.9227817640400293,
          0.5578103471991686
         ],
         "y": [
          0.029458794541957063,
          0.20540946402350227
         ]
        },
        {
         "line": {
          "color": "lightgray",
          "width": 1
         },
         "mode": "lines",
         "type": "scatter",
         "x": [
          -0.8165996085805034,
          0.7903440977923845
         ],
         "y": [
          0.5807746769754708,
          -0.5228755269922652
         ]
        },
        {
         "line": {
          "color": "lightgray",
          "width": 1
         },
         "mode": "lines",
         "type": "scatter",
         "x": [
          -0.7082756557903018,
          0.821946468210322
         ],
         "y": [
          0.6253190923496244,
          -0.5376566668384067
         ]
        },
        {
         "line": {
          "color": "darkblue",
          "width": 1
         },
         "mode": "lines",
         "type": "scatter",
         "x": [
          0.821946468210322,
          0.3330448392384936
         ],
         "y": [
          -0.5376566668384067,
          -0.8340062657872137
         ]
        },
        {
         "line": {
          "color": "lightgray",
          "width": 1
         },
         "mode": "lines",
         "type": "scatter",
         "x": [
          0.3341323589999464,
          -0.038399276125469936
         ],
         "y": [
          0.6276510584927125,
          -0.8589465139367477
         ]
        },
        {
         "line": {
          "color": "lightgray",
          "width": 1
         },
         "mode": "lines",
         "type": "scatter",
         "x": [
          -0.8165996085805034,
          0.6386071880364272
         ],
         "y": [
          0.5807746769754708,
          0.13116385461911206
         ]
        },
        {
         "line": {
          "color": "lightgray",
          "width": 1
         },
         "mode": "lines",
         "type": "scatter",
         "x": [
          -0.4782468403548081,
          0.7314587219711344
         ],
         "y": [
          0.8192451596907109,
          -0.6744984707757519
         ]
        },
        {
         "line": {
          "color": "lightgray",
          "width": 1
         },
         "mode": "lines",
         "type": "scatter",
         "x": [
          -0.5518346330746787,
          0.7903440977923845
         ],
         "y": [
          -0.20347522493435183,
          -0.5228755269922652
         ]
        },
        {
         "line": {
          "color": "lightgray",
          "width": 1
         },
         "mode": "lines",
         "type": "scatter",
         "x": [
          -0.7566061026918331,
          -0.278231951866899
         ],
         "y": [
          0.7987976960830132,
          -0.4788627466713346
         ]
        },
        {
         "line": {
          "color": "darkblue",
          "width": 1
         },
         "mode": "lines",
         "type": "scatter",
         "x": [
          0.6108745154405566,
          0.510738532629225
         ],
         "y": [
          -0.5733676800755454,
          -0.8112387243894809
         ]
        },
        {
         "line": {
          "color": "lightgray",
          "width": 1
         },
         "mode": "lines",
         "type": "scatter",
         "x": [
          -0.9151372576982943,
          0.7314587219711344
         ],
         "y": [
          0.15511979920707278,
          -0.6744984707757519
         ]
        },
        {
         "line": {
          "color": "lightgray",
          "width": 1
         },
         "mode": "lines",
         "type": "scatter",
         "x": [
          -0.5518346330746787,
          0.014910717236521208
         ],
         "y": [
          -0.20347522493435183,
          -0.7726759134396349
         ]
        },
        {
         "line": {
          "color": "lightgray",
          "width": 1
         },
         "mode": "lines",
         "type": "scatter",
         "x": [
          -0.8960744076451393,
          0.2156727182715702
         ],
         "y": [
          -0.12230556515037556,
          -0.7887235348795513
         ]
        },
        {
         "line": {
          "color": "darkblue",
          "width": 1
         },
         "mode": "lines",
         "type": "scatter",
         "x": [
          0.5578103471991686,
          0.510738532629225
         ],
         "y": [
          0.20540946402350227,
          -0.8112387243894809
         ]
        },
        {
         "line": {
          "color": "darkblue",
          "width": 1
         },
         "mode": "lines",
         "type": "scatter",
         "x": [
          0.7845701886498891,
          0.821946468210322
         ],
         "y": [
          -0.4702501081521776,
          -0.5376566668384067
         ]
        },
        {
         "line": {
          "color": "lightgray",
          "width": 1
         },
         "mode": "lines",
         "type": "scatter",
         "x": [
          -0.7566061026918331,
          0.3330448392384936
         ],
         "y": [
          0.7987976960830132,
          -0.8340062657872137
         ]
        },
        {
         "line": {
          "color": "darkblue",
          "width": 1
         },
         "mode": "lines",
         "type": "scatter",
         "x": [
          0.7650494797310291,
          0.821946468210322
         ],
         "y": [
          0.26190397562901585,
          -0.5376566668384067
         ]
        },
        {
         "line": {
          "color": "lightgray",
          "width": 1
         },
         "mode": "lines",
         "type": "scatter",
         "x": [
          -0.5518346330746787,
          0.6108745154405566
         ],
         "y": [
          -0.20347522493435183,
          -0.5733676800755454
         ]
        },
        {
         "line": {
          "color": "darkblue",
          "width": 1
         },
         "mode": "lines",
         "type": "scatter",
         "x": [
          0.17286174615058908,
          -0.3718304348748292
         ],
         "y": [
          0.6109180479784145,
          0.889405011839641
         ]
        },
        {
         "line": {
          "color": "lightgray",
          "width": 1
         },
         "mode": "lines",
         "type": "scatter",
         "x": [
          -0.9255085009862662,
          0.014910717236521208
         ],
         "y": [
          0.4156074772474138,
          -0.7726759134396349
         ]
        },
        {
         "line": {
          "color": "lightgray",
          "width": 1
         },
         "mode": "lines",
         "type": "scatter",
         "x": [
          -0.3718304348748292,
          0.9227817640400293
         ],
         "y": [
          0.889405011839641,
          0.029458794541957063
         ]
        },
        {
         "line": {
          "color": "darkblue",
          "width": 1
         },
         "mode": "lines",
         "type": "scatter",
         "x": [
          0.6386071880364272,
          0.5578103471991686
         ],
         "y": [
          0.13116385461911206,
          0.20540946402350227
         ]
        },
        {
         "line": {
          "color": "lightgray",
          "width": 1
         },
         "mode": "lines",
         "type": "scatter",
         "x": [
          -0.6004235446281904,
          -0.3114456606027594
         ],
         "y": [
          0.6370991185146676,
          -0.6739529679071985
         ]
        },
        {
         "line": {
          "color": "darkblue",
          "width": 1
         },
         "mode": "lines",
         "type": "scatter",
         "x": [
          -0.8960744076451393,
          -0.9151372576982943
         ],
         "y": [
          -0.12230556515037556,
          0.15511979920707278
         ]
        },
        {
         "line": {
          "color": "lightgray",
          "width": 1
         },
         "mode": "lines",
         "type": "scatter",
         "x": [
          -0.7082756557903018,
          0.014910717236521208
         ],
         "y": [
          0.6253190923496244,
          -0.7726759134396349
         ]
        },
        {
         "line": {
          "color": "lightgray",
          "width": 1
         },
         "mode": "lines",
         "type": "scatter",
         "x": [
          -0.7605345776401973,
          0.7013791398643786
         ],
         "y": [
          0.28735490924116186,
          -0.594040447917239
         ]
        },
        {
         "line": {
          "color": "lightgray",
          "width": 1
         },
         "mode": "lines",
         "type": "scatter",
         "x": [
          -0.7605345776401973,
          0.7314587219711344
         ],
         "y": [
          0.28735490924116186,
          -0.6744984707757519
         ]
        },
        {
         "line": {
          "color": "darkblue",
          "width": 1
         },
         "mode": "lines",
         "type": "scatter",
         "x": [
          -0.6004235446281904,
          -0.3718304348748292
         ],
         "y": [
          0.6370991185146676,
          0.889405011839641
         ]
        },
        {
         "line": {
          "color": "lightgray",
          "width": 1
         },
         "mode": "lines",
         "type": "scatter",
         "x": [
          -0.8960744076451393,
          -0.038399276125469936
         ],
         "y": [
          -0.12230556515037556,
          -0.8589465139367477
         ]
        },
        {
         "line": {
          "color": "lightgray",
          "width": 1
         },
         "mode": "lines",
         "type": "scatter",
         "x": [
          -0.8960744076451393,
          -0.13617797378549315
         ],
         "y": [
          -0.12230556515037556,
          -0.6677698899093224
         ]
        },
        {
         "line": {
          "color": "lightgray",
          "width": 1
         },
         "mode": "lines",
         "type": "scatter",
         "x": [
          -0.7566061026918331,
          0.7013791398643786
         ],
         "y": [
          0.7987976960830132,
          -0.594040447917239
         ]
        },
        {
         "line": {
          "color": "darkblue",
          "width": 1
         },
         "mode": "lines",
         "type": "scatter",
         "x": [
          -0.278231951866899,
          -0.13617797378549315
         ],
         "y": [
          -0.4788627466713346,
          -0.6677698899093224
         ]
        },
        {
         "line": {
          "color": "darkblue",
          "width": 1
         },
         "mode": "lines",
         "type": "scatter",
         "x": [
          0.07578275185778272,
          -0.08629914181214383
         ],
         "y": [
          -0.7227296757790806,
          -0.9369339520980161
         ]
        },
        {
         "line": {
          "color": "lightgray",
          "width": 1
         },
         "mode": "lines",
         "type": "scatter",
         "x": [
          -0.5518346330746787,
          -0.038399276125469936
         ],
         "y": [
          -0.20347522493435183,
          -0.8589465139367477
         ]
        },
        {
         "line": {
          "color": "lightgray",
          "width": 1
         },
         "mode": "lines",
         "type": "scatter",
         "x": [
          0.17286174615058908,
          0.510738532629225
         ],
         "y": [
          0.6109180479784145,
          -0.8112387243894809
         ]
        },
        {
         "line": {
          "color": "lightgray",
          "width": 1
         },
         "mode": "lines",
         "type": "scatter",
         "x": [
          -0.8165996085805034,
          -0.3114456606027594
         ],
         "y": [
          0.5807746769754708,
          -0.6739529679071985
         ]
        },
        {
         "line": {
          "color": "lightgray",
          "width": 1
         },
         "mode": "lines",
         "type": "scatter",
         "x": [
          -0.7605345776401973,
          0.5578103471991686
         ],
         "y": [
          0.28735490924116186,
          0.20540946402350227
         ]
        },
        {
         "line": {
          "color": "darkblue",
          "width": 1
         },
         "mode": "lines",
         "type": "scatter",
         "x": [
          -0.3114456606027594,
          0.7848921790023624
         ],
         "y": [
          -0.6739529679071985,
          -0.2454827409792513
         ]
        },
        {
         "line": {
          "color": "darkblue",
          "width": 1
         },
         "mode": "lines",
         "type": "scatter",
         "x": [
          0.821946468210322,
          0.510738532629225
         ],
         "y": [
          -0.5376566668384067,
          -0.8112387243894809
         ]
        },
        {
         "line": {
          "color": "darkblue",
          "width": 1
         },
         "mode": "lines",
         "type": "scatter",
         "x": [
          0.6386071880364272,
          -0.13617797378549315
         ],
         "y": [
          0.13116385461911206,
          -0.6677698899093224
         ]
        },
        {
         "line": {
          "color": "lightgray",
          "width": 1
         },
         "mode": "lines",
         "type": "scatter",
         "x": [
          -0.9151372576982943,
          0.7903440977923845
         ],
         "y": [
          0.15511979920707278,
          -0.5228755269922652
         ]
        },
        {
         "line": {
          "color": "darkblue",
          "width": 1
         },
         "mode": "lines",
         "type": "scatter",
         "x": [
          0.7845701886498891,
          0.7903440977923845
         ],
         "y": [
          -0.4702501081521776,
          -0.5228755269922652
         ]
        },
        {
         "line": {
          "color": "lightgray",
          "width": 1
         },
         "mode": "lines",
         "type": "scatter",
         "x": [
          -0.7605345776401973,
          -0.13617797378549315
         ],
         "y": [
          0.28735490924116186,
          -0.6677698899093224
         ]
        },
        {
         "line": {
          "color": "darkblue",
          "width": 1
         },
         "mode": "lines",
         "type": "scatter",
         "x": [
          0.7845701886498891,
          0.3330448392384936
         ],
         "y": [
          -0.4702501081521776,
          -0.8340062657872137
         ]
        },
        {
         "line": {
          "color": "lightgray",
          "width": 1
         },
         "mode": "lines",
         "type": "scatter",
         "x": [
          0.20122273875243868,
          0.2156727182715702
         ],
         "y": [
          1,
          -0.7887235348795513
         ]
        },
        {
         "line": {
          "color": "darkblue",
          "width": 1
         },
         "mode": "lines",
         "type": "scatter",
         "x": [
          0.3330448392384936,
          -0.3114456606027594
         ],
         "y": [
          -0.8340062657872137,
          -0.6739529679071985
         ]
        },
        {
         "line": {
          "color": "lightgray",
          "width": 1
         },
         "mode": "lines",
         "type": "scatter",
         "x": [
          -0.8569137617363639,
          0.7845701886498891
         ],
         "y": [
          0.27702130549198284,
          -0.4702501081521776
         ]
        },
        {
         "line": {
          "color": "darkblue",
          "width": 1
         },
         "mode": "lines",
         "type": "scatter",
         "x": [
          -0.4782468403548081,
          0.0856782687952649
         ],
         "y": [
          0.8192451596907109,
          0.9124810295755442
         ]
        },
        {
         "line": {
          "color": "lightgray",
          "width": 1
         },
         "mode": "lines",
         "type": "scatter",
         "x": [
          -0.7566061026918331,
          -0.13617797378549315
         ],
         "y": [
          0.7987976960830132,
          -0.6677698899093224
         ]
        },
        {
         "line": {
          "color": "lightgray",
          "width": 1
         },
         "mode": "lines",
         "type": "scatter",
         "x": [
          -0.6004235446281904,
          0.6108745154405566
         ],
         "y": [
          0.6370991185146676,
          -0.5733676800755454
         ]
        },
        {
         "line": {
          "color": "lightgray",
          "width": 1
         },
         "mode": "lines",
         "type": "scatter",
         "x": [
          0.0856782687952649,
          0.5578103471991686
         ],
         "y": [
          0.9124810295755442,
          0.20540946402350227
         ]
        },
        {
         "line": {
          "color": "lightgray",
          "width": 1
         },
         "mode": "lines",
         "type": "scatter",
         "x": [
          -0.21874065182410288,
          0.8231470249802241
         ],
         "y": [
          0.9173139322490603,
          -0.33873032683507903
         ]
        },
        {
         "line": {
          "color": "lightgray",
          "width": 1
         },
         "mode": "lines",
         "type": "scatter",
         "x": [
          0.41841412245343573,
          0.9227817640400293
         ],
         "y": [
          0.6013098799193504,
          0.029458794541957063
         ]
        },
        {
         "line": {
          "color": "darkblue",
          "width": 1
         },
         "mode": "lines",
         "type": "scatter",
         "x": [
          0.20122273875243868,
          -0.8569137617363639
         ],
         "y": [
          1,
          0.27702130549198284
         ]
        },
        {
         "line": {
          "color": "darkblue",
          "width": 1
         },
         "mode": "lines",
         "type": "scatter",
         "x": [
          -0.9739462100511188,
          -0.8960744076451393
         ],
         "y": [
          0.15588962822060787,
          -0.12230556515037556
         ]
        },
        {
         "line": {
          "color": "lightgray",
          "width": 1
         },
         "mode": "lines",
         "type": "scatter",
         "x": [
          -0.9255085009862662,
          0.8231470249802241
         ],
         "y": [
          0.4156074772474138,
          -0.33873032683507903
         ]
        },
        {
         "line": {
          "color": "darkblue",
          "width": 1
         },
         "mode": "lines",
         "type": "scatter",
         "x": [
          0.2156727182715702,
          0.510738532629225
         ],
         "y": [
          -0.7887235348795513,
          -0.8112387243894809
         ]
        },
        {
         "line": {
          "color": "darkblue",
          "width": 1
         },
         "mode": "lines",
         "type": "scatter",
         "x": [
          0.6108745154405566,
          0.8231470249802241
         ],
         "y": [
          -0.5733676800755454,
          -0.33873032683507903
         ]
        },
        {
         "line": {
          "color": "darkblue",
          "width": 1
         },
         "mode": "lines",
         "type": "scatter",
         "x": [
          0.7845701886498891,
          -0.038399276125469936
         ],
         "y": [
          -0.4702501081521776,
          -0.8589465139367477
         ]
        },
        {
         "line": {
          "color": "darkblue",
          "width": 1
         },
         "mode": "lines",
         "type": "scatter",
         "x": [
          -0.278231951866899,
          0.3330448392384936
         ],
         "y": [
          -0.4788627466713346,
          -0.8340062657872137
         ]
        },
        {
         "line": {
          "color": "darkblue",
          "width": 1
         },
         "mode": "lines",
         "type": "scatter",
         "x": [
          0.014910717236521208,
          0.7848921790023624
         ],
         "y": [
          -0.7726759134396349,
          -0.2454827409792513
         ]
        },
        {
         "line": {
          "color": "darkblue",
          "width": 1
         },
         "mode": "lines",
         "type": "scatter",
         "x": [
          -0.4782468403548081,
          -0.8165996085805034
         ],
         "y": [
          0.8192451596907109,
          0.5807746769754708
         ]
        },
        {
         "line": {
          "color": "lightgray",
          "width": 1
         },
         "mode": "lines",
         "type": "scatter",
         "x": [
          0.20122273875243868,
          -0.08629914181214383
         ],
         "y": [
          1,
          -0.9369339520980161
         ]
        },
        {
         "line": {
          "color": "lightgray",
          "width": 1
         },
         "mode": "lines",
         "type": "scatter",
         "x": [
          -0.7566061026918331,
          0.7848921790023624
         ],
         "y": [
          0.7987976960830132,
          -0.2454827409792513
         ]
        },
        {
         "line": {
          "color": "darkblue",
          "width": 1
         },
         "mode": "lines",
         "type": "scatter",
         "x": [
          0.7650494797310291,
          0.7314587219711344
         ],
         "y": [
          0.26190397562901585,
          -0.6744984707757519
         ]
        },
        {
         "line": {
          "color": "lightgray",
          "width": 1
         },
         "mode": "lines",
         "type": "scatter",
         "x": [
          -0.8569137617363639,
          0.7650494797310291
         ],
         "y": [
          0.27702130549198284,
          0.26190397562901585
         ]
        },
        {
         "line": {
          "color": "lightgray",
          "width": 1
         },
         "mode": "lines",
         "type": "scatter",
         "x": [
          -0.5518346330746787,
          0.7848921790023624
         ],
         "y": [
          -0.20347522493435183,
          -0.2454827409792513
         ]
        },
        {
         "line": {
          "color": "lightgray",
          "width": 1
         },
         "mode": "lines",
         "type": "scatter",
         "x": [
          -0.5518346330746787,
          0.7650494797310291
         ],
         "y": [
          -0.20347522493435183,
          0.26190397562901585
         ]
        },
        {
         "line": {
          "color": "lightgray",
          "width": 1
         },
         "mode": "lines",
         "type": "scatter",
         "x": [
          0.20122273875243868,
          0.6386071880364272
         ],
         "y": [
          1,
          0.13116385461911206
         ]
        },
        {
         "line": {
          "color": "darkblue",
          "width": 1
         },
         "mode": "lines",
         "type": "scatter",
         "x": [
          0.8231470249802241,
          0.2156727182715702
         ],
         "y": [
          -0.33873032683507903,
          -0.7887235348795513
         ]
        },
        {
         "line": {
          "color": "darkblue",
          "width": 1
         },
         "mode": "lines",
         "type": "scatter",
         "x": [
          -0.7566061026918331,
          -0.6004235446281904
         ],
         "y": [
          0.7987976960830132,
          0.6370991185146676
         ]
        },
        {
         "line": {
          "color": "darkblue",
          "width": 1
         },
         "mode": "lines",
         "type": "scatter",
         "x": [
          -0.3718304348748292,
          -0.7605345776401973
         ],
         "y": [
          0.889405011839641,
          0.28735490924116186
         ]
        },
        {
         "line": {
          "color": "lightgray",
          "width": 1
         },
         "mode": "lines",
         "type": "scatter",
         "x": [
          -0.3718304348748292,
          0.7650494797310291
         ],
         "y": [
          0.889405011839641,
          0.26190397562901585
         ]
        },
        {
         "line": {
          "color": "darkblue",
          "width": 1
         },
         "mode": "lines",
         "type": "scatter",
         "x": [
          0.07578275185778272,
          -0.038399276125469936
         ],
         "y": [
          -0.7227296757790806,
          -0.8589465139367477
         ]
        },
        {
         "line": {
          "color": "darkblue",
          "width": 1
         },
         "mode": "lines",
         "type": "scatter",
         "x": [
          0.7845701886498891,
          0.9227817640400293
         ],
         "y": [
          -0.4702501081521776,
          0.029458794541957063
         ]
        },
        {
         "line": {
          "color": "darkblue",
          "width": 1
         },
         "mode": "lines",
         "type": "scatter",
         "x": [
          -0.7566061026918331,
          -0.7605345776401973
         ],
         "y": [
          0.7987976960830132,
          0.28735490924116186
         ]
        },
        {
         "line": {
          "color": "darkblue",
          "width": 1
         },
         "mode": "lines",
         "type": "scatter",
         "x": [
          0.41841412245343573,
          -0.7566061026918331
         ],
         "y": [
          0.6013098799193504,
          0.7987976960830132
         ]
        },
        {
         "line": {
          "color": "darkblue",
          "width": 1
         },
         "mode": "lines",
         "type": "scatter",
         "x": [
          0.07578275185778272,
          0.5578103471991686
         ],
         "y": [
          -0.7227296757790806,
          0.20540946402350227
         ]
        },
        {
         "line": {
          "color": "lightgray",
          "width": 1
         },
         "mode": "lines",
         "type": "scatter",
         "x": [
          -0.7605345776401973,
          0.510738532629225
         ],
         "y": [
          0.28735490924116186,
          -0.8112387243894809
         ]
        },
        {
         "line": {
          "color": "darkblue",
          "width": 1
         },
         "mode": "lines",
         "type": "scatter",
         "x": [
          0.6386071880364272,
          0.9227817640400293
         ],
         "y": [
          0.13116385461911206,
          0.029458794541957063
         ]
        },
        {
         "line": {
          "color": "lightgray",
          "width": 1
         },
         "mode": "lines",
         "type": "scatter",
         "x": [
          -0.9151372576982943,
          -0.038399276125469936
         ],
         "y": [
          0.15511979920707278,
          -0.8589465139367477
         ]
        },
        {
         "line": {
          "color": "darkblue",
          "width": 1
         },
         "mode": "lines",
         "type": "scatter",
         "x": [
          0.7650494797310291,
          0.7845701886498891
         ],
         "y": [
          0.26190397562901585,
          -0.4702501081521776
         ]
        },
        {
         "line": {
          "color": "lightgray",
          "width": 1
         },
         "mode": "lines",
         "type": "scatter",
         "x": [
          0.20122273875243868,
          0.014910717236521208
         ],
         "y": [
          1,
          -0.7726759134396349
         ]
        },
        {
         "line": {
          "color": "darkblue",
          "width": 1
         },
         "mode": "lines",
         "type": "scatter",
         "x": [
          0.014910717236521208,
          -0.278231951866899
         ],
         "y": [
          -0.7726759134396349,
          -0.4788627466713346
         ]
        },
        {
         "line": {
          "color": "lightgray",
          "width": 1
         },
         "mode": "lines",
         "type": "scatter",
         "x": [
          -0.5518346330746787,
          0.3330448392384936
         ],
         "y": [
          -0.20347522493435183,
          -0.8340062657872137
         ]
        },
        {
         "line": {
          "color": "darkblue",
          "width": 1
         },
         "mode": "lines",
         "type": "scatter",
         "x": [
          -0.4782468403548081,
          -0.8569137617363639
         ],
         "y": [
          0.8192451596907109,
          0.27702130549198284
         ]
        },
        {
         "line": {
          "color": "darkblue",
          "width": 1
         },
         "mode": "lines",
         "type": "scatter",
         "x": [
          0.014910717236521208,
          -0.038399276125469936
         ],
         "y": [
          -0.7726759134396349,
          -0.8589465139367477
         ]
        },
        {
         "line": {
          "color": "lightgray",
          "width": 1
         },
         "mode": "lines",
         "type": "scatter",
         "x": [
          -0.8569137617363639,
          0.014910717236521208
         ],
         "y": [
          0.27702130549198284,
          -0.7726759134396349
         ]
        },
        {
         "line": {
          "color": "lightgray",
          "width": 1
         },
         "mode": "lines",
         "type": "scatter",
         "x": [
          -0.3718304348748292,
          0.2156727182715702
         ],
         "y": [
          0.889405011839641,
          -0.7887235348795513
         ]
        },
        {
         "line": {
          "color": "lightgray",
          "width": 1
         },
         "mode": "lines",
         "type": "scatter",
         "x": [
          -0.8165996085805034,
          -0.038399276125469936
         ],
         "y": [
          0.5807746769754708,
          -0.8589465139367477
         ]
        },
        {
         "line": {
          "color": "darkblue",
          "width": 1
         },
         "mode": "lines",
         "type": "scatter",
         "x": [
          -0.6140937175337806,
          -0.7082756557903018
         ],
         "y": [
          0.8892790315579895,
          0.6253190923496244
         ]
        },
        {
         "line": {
          "color": "lightgray",
          "width": 1
         },
         "mode": "lines",
         "type": "scatter",
         "x": [
          0.41841412245343573,
          -0.278231951866899
         ],
         "y": [
          0.6013098799193504,
          -0.4788627466713346
         ]
        },
        {
         "line": {
          "color": "darkblue",
          "width": 1
         },
         "mode": "lines",
         "type": "scatter",
         "x": [
          0.7013791398643786,
          0.7314587219711344
         ],
         "y": [
          -0.594040447917239,
          -0.6744984707757519
         ]
        },
        {
         "line": {
          "color": "lightgray",
          "width": 1
         },
         "mode": "lines",
         "type": "scatter",
         "x": [
          -0.9739462100511188,
          -0.08629914181214383
         ],
         "y": [
          0.15588962822060787,
          -0.9369339520980161
         ]
        },
        {
         "line": {
          "color": "darkblue",
          "width": 1
         },
         "mode": "lines",
         "type": "scatter",
         "x": [
          0.0856782687952649,
          -0.5518346330746787
         ],
         "y": [
          0.9124810295755442,
          -0.20347522493435183
         ]
        },
        {
         "line": {
          "color": "lightgray",
          "width": 1
         },
         "mode": "lines",
         "type": "scatter",
         "x": [
          0.41841412245343573,
          0.8231470249802241
         ],
         "y": [
          0.6013098799193504,
          -0.33873032683507903
         ]
        },
        {
         "line": {
          "color": "darkblue",
          "width": 1
         },
         "mode": "lines",
         "type": "scatter",
         "x": [
          -0.278231951866899,
          0.5578103471991686
         ],
         "y": [
          -0.4788627466713346,
          0.20540946402350227
         ]
        },
        {
         "line": {
          "color": "lightgray",
          "width": 1
         },
         "mode": "lines",
         "type": "scatter",
         "x": [
          -0.7566061026918331,
          0.821946468210322
         ],
         "y": [
          0.7987976960830132,
          -0.5376566668384067
         ]
        },
        {
         "line": {
          "color": "lightgray",
          "width": 1
         },
         "mode": "lines",
         "type": "scatter",
         "x": [
          -0.8165996085805034,
          0.014910717236521208
         ],
         "y": [
          0.5807746769754708,
          -0.7726759134396349
         ]
        },
        {
         "line": {
          "color": "darkblue",
          "width": 1
         },
         "mode": "lines",
         "type": "scatter",
         "x": [
          0.07578275185778272,
          0.7848921790023624
         ],
         "y": [
          -0.7227296757790806,
          -0.2454827409792513
         ]
        },
        {
         "line": {
          "color": "lightgray",
          "width": 1
         },
         "mode": "lines",
         "type": "scatter",
         "x": [
          -0.8960744076451393,
          0.5578103471991686
         ],
         "y": [
          -0.12230556515037556,
          0.20540946402350227
         ]
        },
        {
         "line": {
          "color": "darkblue",
          "width": 1
         },
         "mode": "lines",
         "type": "scatter",
         "x": [
          -0.6004235446281904,
          -0.8569137617363639
         ],
         "y": [
          0.6370991185146676,
          0.27702130549198284
         ]
        },
        {
         "line": {
          "color": "darkblue",
          "width": 1
         },
         "mode": "lines",
         "type": "scatter",
         "x": [
          0.3341323589999464,
          -0.5518346330746787
         ],
         "y": [
          0.6276510584927125,
          -0.20347522493435183
         ]
        },
        {
         "line": {
          "color": "lightgray",
          "width": 1
         },
         "mode": "lines",
         "type": "scatter",
         "x": [
          -0.5518346330746787,
          0.7013791398643786
         ],
         "y": [
          -0.20347522493435183,
          -0.594040447917239
         ]
        },
        {
         "line": {
          "color": "darkblue",
          "width": 1
         },
         "mode": "lines",
         "type": "scatter",
         "x": [
          -0.3718304348748292,
          -0.9151372576982943
         ],
         "y": [
          0.889405011839641,
          0.15511979920707278
         ]
        },
        {
         "line": {
          "color": "lightgray",
          "width": 1
         },
         "mode": "lines",
         "type": "scatter",
         "x": [
          -0.8569137617363639,
          0.7848921790023624
         ],
         "y": [
          0.27702130549198284,
          -0.2454827409792513
         ]
        },
        {
         "line": {
          "color": "lightgray",
          "width": 1
         },
         "mode": "lines",
         "type": "scatter",
         "x": [
          -0.8165996085805034,
          0.821946468210322
         ],
         "y": [
          0.5807746769754708,
          -0.5376566668384067
         ]
        },
        {
         "line": {
          "color": "darkblue",
          "width": 1
         },
         "mode": "lines",
         "type": "scatter",
         "x": [
          0.0856782687952649,
          -0.8569137617363639
         ],
         "y": [
          0.9124810295755442,
          0.27702130549198284
         ]
        },
        {
         "line": {
          "color": "darkblue",
          "width": 1
         },
         "mode": "lines",
         "type": "scatter",
         "x": [
          -0.6140937175337806,
          -0.6004235446281904
         ],
         "y": [
          0.8892790315579895,
          0.6370991185146676
         ]
        },
        {
         "line": {
          "color": "lightgray",
          "width": 1
         },
         "mode": "lines",
         "type": "scatter",
         "x": [
          -0.5518346330746787,
          0.3330448392384936
         ],
         "y": [
          -0.20347522493435183,
          -0.8340062657872137
         ]
        },
        {
         "line": {
          "color": "darkblue",
          "width": 1
         },
         "mode": "lines",
         "type": "scatter",
         "x": [
          -0.9255085009862662,
          -0.6004235446281904
         ],
         "y": [
          0.4156074772474138,
          0.6370991185146676
         ]
        },
        {
         "line": {
          "color": "darkblue",
          "width": 1
         },
         "mode": "lines",
         "type": "scatter",
         "x": [
          0.0856782687952649,
          -0.7082756557903018
         ],
         "y": [
          0.9124810295755442,
          0.6253190923496244
         ]
        },
        {
         "line": {
          "color": "darkblue",
          "width": 1
         },
         "mode": "lines",
         "type": "scatter",
         "x": [
          0.9227817640400293,
          0.7848921790023624
         ],
         "y": [
          0.029458794541957063,
          -0.2454827409792513
         ]
        },
        {
         "line": {
          "color": "lightgray",
          "width": 1
         },
         "mode": "lines",
         "type": "scatter",
         "x": [
          -0.21874065182410288,
          0.07578275185778272
         ],
         "y": [
          0.9173139322490603,
          -0.7227296757790806
         ]
        },
        {
         "line": {
          "color": "lightgray",
          "width": 1
         },
         "mode": "lines",
         "type": "scatter",
         "x": [
          -0.6140937175337806,
          0.7650494797310291
         ],
         "y": [
          0.8892790315579895,
          0.26190397562901585
         ]
        },
        {
         "line": {
          "color": "darkblue",
          "width": 1
         },
         "mode": "lines",
         "type": "scatter",
         "x": [
          0.6108745154405566,
          0.7314587219711344
         ],
         "y": [
          -0.5733676800755454,
          -0.6744984707757519
         ]
        },
        {
         "line": {
          "color": "darkblue",
          "width": 1
         },
         "mode": "lines",
         "type": "scatter",
         "x": [
          0.41841412245343573,
          0.20122273875243868
         ],
         "y": [
          0.6013098799193504,
          1
         ]
        },
        {
         "line": {
          "color": "lightgray",
          "width": 1
         },
         "mode": "lines",
         "type": "scatter",
         "x": [
          0.0856782687952649,
          0.3330448392384936
         ],
         "y": [
          0.9124810295755442,
          -0.8340062657872137
         ]
        },
        {
         "line": {
          "color": "lightgray",
          "width": 1
         },
         "mode": "lines",
         "type": "scatter",
         "x": [
          0.41841412245343573,
          0.7848921790023624
         ],
         "y": [
          0.6013098799193504,
          -0.2454827409792513
         ]
        },
        {
         "line": {
          "color": "lightgray",
          "width": 1
         },
         "mode": "lines",
         "type": "scatter",
         "x": [
          -0.8165996085805034,
          0.7013791398643786
         ],
         "y": [
          0.5807746769754708,
          -0.594040447917239
         ]
        },
        {
         "line": {
          "color": "lightgray",
          "width": 1
         },
         "mode": "lines",
         "type": "scatter",
         "x": [
          -0.8960744076451393,
          -0.3114456606027594
         ],
         "y": [
          -0.12230556515037556,
          -0.6739529679071985
         ]
        },
        {
         "line": {
          "color": "lightgray",
          "width": 1
         },
         "mode": "lines",
         "type": "scatter",
         "x": [
          -0.9739462100511188,
          0.7845701886498891
         ],
         "y": [
          0.15588962822060787,
          -0.4702501081521776
         ]
        },
        {
         "line": {
          "color": "darkblue",
          "width": 1
         },
         "mode": "lines",
         "type": "scatter",
         "x": [
          0.07578275185778272,
          0.2156727182715702
         ],
         "y": [
          -0.7227296757790806,
          -0.7887235348795513
         ]
        },
        {
         "line": {
          "color": "darkblue",
          "width": 1
         },
         "mode": "lines",
         "type": "scatter",
         "x": [
          -0.7566061026918331,
          -0.9151372576982943
         ],
         "y": [
          0.7987976960830132,
          0.15511979920707278
         ]
        },
        {
         "line": {
          "color": "darkblue",
          "width": 1
         },
         "mode": "lines",
         "type": "scatter",
         "x": [
          0.7013791398643786,
          0.7903440977923845
         ],
         "y": [
          -0.594040447917239,
          -0.5228755269922652
         ]
        },
        {
         "line": {
          "color": "darkblue",
          "width": 1
         },
         "mode": "lines",
         "type": "scatter",
         "x": [
          -0.6140937175337806,
          0.3341323589999464
         ],
         "y": [
          0.8892790315579895,
          0.6276510584927125
         ]
        },
        {
         "line": {
          "color": "lightgray",
          "width": 1
         },
         "mode": "lines",
         "type": "scatter",
         "x": [
          0.17286174615058908,
          0.7314587219711344
         ],
         "y": [
          0.6109180479784145,
          -0.6744984707757519
         ]
        },
        {
         "line": {
          "color": "darkblue",
          "width": 1
         },
         "mode": "lines",
         "type": "scatter",
         "x": [
          0.7650494797310291,
          0.9227817640400293
         ],
         "y": [
          0.26190397562901585,
          0.029458794541957063
         ]
        },
        {
         "line": {
          "color": "darkblue",
          "width": 1
         },
         "mode": "lines",
         "type": "scatter",
         "x": [
          0.014910717236521208,
          0.6108745154405566
         ],
         "y": [
          -0.7726759134396349,
          -0.5733676800755454
         ]
        },
        {
         "line": {
          "color": "darkblue",
          "width": 1
         },
         "mode": "lines",
         "type": "scatter",
         "x": [
          0.014910717236521208,
          0.2156727182715702
         ],
         "y": [
          -0.7726759134396349,
          -0.7887235348795513
         ]
        },
        {
         "line": {
          "color": "lightgray",
          "width": 1
         },
         "mode": "lines",
         "type": "scatter",
         "x": [
          -0.6004235446281904,
          0.7650494797310291
         ],
         "y": [
          0.6370991185146676,
          0.26190397562901585
         ]
        },
        {
         "line": {
          "color": "lightgray",
          "width": 1
         },
         "mode": "lines",
         "type": "scatter",
         "x": [
          -0.6004235446281904,
          0.7314587219711344
         ],
         "y": [
          0.6370991185146676,
          -0.6744984707757519
         ]
        },
        {
         "line": {
          "color": "darkblue",
          "width": 1
         },
         "mode": "lines",
         "type": "scatter",
         "x": [
          -0.7082756557903018,
          0.20122273875243868
         ],
         "y": [
          0.6253190923496244,
          1
         ]
        },
        {
         "line": {
          "color": "darkblue",
          "width": 1
         },
         "mode": "lines",
         "type": "scatter",
         "x": [
          0.014910717236521208,
          0.3330448392384936
         ],
         "y": [
          -0.7726759134396349,
          -0.8340062657872137
         ]
        },
        {
         "line": {
          "color": "lightgray",
          "width": 1
         },
         "mode": "lines",
         "type": "scatter",
         "x": [
          -0.5518346330746787,
          0.07578275185778272
         ],
         "y": [
          -0.20347522493435183,
          -0.7227296757790806
         ]
        },
        {
         "line": {
          "color": "darkblue",
          "width": 1
         },
         "mode": "lines",
         "type": "scatter",
         "x": [
          -0.5518346330746787,
          -0.7605345776401973
         ],
         "y": [
          -0.20347522493435183,
          0.28735490924116186
         ]
        },
        {
         "line": {
          "color": "darkblue",
          "width": 1
         },
         "mode": "lines",
         "type": "scatter",
         "x": [
          0.510738532629225,
          -0.13617797378549315
         ],
         "y": [
          -0.8112387243894809,
          -0.6677698899093224
         ]
        },
        {
         "line": {
          "color": "darkblue",
          "width": 1
         },
         "mode": "lines",
         "type": "scatter",
         "x": [
          0.6108745154405566,
          -0.278231951866899
         ],
         "y": [
          -0.5733676800755454,
          -0.4788627466713346
         ]
        },
        {
         "line": {
          "color": "lightgray",
          "width": 1
         },
         "mode": "lines",
         "type": "scatter",
         "x": [
          -0.7082756557903018,
          -0.278231951866899
         ],
         "y": [
          0.6253190923496244,
          -0.4788627466713346
         ]
        },
        {
         "line": {
          "color": "lightgray",
          "width": 1
         },
         "mode": "lines",
         "type": "scatter",
         "x": [
          -0.9739462100511188,
          0.510738532629225
         ],
         "y": [
          0.15588962822060787,
          -0.8112387243894809
         ]
        },
        {
         "line": {
          "color": "lightgray",
          "width": 1
         },
         "mode": "lines",
         "type": "scatter",
         "x": [
          0.0856782687952649,
          -0.08629914181214383
         ],
         "y": [
          0.9124810295755442,
          -0.9369339520980161
         ]
        },
        {
         "line": {
          "color": "lightgray",
          "width": 1
         },
         "mode": "lines",
         "type": "scatter",
         "x": [
          0.20122273875243868,
          0.821946468210322
         ],
         "y": [
          1,
          -0.5376566668384067
         ]
        },
        {
         "line": {
          "color": "darkblue",
          "width": 1
         },
         "mode": "lines",
         "type": "scatter",
         "x": [
          0.014910717236521208,
          0.5578103471991686
         ],
         "y": [
          -0.7726759134396349,
          0.20540946402350227
         ]
        },
        {
         "line": {
          "color": "lightgray",
          "width": 1
         },
         "mode": "lines",
         "type": "scatter",
         "x": [
          -0.3718304348748292,
          0.6108745154405566
         ],
         "y": [
          0.889405011839641,
          -0.5733676800755454
         ]
        },
        {
         "line": {
          "color": "lightgray",
          "width": 1
         },
         "mode": "lines",
         "type": "scatter",
         "x": [
          -0.6004235446281904,
          0.821946468210322
         ],
         "y": [
          0.6370991185146676,
          -0.5376566668384067
         ]
        },
        {
         "line": {
          "color": "lightgray",
          "width": 1
         },
         "mode": "lines",
         "type": "scatter",
         "x": [
          -0.5518346330746787,
          -0.08629914181214383
         ],
         "y": [
          -0.20347522493435183,
          -0.9369339520980161
         ]
        },
        {
         "line": {
          "color": "darkblue",
          "width": 1
         },
         "mode": "lines",
         "type": "scatter",
         "x": [
          0.6108745154405566,
          -0.08629914181214383
         ],
         "y": [
          -0.5733676800755454,
          -0.9369339520980161
         ]
        },
        {
         "line": {
          "color": "darkblue",
          "width": 1
         },
         "mode": "lines",
         "type": "scatter",
         "x": [
          0.07578275185778272,
          0.510738532629225
         ],
         "y": [
          -0.7227296757790806,
          -0.8112387243894809
         ]
        },
        {
         "line": {
          "color": "lightgray",
          "width": 1
         },
         "mode": "lines",
         "type": "scatter",
         "x": [
          -0.4782468403548081,
          0.7650494797310291
         ],
         "y": [
          0.8192451596907109,
          0.26190397562901585
         ]
        },
        {
         "line": {
          "color": "lightgray",
          "width": 1
         },
         "mode": "lines",
         "type": "scatter",
         "x": [
          0.20122273875243868,
          0.7848921790023624
         ],
         "y": [
          1,
          -0.2454827409792513
         ]
        },
        {
         "line": {
          "color": "darkblue",
          "width": 1
         },
         "mode": "lines",
         "type": "scatter",
         "x": [
          -0.3718304348748292,
          0.20122273875243868
         ],
         "y": [
          0.889405011839641,
          1
         ]
        },
        {
         "line": {
          "color": "darkblue",
          "width": 1
         },
         "mode": "lines",
         "type": "scatter",
         "x": [
          0.41841412245343573,
          -0.4782468403548081
         ],
         "y": [
          0.6013098799193504,
          0.8192451596907109
         ]
        },
        {
         "line": {
          "color": "darkblue",
          "width": 1
         },
         "mode": "lines",
         "type": "scatter",
         "x": [
          0.2156727182715702,
          0.5578103471991686
         ],
         "y": [
          -0.7887235348795513,
          0.20540946402350227
         ]
        },
        {
         "line": {
          "color": "lightgray",
          "width": 1
         },
         "mode": "lines",
         "type": "scatter",
         "x": [
          0.20122273875243868,
          0.5578103471991686
         ],
         "y": [
          1,
          0.20540946402350227
         ]
        },
        {
         "line": {
          "color": "lightgray",
          "width": 1
         },
         "mode": "lines",
         "type": "scatter",
         "x": [
          -0.6140937175337806,
          -0.08629914181214383
         ],
         "y": [
          0.8892790315579895,
          -0.9369339520980161
         ]
        },
        {
         "line": {
          "color": "darkblue",
          "width": 1
         },
         "mode": "lines",
         "type": "scatter",
         "x": [
          -0.7566061026918331,
          -0.7082756557903018
         ],
         "y": [
          0.7987976960830132,
          0.6253190923496244
         ]
        },
        {
         "line": {
          "color": "lightgray",
          "width": 1
         },
         "mode": "lines",
         "type": "scatter",
         "x": [
          0.41841412245343573,
          -0.038399276125469936
         ],
         "y": [
          0.6013098799193504,
          -0.8589465139367477
         ]
        },
        {
         "line": {
          "color": "darkblue",
          "width": 1
         },
         "mode": "lines",
         "type": "scatter",
         "x": [
          0.7013791398643786,
          0.7845701886498891
         ],
         "y": [
          -0.594040447917239,
          -0.4702501081521776
         ]
        },
        {
         "line": {
          "color": "lightgray",
          "width": 1
         },
         "mode": "lines",
         "type": "scatter",
         "x": [
          -0.8165996085805034,
          0.7848921790023624
         ],
         "y": [
          0.5807746769754708,
          -0.2454827409792513
         ]
        },
        {
         "line": {
          "color": "darkblue",
          "width": 1
         },
         "mode": "lines",
         "type": "scatter",
         "x": [
          0.3341323589999464,
          -0.6004235446281904
         ],
         "y": [
          0.6276510584927125,
          0.6370991185146676
         ]
        },
        {
         "line": {
          "color": "darkblue",
          "width": 1
         },
         "mode": "lines",
         "type": "scatter",
         "x": [
          -0.5518346330746787,
          -0.9151372576982943
         ],
         "y": [
          -0.20347522493435183,
          0.15511979920707278
         ]
        },
        {
         "line": {
          "color": "lightgray",
          "width": 1
         },
         "mode": "lines",
         "type": "scatter",
         "x": [
          -0.8960744076451393,
          0.7013791398643786
         ],
         "y": [
          -0.12230556515037556,
          -0.594040447917239
         ]
        },
        {
         "line": {
          "color": "darkblue",
          "width": 1
         },
         "mode": "lines",
         "type": "scatter",
         "x": [
          -0.4782468403548081,
          -0.8960744076451393
         ],
         "y": [
          0.8192451596907109,
          -0.12230556515037556
         ]
        },
        {
         "line": {
          "color": "lightgray",
          "width": 1
         },
         "mode": "lines",
         "type": "scatter",
         "x": [
          0.17286174615058908,
          0.2156727182715702
         ],
         "y": [
          0.6109180479784145,
          -0.7887235348795513
         ]
        },
        {
         "line": {
          "color": "lightgray",
          "width": 1
         },
         "mode": "lines",
         "type": "scatter",
         "x": [
          0.20122273875243868,
          0.510738532629225
         ],
         "y": [
          1,
          -0.8112387243894809
         ]
        },
        {
         "line": {
          "color": "lightgray",
          "width": 1
         },
         "mode": "lines",
         "type": "scatter",
         "x": [
          0.17286174615058908,
          -0.3114456606027594
         ],
         "y": [
          0.6109180479784145,
          -0.6739529679071985
         ]
        },
        {
         "line": {
          "color": "darkblue",
          "width": 1
         },
         "mode": "lines",
         "type": "scatter",
         "x": [
          0.7013791398643786,
          0.6108745154405566
         ],
         "y": [
          -0.594040447917239,
          -0.5733676800755454
         ]
        },
        {
         "line": {
          "color": "lightgray",
          "width": 1
         },
         "mode": "lines",
         "type": "scatter",
         "x": [
          -0.7566061026918331,
          0.7903440977923845
         ],
         "y": [
          0.7987976960830132,
          -0.5228755269922652
         ]
        },
        {
         "line": {
          "color": "darkblue",
          "width": 1
         },
         "mode": "lines",
         "type": "scatter",
         "x": [
          0.41841412245343573,
          -0.21874065182410288
         ],
         "y": [
          0.6013098799193504,
          0.9173139322490603
         ]
        },
        {
         "line": {
          "color": "lightgray",
          "width": 1
         },
         "mode": "lines",
         "type": "scatter",
         "x": [
          -0.6004235446281904,
          -0.13617797378549315
         ],
         "y": [
          0.6370991185146676,
          -0.6677698899093224
         ]
        },
        {
         "line": {
          "color": "lightgray",
          "width": 1
         },
         "mode": "lines",
         "type": "scatter",
         "x": [
          -0.9151372576982943,
          0.7650494797310291
         ],
         "y": [
          0.15511979920707278,
          0.26190397562901585
         ]
        },
        {
         "line": {
          "color": "darkblue",
          "width": 1
         },
         "mode": "lines",
         "type": "scatter",
         "x": [
          -0.3718304348748292,
          -0.8165996085805034
         ],
         "y": [
          0.889405011839641,
          0.5807746769754708
         ]
        },
        {
         "line": {
          "color": "lightgray",
          "width": 1
         },
         "mode": "lines",
         "type": "scatter",
         "x": [
          -0.7082756557903018,
          0.5578103471991686
         ],
         "y": [
          0.6253190923496244,
          0.20540946402350227
         ]
        },
        {
         "line": {
          "color": "darkblue",
          "width": 1
         },
         "mode": "lines",
         "type": "scatter",
         "x": [
          -0.9739462100511188,
          -0.7566061026918331
         ],
         "y": [
          0.15588962822060787,
          0.7987976960830132
         ]
        },
        {
         "line": {
          "color": "darkblue",
          "width": 1
         },
         "mode": "lines",
         "type": "scatter",
         "x": [
          0.8231470249802241,
          -0.13617797378549315
         ],
         "y": [
          -0.33873032683507903,
          -0.6677698899093224
         ]
        },
        {
         "line": {
          "color": "darkblue",
          "width": 1
         },
         "mode": "lines",
         "type": "scatter",
         "x": [
          -0.08629914181214383,
          0.7903440977923845
         ],
         "y": [
          -0.9369339520980161,
          -0.5228755269922652
         ]
        },
        {
         "line": {
          "color": "darkblue",
          "width": 1
         },
         "mode": "lines",
         "type": "scatter",
         "x": [
          -0.9255085009862662,
          -0.5518346330746787
         ],
         "y": [
          0.4156074772474138,
          -0.20347522493435183
         ]
        },
        {
         "line": {
          "color": "darkblue",
          "width": 1
         },
         "mode": "lines",
         "type": "scatter",
         "x": [
          0.6108745154405566,
          0.9227817640400293
         ],
         "y": [
          -0.5733676800755454,
          0.029458794541957063
         ]
        },
        {
         "line": {
          "color": "darkblue",
          "width": 1
         },
         "mode": "lines",
         "type": "scatter",
         "x": [
          -0.8165996085805034,
          -0.9151372576982943
         ],
         "y": [
          0.5807746769754708,
          0.15511979920707278
         ]
        },
        {
         "line": {
          "color": "darkblue",
          "width": 1
         },
         "mode": "lines",
         "type": "scatter",
         "x": [
          0.5578103471991686,
          -0.08629914181214383
         ],
         "y": [
          0.20540946402350227,
          -0.9369339520980161
         ]
        },
        {
         "line": {
          "color": "lightgray",
          "width": 1
         },
         "mode": "lines",
         "type": "scatter",
         "x": [
          -0.8165996085805034,
          0.5578103471991686
         ],
         "y": [
          0.5807746769754708,
          0.20540946402350227
         ]
        },
        {
         "line": {
          "color": "darkblue",
          "width": 1
         },
         "mode": "lines",
         "type": "scatter",
         "x": [
          0.8231470249802241,
          0.3330448392384936
         ],
         "y": [
          -0.33873032683507903,
          -0.8340062657872137
         ]
        },
        {
         "line": {
          "color": "darkblue",
          "width": 1
         },
         "mode": "lines",
         "type": "scatter",
         "x": [
          -0.7082756557903018,
          -0.6004235446281904
         ],
         "y": [
          0.6253190923496244,
          0.6370991185146676
         ]
        },
        {
         "line": {
          "color": "lightgray",
          "width": 1
         },
         "mode": "lines",
         "type": "scatter",
         "x": [
          0.20122273875243868,
          0.7903440977923845
         ],
         "y": [
          1,
          -0.5228755269922652
         ]
        },
        {
         "line": {
          "color": "darkblue",
          "width": 1
         },
         "mode": "lines",
         "type": "scatter",
         "x": [
          0.821946468210322,
          -0.08629914181214383
         ],
         "y": [
          -0.5376566668384067,
          -0.9369339520980161
         ]
        },
        {
         "line": {
          "color": "lightgray",
          "width": 1
         },
         "mode": "lines",
         "type": "scatter",
         "x": [
          0.20122273875243868,
          -0.3114456606027594
         ],
         "y": [
          1,
          -0.6739529679071985
         ]
        },
        {
         "line": {
          "color": "lightgray",
          "width": 1
         },
         "mode": "lines",
         "type": "scatter",
         "x": [
          -0.5518346330746787,
          0.5578103471991686
         ],
         "y": [
          -0.20347522493435183,
          0.20540946402350227
         ]
        },
        {
         "line": {
          "color": "lightgray",
          "width": 1
         },
         "mode": "lines",
         "type": "scatter",
         "x": [
          -0.9739462100511188,
          0.8231470249802241
         ],
         "y": [
          0.15588962822060787,
          -0.33873032683507903
         ]
        },
        {
         "line": {
          "color": "darkblue",
          "width": 1
         },
         "mode": "lines",
         "type": "scatter",
         "x": [
          0.7013791398643786,
          -0.278231951866899
         ],
         "y": [
          -0.594040447917239,
          -0.4788627466713346
         ]
        },
        {
         "line": {
          "color": "lightgray",
          "width": 1
         },
         "mode": "lines",
         "type": "scatter",
         "x": [
          -0.6004235446281904,
          0.8231470249802241
         ],
         "y": [
          0.6370991185146676,
          -0.33873032683507903
         ]
        },
        {
         "line": {
          "color": "lightgray",
          "width": 1
         },
         "mode": "lines",
         "type": "scatter",
         "x": [
          -0.5518346330746787,
          -0.3114456606027594
         ],
         "y": [
          -0.20347522493435183,
          -0.6739529679071985
         ]
        },
        {
         "line": {
          "color": "lightgray",
          "width": 1
         },
         "mode": "lines",
         "type": "scatter",
         "x": [
          -0.5518346330746787,
          0.2156727182715702
         ],
         "y": [
          -0.20347522493435183,
          -0.7887235348795513
         ]
        },
        {
         "line": {
          "color": "lightgray",
          "width": 1
         },
         "mode": "lines",
         "type": "scatter",
         "x": [
          -0.8165996085805034,
          -0.13617797378549315
         ],
         "y": [
          0.5807746769754708,
          -0.6677698899093224
         ]
        },
        {
         "line": {
          "color": "darkblue",
          "width": 1
         },
         "mode": "lines",
         "type": "scatter",
         "x": [
          -0.6140937175337806,
          -0.9151372576982943
         ],
         "y": [
          0.8892790315579895,
          0.15511979920707278
         ]
        },
        {
         "line": {
          "color": "lightgray",
          "width": 1
         },
         "mode": "lines",
         "type": "scatter",
         "x": [
          -0.5518346330746787,
          0.5578103471991686
         ],
         "y": [
          -0.20347522493435183,
          0.20540946402350227
         ]
        },
        {
         "line": {
          "color": "lightgray",
          "width": 1
         },
         "mode": "lines",
         "type": "scatter",
         "x": [
          0.20122273875243868,
          0.9227817640400293
         ],
         "y": [
          1,
          0.029458794541957063
         ]
        },
        {
         "line": {
          "color": "darkblue",
          "width": 1
         },
         "mode": "lines",
         "type": "scatter",
         "x": [
          0.7314587219711344,
          0.2156727182715702
         ],
         "y": [
          -0.6744984707757519,
          -0.7887235348795513
         ]
        },
        {
         "line": {
          "color": "darkblue",
          "width": 1
         },
         "mode": "lines",
         "type": "scatter",
         "x": [
          0.7650494797310291,
          -0.038399276125469936
         ],
         "y": [
          0.26190397562901585,
          -0.8589465139367477
         ]
        },
        {
         "line": {
          "color": "darkblue",
          "width": 1
         },
         "mode": "lines",
         "type": "scatter",
         "x": [
          -0.7082756557903018,
          -0.8569137617363639
         ],
         "y": [
          0.6253190923496244,
          0.27702130549198284
         ]
        },
        {
         "line": {
          "color": "lightgray",
          "width": 1
         },
         "mode": "lines",
         "type": "scatter",
         "x": [
          0.41841412245343573,
          0.014910717236521208
         ],
         "y": [
          0.6013098799193504,
          -0.7726759134396349
         ]
        },
        {
         "line": {
          "color": "lightgray",
          "width": 1
         },
         "mode": "lines",
         "type": "scatter",
         "x": [
          -0.6004235446281904,
          0.7848921790023624
         ],
         "y": [
          0.6370991185146676,
          -0.2454827409792513
         ]
        },
        {
         "line": {
          "color": "lightgray",
          "width": 1
         },
         "mode": "lines",
         "type": "scatter",
         "x": [
          -0.5518346330746787,
          0.014910717236521208
         ],
         "y": [
          -0.20347522493435183,
          -0.7726759134396349
         ]
        },
        {
         "line": {
          "color": "lightgray",
          "width": 1
         },
         "mode": "lines",
         "type": "scatter",
         "x": [
          0.0856782687952649,
          -0.3114456606027594
         ],
         "y": [
          0.9124810295755442,
          -0.6739529679071985
         ]
        },
        {
         "line": {
          "color": "lightgray",
          "width": 1
         },
         "mode": "lines",
         "type": "scatter",
         "x": [
          -0.7082756557903018,
          0.510738532629225
         ],
         "y": [
          0.6253190923496244,
          -0.8112387243894809
         ]
        },
        {
         "line": {
          "color": "lightgray",
          "width": 1
         },
         "mode": "lines",
         "type": "scatter",
         "x": [
          -0.9739462100511188,
          0.7314587219711344
         ],
         "y": [
          0.15588962822060787,
          -0.6744984707757519
         ]
        },
        {
         "line": {
          "color": "darkblue",
          "width": 1
         },
         "mode": "lines",
         "type": "scatter",
         "x": [
          -0.3718304348748292,
          0.3341323589999464
         ],
         "y": [
          0.889405011839641,
          0.6276510584927125
         ]
        },
        {
         "line": {
          "color": "darkblue",
          "width": 1
         },
         "mode": "lines",
         "type": "scatter",
         "x": [
          0.7845701886498891,
          -0.08629914181214383
         ],
         "y": [
          -0.4702501081521776,
          -0.9369339520980161
         ]
        },
        {
         "line": {
          "color": "lightgray",
          "width": 1
         },
         "mode": "lines",
         "type": "scatter",
         "x": [
          -0.3718304348748292,
          -0.08629914181214383
         ],
         "y": [
          0.889405011839641,
          -0.9369339520980161
         ]
        },
        {
         "line": {
          "color": "lightgray",
          "width": 1
         },
         "mode": "lines",
         "type": "scatter",
         "x": [
          -0.8165996085805034,
          0.07578275185778272
         ],
         "y": [
          0.5807746769754708,
          -0.7227296757790806
         ]
        },
        {
         "line": {
          "color": "lightgray",
          "width": 1
         },
         "mode": "lines",
         "type": "scatter",
         "x": [
          0.17286174615058908,
          0.9227817640400293
         ],
         "y": [
          0.6109180479784145,
          0.029458794541957063
         ]
        },
        {
         "line": {
          "color": "darkblue",
          "width": 1
         },
         "mode": "lines",
         "type": "scatter",
         "x": [
          0.07578275185778272,
          -0.3114456606027594
         ],
         "y": [
          -0.7227296757790806,
          -0.6739529679071985
         ]
        },
        {
         "line": {
          "color": "lightgray",
          "width": 1
         },
         "mode": "lines",
         "type": "scatter",
         "x": [
          -0.6004235446281904,
          0.9227817640400293
         ],
         "y": [
          0.6370991185146676,
          0.029458794541957063
         ]
        },
        {
         "line": {
          "color": "lightgray",
          "width": 1
         },
         "mode": "lines",
         "type": "scatter",
         "x": [
          -0.9255085009862662,
          -0.038399276125469936
         ],
         "y": [
          0.4156074772474138,
          -0.8589465139367477
         ]
        },
        {
         "line": {
          "color": "darkblue",
          "width": 1
         },
         "mode": "lines",
         "type": "scatter",
         "x": [
          0.0856782687952649,
          0.17286174615058908
         ],
         "y": [
          0.9124810295755442,
          0.6109180479784145
         ]
        },
        {
         "line": {
          "color": "lightgray",
          "width": 1
         },
         "mode": "lines",
         "type": "scatter",
         "x": [
          -0.9255085009862662,
          0.5578103471991686
         ],
         "y": [
          0.4156074772474138,
          0.20540946402350227
         ]
        },
        {
         "line": {
          "color": "darkblue",
          "width": 1
         },
         "mode": "lines",
         "type": "scatter",
         "x": [
          0.821946468210322,
          -0.038399276125469936
         ],
         "y": [
          -0.5376566668384067,
          -0.8589465139367477
         ]
        },
        {
         "line": {
          "color": "darkblue",
          "width": 1
         },
         "mode": "lines",
         "type": "scatter",
         "x": [
          -0.4782468403548081,
          -0.9151372576982943
         ],
         "y": [
          0.8192451596907109,
          0.15511979920707278
         ]
        },
        {
         "line": {
          "color": "lightgray",
          "width": 1
         },
         "mode": "lines",
         "type": "scatter",
         "x": [
          -0.8960744076451393,
          0.821946468210322
         ],
         "y": [
          -0.12230556515037556,
          -0.5376566668384067
         ]
        },
        {
         "line": {
          "color": "darkblue",
          "width": 1
         },
         "mode": "lines",
         "type": "scatter",
         "x": [
          -0.4782468403548081,
          -0.7566061026918331
         ],
         "y": [
          0.8192451596907109,
          0.7987976960830132
         ]
        },
        {
         "line": {
          "color": "darkblue",
          "width": 1
         },
         "mode": "lines",
         "type": "scatter",
         "x": [
          -0.5518346330746787,
          -0.6004235446281904
         ],
         "y": [
          -0.20347522493435183,
          0.6370991185146676
         ]
        },
        {
         "line": {
          "color": "lightgray",
          "width": 1
         },
         "mode": "lines",
         "type": "scatter",
         "x": [
          0.17286174615058908,
          0.7650494797310291
         ],
         "y": [
          0.6109180479784145,
          0.26190397562901585
         ]
        },
        {
         "line": {
          "color": "darkblue",
          "width": 1
         },
         "mode": "lines",
         "type": "scatter",
         "x": [
          -0.7566061026918331,
          0.20122273875243868
         ],
         "y": [
          0.7987976960830132,
          1
         ]
        },
        {
         "line": {
          "color": "lightgray",
          "width": 1
         },
         "mode": "lines",
         "type": "scatter",
         "x": [
          -0.5518346330746787,
          0.6386071880364272
         ],
         "y": [
          -0.20347522493435183,
          0.13116385461911206
         ]
        },
        {
         "line": {
          "color": "lightgray",
          "width": 1
         },
         "mode": "lines",
         "type": "scatter",
         "x": [
          -0.4782468403548081,
          -0.08629914181214383
         ],
         "y": [
          0.8192451596907109,
          -0.9369339520980161
         ]
        },
        {
         "line": {
          "color": "lightgray",
          "width": 1
         },
         "mode": "lines",
         "type": "scatter",
         "x": [
          -0.9151372576982943,
          0.5578103471991686
         ],
         "y": [
          0.15511979920707278,
          0.20540946402350227
         ]
        },
        {
         "line": {
          "color": "darkblue",
          "width": 1
         },
         "mode": "lines",
         "type": "scatter",
         "x": [
          0.41841412245343573,
          -0.6004235446281904
         ],
         "y": [
          0.6013098799193504,
          0.6370991185146676
         ]
        },
        {
         "line": {
          "color": "lightgray",
          "width": 1
         },
         "mode": "lines",
         "type": "scatter",
         "x": [
          -0.6004235446281904,
          0.6386071880364272
         ],
         "y": [
          0.6370991185146676,
          0.13116385461911206
         ]
        },
        {
         "line": {
          "color": "lightgray",
          "width": 1
         },
         "mode": "lines",
         "type": "scatter",
         "x": [
          -0.6140937175337806,
          0.7314587219711344
         ],
         "y": [
          0.8892790315579895,
          -0.6744984707757519
         ]
        },
        {
         "line": {
          "color": "lightgray",
          "width": 1
         },
         "mode": "lines",
         "type": "scatter",
         "x": [
          -0.4782468403548081,
          0.07578275185778272
         ],
         "y": [
          0.8192451596907109,
          -0.7227296757790806
         ]
        },
        {
         "line": {
          "color": "lightgray",
          "width": 1
         },
         "mode": "lines",
         "type": "scatter",
         "x": [
          -0.7082756557903018,
          0.3330448392384936
         ],
         "y": [
          0.6253190923496244,
          -0.8340062657872137
         ]
        },
        {
         "line": {
          "color": "darkblue",
          "width": 1
         },
         "mode": "lines",
         "type": "scatter",
         "x": [
          0.7314587219711344,
          0.9227817640400293
         ],
         "y": [
          -0.6744984707757519,
          0.029458794541957063
         ]
        },
        {
         "line": {
          "color": "lightgray",
          "width": 1
         },
         "mode": "lines",
         "type": "scatter",
         "x": [
          0.3341323589999464,
          0.6386071880364272
         ],
         "y": [
          0.6276510584927125,
          0.13116385461911206
         ]
        },
        {
         "line": {
          "color": "darkblue",
          "width": 1
         },
         "mode": "lines",
         "type": "scatter",
         "x": [
          -0.4782468403548081,
          -0.5518346330746787
         ],
         "y": [
          0.8192451596907109,
          -0.20347522493435183
         ]
        },
        {
         "hoverinfo": "text",
         "marker": {
          "color": [
           0,
           0,
           1,
           1,
           0,
           0,
           0,
           1,
           1,
           0,
           0,
           1,
           0,
           1,
           1,
           1,
           0,
           1,
           0,
           0,
           1,
           1,
           1,
           0,
           0,
           1,
           0,
           0,
           0,
           0,
           1,
           1,
           0,
           1,
           1,
           1,
           1,
           1,
           1,
           0,
           1,
           0
          ],
          "colorbar": {
           "thickness": 15,
           "title": {
            "side": "right",
            "text": "Side"
           },
           "xanchor": "left"
          },
          "colorscale": [
           [
            0,
            "rgb(0, 155, 158)"
           ],
           [
            0.16666666666666666,
            "rgb(66, 183, 185)"
           ],
           [
            0.3333333333333333,
            "rgb(167, 211, 212)"
           ],
           [
            0.5,
            "rgb(241, 241, 241)"
           ],
           [
            0.6666666666666666,
            "rgb(228, 193, 217)"
           ],
           [
            0.8333333333333334,
            "rgb(214, 145, 193)"
           ],
           [
            1,
            "rgb(199, 93, 171)"
           ]
          ],
          "line": {
           "width": 2
          },
          "showscale": true,
          "size": 10
         },
         "mode": "markers",
         "text": [
          "Dolores Umbridge",
          "Bellatrix Lestrange",
          "Cedric Diggory",
          "Nearly Headless Nick",
          "Narcissa Malfoy",
          "Severus Snape",
          "Lucius Malfoy",
          "Cho Chang",
          "Molly Weasley",
          "Aragog",
          "Morfin Gaunt",
          "Dobby",
          "Quirinus Quirrell",
          "Lee Jordan",
          "Sirius Black",
          "Alastor Moody",
          "Gregory Goyle",
          "Fleur Delacour",
          "Gellert Grindelwald",
          "Barty Crouch Jr.",
          "George Weasley",
          "Remus Lupin",
          "Professor Albus Dumbledore",
          "Draco Malfoy",
          "Vincent Crabbe",
          "Percy Weasley",
          "Credence Barebone",
          "Lord Voldemort",
          "Gilderoy Lockhart",
          "Fenrir Greyback",
          "Minerva McGonagall",
          "Rubeus Hagrid",
          "Peter Pettigrew",
          "Luna Lovegood",
          "Nymphadora Tonks",
          "Neville Longbottom",
          "Ron Weasley",
          "Ginny Weasley",
          "Hermione Granger",
          "Nagini",
          "Harry Potter",
          "The Serpent of Slytherin"
         ],
         "type": "scatter",
         "x": [
          -0.6140937175337806,
          0.41841412245343573,
          0.7314587219711344,
          0.7903440977923845,
          -0.21874065182410288,
          0.17286174615058908,
          -0.6004235446281904,
          -0.3114456606027594,
          -0.038399276125469936,
          -0.8165996085805034,
          -0.7605345776401973,
          0.8231470249802241,
          -0.7566061026918331,
          0.7848921790023624,
          0.6386071880364272,
          0.5578103471991686,
          -0.8569137617363639,
          -0.08629914181214383,
          -0.3718304348748292,
          0.0856782687952649,
          0.510738532629225,
          -0.278231951866899,
          0.07578275185778272,
          -0.7082756557903018,
          0.20122273875243868,
          -0.13617797378549315,
          -0.9151372576982943,
          -0.4782468403548081,
          -0.5518346330746787,
          -0.8960744076451393,
          0.2156727182715702,
          0.6108745154405566,
          -0.9739462100511188,
          0.7845701886498891,
          0.9227817640400293,
          0.821946468210322,
          0.7013791398643786,
          0.3330448392384936,
          0.7650494797310291,
          0.3341323589999464,
          0.014910717236521208,
          -0.9255085009862662
         ],
         "y": [
          0.8892790315579895,
          0.6013098799193504,
          -0.6744984707757519,
          -0.5228755269922652,
          0.9173139322490603,
          0.6109180479784145,
          0.6370991185146676,
          -0.6739529679071985,
          -0.8589465139367477,
          0.5807746769754708,
          0.28735490924116186,
          -0.33873032683507903,
          0.7987976960830132,
          -0.2454827409792513,
          0.13116385461911206,
          0.20540946402350227,
          0.27702130549198284,
          -0.9369339520980161,
          0.889405011839641,
          0.9124810295755442,
          -0.8112387243894809,
          -0.4788627466713346,
          -0.7227296757790806,
          0.6253190923496244,
          1,
          -0.6677698899093224,
          0.15511979920707278,
          0.8192451596907109,
          -0.20347522493435183,
          -0.12230556515037556,
          -0.7887235348795513,
          -0.5733676800755454,
          0.15588962822060787,
          -0.4702501081521776,
          0.029458794541957063,
          -0.5376566668384067,
          -0.594040447917239,
          -0.8340062657872137,
          0.26190397562901585,
          0.6276510584927125,
          -0.7726759134396349,
          0.4156074772474138
         ]
        }
       ],
       "layout": {
        "height": 500,
        "hovermode": "closest",
        "margin": {
         "b": 20,
         "l": 5,
         "r": 5,
         "t": 40
        },
        "showlegend": false,
        "template": {
         "data": {
          "bar": [
           {
            "error_x": {
             "color": "#2a3f5f"
            },
            "error_y": {
             "color": "#2a3f5f"
            },
            "marker": {
             "line": {
              "color": "#E5ECF6",
              "width": 0.5
             },
             "pattern": {
              "fillmode": "overlay",
              "size": 10,
              "solidity": 0.2
             }
            },
            "type": "bar"
           }
          ],
          "barpolar": [
           {
            "marker": {
             "line": {
              "color": "#E5ECF6",
              "width": 0.5
             },
             "pattern": {
              "fillmode": "overlay",
              "size": 10,
              "solidity": 0.2
             }
            },
            "type": "barpolar"
           }
          ],
          "carpet": [
           {
            "aaxis": {
             "endlinecolor": "#2a3f5f",
             "gridcolor": "white",
             "linecolor": "white",
             "minorgridcolor": "white",
             "startlinecolor": "#2a3f5f"
            },
            "baxis": {
             "endlinecolor": "#2a3f5f",
             "gridcolor": "white",
             "linecolor": "white",
             "minorgridcolor": "white",
             "startlinecolor": "#2a3f5f"
            },
            "type": "carpet"
           }
          ],
          "choropleth": [
           {
            "colorbar": {
             "outlinewidth": 0,
             "ticks": ""
            },
            "type": "choropleth"
           }
          ],
          "contour": [
           {
            "colorbar": {
             "outlinewidth": 0,
             "ticks": ""
            },
            "colorscale": [
             [
              0,
              "#0d0887"
             ],
             [
              0.1111111111111111,
              "#46039f"
             ],
             [
              0.2222222222222222,
              "#7201a8"
             ],
             [
              0.3333333333333333,
              "#9c179e"
             ],
             [
              0.4444444444444444,
              "#bd3786"
             ],
             [
              0.5555555555555556,
              "#d8576b"
             ],
             [
              0.6666666666666666,
              "#ed7953"
             ],
             [
              0.7777777777777778,
              "#fb9f3a"
             ],
             [
              0.8888888888888888,
              "#fdca26"
             ],
             [
              1,
              "#f0f921"
             ]
            ],
            "type": "contour"
           }
          ],
          "contourcarpet": [
           {
            "colorbar": {
             "outlinewidth": 0,
             "ticks": ""
            },
            "type": "contourcarpet"
           }
          ],
          "heatmap": [
           {
            "colorbar": {
             "outlinewidth": 0,
             "ticks": ""
            },
            "colorscale": [
             [
              0,
              "#0d0887"
             ],
             [
              0.1111111111111111,
              "#46039f"
             ],
             [
              0.2222222222222222,
              "#7201a8"
             ],
             [
              0.3333333333333333,
              "#9c179e"
             ],
             [
              0.4444444444444444,
              "#bd3786"
             ],
             [
              0.5555555555555556,
              "#d8576b"
             ],
             [
              0.6666666666666666,
              "#ed7953"
             ],
             [
              0.7777777777777778,
              "#fb9f3a"
             ],
             [
              0.8888888888888888,
              "#fdca26"
             ],
             [
              1,
              "#f0f921"
             ]
            ],
            "type": "heatmap"
           }
          ],
          "heatmapgl": [
           {
            "colorbar": {
             "outlinewidth": 0,
             "ticks": ""
            },
            "colorscale": [
             [
              0,
              "#0d0887"
             ],
             [
              0.1111111111111111,
              "#46039f"
             ],
             [
              0.2222222222222222,
              "#7201a8"
             ],
             [
              0.3333333333333333,
              "#9c179e"
             ],
             [
              0.4444444444444444,
              "#bd3786"
             ],
             [
              0.5555555555555556,
              "#d8576b"
             ],
             [
              0.6666666666666666,
              "#ed7953"
             ],
             [
              0.7777777777777778,
              "#fb9f3a"
             ],
             [
              0.8888888888888888,
              "#fdca26"
             ],
             [
              1,
              "#f0f921"
             ]
            ],
            "type": "heatmapgl"
           }
          ],
          "histogram": [
           {
            "marker": {
             "pattern": {
              "fillmode": "overlay",
              "size": 10,
              "solidity": 0.2
             }
            },
            "type": "histogram"
           }
          ],
          "histogram2d": [
           {
            "colorbar": {
             "outlinewidth": 0,
             "ticks": ""
            },
            "colorscale": [
             [
              0,
              "#0d0887"
             ],
             [
              0.1111111111111111,
              "#46039f"
             ],
             [
              0.2222222222222222,
              "#7201a8"
             ],
             [
              0.3333333333333333,
              "#9c179e"
             ],
             [
              0.4444444444444444,
              "#bd3786"
             ],
             [
              0.5555555555555556,
              "#d8576b"
             ],
             [
              0.6666666666666666,
              "#ed7953"
             ],
             [
              0.7777777777777778,
              "#fb9f3a"
             ],
             [
              0.8888888888888888,
              "#fdca26"
             ],
             [
              1,
              "#f0f921"
             ]
            ],
            "type": "histogram2d"
           }
          ],
          "histogram2dcontour": [
           {
            "colorbar": {
             "outlinewidth": 0,
             "ticks": ""
            },
            "colorscale": [
             [
              0,
              "#0d0887"
             ],
             [
              0.1111111111111111,
              "#46039f"
             ],
             [
              0.2222222222222222,
              "#7201a8"
             ],
             [
              0.3333333333333333,
              "#9c179e"
             ],
             [
              0.4444444444444444,
              "#bd3786"
             ],
             [
              0.5555555555555556,
              "#d8576b"
             ],
             [
              0.6666666666666666,
              "#ed7953"
             ],
             [
              0.7777777777777778,
              "#fb9f3a"
             ],
             [
              0.8888888888888888,
              "#fdca26"
             ],
             [
              1,
              "#f0f921"
             ]
            ],
            "type": "histogram2dcontour"
           }
          ],
          "mesh3d": [
           {
            "colorbar": {
             "outlinewidth": 0,
             "ticks": ""
            },
            "type": "mesh3d"
           }
          ],
          "parcoords": [
           {
            "line": {
             "colorbar": {
              "outlinewidth": 0,
              "ticks": ""
             }
            },
            "type": "parcoords"
           }
          ],
          "pie": [
           {
            "automargin": true,
            "type": "pie"
           }
          ],
          "scatter": [
           {
            "fillpattern": {
             "fillmode": "overlay",
             "size": 10,
             "solidity": 0.2
            },
            "type": "scatter"
           }
          ],
          "scatter3d": [
           {
            "line": {
             "colorbar": {
              "outlinewidth": 0,
              "ticks": ""
             }
            },
            "marker": {
             "colorbar": {
              "outlinewidth": 0,
              "ticks": ""
             }
            },
            "type": "scatter3d"
           }
          ],
          "scattercarpet": [
           {
            "marker": {
             "colorbar": {
              "outlinewidth": 0,
              "ticks": ""
             }
            },
            "type": "scattercarpet"
           }
          ],
          "scattergeo": [
           {
            "marker": {
             "colorbar": {
              "outlinewidth": 0,
              "ticks": ""
             }
            },
            "type": "scattergeo"
           }
          ],
          "scattergl": [
           {
            "marker": {
             "colorbar": {
              "outlinewidth": 0,
              "ticks": ""
             }
            },
            "type": "scattergl"
           }
          ],
          "scattermapbox": [
           {
            "marker": {
             "colorbar": {
              "outlinewidth": 0,
              "ticks": ""
             }
            },
            "type": "scattermapbox"
           }
          ],
          "scatterpolar": [
           {
            "marker": {
             "colorbar": {
              "outlinewidth": 0,
              "ticks": ""
             }
            },
            "type": "scatterpolar"
           }
          ],
          "scatterpolargl": [
           {
            "marker": {
             "colorbar": {
              "outlinewidth": 0,
              "ticks": ""
             }
            },
            "type": "scatterpolargl"
           }
          ],
          "scatterternary": [
           {
            "marker": {
             "colorbar": {
              "outlinewidth": 0,
              "ticks": ""
             }
            },
            "type": "scatterternary"
           }
          ],
          "surface": [
           {
            "colorbar": {
             "outlinewidth": 0,
             "ticks": ""
            },
            "colorscale": [
             [
              0,
              "#0d0887"
             ],
             [
              0.1111111111111111,
              "#46039f"
             ],
             [
              0.2222222222222222,
              "#7201a8"
             ],
             [
              0.3333333333333333,
              "#9c179e"
             ],
             [
              0.4444444444444444,
              "#bd3786"
             ],
             [
              0.5555555555555556,
              "#d8576b"
             ],
             [
              0.6666666666666666,
              "#ed7953"
             ],
             [
              0.7777777777777778,
              "#fb9f3a"
             ],
             [
              0.8888888888888888,
              "#fdca26"
             ],
             [
              1,
              "#f0f921"
             ]
            ],
            "type": "surface"
           }
          ],
          "table": [
           {
            "cells": {
             "fill": {
              "color": "#EBF0F8"
             },
             "line": {
              "color": "white"
             }
            },
            "header": {
             "fill": {
              "color": "#C8D4E3"
             },
             "line": {
              "color": "white"
             }
            },
            "type": "table"
           }
          ]
         },
         "layout": {
          "annotationdefaults": {
           "arrowcolor": "#2a3f5f",
           "arrowhead": 0,
           "arrowwidth": 1
          },
          "autotypenumbers": "strict",
          "coloraxis": {
           "colorbar": {
            "outlinewidth": 0,
            "ticks": ""
           }
          },
          "colorscale": {
           "diverging": [
            [
             0,
             "#8e0152"
            ],
            [
             0.1,
             "#c51b7d"
            ],
            [
             0.2,
             "#de77ae"
            ],
            [
             0.3,
             "#f1b6da"
            ],
            [
             0.4,
             "#fde0ef"
            ],
            [
             0.5,
             "#f7f7f7"
            ],
            [
             0.6,
             "#e6f5d0"
            ],
            [
             0.7,
             "#b8e186"
            ],
            [
             0.8,
             "#7fbc41"
            ],
            [
             0.9,
             "#4d9221"
            ],
            [
             1,
             "#276419"
            ]
           ],
           "sequential": [
            [
             0,
             "#0d0887"
            ],
            [
             0.1111111111111111,
             "#46039f"
            ],
            [
             0.2222222222222222,
             "#7201a8"
            ],
            [
             0.3333333333333333,
             "#9c179e"
            ],
            [
             0.4444444444444444,
             "#bd3786"
            ],
            [
             0.5555555555555556,
             "#d8576b"
            ],
            [
             0.6666666666666666,
             "#ed7953"
            ],
            [
             0.7777777777777778,
             "#fb9f3a"
            ],
            [
             0.8888888888888888,
             "#fdca26"
            ],
            [
             1,
             "#f0f921"
            ]
           ],
           "sequentialminus": [
            [
             0,
             "#0d0887"
            ],
            [
             0.1111111111111111,
             "#46039f"
            ],
            [
             0.2222222222222222,
             "#7201a8"
            ],
            [
             0.3333333333333333,
             "#9c179e"
            ],
            [
             0.4444444444444444,
             "#bd3786"
            ],
            [
             0.5555555555555556,
             "#d8576b"
            ],
            [
             0.6666666666666666,
             "#ed7953"
            ],
            [
             0.7777777777777778,
             "#fb9f3a"
            ],
            [
             0.8888888888888888,
             "#fdca26"
            ],
            [
             1,
             "#f0f921"
            ]
           ]
          },
          "colorway": [
           "#636efa",
           "#EF553B",
           "#00cc96",
           "#ab63fa",
           "#FFA15A",
           "#19d3f3",
           "#FF6692",
           "#B6E880",
           "#FF97FF",
           "#FECB52"
          ],
          "font": {
           "color": "#2a3f5f"
          },
          "geo": {
           "bgcolor": "white",
           "lakecolor": "white",
           "landcolor": "#E5ECF6",
           "showlakes": true,
           "showland": true,
           "subunitcolor": "white"
          },
          "hoverlabel": {
           "align": "left"
          },
          "hovermode": "closest",
          "mapbox": {
           "style": "light"
          },
          "paper_bgcolor": "white",
          "plot_bgcolor": "#E5ECF6",
          "polar": {
           "angularaxis": {
            "gridcolor": "white",
            "linecolor": "white",
            "ticks": ""
           },
           "bgcolor": "#E5ECF6",
           "radialaxis": {
            "gridcolor": "white",
            "linecolor": "white",
            "ticks": ""
           }
          },
          "scene": {
           "xaxis": {
            "backgroundcolor": "#E5ECF6",
            "gridcolor": "white",
            "gridwidth": 2,
            "linecolor": "white",
            "showbackground": true,
            "ticks": "",
            "zerolinecolor": "white"
           },
           "yaxis": {
            "backgroundcolor": "#E5ECF6",
            "gridcolor": "white",
            "gridwidth": 2,
            "linecolor": "white",
            "showbackground": true,
            "ticks": "",
            "zerolinecolor": "white"
           },
           "zaxis": {
            "backgroundcolor": "#E5ECF6",
            "gridcolor": "white",
            "gridwidth": 2,
            "linecolor": "white",
            "showbackground": true,
            "ticks": "",
            "zerolinecolor": "white"
           }
          },
          "shapedefaults": {
           "line": {
            "color": "#2a3f5f"
           }
          },
          "ternary": {
           "aaxis": {
            "gridcolor": "white",
            "linecolor": "white",
            "ticks": ""
           },
           "baxis": {
            "gridcolor": "white",
            "linecolor": "white",
            "ticks": ""
           },
           "bgcolor": "#E5ECF6",
           "caxis": {
            "gridcolor": "white",
            "linecolor": "white",
            "ticks": ""
           }
          },
          "title": {
           "x": 0.05
          },
          "xaxis": {
           "automargin": true,
           "gridcolor": "white",
           "linecolor": "white",
           "ticks": "",
           "title": {
            "standoff": 15
           },
           "zerolinecolor": "white",
           "zerolinewidth": 2
          },
          "yaxis": {
           "automargin": true,
           "gridcolor": "white",
           "linecolor": "white",
           "ticks": "",
           "title": {
            "standoff": 15
           },
           "zerolinecolor": "white",
           "zerolinewidth": 2
          }
         }
        },
        "title": {
         "font": {
          "size": 16
         },
         "text": "Relationship graph of all characters"
        },
        "width": 800,
        "xaxis": {
         "showgrid": false,
         "showticklabels": false,
         "zeroline": false
        },
        "yaxis": {
         "showgrid": false,
         "showticklabels": false,
         "zeroline": false
        }
       }
      },
      "text/html": [
       "<div>                            <div id=\"538ee85d-1a6f-4baf-8a11-d68fa5c7a0bd\" class=\"plotly-graph-div\" style=\"height:500px; width:800px;\"></div>            <script type=\"text/javascript\">                require([\"plotly\"], function(Plotly) {                    window.PLOTLYENV=window.PLOTLYENV || {};                                    if (document.getElementById(\"538ee85d-1a6f-4baf-8a11-d68fa5c7a0bd\")) {                    Plotly.newPlot(                        \"538ee85d-1a6f-4baf-8a11-d68fa5c7a0bd\",                        [{\"line\":{\"color\":\"darkblue\",\"width\":1},\"mode\":\"lines\",\"x\":[0.17286174615058908,-0.5518346330746787],\"y\":[0.6109180479784145,-0.20347522493435183],\"type\":\"scatter\"},{\"line\":{\"color\":\"lightgray\",\"width\":1},\"mode\":\"lines\",\"x\":[0.41841412245343573,0.821946468210322],\"y\":[0.6013098799193504,-0.5376566668384067],\"type\":\"scatter\"},{\"line\":{\"color\":\"darkblue\",\"width\":1},\"mode\":\"lines\",\"x\":[0.6108745154405566,-0.3114456606027594],\"y\":[-0.5733676800755454,-0.6739529679071985],\"type\":\"scatter\"},{\"line\":{\"color\":\"lightgray\",\"width\":1},\"mode\":\"lines\",\"x\":[-0.3718304348748292,0.7314587219711344],\"y\":[0.889405011839641,-0.6744984707757519],\"type\":\"scatter\"},{\"line\":{\"color\":\"lightgray\",\"width\":1},\"mode\":\"lines\",\"x\":[-0.6140937175337806,-0.038399276125469936],\"y\":[0.8892790315579895,-0.8589465139367477],\"type\":\"scatter\"},{\"line\":{\"color\":\"lightgray\",\"width\":1},\"mode\":\"lines\",\"x\":[-0.21874065182410288,0.6108745154405566],\"y\":[0.9173139322490603,-0.5733676800755454],\"type\":\"scatter\"},{\"line\":{\"color\":\"darkblue\",\"width\":1},\"mode\":\"lines\",\"x\":[0.510738532629225,0.7903440977923845],\"y\":[-0.8112387243894809,-0.5228755269922652],\"type\":\"scatter\"},{\"line\":{\"color\":\"darkblue\",\"width\":1},\"mode\":\"lines\",\"x\":[-0.6140937175337806,-0.7605345776401973],\"y\":[0.8892790315579895,0.28735490924116186],\"type\":\"scatter\"},{\"line\":{\"color\":\"darkblue\",\"width\":1},\"mode\":\"lines\",\"x\":[-0.5518346330746787,-0.9255085009862662],\"y\":[-0.20347522493435183,0.4156074772474138],\"type\":\"scatter\"},{\"line\":{\"color\":\"darkblue\",\"width\":1},\"mode\":\"lines\",\"x\":[0.7845701886498891,0.7314587219711344],\"y\":[-0.4702501081521776,-0.6744984707757519],\"type\":\"scatter\"},{\"line\":{\"color\":\"lightgray\",\"width\":1},\"mode\":\"lines\",\"x\":[0.17286174615058908,0.6108745154405566],\"y\":[0.6109180479784145,-0.5733676800755454],\"type\":\"scatter\"},{\"line\":{\"color\":\"lightgray\",\"width\":1},\"mode\":\"lines\",\"x\":[-0.6140937175337806,0.7845701886498891],\"y\":[0.8892790315579895,-0.4702501081521776],\"type\":\"scatter\"},{\"line\":{\"color\":\"lightgray\",\"width\":1},\"mode\":\"lines\",\"x\":[-0.6004235446281904,0.7845701886498891],\"y\":[0.6370991185146676,-0.4702501081521776],\"type\":\"scatter\"},{\"line\":{\"color\":\"lightgray\",\"width\":1},\"mode\":\"lines\",\"x\":[0.41841412245343573,0.510738532629225],\"y\":[0.6013098799193504,-0.8112387243894809],\"type\":\"scatter\"},{\"line\":{\"color\":\"lightgray\",\"width\":1},\"mode\":\"lines\",\"x\":[-0.5518346330746787,0.510738532629225],\"y\":[-0.20347522493435183,-0.8112387243894809],\"type\":\"scatter\"},{\"line\":{\"color\":\"lightgray\",\"width\":1},\"mode\":\"lines\",\"x\":[-0.6140937175337806,0.6386071880364272],\"y\":[0.8892790315579895,0.13116385461911206],\"type\":\"scatter\"},{\"line\":{\"color\":\"lightgray\",\"width\":1},\"mode\":\"lines\",\"x\":[-0.3718304348748292,-0.13617797378549315],\"y\":[0.889405011839641,-0.6677698899093224],\"type\":\"scatter\"},{\"line\":{\"color\":\"darkblue\",\"width\":1},\"mode\":\"lines\",\"x\":[-0.8569137617363639,-0.7605345776401973],\"y\":[0.27702130549198284,0.28735490924116186],\"type\":\"scatter\"},{\"line\":{\"color\":\"darkblue\",\"width\":1},\"mode\":\"lines\",\"x\":[-0.278231951866899,0.7903440977923845],\"y\":[-0.4788627466713346,-0.5228755269922652],\"type\":\"scatter\"},{\"line\":{\"color\":\"lightgray\",\"width\":1},\"mode\":\"lines\",\"x\":[-0.9151372576982943,0.07578275185778272],\"y\":[0.15511979920707278,-0.7227296757790806],\"type\":\"scatter\"},{\"line\":{\"color\":\"darkblue\",\"width\":1},\"mode\":\"lines\",\"x\":[0.821946468210322,0.9227817640400293],\"y\":[-0.5376566668384067,0.029458794541957063],\"type\":\"scatter\"},{\"line\":{\"color\":\"darkblue\",\"width\":1},\"mode\":\"lines\",\"x\":[-0.3114456606027594,-0.08629914181214383],\"y\":[-0.6739529679071985,-0.9369339520980161],\"type\":\"scatter\"},{\"line\":{\"color\":\"darkblue\",\"width\":1},\"mode\":\"lines\",\"x\":[0.7013791398643786,0.5578103471991686],\"y\":[-0.594040447917239,0.20540946402350227],\"type\":\"scatter\"},{\"line\":{\"color\":\"darkblue\",\"width\":1},\"mode\":\"lines\",\"x\":[0.8231470249802241,0.510738532629225],\"y\":[-0.33873032683507903,-0.8112387243894809],\"type\":\"scatter\"},{\"line\":{\"color\":\"lightgray\",\"width\":1},\"mode\":\"lines\",\"x\":[0.3341323589999464,0.7314587219711344],\"y\":[0.6276510584927125,-0.6744984707757519],\"type\":\"scatter\"},{\"line\":{\"color\":\"darkblue\",\"width\":1},\"mode\":\"lines\",\"x\":[-0.9739462100511188,-0.6004235446281904],\"y\":[0.15588962822060787,0.6370991185146676],\"type\":\"scatter\"},{\"line\":{\"color\":\"darkblue\",\"width\":1},\"mode\":\"lines\",\"x\":[0.07578275185778272,0.7314587219711344],\"y\":[-0.7227296757790806,-0.6744984707757519],\"type\":\"scatter\"},{\"line\":{\"color\":\"lightgray\",\"width\":1},\"mode\":\"lines\",\"x\":[-0.21874065182410288,-0.13617797378549315],\"y\":[0.9173139322490603,-0.6677698899093224],\"type\":\"scatter\"},{\"line\":{\"color\":\"lightgray\",\"width\":1},\"mode\":\"lines\",\"x\":[0.41841412245343573,0.07578275185778272],\"y\":[0.6013098799193504,-0.7227296757790806],\"type\":\"scatter\"},{\"line\":{\"color\":\"lightgray\",\"width\":1},\"mode\":\"lines\",\"x\":[-0.4782468403548081,0.7013791398643786],\"y\":[0.8192451596907109,-0.594040447917239],\"type\":\"scatter\"},{\"line\":{\"color\":\"darkblue\",\"width\":1},\"mode\":\"lines\",\"x\":[0.014910717236521208,0.9227817640400293],\"y\":[-0.7726759134396349,0.029458794541957063],\"type\":\"scatter\"},{\"line\":{\"color\":\"lightgray\",\"width\":1},\"mode\":\"lines\",\"x\":[-0.8569137617363639,0.07578275185778272],\"y\":[0.27702130549198284,-0.7227296757790806],\"type\":\"scatter\"},{\"line\":{\"color\":\"lightgray\",\"width\":1},\"mode\":\"lines\",\"x\":[-0.21874065182410288,0.7013791398643786],\"y\":[0.9173139322490603,-0.594040447917239],\"type\":\"scatter\"},{\"line\":{\"color\":\"darkblue\",\"width\":1},\"mode\":\"lines\",\"x\":[0.0856782687952649,-0.21874065182410288],\"y\":[0.9124810295755442,0.9173139322490603],\"type\":\"scatter\"},{\"line\":{\"color\":\"lightgray\",\"width\":1},\"mode\":\"lines\",\"x\":[-0.6004235446281904,0.5578103471991686],\"y\":[0.6370991185146676,0.20540946402350227],\"type\":\"scatter\"},{\"line\":{\"color\":\"lightgray\",\"width\":1},\"mode\":\"lines\",\"x\":[-0.9151372576982943,-0.3114456606027594],\"y\":[0.15511979920707278,-0.6739529679071985],\"type\":\"scatter\"},{\"line\":{\"color\":\"darkblue\",\"width\":1},\"mode\":\"lines\",\"x\":[-0.4782468403548081,-0.21874065182410288],\"y\":[0.8192451596907109,0.9173139322490603],\"type\":\"scatter\"},{\"line\":{\"color\":\"darkblue\",\"width\":1},\"mode\":\"lines\",\"x\":[0.0856782687952649,-0.9151372576982943],\"y\":[0.9124810295755442,0.15511979920707278],\"type\":\"scatter\"},{\"line\":{\"color\":\"lightgray\",\"width\":1},\"mode\":\"lines\",\"x\":[-0.7082756557903018,-0.08629914181214383],\"y\":[0.6253190923496244,-0.9369339520980161],\"type\":\"scatter\"},{\"line\":{\"color\":\"lightgray\",\"width\":1},\"mode\":\"lines\",\"x\":[-0.6004235446281904,0.7848921790023624],\"y\":[0.6370991185146676,-0.2454827409792513],\"type\":\"scatter\"},{\"line\":{\"color\":\"darkblue\",\"width\":1},\"mode\":\"lines\",\"x\":[-0.8165996085805034,-0.8569137617363639],\"y\":[0.5807746769754708,0.27702130549198284],\"type\":\"scatter\"},{\"line\":{\"color\":\"lightgray\",\"width\":1},\"mode\":\"lines\",\"x\":[-0.6140937175337806,0.014910717236521208],\"y\":[0.8892790315579895,-0.7726759134396349],\"type\":\"scatter\"},{\"line\":{\"color\":\"lightgray\",\"width\":1},\"mode\":\"lines\",\"x\":[-0.5518346330746787,0.6386071880364272],\"y\":[-0.20347522493435183,0.13116385461911206],\"type\":\"scatter\"},{\"line\":{\"color\":\"lightgray\",\"width\":1},\"mode\":\"lines\",\"x\":[-0.6004235446281904,0.014910717236521208],\"y\":[0.6370991185146676,-0.7726759134396349],\"type\":\"scatter\"},{\"line\":{\"color\":\"darkblue\",\"width\":1},\"mode\":\"lines\",\"x\":[0.7013791398643786,-0.3114456606027594],\"y\":[-0.594040447917239,-0.6739529679071985],\"type\":\"scatter\"},{\"line\":{\"color\":\"lightgray\",\"width\":1},\"mode\":\"lines\",\"x\":[0.3341323589999464,0.7903440977923845],\"y\":[0.6276510584927125,-0.5228755269922652],\"type\":\"scatter\"},{\"line\":{\"color\":\"lightgray\",\"width\":1},\"mode\":\"lines\",\"x\":[-0.7082756557903018,0.7013791398643786],\"y\":[0.6253190923496244,-0.594040447917239],\"type\":\"scatter\"},{\"line\":{\"color\":\"darkblue\",\"width\":1},\"mode\":\"lines\",\"x\":[0.3330448392384936,0.7848921790023624],\"y\":[-0.8340062657872137,-0.2454827409792513],\"type\":\"scatter\"},{\"line\":{\"color\":\"darkblue\",\"width\":1},\"mode\":\"lines\",\"x\":[-0.6004235446281904,-0.7605345776401973],\"y\":[0.6370991185146676,0.28735490924116186],\"type\":\"scatter\"},{\"line\":{\"color\":\"lightgray\",\"width\":1},\"mode\":\"lines\",\"x\":[-0.5518346330746787,0.7845701886498891],\"y\":[-0.20347522493435183,-0.4702501081521776],\"type\":\"scatter\"},{\"line\":{\"color\":\"darkblue\",\"width\":1},\"mode\":\"lines\",\"x\":[-0.7566061026918331,-0.8960744076451393],\"y\":[0.7987976960830132,-0.12230556515037556],\"type\":\"scatter\"},{\"line\":{\"color\":\"darkblue\",\"width\":1},\"mode\":\"lines\",\"x\":[0.07578275185778272,0.9227817640400293],\"y\":[-0.7227296757790806,0.029458794541957063],\"type\":\"scatter\"},{\"line\":{\"color\":\"darkblue\",\"width\":1},\"mode\":\"lines\",\"x\":[0.3341323589999464,-0.9151372576982943],\"y\":[0.6276510584927125,0.15511979920707278],\"type\":\"scatter\"},{\"line\":{\"color\":\"darkblue\",\"width\":1},\"mode\":\"lines\",\"x\":[0.014910717236521208,0.8231470249802241],\"y\":[-0.7726759134396349,-0.33873032683507903],\"type\":\"scatter\"},{\"line\":{\"color\":\"lightgray\",\"width\":1},\"mode\":\"lines\",\"x\":[-0.7566061026918331,0.2156727182715702],\"y\":[0.7987976960830132,-0.7887235348795513],\"type\":\"scatter\"},{\"line\":{\"color\":\"lightgray\",\"width\":1},\"mode\":\"lines\",\"x\":[0.17286174615058908,-0.038399276125469936],\"y\":[0.6109180479784145,-0.8589465139367477],\"type\":\"scatter\"},{\"line\":{\"color\":\"darkblue\",\"width\":1},\"mode\":\"lines\",\"x\":[0.7314587219711344,0.7848921790023624],\"y\":[-0.6744984707757519,-0.2454827409792513],\"type\":\"scatter\"},{\"line\":{\"color\":\"lightgray\",\"width\":1},\"mode\":\"lines\",\"x\":[-0.8165996085805034,0.2156727182715702],\"y\":[0.5807746769754708,-0.7887235348795513],\"type\":\"scatter\"},{\"line\":{\"color\":\"lightgray\",\"width\":1},\"mode\":\"lines\",\"x\":[-0.9151372576982943,0.6386071880364272],\"y\":[0.15511979920707278,0.13116385461911206],\"type\":\"scatter\"},{\"line\":{\"color\":\"darkblue\",\"width\":1},\"mode\":\"lines\",\"x\":[0.3330448392384936,-0.038399276125469936],\"y\":[-0.8340062657872137,-0.8589465139367477],\"type\":\"scatter\"},{\"line\":{\"color\":\"darkblue\",\"width\":1},\"mode\":\"lines\",\"x\":[0.8231470249802241,-0.038399276125469936],\"y\":[-0.33873032683507903,-0.8589465139367477],\"type\":\"scatter\"},{\"line\":{\"color\":\"darkblue\",\"width\":1},\"mode\":\"lines\",\"x\":[-0.278231951866899,-0.3114456606027594],\"y\":[-0.4788627466713346,-0.6739529679071985],\"type\":\"scatter\"},{\"line\":{\"color\":\"lightgray\",\"width\":1},\"mode\":\"lines\",\"x\":[0.0856782687952649,0.9227817640400293],\"y\":[0.9124810295755442,0.029458794541957063],\"type\":\"scatter\"},{\"line\":{\"color\":\"lightgray\",\"width\":1},\"mode\":\"lines\",\"x\":[-0.6004235446281904,0.7903440977923845],\"y\":[0.6370991185146676,-0.5228755269922652],\"type\":\"scatter\"},{\"line\":{\"color\":\"darkblue\",\"width\":1},\"mode\":\"lines\",\"x\":[-0.8569137617363639,-0.9151372576982943],\"y\":[0.27702130549198284,0.15511979920707278],\"type\":\"scatter\"},{\"line\":{\"color\":\"lightgray\",\"width\":1},\"mode\":\"lines\",\"x\":[-0.8960744076451393,0.014910717236521208],\"y\":[-0.12230556515037556,-0.7726759134396349],\"type\":\"scatter\"},{\"line\":{\"color\":\"darkblue\",\"width\":1},\"mode\":\"lines\",\"x\":[-0.9739462100511188,-0.8165996085805034],\"y\":[0.15588962822060787,0.5807746769754708],\"type\":\"scatter\"},{\"line\":{\"color\":\"darkblue\",\"width\":1},\"mode\":\"lines\",\"x\":[-0.8960744076451393,-0.7605345776401973],\"y\":[-0.12230556515037556,0.28735490924116186],\"type\":\"scatter\"},{\"line\":{\"color\":\"darkblue\",\"width\":1},\"mode\":\"lines\",\"x\":[-0.5518346330746787,-0.21874065182410288],\"y\":[-0.20347522493435183,0.9173139322490603],\"type\":\"scatter\"},{\"line\":{\"color\":\"lightgray\",\"width\":1},\"mode\":\"lines\",\"x\":[-0.8960744076451393,0.7314587219711344],\"y\":[-0.12230556515037556,-0.6744984707757519],\"type\":\"scatter\"},{\"line\":{\"color\":\"darkblue\",\"width\":1},\"mode\":\"lines\",\"x\":[-0.7566061026918331,0.3341323589999464],\"y\":[0.7987976960830132,0.6276510584927125],\"type\":\"scatter\"},{\"line\":{\"color\":\"darkblue\",\"width\":1},\"mode\":\"lines\",\"x\":[-0.6004235446281904,-0.8960744076451393],\"y\":[0.6370991185146676,-0.12230556515037556],\"type\":\"scatter\"},{\"line\":{\"color\":\"lightgray\",\"width\":1},\"mode\":\"lines\",\"x\":[-0.9255085009862662,0.7845701886498891],\"y\":[0.4156074772474138,-0.4702501081521776],\"type\":\"scatter\"},{\"line\":{\"color\":\"darkblue\",\"width\":1},\"mode\":\"lines\",\"x\":[0.6386071880364272,-0.3114456606027594],\"y\":[0.13116385461911206,-0.6739529679071985],\"type\":\"scatter\"},{\"line\":{\"color\":\"lightgray\",\"width\":1},\"mode\":\"lines\",\"x\":[-0.6004235446281904,-0.08629914181214383],\"y\":[0.6370991185146676,-0.9369339520980161],\"type\":\"scatter\"},{\"line\":{\"color\":\"darkblue\",\"width\":1},\"mode\":\"lines\",\"x\":[-0.4782468403548081,-0.9739462100511188],\"y\":[0.8192451596907109,0.15588962822060787],\"type\":\"scatter\"},{\"line\":{\"color\":\"darkblue\",\"width\":1},\"mode\":\"lines\",\"x\":[-0.4782468403548081,-0.7082756557903018],\"y\":[0.8192451596907109,0.6253190923496244],\"type\":\"scatter\"},{\"line\":{\"color\":\"lightgray\",\"width\":1},\"mode\":\"lines\",\"x\":[-0.9151372576982943,0.510738532629225],\"y\":[0.15511979920707278,-0.8112387243894809],\"type\":\"scatter\"},{\"line\":{\"color\":\"lightgray\",\"width\":1},\"mode\":\"lines\",\"x\":[-0.21874065182410288,0.014910717236521208],\"y\":[0.9173139322490603,-0.7726759134396349],\"type\":\"scatter\"},{\"line\":{\"color\":\"lightgray\",\"width\":1},\"mode\":\"lines\",\"x\":[-0.9739462100511188,-0.3114456606027594],\"y\":[0.15588962822060787,-0.6739529679071985],\"type\":\"scatter\"},{\"line\":{\"color\":\"darkblue\",\"width\":1},\"mode\":\"lines\",\"x\":[-0.8165996085805034,-0.21874065182410288],\"y\":[0.5807746769754708,0.9173139322490603],\"type\":\"scatter\"},{\"line\":{\"color\":\"lightgray\",\"width\":1},\"mode\":\"lines\",\"x\":[-0.8165996085805034,-0.08629914181214383],\"y\":[0.5807746769754708,-0.9369339520980161],\"type\":\"scatter\"},{\"line\":{\"color\":\"lightgray\",\"width\":1},\"mode\":\"lines\",\"x\":[-0.8960744076451393,0.7848921790023624],\"y\":[-0.12230556515037556,-0.2454827409792513],\"type\":\"scatter\"},{\"line\":{\"color\":\"darkblue\",\"width\":1},\"mode\":\"lines\",\"x\":[-0.8960744076451393,-0.6004235446281904],\"y\":[-0.12230556515037556,0.6370991185146676],\"type\":\"scatter\"},{\"line\":{\"color\":\"darkblue\",\"width\":1},\"mode\":\"lines\",\"x\":[0.7845701886498891,0.5578103471991686],\"y\":[-0.4702501081521776,0.20540946402350227],\"type\":\"scatter\"},{\"line\":{\"color\":\"darkblue\",\"width\":1},\"mode\":\"lines\",\"x\":[-0.9151372576982943,-0.6004235446281904],\"y\":[0.15511979920707278,0.6370991185146676],\"type\":\"scatter\"},{\"line\":{\"color\":\"lightgray\",\"width\":1},\"mode\":\"lines\",\"x\":[0.3341323589999464,0.07578275185778272],\"y\":[0.6276510584927125,-0.7227296757790806],\"type\":\"scatter\"},{\"line\":{\"color\":\"darkblue\",\"width\":1},\"mode\":\"lines\",\"x\":[-0.7566061026918331,-0.8569137617363639],\"y\":[0.7987976960830132,0.27702130549198284],\"type\":\"scatter\"},{\"line\":{\"color\":\"lightgray\",\"width\":1},\"mode\":\"lines\",\"x\":[0.0856782687952649,-0.13617797378549315],\"y\":[0.9124810295755442,-0.6677698899093224],\"type\":\"scatter\"},{\"line\":{\"color\":\"darkblue\",\"width\":1},\"mode\":\"lines\",\"x\":[-0.7566061026918331,-0.9255085009862662],\"y\":[0.7987976960830132,0.4156074772474138],\"type\":\"scatter\"},{\"line\":{\"color\":\"lightgray\",\"width\":1},\"mode\":\"lines\",\"x\":[-0.6140937175337806,0.821946468210322],\"y\":[0.8892790315579895,-0.5376566668384067],\"type\":\"scatter\"},{\"line\":{\"color\":\"darkblue\",\"width\":1},\"mode\":\"lines\",\"x\":[0.7013791398643786,0.3330448392384936],\"y\":[-0.594040447917239,-0.8340062657872137],\"type\":\"scatter\"},{\"line\":{\"color\":\"darkblue\",\"width\":1},\"mode\":\"lines\",\"x\":[-0.6140937175337806,0.0856782687952649],\"y\":[0.8892790315579895,0.9124810295755442],\"type\":\"scatter\"},{\"line\":{\"color\":\"lightgray\",\"width\":1},\"mode\":\"lines\",\"x\":[-0.7605345776401973,0.7848921790023624],\"y\":[0.28735490924116186,-0.2454827409792513],\"type\":\"scatter\"},{\"line\":{\"color\":\"darkblue\",\"width\":1},\"mode\":\"lines\",\"x\":[0.014910717236521208,-0.3114456606027594],\"y\":[-0.7726759134396349,-0.6739529679071985],\"type\":\"scatter\"},{\"line\":{\"color\":\"lightgray\",\"width\":1},\"mode\":\"lines\",\"x\":[-0.8569137617363639,0.7903440977923845],\"y\":[0.27702130549198284,-0.5228755269922652],\"type\":\"scatter\"},{\"line\":{\"color\":\"darkblue\",\"width\":1},\"mode\":\"lines\",\"x\":[0.2156727182715702,-0.3114456606027594],\"y\":[-0.7887235348795513,-0.6739529679071985],\"type\":\"scatter\"},{\"line\":{\"color\":\"darkblue\",\"width\":1},\"mode\":\"lines\",\"x\":[0.821946468210322,-0.13617797378549315],\"y\":[-0.5376566668384067,-0.6677698899093224],\"type\":\"scatter\"},{\"line\":{\"color\":\"lightgray\",\"width\":1},\"mode\":\"lines\",\"x\":[-0.9255085009862662,0.821946468210322],\"y\":[0.4156074772474138,-0.5376566668384067],\"type\":\"scatter\"},{\"line\":{\"color\":\"lightgray\",\"width\":1},\"mode\":\"lines\",\"x\":[-0.8569137617363639,-0.08629914181214383],\"y\":[0.27702130549198284,-0.9369339520980161],\"type\":\"scatter\"},{\"line\":{\"color\":\"darkblue\",\"width\":1},\"mode\":\"lines\",\"x\":[0.6386071880364272,0.2156727182715702],\"y\":[0.13116385461911206,-0.7887235348795513],\"type\":\"scatter\"},{\"line\":{\"color\":\"lightgray\",\"width\":1},\"mode\":\"lines\",\"x\":[-0.8165996085805034,0.510738532629225],\"y\":[0.5807746769754708,-0.8112387243894809],\"type\":\"scatter\"},{\"line\":{\"color\":\"lightgray\",\"width\":1},\"mode\":\"lines\",\"x\":[0.20122273875243868,0.7314587219711344],\"y\":[1.0,-0.6744984707757519],\"type\":\"scatter\"},{\"line\":{\"color\":\"darkblue\",\"width\":1},\"mode\":\"lines\",\"x\":[0.6386071880364272,0.510738532629225],\"y\":[0.13116385461911206,-0.8112387243894809],\"type\":\"scatter\"},{\"line\":{\"color\":\"lightgray\",\"width\":1},\"mode\":\"lines\",\"x\":[-0.5518346330746787,-0.038399276125469936],\"y\":[-0.20347522493435183,-0.8589465139367477],\"type\":\"scatter\"},{\"line\":{\"color\":\"darkblue\",\"width\":1},\"mode\":\"lines\",\"x\":[0.7848921790023624,0.7903440977923845],\"y\":[-0.2454827409792513,-0.5228755269922652],\"type\":\"scatter\"},{\"line\":{\"color\":\"darkblue\",\"width\":1},\"mode\":\"lines\",\"x\":[-0.038399276125469936,0.9227817640400293],\"y\":[-0.8589465139367477,0.029458794541957063],\"type\":\"scatter\"},{\"line\":{\"color\":\"lightgray\",\"width\":1},\"mode\":\"lines\",\"x\":[-0.6004235446281904,-0.3114456606027594],\"y\":[0.6370991185146676,-0.6739529679071985],\"type\":\"scatter\"},{\"line\":{\"color\":\"lightgray\",\"width\":1},\"mode\":\"lines\",\"x\":[-0.7082756557903018,0.7314587219711344],\"y\":[0.6253190923496244,-0.6744984707757519],\"type\":\"scatter\"},{\"line\":{\"color\":\"lightgray\",\"width\":1},\"mode\":\"lines\",\"x\":[-0.9255085009862662,0.6108745154405566],\"y\":[0.4156074772474138,-0.5733676800755454],\"type\":\"scatter\"},{\"line\":{\"color\":\"darkblue\",\"width\":1},\"mode\":\"lines\",\"x\":[0.2156727182715702,0.7848921790023624],\"y\":[-0.7887235348795513,-0.2454827409792513],\"type\":\"scatter\"},{\"line\":{\"color\":\"lightgray\",\"width\":1},\"mode\":\"lines\",\"x\":[-0.6004235446281904,0.3330448392384936],\"y\":[0.6370991185146676,-0.8340062657872137],\"type\":\"scatter\"},{\"line\":{\"color\":\"lightgray\",\"width\":1},\"mode\":\"lines\",\"x\":[-0.5518346330746787,0.07578275185778272],\"y\":[-0.20347522493435183,-0.7227296757790806],\"type\":\"scatter\"},{\"line\":{\"color\":\"darkblue\",\"width\":1},\"mode\":\"lines\",\"x\":[-0.6140937175337806,-0.9255085009862662],\"y\":[0.8892790315579895,0.4156074772474138],\"type\":\"scatter\"},{\"line\":{\"color\":\"lightgray\",\"width\":1},\"mode\":\"lines\",\"x\":[-0.8569137617363639,0.5578103471991686],\"y\":[0.27702130549198284,0.20540946402350227],\"type\":\"scatter\"},{\"line\":{\"color\":\"lightgray\",\"width\":1},\"mode\":\"lines\",\"x\":[-0.5518346330746787,0.510738532629225],\"y\":[-0.20347522493435183,-0.8112387243894809],\"type\":\"scatter\"},{\"line\":{\"color\":\"lightgray\",\"width\":1},\"mode\":\"lines\",\"x\":[-0.9255085009862662,0.3330448392384936],\"y\":[0.4156074772474138,-0.8340062657872137],\"type\":\"scatter\"},{\"line\":{\"color\":\"darkblue\",\"width\":1},\"mode\":\"lines\",\"x\":[-0.7566061026918331,-0.21874065182410288],\"y\":[0.7987976960830132,0.9173139322490603],\"type\":\"scatter\"},{\"line\":{\"color\":\"lightgray\",\"width\":1},\"mode\":\"lines\",\"x\":[-0.4782468403548081,-0.3114456606027594],\"y\":[0.8192451596907109,-0.6739529679071985],\"type\":\"scatter\"},{\"line\":{\"color\":\"lightgray\",\"width\":1},\"mode\":\"lines\",\"x\":[-0.8569137617363639,-0.278231951866899],\"y\":[0.27702130549198284,-0.4788627466713346],\"type\":\"scatter\"},{\"line\":{\"color\":\"lightgray\",\"width\":1},\"mode\":\"lines\",\"x\":[-0.6140937175337806,0.7013791398643786],\"y\":[0.8892790315579895,-0.594040447917239],\"type\":\"scatter\"},{\"line\":{\"color\":\"darkblue\",\"width\":1},\"mode\":\"lines\",\"x\":[-0.8960744076451393,-0.21874065182410288],\"y\":[-0.12230556515037556,0.9173139322490603],\"type\":\"scatter\"},{\"line\":{\"color\":\"darkblue\",\"width\":1},\"mode\":\"lines\",\"x\":[0.7650494797310291,-0.278231951866899],\"y\":[0.26190397562901585,-0.4788627466713346],\"type\":\"scatter\"},{\"line\":{\"color\":\"lightgray\",\"width\":1},\"mode\":\"lines\",\"x\":[-0.9151372576982943,-0.08629914181214383],\"y\":[0.15511979920707278,-0.9369339520980161],\"type\":\"scatter\"},{\"line\":{\"color\":\"darkblue\",\"width\":1},\"mode\":\"lines\",\"x\":[0.7314587219711344,0.7903440977923845],\"y\":[-0.6744984707757519,-0.5228755269922652],\"type\":\"scatter\"},{\"line\":{\"color\":\"lightgray\",\"width\":1},\"mode\":\"lines\",\"x\":[-0.7082756557903018,0.07578275185778272],\"y\":[0.6253190923496244,-0.7227296757790806],\"type\":\"scatter\"},{\"line\":{\"color\":\"lightgray\",\"width\":1},\"mode\":\"lines\",\"x\":[-0.7082756557903018,0.6386071880364272],\"y\":[0.6253190923496244,0.13116385461911206],\"type\":\"scatter\"},{\"line\":{\"color\":\"darkblue\",\"width\":1},\"mode\":\"lines\",\"x\":[-0.5518346330746787,-0.8569137617363639],\"y\":[-0.20347522493435183,0.27702130549198284],\"type\":\"scatter\"},{\"line\":{\"color\":\"lightgray\",\"width\":1},\"mode\":\"lines\",\"x\":[0.20122273875243868,0.3330448392384936],\"y\":[1.0,-0.8340062657872137],\"type\":\"scatter\"},{\"line\":{\"color\":\"lightgray\",\"width\":1},\"mode\":\"lines\",\"x\":[-0.6004235446281904,0.07578275185778272],\"y\":[0.6370991185146676,-0.7227296757790806],\"type\":\"scatter\"},{\"line\":{\"color\":\"darkblue\",\"width\":1},\"mode\":\"lines\",\"x\":[0.6108745154405566,0.821946468210322],\"y\":[-0.5733676800755454,-0.5376566668384067],\"type\":\"scatter\"},{\"line\":{\"color\":\"lightgray\",\"width\":1},\"mode\":\"lines\",\"x\":[-0.4782468403548081,0.8231470249802241],\"y\":[0.8192451596907109,-0.33873032683507903],\"type\":\"scatter\"},{\"line\":{\"color\":\"lightgray\",\"width\":1},\"mode\":\"lines\",\"x\":[0.20122273875243868,0.07578275185778272],\"y\":[1.0,-0.7227296757790806],\"type\":\"scatter\"},{\"line\":{\"color\":\"lightgray\",\"width\":1},\"mode\":\"lines\",\"x\":[0.3341323589999464,0.7650494797310291],\"y\":[0.6276510584927125,0.26190397562901585],\"type\":\"scatter\"},{\"line\":{\"color\":\"lightgray\",\"width\":1},\"mode\":\"lines\",\"x\":[-0.6004235446281904,0.6108745154405566],\"y\":[0.6370991185146676,-0.5733676800755454],\"type\":\"scatter\"},{\"line\":{\"color\":\"lightgray\",\"width\":1},\"mode\":\"lines\",\"x\":[-0.3718304348748292,0.3330448392384936],\"y\":[0.889405011839641,-0.8340062657872137],\"type\":\"scatter\"},{\"line\":{\"color\":\"darkblue\",\"width\":1},\"mode\":\"lines\",\"x\":[-0.8165996085805034,0.20122273875243868],\"y\":[0.5807746769754708,1.0],\"type\":\"scatter\"},{\"line\":{\"color\":\"lightgray\",\"width\":1},\"mode\":\"lines\",\"x\":[-0.7605345776401973,0.7845701886498891],\"y\":[0.28735490924116186,-0.4702501081521776],\"type\":\"scatter\"},{\"line\":{\"color\":\"darkblue\",\"width\":1},\"mode\":\"lines\",\"x\":[-0.8960744076451393,-0.8569137617363639],\"y\":[-0.12230556515037556,0.27702130549198284],\"type\":\"scatter\"},{\"line\":{\"color\":\"lightgray\",\"width\":1},\"mode\":\"lines\",\"x\":[-0.9255085009862662,0.2156727182715702],\"y\":[0.4156074772474138,-0.7887235348795513],\"type\":\"scatter\"},{\"line\":{\"color\":\"lightgray\",\"width\":1},\"mode\":\"lines\",\"x\":[-0.8569137617363639,0.510738532629225],\"y\":[0.27702130549198284,-0.8112387243894809],\"type\":\"scatter\"},{\"line\":{\"color\":\"lightgray\",\"width\":1},\"mode\":\"lines\",\"x\":[0.17286174615058908,0.7845701886498891],\"y\":[0.6109180479784145,-0.4702501081521776],\"type\":\"scatter\"},{\"line\":{\"color\":\"darkblue\",\"width\":1},\"mode\":\"lines\",\"x\":[0.0856782687952649,0.20122273875243868],\"y\":[0.9124810295755442,1.0],\"type\":\"scatter\"},{\"line\":{\"color\":\"darkblue\",\"width\":1},\"mode\":\"lines\",\"x\":[0.2156727182715702,-0.038399276125469936],\"y\":[-0.7887235348795513,-0.8589465139367477],\"type\":\"scatter\"},{\"line\":{\"color\":\"darkblue\",\"width\":1},\"mode\":\"lines\",\"x\":[0.17286174615058908,-0.21874065182410288],\"y\":[0.6109180479784145,0.9173139322490603],\"type\":\"scatter\"},{\"line\":{\"color\":\"darkblue\",\"width\":1},\"mode\":\"lines\",\"x\":[0.17286174615058908,-0.9255085009862662],\"y\":[0.6109180479784145,0.4156074772474138],\"type\":\"scatter\"},{\"line\":{\"color\":\"lightgray\",\"width\":1},\"mode\":\"lines\",\"x\":[-0.6004235446281904,0.5578103471991686],\"y\":[0.6370991185146676,0.20540946402350227],\"type\":\"scatter\"},{\"line\":{\"color\":\"darkblue\",\"width\":1},\"mode\":\"lines\",\"x\":[0.8231470249802241,0.5578103471991686],\"y\":[-0.33873032683507903,0.20540946402350227],\"type\":\"scatter\"},{\"line\":{\"color\":\"darkblue\",\"width\":1},\"mode\":\"lines\",\"x\":[0.7013791398643786,0.2156727182715702],\"y\":[-0.594040447917239,-0.7887235348795513],\"type\":\"scatter\"},{\"line\":{\"color\":\"lightgray\",\"width\":1},\"mode\":\"lines\",\"x\":[-0.5518346330746787,0.7903440977923845],\"y\":[-0.20347522493435183,-0.5228755269922652],\"type\":\"scatter\"},{\"line\":{\"color\":\"lightgray\",\"width\":1},\"mode\":\"lines\",\"x\":[-0.7082756557903018,0.7650494797310291],\"y\":[0.6253190923496244,0.26190397562901585],\"type\":\"scatter\"},{\"line\":{\"color\":\"darkblue\",\"width\":1},\"mode\":\"lines\",\"x\":[-0.3114456606027594,0.510738532629225],\"y\":[-0.6739529679071985,-0.8112387243894809],\"type\":\"scatter\"},{\"line\":{\"color\":\"darkblue\",\"width\":1},\"mode\":\"lines\",\"x\":[0.9227817640400293,-0.13617797378549315],\"y\":[0.029458794541957063,-0.6677698899093224],\"type\":\"scatter\"},{\"line\":{\"color\":\"lightgray\",\"width\":1},\"mode\":\"lines\",\"x\":[-0.6140937175337806,0.5578103471991686],\"y\":[0.8892790315579895,0.20540946402350227],\"type\":\"scatter\"},{\"line\":{\"color\":\"lightgray\",\"width\":1},\"mode\":\"lines\",\"x\":[0.17286174615058908,0.07578275185778272],\"y\":[0.6109180479784145,-0.7227296757790806],\"type\":\"scatter\"},{\"line\":{\"color\":\"darkblue\",\"width\":1},\"mode\":\"lines\",\"x\":[-0.8165996085805034,-0.7605345776401973],\"y\":[0.5807746769754708,0.28735490924116186],\"type\":\"scatter\"},{\"line\":{\"color\":\"darkblue\",\"width\":1},\"mode\":\"lines\",\"x\":[-0.7566061026918331,-0.3718304348748292],\"y\":[0.7987976960830132,0.889405011839641],\"type\":\"scatter\"},{\"line\":{\"color\":\"lightgray\",\"width\":1},\"mode\":\"lines\",\"x\":[-0.8960744076451393,0.6386071880364272],\"y\":[-0.12230556515037556,0.13116385461911206],\"type\":\"scatter\"},{\"line\":{\"color\":\"lightgray\",\"width\":1},\"mode\":\"lines\",\"x\":[-0.5518346330746787,0.821946468210322],\"y\":[-0.20347522493435183,-0.5376566668384067],\"type\":\"scatter\"},{\"line\":{\"color\":\"lightgray\",\"width\":1},\"mode\":\"lines\",\"x\":[-0.21874065182410288,0.3330448392384936],\"y\":[0.9173139322490603,-0.8340062657872137],\"type\":\"scatter\"},{\"line\":{\"color\":\"lightgray\",\"width\":1},\"mode\":\"lines\",\"x\":[-0.3718304348748292,0.821946468210322],\"y\":[0.889405011839641,-0.5376566668384067],\"type\":\"scatter\"},{\"line\":{\"color\":\"lightgray\",\"width\":1},\"mode\":\"lines\",\"x\":[-0.6140937175337806,0.07578275185778272],\"y\":[0.8892790315579895,-0.7227296757790806],\"type\":\"scatter\"},{\"line\":{\"color\":\"darkblue\",\"width\":1},\"mode\":\"lines\",\"x\":[0.0856782687952649,-0.9255085009862662],\"y\":[0.9124810295755442,0.4156074772474138],\"type\":\"scatter\"},{\"line\":{\"color\":\"darkblue\",\"width\":1},\"mode\":\"lines\",\"x\":[-0.7082756557903018,-0.7605345776401973],\"y\":[0.6253190923496244,0.28735490924116186],\"type\":\"scatter\"},{\"line\":{\"color\":\"darkblue\",\"width\":1},\"mode\":\"lines\",\"x\":[0.20122273875243868,-0.9255085009862662],\"y\":[1.0,0.4156074772474138],\"type\":\"scatter\"},{\"line\":{\"color\":\"darkblue\",\"width\":1},\"mode\":\"lines\",\"x\":[-0.278231951866899,0.9227817640400293],\"y\":[-0.4788627466713346,0.029458794541957063],\"type\":\"scatter\"},{\"line\":{\"color\":\"lightgray\",\"width\":1},\"mode\":\"lines\",\"x\":[-0.7605345776401973,0.6108745154405566],\"y\":[0.28735490924116186,-0.5733676800755454],\"type\":\"scatter\"},{\"line\":{\"color\":\"lightgray\",\"width\":1},\"mode\":\"lines\",\"x\":[-0.9739462100511188,0.821946468210322],\"y\":[0.15588962822060787,-0.5376566668384067],\"type\":\"scatter\"},{\"line\":{\"color\":\"darkblue\",\"width\":1},\"mode\":\"lines\",\"x\":[-0.8960744076451393,-0.3718304348748292],\"y\":[-0.12230556515037556,0.889405011839641],\"type\":\"scatter\"},{\"line\":{\"color\":\"darkblue\",\"width\":1},\"mode\":\"lines\",\"x\":[0.7013791398643786,0.821946468210322],\"y\":[-0.594040447917239,-0.5376566668384067],\"type\":\"scatter\"},{\"line\":{\"color\":\"darkblue\",\"width\":1},\"mode\":\"lines\",\"x\":[0.5578103471991686,0.7848921790023624],\"y\":[0.20540946402350227,-0.2454827409792513],\"type\":\"scatter\"},{\"line\":{\"color\":\"lightgray\",\"width\":1},\"mode\":\"lines\",\"x\":[-0.21874065182410288,0.7314587219711344],\"y\":[0.9173139322490603,-0.6744984707757519],\"type\":\"scatter\"},{\"line\":{\"color\":\"darkblue\",\"width\":1},\"mode\":\"lines\",\"x\":[-0.6140937175337806,0.17286174615058908],\"y\":[0.8892790315579895,0.6109180479784145],\"type\":\"scatter\"},{\"line\":{\"color\":\"lightgray\",\"width\":1},\"mode\":\"lines\",\"x\":[-0.5518346330746787,-0.08629914181214383],\"y\":[-0.20347522493435183,-0.9369339520980161],\"type\":\"scatter\"},{\"line\":{\"color\":\"lightgray\",\"width\":1},\"mode\":\"lines\",\"x\":[-0.9739462100511188,0.5578103471991686],\"y\":[0.15588962822060787,0.20540946402350227],\"type\":\"scatter\"},{\"line\":{\"color\":\"darkblue\",\"width\":1},\"mode\":\"lines\",\"x\":[0.6386071880364272,-0.278231951866899],\"y\":[0.13116385461911206,-0.4788627466713346],\"type\":\"scatter\"},{\"line\":{\"color\":\"darkblue\",\"width\":1},\"mode\":\"lines\",\"x\":[0.6386071880364272,0.7903440977923845],\"y\":[0.13116385461911206,-0.5228755269922652],\"type\":\"scatter\"},{\"line\":{\"color\":\"lightgray\",\"width\":1},\"mode\":\"lines\",\"x\":[-0.8165996085805034,0.7314587219711344],\"y\":[0.5807746769754708,-0.6744984707757519],\"type\":\"scatter\"},{\"line\":{\"color\":\"lightgray\",\"width\":1},\"mode\":\"lines\",\"x\":[-0.6004235446281904,-0.278231951866899],\"y\":[0.6370991185146676,-0.4788627466713346],\"type\":\"scatter\"},{\"line\":{\"color\":\"darkblue\",\"width\":1},\"mode\":\"lines\",\"x\":[0.510738532629225,0.7848921790023624],\"y\":[-0.8112387243894809,-0.2454827409792513],\"type\":\"scatter\"},{\"line\":{\"color\":\"lightgray\",\"width\":1},\"mode\":\"lines\",\"x\":[-0.6004235446281904,-0.038399276125469936],\"y\":[0.6370991185146676,-0.8589465139367477],\"type\":\"scatter\"},{\"line\":{\"color\":\"darkblue\",\"width\":1},\"mode\":\"lines\",\"x\":[0.20122273875243868,-0.5518346330746787],\"y\":[1.0,-0.20347522493435183],\"type\":\"scatter\"},{\"line\":{\"color\":\"lightgray\",\"width\":1},\"mode\":\"lines\",\"x\":[0.41841412245343573,0.3330448392384936],\"y\":[0.6013098799193504,-0.8340062657872137],\"type\":\"scatter\"},{\"line\":{\"color\":\"lightgray\",\"width\":1},\"mode\":\"lines\",\"x\":[0.41841412245343573,0.2156727182715702],\"y\":[0.6013098799193504,-0.7887235348795513],\"type\":\"scatter\"},{\"line\":{\"color\":\"lightgray\",\"width\":1},\"mode\":\"lines\",\"x\":[-0.6004235446281904,-0.038399276125469936],\"y\":[0.6370991185146676,-0.8589465139367477],\"type\":\"scatter\"},{\"line\":{\"color\":\"darkblue\",\"width\":1},\"mode\":\"lines\",\"x\":[0.821946468210322,0.5578103471991686],\"y\":[-0.5376566668384067,0.20540946402350227],\"type\":\"scatter\"},{\"line\":{\"color\":\"lightgray\",\"width\":1},\"mode\":\"lines\",\"x\":[0.20122273875243868,-0.13617797378549315],\"y\":[1.0,-0.6677698899093224],\"type\":\"scatter\"},{\"line\":{\"color\":\"darkblue\",\"width\":1},\"mode\":\"lines\",\"x\":[0.20122273875243868,-0.7605345776401973],\"y\":[1.0,0.28735490924116186],\"type\":\"scatter\"},{\"line\":{\"color\":\"lightgray\",\"width\":1},\"mode\":\"lines\",\"x\":[-0.8960744076451393,0.9227817640400293],\"y\":[-0.12230556515037556,0.029458794541957063],\"type\":\"scatter\"},{\"line\":{\"color\":\"lightgray\",\"width\":1},\"mode\":\"lines\",\"x\":[-0.4782468403548081,0.6108745154405566],\"y\":[0.8192451596907109,-0.5733676800755454],\"type\":\"scatter\"},{\"line\":{\"color\":\"lightgray\",\"width\":1},\"mode\":\"lines\",\"x\":[-0.6140937175337806,0.9227817640400293],\"y\":[0.8892790315579895,0.029458794541957063],\"type\":\"scatter\"},{\"line\":{\"color\":\"darkblue\",\"width\":1},\"mode\":\"lines\",\"x\":[-0.7082756557903018,0.3341323589999464],\"y\":[0.6253190923496244,0.6276510584927125],\"type\":\"scatter\"},{\"line\":{\"color\":\"darkblue\",\"width\":1},\"mode\":\"lines\",\"x\":[-0.7082756557903018,-0.21874065182410288],\"y\":[0.6253190923496244,0.9173139322490603],\"type\":\"scatter\"},{\"line\":{\"color\":\"lightgray\",\"width\":1},\"mode\":\"lines\",\"x\":[-0.6140937175337806,0.7848921790023624],\"y\":[0.8892790315579895,-0.2454827409792513],\"type\":\"scatter\"},{\"line\":{\"color\":\"lightgray\",\"width\":1},\"mode\":\"lines\",\"x\":[0.20122273875243868,0.7013791398643786],\"y\":[1.0,-0.594040447917239],\"type\":\"scatter\"},{\"line\":{\"color\":\"lightgray\",\"width\":1},\"mode\":\"lines\",\"x\":[-0.8960744076451393,-0.08629914181214383],\"y\":[-0.12230556515037556,-0.9369339520980161],\"type\":\"scatter\"},{\"line\":{\"color\":\"darkblue\",\"width\":1},\"mode\":\"lines\",\"x\":[-0.9151372576982943,-0.7605345776401973],\"y\":[0.15511979920707278,0.28735490924116186],\"type\":\"scatter\"},{\"line\":{\"color\":\"lightgray\",\"width\":1},\"mode\":\"lines\",\"x\":[-0.8165996085805034,0.3330448392384936],\"y\":[0.5807746769754708,-0.8340062657872137],\"type\":\"scatter\"},{\"line\":{\"color\":\"darkblue\",\"width\":1},\"mode\":\"lines\",\"x\":[0.41841412245343573,0.0856782687952649],\"y\":[0.6013098799193504,0.9124810295755442],\"type\":\"scatter\"},{\"line\":{\"color\":\"darkblue\",\"width\":1},\"mode\":\"lines\",\"x\":[-0.4782468403548081,-0.9255085009862662],\"y\":[0.8192451596907109,0.4156074772474138],\"type\":\"scatter\"},{\"line\":{\"color\":\"darkblue\",\"width\":1},\"mode\":\"lines\",\"x\":[0.6108745154405566,-0.13617797378549315],\"y\":[-0.5733676800755454,-0.6677698899093224],\"type\":\"scatter\"},{\"line\":{\"color\":\"darkblue\",\"width\":1},\"mode\":\"lines\",\"x\":[0.3341323589999464,-0.7605345776401973],\"y\":[0.6276510584927125,0.28735490924116186],\"type\":\"scatter\"},{\"line\":{\"color\":\"lightgray\",\"width\":1},\"mode\":\"lines\",\"x\":[-0.7566061026918331,0.9227817640400293],\"y\":[0.7987976960830132,0.029458794541957063],\"type\":\"scatter\"},{\"line\":{\"color\":\"darkblue\",\"width\":1},\"mode\":\"lines\",\"x\":[0.41841412245343573,-0.7082756557903018],\"y\":[0.6013098799193504,0.6253190923496244],\"type\":\"scatter\"},{\"line\":{\"color\":\"darkblue\",\"width\":1},\"mode\":\"lines\",\"x\":[-0.6140937175337806,-0.8165996085805034],\"y\":[0.8892790315579895,0.5807746769754708],\"type\":\"scatter\"},{\"line\":{\"color\":\"darkblue\",\"width\":1},\"mode\":\"lines\",\"x\":[-0.6004235446281904,-0.21874065182410288],\"y\":[0.6370991185146676,0.9173139322490603],\"type\":\"scatter\"},{\"line\":{\"color\":\"darkblue\",\"width\":1},\"mode\":\"lines\",\"x\":[0.6108745154405566,0.7903440977923845],\"y\":[-0.5733676800755454,-0.5228755269922652],\"type\":\"scatter\"},{\"line\":{\"color\":\"lightgray\",\"width\":1},\"mode\":\"lines\",\"x\":[-0.3718304348748292,0.07578275185778272],\"y\":[0.889405011839641,-0.7227296757790806],\"type\":\"scatter\"},{\"line\":{\"color\":\"darkblue\",\"width\":1},\"mode\":\"lines\",\"x\":[0.07578275185778272,0.7903440977923845],\"y\":[-0.7227296757790806,-0.5228755269922652],\"type\":\"scatter\"},{\"line\":{\"color\":\"darkblue\",\"width\":1},\"mode\":\"lines\",\"x\":[-0.4782468403548081,0.20122273875243868],\"y\":[0.8192451596907109,1.0],\"type\":\"scatter\"},{\"line\":{\"color\":\"darkblue\",\"width\":1},\"mode\":\"lines\",\"x\":[0.3330448392384936,-0.13617797378549315],\"y\":[-0.8340062657872137,-0.6677698899093224],\"type\":\"scatter\"},{\"line\":{\"color\":\"lightgray\",\"width\":1},\"mode\":\"lines\",\"x\":[0.17286174615058908,0.7013791398643786],\"y\":[0.6109180479784145,-0.594040447917239],\"type\":\"scatter\"},{\"line\":{\"color\":\"lightgray\",\"width\":1},\"mode\":\"lines\",\"x\":[-0.6004235446281904,0.9227817640400293],\"y\":[0.6370991185146676,0.029458794541957063],\"type\":\"scatter\"},{\"line\":{\"color\":\"lightgray\",\"width\":1},\"mode\":\"lines\",\"x\":[-0.9151372576982943,0.7013791398643786],\"y\":[0.15511979920707278,-0.594040447917239],\"type\":\"scatter\"},{\"line\":{\"color\":\"darkblue\",\"width\":1},\"mode\":\"lines\",\"x\":[0.3330448392384936,0.510738532629225],\"y\":[-0.8340062657872137,-0.8112387243894809],\"type\":\"scatter\"},{\"line\":{\"color\":\"lightgray\",\"width\":1},\"mode\":\"lines\",\"x\":[-0.8165996085805034,0.7845701886498891],\"y\":[0.5807746769754708,-0.4702501081521776],\"type\":\"scatter\"},{\"line\":{\"color\":\"darkblue\",\"width\":1},\"mode\":\"lines\",\"x\":[0.014910717236521208,-0.08629914181214383],\"y\":[-0.7726759134396349,-0.9369339520980161],\"type\":\"scatter\"},{\"line\":{\"color\":\"darkblue\",\"width\":1},\"mode\":\"lines\",\"x\":[0.7314587219711344,-0.038399276125469936],\"y\":[-0.6744984707757519,-0.8589465139367477],\"type\":\"scatter\"},{\"line\":{\"color\":\"lightgray\",\"width\":1},\"mode\":\"lines\",\"x\":[0.41841412245343573,0.7845701886498891],\"y\":[0.6013098799193504,-0.4702501081521776],\"type\":\"scatter\"},{\"line\":{\"color\":\"lightgray\",\"width\":1},\"mode\":\"lines\",\"x\":[-0.6140937175337806,-0.13617797378549315],\"y\":[0.8892790315579895,-0.6677698899093224],\"type\":\"scatter\"},{\"line\":{\"color\":\"darkblue\",\"width\":1},\"mode\":\"lines\",\"x\":[0.41841412245343573,0.3341323589999464],\"y\":[0.6013098799193504,0.6276510584927125],\"type\":\"scatter\"},{\"line\":{\"color\":\"darkblue\",\"width\":1},\"mode\":\"lines\",\"x\":[0.7650494797310291,0.6386071880364272],\"y\":[0.26190397562901585,0.13116385461911206],\"type\":\"scatter\"},{\"line\":{\"color\":\"lightgray\",\"width\":1},\"mode\":\"lines\",\"x\":[-0.7605345776401973,-0.278231951866899],\"y\":[0.28735490924116186,-0.4788627466713346],\"type\":\"scatter\"},{\"line\":{\"color\":\"lightgray\",\"width\":1},\"mode\":\"lines\",\"x\":[0.3341323589999464,0.6108745154405566],\"y\":[0.6276510584927125,-0.5733676800755454],\"type\":\"scatter\"},{\"line\":{\"color\":\"darkblue\",\"width\":1},\"mode\":\"lines\",\"x\":[-0.21874065182410288,-0.9151372576982943],\"y\":[0.9173139322490603,0.15511979920707278],\"type\":\"scatter\"},{\"line\":{\"color\":\"lightgray\",\"width\":1},\"mode\":\"lines\",\"x\":[0.3341323589999464,0.3330448392384936],\"y\":[0.6276510584927125,-0.8340062657872137],\"type\":\"scatter\"},{\"line\":{\"color\":\"lightgray\",\"width\":1},\"mode\":\"lines\",\"x\":[-0.4782468403548081,0.9227817640400293],\"y\":[0.8192451596907109,0.029458794541957063],\"type\":\"scatter\"},{\"line\":{\"color\":\"lightgray\",\"width\":1},\"mode\":\"lines\",\"x\":[-0.8165996085805034,0.8231470249802241],\"y\":[0.5807746769754708,-0.33873032683507903],\"type\":\"scatter\"},{\"line\":{\"color\":\"lightgray\",\"width\":1},\"mode\":\"lines\",\"x\":[-0.21874065182410288,0.2156727182715702],\"y\":[0.9173139322490603,-0.7887235348795513],\"type\":\"scatter\"},{\"line\":{\"color\":\"lightgray\",\"width\":1},\"mode\":\"lines\",\"x\":[0.41841412245343573,0.7314587219711344],\"y\":[0.6013098799193504,-0.6744984707757519],\"type\":\"scatter\"},{\"line\":{\"color\":\"darkblue\",\"width\":1},\"mode\":\"lines\",\"x\":[-0.6140937175337806,-0.21874065182410288],\"y\":[0.8892790315579895,0.9173139322490603],\"type\":\"scatter\"},{\"line\":{\"color\":\"lightgray\",\"width\":1},\"mode\":\"lines\",\"x\":[-0.5518346330746787,0.821946468210322],\"y\":[-0.20347522493435183,-0.5376566668384067],\"type\":\"scatter\"},{\"line\":{\"color\":\"darkblue\",\"width\":1},\"mode\":\"lines\",\"x\":[0.17286174615058908,-0.8569137617363639],\"y\":[0.6109180479784145,0.27702130549198284],\"type\":\"scatter\"},{\"line\":{\"color\":\"lightgray\",\"width\":1},\"mode\":\"lines\",\"x\":[-0.7605345776401973,0.7650494797310291],\"y\":[0.28735490924116186,0.26190397562901585],\"type\":\"scatter\"},{\"line\":{\"color\":\"lightgray\",\"width\":1},\"mode\":\"lines\",\"x\":[-0.5518346330746787,0.7650494797310291],\"y\":[-0.20347522493435183,0.26190397562901585],\"type\":\"scatter\"},{\"line\":{\"color\":\"lightgray\",\"width\":1},\"mode\":\"lines\",\"x\":[-0.9739462100511188,-0.038399276125469936],\"y\":[0.15588962822060787,-0.8589465139367477],\"type\":\"scatter\"},{\"line\":{\"color\":\"lightgray\",\"width\":1},\"mode\":\"lines\",\"x\":[-0.3718304348748292,0.5578103471991686],\"y\":[0.889405011839641,0.20540946402350227],\"type\":\"scatter\"},{\"line\":{\"color\":\"lightgray\",\"width\":1},\"mode\":\"lines\",\"x\":[-0.6140937175337806,0.510738532629225],\"y\":[0.8892790315579895,-0.8112387243894809],\"type\":\"scatter\"},{\"line\":{\"color\":\"darkblue\",\"width\":1},\"mode\":\"lines\",\"x\":[-0.6004235446281904,-0.5518346330746787],\"y\":[0.6370991185146676,-0.20347522493435183],\"type\":\"scatter\"},{\"line\":{\"color\":\"lightgray\",\"width\":1},\"mode\":\"lines\",\"x\":[-0.7605345776401973,0.2156727182715702],\"y\":[0.28735490924116186,-0.7887235348795513],\"type\":\"scatter\"},{\"line\":{\"color\":\"lightgray\",\"width\":1},\"mode\":\"lines\",\"x\":[-0.7605345776401973,0.3330448392384936],\"y\":[0.28735490924116186,-0.8340062657872137],\"type\":\"scatter\"},{\"line\":{\"color\":\"lightgray\",\"width\":1},\"mode\":\"lines\",\"x\":[-0.6004235446281904,0.7314587219711344],\"y\":[0.6370991185146676,-0.6744984707757519],\"type\":\"scatter\"},{\"line\":{\"color\":\"darkblue\",\"width\":1},\"mode\":\"lines\",\"x\":[0.8231470249802241,-0.278231951866899],\"y\":[-0.33873032683507903,-0.4788627466713346],\"type\":\"scatter\"},{\"line\":{\"color\":\"lightgray\",\"width\":1},\"mode\":\"lines\",\"x\":[-0.7566061026918331,0.510738532629225],\"y\":[0.7987976960830132,-0.8112387243894809],\"type\":\"scatter\"},{\"line\":{\"color\":\"lightgray\",\"width\":1},\"mode\":\"lines\",\"x\":[0.3341323589999464,-0.13617797378549315],\"y\":[0.6276510584927125,-0.6677698899093224],\"type\":\"scatter\"},{\"line\":{\"color\":\"lightgray\",\"width\":1},\"mode\":\"lines\",\"x\":[-0.9739462100511188,-0.13617797378549315],\"y\":[0.15588962822060787,-0.6677698899093224],\"type\":\"scatter\"},{\"line\":{\"color\":\"darkblue\",\"width\":1},\"mode\":\"lines\",\"x\":[-0.7566061026918331,-0.5518346330746787],\"y\":[0.7987976960830132,-0.20347522493435183],\"type\":\"scatter\"},{\"line\":{\"color\":\"darkblue\",\"width\":1},\"mode\":\"lines\",\"x\":[-0.7082756557903018,0.17286174615058908],\"y\":[0.6253190923496244,0.6109180479784145],\"type\":\"scatter\"},{\"line\":{\"color\":\"darkblue\",\"width\":1},\"mode\":\"lines\",\"x\":[-0.8569137617363639,-0.6004235446281904],\"y\":[0.27702130549198284,0.6370991185146676],\"type\":\"scatter\"},{\"line\":{\"color\":\"lightgray\",\"width\":1},\"mode\":\"lines\",\"x\":[-0.5518346330746787,0.7314587219711344],\"y\":[-0.20347522493435183,-0.6744984707757519],\"type\":\"scatter\"},{\"line\":{\"color\":\"darkblue\",\"width\":1},\"mode\":\"lines\",\"x\":[0.17286174615058908,0.3341323589999464],\"y\":[0.6109180479784145,0.6276510584927125],\"type\":\"scatter\"},{\"line\":{\"color\":\"lightgray\",\"width\":1},\"mode\":\"lines\",\"x\":[-0.6004235446281904,0.014910717236521208],\"y\":[0.6370991185146676,-0.7726759134396349],\"type\":\"scatter\"},{\"line\":{\"color\":\"lightgray\",\"width\":1},\"mode\":\"lines\",\"x\":[-0.5518346330746787,0.7314587219711344],\"y\":[-0.20347522493435183,-0.6744984707757519],\"type\":\"scatter\"},{\"line\":{\"color\":\"darkblue\",\"width\":1},\"mode\":\"lines\",\"x\":[0.821946468210322,0.7848921790023624],\"y\":[-0.5376566668384067,-0.2454827409792513],\"type\":\"scatter\"},{\"line\":{\"color\":\"lightgray\",\"width\":1},\"mode\":\"lines\",\"x\":[-0.9151372576982943,-0.13617797378549315],\"y\":[0.15511979920707278,-0.6677698899093224],\"type\":\"scatter\"},{\"line\":{\"color\":\"lightgray\",\"width\":1},\"mode\":\"lines\",\"x\":[-0.7566061026918331,0.8231470249802241],\"y\":[0.7987976960830132,-0.33873032683507903],\"type\":\"scatter\"},{\"line\":{\"color\":\"darkblue\",\"width\":1},\"mode\":\"lines\",\"x\":[0.7845701886498891,-0.13617797378549315],\"y\":[-0.4702501081521776,-0.6677698899093224],\"type\":\"scatter\"},{\"line\":{\"color\":\"darkblue\",\"width\":1},\"mode\":\"lines\",\"x\":[0.17286174615058908,-0.8960744076451393],\"y\":[0.6109180479784145,-0.12230556515037556],\"type\":\"scatter\"},{\"line\":{\"color\":\"darkblue\",\"width\":1},\"mode\":\"lines\",\"x\":[0.7650494797310291,0.7903440977923845],\"y\":[0.26190397562901585,-0.5228755269922652],\"type\":\"scatter\"},{\"line\":{\"color\":\"lightgray\",\"width\":1},\"mode\":\"lines\",\"x\":[-0.21874065182410288,-0.3114456606027594],\"y\":[0.9173139322490603,-0.6739529679071985],\"type\":\"scatter\"},{\"line\":{\"color\":\"lightgray\",\"width\":1},\"mode\":\"lines\",\"x\":[0.17286174615058908,-0.08629914181214383],\"y\":[0.6109180479784145,-0.9369339520980161],\"type\":\"scatter\"},{\"line\":{\"color\":\"darkblue\",\"width\":1},\"mode\":\"lines\",\"x\":[0.17286174615058908,-0.5518346330746787],\"y\":[0.6109180479784145,-0.20347522493435183],\"type\":\"scatter\"},{\"line\":{\"color\":\"lightgray\",\"width\":1},\"mode\":\"lines\",\"x\":[-0.3718304348748292,-0.3114456606027594],\"y\":[0.889405011839641,-0.6739529679071985],\"type\":\"scatter\"},{\"line\":{\"color\":\"darkblue\",\"width\":1},\"mode\":\"lines\",\"x\":[-0.6004235446281904,0.17286174615058908],\"y\":[0.6370991185146676,0.6109180479784145],\"type\":\"scatter\"},{\"line\":{\"color\":\"darkblue\",\"width\":1},\"mode\":\"lines\",\"x\":[0.014910717236521208,0.7903440977923845],\"y\":[-0.7726759134396349,-0.5228755269922652],\"type\":\"scatter\"},{\"line\":{\"color\":\"darkblue\",\"width\":1},\"mode\":\"lines\",\"x\":[0.41841412245343573,0.17286174615058908],\"y\":[0.6013098799193504,0.6109180479784145],\"type\":\"scatter\"},{\"line\":{\"color\":\"lightgray\",\"width\":1},\"mode\":\"lines\",\"x\":[0.0856782687952649,-0.278231951866899],\"y\":[0.9124810295755442,-0.4788627466713346],\"type\":\"scatter\"},{\"line\":{\"color\":\"darkblue\",\"width\":1},\"mode\":\"lines\",\"x\":[-0.3718304348748292,-0.21874065182410288],\"y\":[0.889405011839641,0.9173139322490603],\"type\":\"scatter\"},{\"line\":{\"color\":\"darkblue\",\"width\":1},\"mode\":\"lines\",\"x\":[0.3341323589999464,-0.9255085009862662],\"y\":[0.6276510584927125,0.4156074772474138],\"type\":\"scatter\"},{\"line\":{\"color\":\"darkblue\",\"width\":1},\"mode\":\"lines\",\"x\":[-0.8960744076451393,0.3341323589999464],\"y\":[-0.12230556515037556,0.6276510584927125],\"type\":\"scatter\"},{\"line\":{\"color\":\"darkblue\",\"width\":1},\"mode\":\"lines\",\"x\":[0.7650494797310291,0.7013791398643786],\"y\":[0.26190397562901585,-0.594040447917239],\"type\":\"scatter\"},{\"line\":{\"color\":\"lightgray\",\"width\":1},\"mode\":\"lines\",\"x\":[-0.21874065182410288,-0.08629914181214383],\"y\":[0.9173139322490603,-0.9369339520980161],\"type\":\"scatter\"},{\"line\":{\"color\":\"lightgray\",\"width\":1},\"mode\":\"lines\",\"x\":[-0.6004235446281904,0.07578275185778272],\"y\":[0.6370991185146676,-0.7227296757790806],\"type\":\"scatter\"},{\"line\":{\"color\":\"darkblue\",\"width\":1},\"mode\":\"lines\",\"x\":[0.20122273875243868,-0.6004235446281904],\"y\":[1.0,0.6370991185146676],\"type\":\"scatter\"},{\"line\":{\"color\":\"darkblue\",\"width\":1},\"mode\":\"lines\",\"x\":[0.2156727182715702,0.3330448392384936],\"y\":[-0.7887235348795513,-0.8340062657872137],\"type\":\"scatter\"},{\"line\":{\"color\":\"darkblue\",\"width\":1},\"mode\":\"lines\",\"x\":[0.821946468210322,-0.3114456606027594],\"y\":[-0.5376566668384067,-0.6739529679071985],\"type\":\"scatter\"},{\"line\":{\"color\":\"darkblue\",\"width\":1},\"mode\":\"lines\",\"x\":[-0.9151372576982943,-0.9255085009862662],\"y\":[0.15511979920707278,0.4156074772474138],\"type\":\"scatter\"},{\"line\":{\"color\":\"lightgray\",\"width\":1},\"mode\":\"lines\",\"x\":[-0.9255085009862662,-0.08629914181214383],\"y\":[0.4156074772474138,-0.9369339520980161],\"type\":\"scatter\"},{\"line\":{\"color\":\"lightgray\",\"width\":1},\"mode\":\"lines\",\"x\":[-0.6004235446281904,-0.08629914181214383],\"y\":[0.6370991185146676,-0.9369339520980161],\"type\":\"scatter\"},{\"line\":{\"color\":\"lightgray\",\"width\":1},\"mode\":\"lines\",\"x\":[-0.9151372576982943,0.6108745154405566],\"y\":[0.15511979920707278,-0.5733676800755454],\"type\":\"scatter\"},{\"line\":{\"color\":\"darkblue\",\"width\":1},\"mode\":\"lines\",\"x\":[-0.08629914181214383,0.7848921790023624],\"y\":[-0.9369339520980161,-0.2454827409792513],\"type\":\"scatter\"},{\"line\":{\"color\":\"lightgray\",\"width\":1},\"mode\":\"lines\",\"x\":[-0.7566061026918331,0.6386071880364272],\"y\":[0.7987976960830132,0.13116385461911206],\"type\":\"scatter\"},{\"line\":{\"color\":\"lightgray\",\"width\":1},\"mode\":\"lines\",\"x\":[-0.6004235446281904,0.510738532629225],\"y\":[0.6370991185146676,-0.8112387243894809],\"type\":\"scatter\"},{\"line\":{\"color\":\"darkblue\",\"width\":1},\"mode\":\"lines\",\"x\":[0.9227817640400293,-0.3114456606027594],\"y\":[0.029458794541957063,-0.6739529679071985],\"type\":\"scatter\"},{\"line\":{\"color\":\"darkblue\",\"width\":1},\"mode\":\"lines\",\"x\":[-0.7566061026918331,-0.8165996085805034],\"y\":[0.7987976960830132,0.5807746769754708],\"type\":\"scatter\"},{\"line\":{\"color\":\"lightgray\",\"width\":1},\"mode\":\"lines\",\"x\":[-0.6140937175337806,-0.3114456606027594],\"y\":[0.8892790315579895,-0.6739529679071985],\"type\":\"scatter\"},{\"line\":{\"color\":\"lightgray\",\"width\":1},\"mode\":\"lines\",\"x\":[0.0856782687952649,0.7845701886498891],\"y\":[0.9124810295755442,-0.4702501081521776],\"type\":\"scatter\"},{\"line\":{\"color\":\"lightgray\",\"width\":1},\"mode\":\"lines\",\"x\":[-0.5518346330746787,0.6108745154405566],\"y\":[-0.20347522493435183,-0.5733676800755454],\"type\":\"scatter\"},{\"line\":{\"color\":\"lightgray\",\"width\":1},\"mode\":\"lines\",\"x\":[0.3341323589999464,0.7848921790023624],\"y\":[0.6276510584927125,-0.2454827409792513],\"type\":\"scatter\"},{\"line\":{\"color\":\"lightgray\",\"width\":1},\"mode\":\"lines\",\"x\":[-0.9255085009862662,0.7013791398643786],\"y\":[0.4156074772474138,-0.594040447917239],\"type\":\"scatter\"},{\"line\":{\"color\":\"lightgray\",\"width\":1},\"mode\":\"lines\",\"x\":[0.3341323589999464,0.014910717236521208],\"y\":[0.6276510584927125,-0.7726759134396349],\"type\":\"scatter\"},{\"line\":{\"color\":\"lightgray\",\"width\":1},\"mode\":\"lines\",\"x\":[-0.6004235446281904,0.7845701886498891],\"y\":[0.6370991185146676,-0.4702501081521776],\"type\":\"scatter\"},{\"line\":{\"color\":\"darkblue\",\"width\":1},\"mode\":\"lines\",\"x\":[0.0856782687952649,0.3341323589999464],\"y\":[0.9124810295755442,0.6276510584927125],\"type\":\"scatter\"},{\"line\":{\"color\":\"lightgray\",\"width\":1},\"mode\":\"lines\",\"x\":[-0.21874065182410288,0.7650494797310291],\"y\":[0.9173139322490603,0.26190397562901585],\"type\":\"scatter\"},{\"line\":{\"color\":\"darkblue\",\"width\":1},\"mode\":\"lines\",\"x\":[0.7013791398643786,0.6386071880364272],\"y\":[-0.594040447917239,0.13116385461911206],\"type\":\"scatter\"},{\"line\":{\"color\":\"darkblue\",\"width\":1},\"mode\":\"lines\",\"x\":[0.7314587219711344,-0.08629914181214383],\"y\":[-0.6744984707757519,-0.9369339520980161],\"type\":\"scatter\"},{\"line\":{\"color\":\"darkblue\",\"width\":1},\"mode\":\"lines\",\"x\":[0.41841412245343573,-0.6140937175337806],\"y\":[0.6013098799193504,0.8892790315579895],\"type\":\"scatter\"},{\"line\":{\"color\":\"lightgray\",\"width\":1},\"mode\":\"lines\",\"x\":[-0.9255085009862662,0.7903440977923845],\"y\":[0.4156074772474138,-0.5228755269922652],\"type\":\"scatter\"},{\"line\":{\"color\":\"darkblue\",\"width\":1},\"mode\":\"lines\",\"x\":[-0.21874065182410288,-0.5518346330746787],\"y\":[0.9173139322490603,-0.20347522493435183],\"type\":\"scatter\"},{\"line\":{\"color\":\"lightgray\",\"width\":1},\"mode\":\"lines\",\"x\":[-0.21874065182410288,0.510738532629225],\"y\":[0.9173139322490603,-0.8112387243894809],\"type\":\"scatter\"},{\"line\":{\"color\":\"darkblue\",\"width\":1},\"mode\":\"lines\",\"x\":[0.014910717236521208,0.07578275185778272],\"y\":[-0.7726759134396349,-0.7227296757790806],\"type\":\"scatter\"},{\"line\":{\"color\":\"darkblue\",\"width\":1},\"mode\":\"lines\",\"x\":[0.3341323589999464,-0.21874065182410288],\"y\":[0.6276510584927125,0.9173139322490603],\"type\":\"scatter\"},{\"line\":{\"color\":\"darkblue\",\"width\":1},\"mode\":\"lines\",\"x\":[0.17286174615058908,-0.6004235446281904],\"y\":[0.6109180479784145,0.6370991185146676],\"type\":\"scatter\"},{\"line\":{\"color\":\"darkblue\",\"width\":1},\"mode\":\"lines\",\"x\":[-0.9739462100511188,0.3341323589999464],\"y\":[0.15588962822060787,0.6276510584927125],\"type\":\"scatter\"},{\"line\":{\"color\":\"lightgray\",\"width\":1},\"mode\":\"lines\",\"x\":[-0.4782468403548081,-0.13617797378549315],\"y\":[0.8192451596907109,-0.6677698899093224],\"type\":\"scatter\"},{\"line\":{\"color\":\"lightgray\",\"width\":1},\"mode\":\"lines\",\"x\":[0.17286174615058908,-0.13617797378549315],\"y\":[0.6109180479784145,-0.6677698899093224],\"type\":\"scatter\"},{\"line\":{\"color\":\"lightgray\",\"width\":1},\"mode\":\"lines\",\"x\":[-0.21874065182410288,0.6386071880364272],\"y\":[0.9173139322490603,0.13116385461911206],\"type\":\"scatter\"},{\"line\":{\"color\":\"darkblue\",\"width\":1},\"mode\":\"lines\",\"x\":[0.6386071880364272,0.7848921790023624],\"y\":[0.13116385461911206,-0.2454827409792513],\"type\":\"scatter\"},{\"line\":{\"color\":\"darkblue\",\"width\":1},\"mode\":\"lines\",\"x\":[-0.4782468403548081,0.17286174615058908],\"y\":[0.8192451596907109,0.6109180479784145],\"type\":\"scatter\"},{\"line\":{\"color\":\"darkblue\",\"width\":1},\"mode\":\"lines\",\"x\":[0.2156727182715702,-0.08629914181214383],\"y\":[-0.7887235348795513,-0.9369339520980161],\"type\":\"scatter\"},{\"line\":{\"color\":\"darkblue\",\"width\":1},\"mode\":\"lines\",\"x\":[-0.9739462100511188,-0.5518346330746787],\"y\":[0.15588962822060787,-0.20347522493435183],\"type\":\"scatter\"},{\"line\":{\"color\":\"lightgray\",\"width\":1},\"mode\":\"lines\",\"x\":[-0.7082756557903018,-0.3114456606027594],\"y\":[0.6253190923496244,-0.6739529679071985],\"type\":\"scatter\"},{\"line\":{\"color\":\"darkblue\",\"width\":1},\"mode\":\"lines\",\"x\":[0.6386071880364272,0.3330448392384936],\"y\":[0.13116385461911206,-0.8340062657872137],\"type\":\"scatter\"},{\"line\":{\"color\":\"lightgray\",\"width\":1},\"mode\":\"lines\",\"x\":[-0.6140937175337806,0.8231470249802241],\"y\":[0.8892790315579895,-0.33873032683507903],\"type\":\"scatter\"},{\"line\":{\"color\":\"darkblue\",\"width\":1},\"mode\":\"lines\",\"x\":[-0.6004235446281904,-0.9255085009862662],\"y\":[0.6370991185146676,0.4156074772474138],\"type\":\"scatter\"},{\"line\":{\"color\":\"darkblue\",\"width\":1},\"mode\":\"lines\",\"x\":[0.0856782687952649,-0.8960744076451393],\"y\":[0.9124810295755442,-0.12230556515037556],\"type\":\"scatter\"},{\"line\":{\"color\":\"lightgray\",\"width\":1},\"mode\":\"lines\",\"x\":[-0.6004235446281904,0.8231470249802241],\"y\":[0.6370991185146676,-0.33873032683507903],\"type\":\"scatter\"},{\"line\":{\"color\":\"darkblue\",\"width\":1},\"mode\":\"lines\",\"x\":[-0.5518346330746787,-0.6004235446281904],\"y\":[-0.20347522493435183,0.6370991185146676],\"type\":\"scatter\"},{\"line\":{\"color\":\"lightgray\",\"width\":1},\"mode\":\"lines\",\"x\":[0.0856782687952649,0.014910717236521208],\"y\":[0.9124810295755442,-0.7726759134396349],\"type\":\"scatter\"},{\"line\":{\"color\":\"darkblue\",\"width\":1},\"mode\":\"lines\",\"x\":[0.0856782687952649,-0.8165996085805034],\"y\":[0.9124810295755442,0.5807746769754708],\"type\":\"scatter\"},{\"line\":{\"color\":\"lightgray\",\"width\":1},\"mode\":\"lines\",\"x\":[0.0856782687952649,0.7903440977923845],\"y\":[0.9124810295755442,-0.5228755269922652],\"type\":\"scatter\"},{\"line\":{\"color\":\"lightgray\",\"width\":1},\"mode\":\"lines\",\"x\":[0.41841412245343573,0.6386071880364272],\"y\":[0.6013098799193504,0.13116385461911206],\"type\":\"scatter\"},{\"line\":{\"color\":\"lightgray\",\"width\":1},\"mode\":\"lines\",\"x\":[-0.21874065182410288,-0.038399276125469936],\"y\":[0.9173139322490603,-0.8589465139367477],\"type\":\"scatter\"},{\"line\":{\"color\":\"lightgray\",\"width\":1},\"mode\":\"lines\",\"x\":[-0.9739462100511188,0.2156727182715702],\"y\":[0.15588962822060787,-0.7887235348795513],\"type\":\"scatter\"},{\"line\":{\"color\":\"lightgray\",\"width\":1},\"mode\":\"lines\",\"x\":[0.17286174615058908,0.5578103471991686],\"y\":[0.6109180479784145,0.20540946402350227],\"type\":\"scatter\"},{\"line\":{\"color\":\"lightgray\",\"width\":1},\"mode\":\"lines\",\"x\":[-0.9151372576982943,0.7845701886498891],\"y\":[0.15511979920707278,-0.4702501081521776],\"type\":\"scatter\"},{\"line\":{\"color\":\"darkblue\",\"width\":1},\"mode\":\"lines\",\"x\":[-0.9739462100511188,0.17286174615058908],\"y\":[0.15588962822060787,0.6109180479784145],\"type\":\"scatter\"},{\"line\":{\"color\":\"lightgray\",\"width\":1},\"mode\":\"lines\",\"x\":[-0.5518346330746787,0.7848921790023624],\"y\":[-0.20347522493435183,-0.2454827409792513],\"type\":\"scatter\"},{\"line\":{\"color\":\"darkblue\",\"width\":1},\"mode\":\"lines\",\"x\":[0.0856782687952649,-0.7605345776401973],\"y\":[0.9124810295755442,0.28735490924116186],\"type\":\"scatter\"},{\"line\":{\"color\":\"darkblue\",\"width\":1},\"mode\":\"lines\",\"x\":[-0.9739462100511188,-0.5518346330746787],\"y\":[0.15588962822060787,-0.20347522493435183],\"type\":\"scatter\"},{\"line\":{\"color\":\"darkblue\",\"width\":1},\"mode\":\"lines\",\"x\":[0.41841412245343573,-0.6004235446281904],\"y\":[0.6013098799193504,0.6370991185146676],\"type\":\"scatter\"},{\"line\":{\"color\":\"darkblue\",\"width\":1},\"mode\":\"lines\",\"x\":[0.014910717236521208,0.821946468210322],\"y\":[-0.7726759134396349,-0.5376566668384067],\"type\":\"scatter\"},{\"line\":{\"color\":\"lightgray\",\"width\":1},\"mode\":\"lines\",\"x\":[-0.7605345776401973,0.821946468210322],\"y\":[0.28735490924116186,-0.5376566668384067],\"type\":\"scatter\"},{\"line\":{\"color\":\"lightgray\",\"width\":1},\"mode\":\"lines\",\"x\":[-0.6140937175337806,0.2156727182715702],\"y\":[0.8892790315579895,-0.7887235348795513],\"type\":\"scatter\"},{\"line\":{\"color\":\"darkblue\",\"width\":1},\"mode\":\"lines\",\"x\":[0.2156727182715702,0.7903440977923845],\"y\":[-0.7887235348795513,-0.5228755269922652],\"type\":\"scatter\"},{\"line\":{\"color\":\"lightgray\",\"width\":1},\"mode\":\"lines\",\"x\":[-0.8960744076451393,0.07578275185778272],\"y\":[-0.12230556515037556,-0.7227296757790806],\"type\":\"scatter\"},{\"line\":{\"color\":\"lightgray\",\"width\":1},\"mode\":\"lines\",\"x\":[-0.7566061026918331,-0.08629914181214383],\"y\":[0.7987976960830132,-0.9369339520980161],\"type\":\"scatter\"},{\"line\":{\"color\":\"lightgray\",\"width\":1},\"mode\":\"lines\",\"x\":[0.0856782687952649,0.7650494797310291],\"y\":[0.9124810295755442,0.26190397562901585],\"type\":\"scatter\"},{\"line\":{\"color\":\"darkblue\",\"width\":1},\"mode\":\"lines\",\"x\":[0.7650494797310291,-0.3114456606027594],\"y\":[0.26190397562901585,-0.6739529679071985],\"type\":\"scatter\"},{\"line\":{\"color\":\"lightgray\",\"width\":1},\"mode\":\"lines\",\"x\":[-0.7566061026918331,-0.038399276125469936],\"y\":[0.7987976960830132,-0.8589465139367477],\"type\":\"scatter\"},{\"line\":{\"color\":\"darkblue\",\"width\":1},\"mode\":\"lines\",\"x\":[-0.7566061026918331,-0.6004235446281904],\"y\":[0.7987976960830132,0.6370991185146676],\"type\":\"scatter\"},{\"line\":{\"color\":\"darkblue\",\"width\":1},\"mode\":\"lines\",\"x\":[0.6386071880364272,-0.08629914181214383],\"y\":[0.13116385461911206,-0.9369339520980161],\"type\":\"scatter\"},{\"line\":{\"color\":\"lightgray\",\"width\":1},\"mode\":\"lines\",\"x\":[0.3341323589999464,0.9227817640400293],\"y\":[0.6276510584927125,0.029458794541957063],\"type\":\"scatter\"},{\"line\":{\"color\":\"darkblue\",\"width\":1},\"mode\":\"lines\",\"x\":[0.0856782687952649,-0.3718304348748292],\"y\":[0.9124810295755442,0.889405011839641],\"type\":\"scatter\"},{\"line\":{\"color\":\"darkblue\",\"width\":1},\"mode\":\"lines\",\"x\":[-0.08629914181214383,0.510738532629225],\"y\":[-0.9369339520980161,-0.8112387243894809],\"type\":\"scatter\"},{\"line\":{\"color\":\"darkblue\",\"width\":1},\"mode\":\"lines\",\"x\":[-0.8960744076451393,-0.5518346330746787],\"y\":[-0.12230556515037556,-0.20347522493435183],\"type\":\"scatter\"},{\"line\":{\"color\":\"lightgray\",\"width\":1},\"mode\":\"lines\",\"x\":[-0.9739462100511188,0.07578275185778272],\"y\":[0.15588962822060787,-0.7227296757790806],\"type\":\"scatter\"},{\"line\":{\"color\":\"lightgray\",\"width\":1},\"mode\":\"lines\",\"x\":[0.41841412245343573,0.7903440977923845],\"y\":[0.6013098799193504,-0.5228755269922652],\"type\":\"scatter\"},{\"line\":{\"color\":\"darkblue\",\"width\":1},\"mode\":\"lines\",\"x\":[0.07578275185778272,0.8231470249802241],\"y\":[-0.7227296757790806,-0.33873032683507903],\"type\":\"scatter\"},{\"line\":{\"color\":\"lightgray\",\"width\":1},\"mode\":\"lines\",\"x\":[-0.4782468403548081,0.7845701886498891],\"y\":[0.8192451596907109,-0.4702501081521776],\"type\":\"scatter\"},{\"line\":{\"color\":\"darkblue\",\"width\":1},\"mode\":\"lines\",\"x\":[0.07578275185778272,0.7845701886498891],\"y\":[-0.7227296757790806,-0.4702501081521776],\"type\":\"scatter\"},{\"line\":{\"color\":\"darkblue\",\"width\":1},\"mode\":\"lines\",\"x\":[-0.6140937175337806,0.20122273875243868],\"y\":[0.8892790315579895,1.0],\"type\":\"scatter\"},{\"line\":{\"color\":\"darkblue\",\"width\":1},\"mode\":\"lines\",\"x\":[0.7650494797310291,0.07578275185778272],\"y\":[0.26190397562901585,-0.7227296757790806],\"type\":\"scatter\"},{\"line\":{\"color\":\"darkblue\",\"width\":1},\"mode\":\"lines\",\"x\":[0.9227817640400293,-0.08629914181214383],\"y\":[0.029458794541957063,-0.9369339520980161],\"type\":\"scatter\"},{\"line\":{\"color\":\"lightgray\",\"width\":1},\"mode\":\"lines\",\"x\":[-0.21874065182410288,0.9227817640400293],\"y\":[0.9173139322490603,0.029458794541957063],\"type\":\"scatter\"},{\"line\":{\"color\":\"lightgray\",\"width\":1},\"mode\":\"lines\",\"x\":[0.41841412245343573,0.7013791398643786],\"y\":[0.6013098799193504,-0.594040447917239],\"type\":\"scatter\"},{\"line\":{\"color\":\"darkblue\",\"width\":1},\"mode\":\"lines\",\"x\":[-0.3718304348748292,-0.5518346330746787],\"y\":[0.889405011839641,-0.20347522493435183],\"type\":\"scatter\"},{\"line\":{\"color\":\"lightgray\",\"width\":1},\"mode\":\"lines\",\"x\":[-0.9255085009862662,0.7848921790023624],\"y\":[0.4156074772474138,-0.2454827409792513],\"type\":\"scatter\"},{\"line\":{\"color\":\"darkblue\",\"width\":1},\"mode\":\"lines\",\"x\":[-0.7605345776401973,-0.9255085009862662],\"y\":[0.28735490924116186,0.4156074772474138],\"type\":\"scatter\"},{\"line\":{\"color\":\"lightgray\",\"width\":1},\"mode\":\"lines\",\"x\":[0.17286174615058908,0.821946468210322],\"y\":[0.6109180479784145,-0.5376566668384067],\"type\":\"scatter\"},{\"line\":{\"color\":\"darkblue\",\"width\":1},\"mode\":\"lines\",\"x\":[-0.6140937175337806,-0.3718304348748292],\"y\":[0.8892790315579895,0.889405011839641],\"type\":\"scatter\"},{\"line\":{\"color\":\"lightgray\",\"width\":1},\"mode\":\"lines\",\"x\":[-0.5518346330746787,0.7013791398643786],\"y\":[-0.20347522493435183,-0.594040447917239],\"type\":\"scatter\"},{\"line\":{\"color\":\"darkblue\",\"width\":1},\"mode\":\"lines\",\"x\":[0.821946468210322,0.2156727182715702],\"y\":[-0.5376566668384067,-0.7887235348795513],\"type\":\"scatter\"},{\"line\":{\"color\":\"lightgray\",\"width\":1},\"mode\":\"lines\",\"x\":[-0.9151372576982943,0.014910717236521208],\"y\":[0.15511979920707278,-0.7726759134396349],\"type\":\"scatter\"},{\"line\":{\"color\":\"lightgray\",\"width\":1},\"mode\":\"lines\",\"x\":[-0.7082756557903018,0.8231470249802241],\"y\":[0.6253190923496244,-0.33873032683507903],\"type\":\"scatter\"},{\"line\":{\"color\":\"darkblue\",\"width\":1},\"mode\":\"lines\",\"x\":[0.6108745154405566,0.5578103471991686],\"y\":[-0.5733676800755454,0.20540946402350227],\"type\":\"scatter\"},{\"line\":{\"color\":\"darkblue\",\"width\":1},\"mode\":\"lines\",\"x\":[0.7650494797310291,-0.13617797378549315],\"y\":[0.26190397562901585,-0.6677698899093224],\"type\":\"scatter\"},{\"line\":{\"color\":\"lightgray\",\"width\":1},\"mode\":\"lines\",\"x\":[-0.5518346330746787,0.8231470249802241],\"y\":[-0.20347522493435183,-0.33873032683507903],\"type\":\"scatter\"},{\"line\":{\"color\":\"lightgray\",\"width\":1},\"mode\":\"lines\",\"x\":[0.3341323589999464,-0.3114456606027594],\"y\":[0.6276510584927125,-0.6739529679071985],\"type\":\"scatter\"},{\"line\":{\"color\":\"darkblue\",\"width\":1},\"mode\":\"lines\",\"x\":[0.41841412245343573,-0.9255085009862662],\"y\":[0.6013098799193504,0.4156074772474138],\"type\":\"scatter\"},{\"line\":{\"color\":\"lightgray\",\"width\":1},\"mode\":\"lines\",\"x\":[-0.5518346330746787,0.8231470249802241],\"y\":[-0.20347522493435183,-0.33873032683507903],\"type\":\"scatter\"},{\"line\":{\"color\":\"darkblue\",\"width\":1},\"mode\":\"lines\",\"x\":[0.7650494797310291,0.510738532629225],\"y\":[0.26190397562901585,-0.8112387243894809],\"type\":\"scatter\"},{\"line\":{\"color\":\"lightgray\",\"width\":1},\"mode\":\"lines\",\"x\":[-0.8960744076451393,0.510738532629225],\"y\":[-0.12230556515037556,-0.8112387243894809],\"type\":\"scatter\"},{\"line\":{\"color\":\"lightgray\",\"width\":1},\"mode\":\"lines\",\"x\":[-0.8960744076451393,0.7845701886498891],\"y\":[-0.12230556515037556,-0.4702501081521776],\"type\":\"scatter\"},{\"line\":{\"color\":\"lightgray\",\"width\":1},\"mode\":\"lines\",\"x\":[-0.6140937175337806,0.7903440977923845],\"y\":[0.8892790315579895,-0.5228755269922652],\"type\":\"scatter\"},{\"line\":{\"color\":\"darkblue\",\"width\":1},\"mode\":\"lines\",\"x\":[-0.6140937175337806,-0.5518346330746787],\"y\":[0.8892790315579895,-0.20347522493435183],\"type\":\"scatter\"},{\"line\":{\"color\":\"darkblue\",\"width\":1},\"mode\":\"lines\",\"x\":[0.3341323589999464,-0.8569137617363639],\"y\":[0.6276510584927125,0.27702130549198284],\"type\":\"scatter\"},{\"line\":{\"color\":\"lightgray\",\"width\":1},\"mode\":\"lines\",\"x\":[-0.7082756557903018,0.9227817640400293],\"y\":[0.6253190923496244,0.029458794541957063],\"type\":\"scatter\"},{\"line\":{\"color\":\"darkblue\",\"width\":1},\"mode\":\"lines\",\"x\":[-0.6004235446281904,-0.8165996085805034],\"y\":[0.6370991185146676,0.5807746769754708],\"type\":\"scatter\"},{\"line\":{\"color\":\"darkblue\",\"width\":1},\"mode\":\"lines\",\"x\":[-0.8960744076451393,-0.9255085009862662],\"y\":[-0.12230556515037556,0.4156074772474138],\"type\":\"scatter\"},{\"line\":{\"color\":\"darkblue\",\"width\":1},\"mode\":\"lines\",\"x\":[-0.8960744076451393,-0.8165996085805034],\"y\":[-0.12230556515037556,0.5807746769754708],\"type\":\"scatter\"},{\"line\":{\"color\":\"lightgray\",\"width\":1},\"mode\":\"lines\",\"x\":[-0.6004235446281904,-0.278231951866899],\"y\":[0.6370991185146676,-0.4788627466713346],\"type\":\"scatter\"},{\"line\":{\"color\":\"lightgray\",\"width\":1},\"mode\":\"lines\",\"x\":[-0.7082756557903018,0.7903440977923845],\"y\":[0.6253190923496244,-0.5228755269922652],\"type\":\"scatter\"},{\"line\":{\"color\":\"darkblue\",\"width\":1},\"mode\":\"lines\",\"x\":[0.41841412245343573,-0.8165996085805034],\"y\":[0.6013098799193504,0.5807746769754708],\"type\":\"scatter\"},{\"line\":{\"color\":\"darkblue\",\"width\":1},\"mode\":\"lines\",\"x\":[-0.9739462100511188,-0.6004235446281904],\"y\":[0.15588962822060787,0.6370991185146676],\"type\":\"scatter\"},{\"line\":{\"color\":\"lightgray\",\"width\":1},\"mode\":\"lines\",\"x\":[-0.8960744076451393,0.6108745154405566],\"y\":[-0.12230556515037556,-0.5733676800755454],\"type\":\"scatter\"},{\"line\":{\"color\":\"darkblue\",\"width\":1},\"mode\":\"lines\",\"x\":[0.7848921790023624,-0.13617797378549315],\"y\":[-0.2454827409792513,-0.6677698899093224],\"type\":\"scatter\"},{\"line\":{\"color\":\"lightgray\",\"width\":1},\"mode\":\"lines\",\"x\":[-0.8569137617363639,0.821946468210322],\"y\":[0.27702130549198284,-0.5376566668384067],\"type\":\"scatter\"},{\"line\":{\"color\":\"lightgray\",\"width\":1},\"mode\":\"lines\",\"x\":[-0.7566061026918331,0.07578275185778272],\"y\":[0.7987976960830132,-0.7227296757790806],\"type\":\"scatter\"},{\"line\":{\"color\":\"darkblue\",\"width\":1},\"mode\":\"lines\",\"x\":[0.20122273875243868,-0.9151372576982943],\"y\":[1.0,0.15511979920707278],\"type\":\"scatter\"},{\"line\":{\"color\":\"darkblue\",\"width\":1},\"mode\":\"lines\",\"x\":[0.5578103471991686,-0.3114456606027594],\"y\":[0.20540946402350227,-0.6739529679071985],\"type\":\"scatter\"},{\"line\":{\"color\":\"lightgray\",\"width\":1},\"mode\":\"lines\",\"x\":[-0.8165996085805034,0.6108745154405566],\"y\":[0.5807746769754708,-0.5733676800755454],\"type\":\"scatter\"},{\"line\":{\"color\":\"darkblue\",\"width\":1},\"mode\":\"lines\",\"x\":[-0.5518346330746787,-0.5518346330746787],\"y\":[-0.20347522493435183,-0.20347522493435183],\"type\":\"scatter\"},{\"line\":{\"color\":\"lightgray\",\"width\":1},\"mode\":\"lines\",\"x\":[0.20122273875243868,0.6108745154405566],\"y\":[1.0,-0.5733676800755454],\"type\":\"scatter\"},{\"line\":{\"color\":\"lightgray\",\"width\":1},\"mode\":\"lines\",\"x\":[-0.8569137617363639,0.7013791398643786],\"y\":[0.27702130549198284,-0.594040447917239],\"type\":\"scatter\"},{\"line\":{\"color\":\"darkblue\",\"width\":1},\"mode\":\"lines\",\"x\":[-0.9739462100511188,0.20122273875243868],\"y\":[0.15588962822060787,1.0],\"type\":\"scatter\"},{\"line\":{\"color\":\"lightgray\",\"width\":1},\"mode\":\"lines\",\"x\":[-0.7605345776401973,0.8231470249802241],\"y\":[0.28735490924116186,-0.33873032683507903],\"type\":\"scatter\"},{\"line\":{\"color\":\"lightgray\",\"width\":1},\"mode\":\"lines\",\"x\":[0.20122273875243868,0.8231470249802241],\"y\":[1.0,-0.33873032683507903],\"type\":\"scatter\"},{\"line\":{\"color\":\"darkblue\",\"width\":1},\"mode\":\"lines\",\"x\":[0.014910717236521208,0.7314587219711344],\"y\":[-0.7726759134396349,-0.6744984707757519],\"type\":\"scatter\"},{\"line\":{\"color\":\"lightgray\",\"width\":1},\"mode\":\"lines\",\"x\":[-0.8165996085805034,0.7650494797310291],\"y\":[0.5807746769754708,0.26190397562901585],\"type\":\"scatter\"},{\"line\":{\"color\":\"lightgray\",\"width\":1},\"mode\":\"lines\",\"x\":[0.0856782687952649,0.7848921790023624],\"y\":[0.9124810295755442,-0.2454827409792513],\"type\":\"scatter\"},{\"line\":{\"color\":\"darkblue\",\"width\":1},\"mode\":\"lines\",\"x\":[-0.7082756557903018,-0.5518346330746787],\"y\":[0.6253190923496244,-0.20347522493435183],\"type\":\"scatter\"},{\"line\":{\"color\":\"darkblue\",\"width\":1},\"mode\":\"lines\",\"x\":[0.2156727182715702,0.9227817640400293],\"y\":[-0.7887235348795513,0.029458794541957063],\"type\":\"scatter\"},{\"line\":{\"color\":\"darkblue\",\"width\":1},\"mode\":\"lines\",\"x\":[0.8231470249802241,-0.08629914181214383],\"y\":[-0.33873032683507903,-0.9369339520980161],\"type\":\"scatter\"},{\"line\":{\"color\":\"lightgray\",\"width\":1},\"mode\":\"lines\",\"x\":[-0.8960744076451393,0.3330448392384936],\"y\":[-0.12230556515037556,-0.8340062657872137],\"type\":\"scatter\"},{\"line\":{\"color\":\"lightgray\",\"width\":1},\"mode\":\"lines\",\"x\":[-0.6140937175337806,-0.278231951866899],\"y\":[0.8892790315579895,-0.4788627466713346],\"type\":\"scatter\"},{\"line\":{\"color\":\"lightgray\",\"width\":1},\"mode\":\"lines\",\"x\":[-0.4782468403548081,0.821946468210322],\"y\":[0.8192451596907109,-0.5376566668384067],\"type\":\"scatter\"},{\"line\":{\"color\":\"lightgray\",\"width\":1},\"mode\":\"lines\",\"x\":[-0.21874065182410288,0.7903440977923845],\"y\":[0.9173139322490603,-0.5228755269922652],\"type\":\"scatter\"},{\"line\":{\"color\":\"lightgray\",\"width\":1},\"mode\":\"lines\",\"x\":[-0.21874065182410288,-0.278231951866899],\"y\":[0.9173139322490603,-0.4788627466713346],\"type\":\"scatter\"},{\"line\":{\"color\":\"darkblue\",\"width\":1},\"mode\":\"lines\",\"x\":[-0.3718304348748292,-0.8569137617363639],\"y\":[0.889405011839641,0.27702130549198284],\"type\":\"scatter\"},{\"line\":{\"color\":\"lightgray\",\"width\":1},\"mode\":\"lines\",\"x\":[-0.4782468403548081,0.014910717236521208],\"y\":[0.8192451596907109,-0.7726759134396349],\"type\":\"scatter\"},{\"line\":{\"color\":\"lightgray\",\"width\":1},\"mode\":\"lines\",\"x\":[-0.4782468403548081,0.2156727182715702],\"y\":[0.8192451596907109,-0.7887235348795513],\"type\":\"scatter\"},{\"line\":{\"color\":\"lightgray\",\"width\":1},\"mode\":\"lines\",\"x\":[0.3341323589999464,0.7845701886498891],\"y\":[0.6276510584927125,-0.4702501081521776],\"type\":\"scatter\"},{\"line\":{\"color\":\"lightgray\",\"width\":1},\"mode\":\"lines\",\"x\":[-0.3718304348748292,-0.038399276125469936],\"y\":[0.889405011839641,-0.8589465139367477],\"type\":\"scatter\"},{\"line\":{\"color\":\"darkblue\",\"width\":1},\"mode\":\"lines\",\"x\":[-0.4782468403548081,-0.3718304348748292],\"y\":[0.8192451596907109,0.889405011839641],\"type\":\"scatter\"},{\"line\":{\"color\":\"lightgray\",\"width\":1},\"mode\":\"lines\",\"x\":[-0.21874065182410288,0.5578103471991686],\"y\":[0.9173139322490603,0.20540946402350227],\"type\":\"scatter\"},{\"line\":{\"color\":\"darkblue\",\"width\":1},\"mode\":\"lines\",\"x\":[-0.4782468403548081,-0.6004235446281904],\"y\":[0.8192451596907109,0.6370991185146676],\"type\":\"scatter\"},{\"line\":{\"color\":\"lightgray\",\"width\":1},\"mode\":\"lines\",\"x\":[0.17286174615058908,0.6386071880364272],\"y\":[0.6109180479784145,0.13116385461911206],\"type\":\"scatter\"},{\"line\":{\"color\":\"darkblue\",\"width\":1},\"mode\":\"lines\",\"x\":[-0.3114456606027594,0.7903440977923845],\"y\":[-0.6739529679071985,-0.5228755269922652],\"type\":\"scatter\"},{\"line\":{\"color\":\"darkblue\",\"width\":1},\"mode\":\"lines\",\"x\":[0.821946468210322,-0.278231951866899],\"y\":[-0.5376566668384067,-0.4788627466713346],\"type\":\"scatter\"},{\"line\":{\"color\":\"darkblue\",\"width\":1},\"mode\":\"lines\",\"x\":[0.2156727182715702,-0.278231951866899],\"y\":[-0.7887235348795513,-0.4788627466713346],\"type\":\"scatter\"},{\"line\":{\"color\":\"darkblue\",\"width\":1},\"mode\":\"lines\",\"x\":[0.07578275185778272,0.7013791398643786],\"y\":[-0.7227296757790806,-0.594040447917239],\"type\":\"scatter\"},{\"line\":{\"color\":\"lightgray\",\"width\":1},\"mode\":\"lines\",\"x\":[-0.9151372576982943,0.8231470249802241],\"y\":[0.15511979920707278,-0.33873032683507903],\"type\":\"scatter\"},{\"line\":{\"color\":\"lightgray\",\"width\":1},\"mode\":\"lines\",\"x\":[-0.8569137617363639,0.6108745154405566],\"y\":[0.27702130549198284,-0.5733676800755454],\"type\":\"scatter\"},{\"line\":{\"color\":\"darkblue\",\"width\":1},\"mode\":\"lines\",\"x\":[-0.4782468403548081,-0.5518346330746787],\"y\":[0.8192451596907109,-0.20347522493435183],\"type\":\"scatter\"},{\"line\":{\"color\":\"darkblue\",\"width\":1},\"mode\":\"lines\",\"x\":[0.41841412245343573,-0.5518346330746787],\"y\":[0.6013098799193504,-0.20347522493435183],\"type\":\"scatter\"},{\"line\":{\"color\":\"lightgray\",\"width\":1},\"mode\":\"lines\",\"x\":[-0.3718304348748292,0.014910717236521208],\"y\":[0.889405011839641,-0.7726759134396349],\"type\":\"scatter\"},{\"line\":{\"color\":\"darkblue\",\"width\":1},\"mode\":\"lines\",\"x\":[0.9227817640400293,0.510738532629225],\"y\":[0.029458794541957063,-0.8112387243894809],\"type\":\"scatter\"},{\"line\":{\"color\":\"darkblue\",\"width\":1},\"mode\":\"lines\",\"x\":[-0.6140937175337806,-0.4782468403548081],\"y\":[0.8892790315579895,0.8192451596907109],\"type\":\"scatter\"},{\"line\":{\"color\":\"lightgray\",\"width\":1},\"mode\":\"lines\",\"x\":[0.41841412245343573,-0.13617797378549315],\"y\":[0.6013098799193504,-0.6677698899093224],\"type\":\"scatter\"},{\"line\":{\"color\":\"lightgray\",\"width\":1},\"mode\":\"lines\",\"x\":[0.17286174615058908,0.014910717236521208],\"y\":[0.6109180479784145,-0.7726759134396349],\"type\":\"scatter\"},{\"line\":{\"color\":\"darkblue\",\"width\":1},\"mode\":\"lines\",\"x\":[-0.9739462100511188,-0.7082756557903018],\"y\":[0.15588962822060787,0.6253190923496244],\"type\":\"scatter\"},{\"line\":{\"color\":\"lightgray\",\"width\":1},\"mode\":\"lines\",\"x\":[0.3341323589999464,-0.278231951866899],\"y\":[0.6276510584927125,-0.4788627466713346],\"type\":\"scatter\"},{\"line\":{\"color\":\"darkblue\",\"width\":1},\"mode\":\"lines\",\"x\":[0.8231470249802241,0.7314587219711344],\"y\":[-0.33873032683507903,-0.6744984707757519],\"type\":\"scatter\"},{\"line\":{\"color\":\"darkblue\",\"width\":1},\"mode\":\"lines\",\"x\":[-0.278231951866899,-0.08629914181214383],\"y\":[-0.4788627466713346,-0.9369339520980161],\"type\":\"scatter\"},{\"line\":{\"color\":\"darkblue\",\"width\":1},\"mode\":\"lines\",\"x\":[0.014910717236521208,0.7650494797310291],\"y\":[-0.7726759134396349,0.26190397562901585],\"type\":\"scatter\"},{\"line\":{\"color\":\"darkblue\",\"width\":1},\"mode\":\"lines\",\"x\":[-0.4782468403548081,-0.7605345776401973],\"y\":[0.8192451596907109,0.28735490924116186],\"type\":\"scatter\"},{\"line\":{\"color\":\"darkblue\",\"width\":1},\"mode\":\"lines\",\"x\":[0.3341323589999464,-0.5518346330746787],\"y\":[0.6276510584927125,-0.20347522493435183],\"type\":\"scatter\"},{\"line\":{\"color\":\"darkblue\",\"width\":1},\"mode\":\"lines\",\"x\":[-0.9739462100511188,-0.9151372576982943],\"y\":[0.15588962822060787,0.15511979920707278],\"type\":\"scatter\"},{\"line\":{\"color\":\"lightgray\",\"width\":1},\"mode\":\"lines\",\"x\":[-0.3718304348748292,0.7903440977923845],\"y\":[0.889405011839641,-0.5228755269922652],\"type\":\"scatter\"},{\"line\":{\"color\":\"lightgray\",\"width\":1},\"mode\":\"lines\",\"x\":[-0.9151372576982943,0.9227817640400293],\"y\":[0.15511979920707278,0.029458794541957063],\"type\":\"scatter\"},{\"line\":{\"color\":\"darkblue\",\"width\":1},\"mode\":\"lines\",\"x\":[0.8231470249802241,0.9227817640400293],\"y\":[-0.33873032683507903,0.029458794541957063],\"type\":\"scatter\"},{\"line\":{\"color\":\"darkblue\",\"width\":1},\"mode\":\"lines\",\"x\":[0.7013791398643786,0.7848921790023624],\"y\":[-0.594040447917239,-0.2454827409792513],\"type\":\"scatter\"},{\"line\":{\"color\":\"darkblue\",\"width\":1},\"mode\":\"lines\",\"x\":[-0.9739462100511188,-0.8569137617363639],\"y\":[0.15588962822060787,0.27702130549198284],\"type\":\"scatter\"},{\"line\":{\"color\":\"darkblue\",\"width\":1},\"mode\":\"lines\",\"x\":[-0.3718304348748292,-0.6004235446281904],\"y\":[0.889405011839641,0.6370991185146676],\"type\":\"scatter\"},{\"line\":{\"color\":\"darkblue\",\"width\":1},\"mode\":\"lines\",\"x\":[0.6386071880364272,-0.038399276125469936],\"y\":[0.13116385461911206,-0.8589465139367477],\"type\":\"scatter\"},{\"line\":{\"color\":\"darkblue\",\"width\":1},\"mode\":\"lines\",\"x\":[0.7650494797310291,-0.08629914181214383],\"y\":[0.26190397562901585,-0.9369339520980161],\"type\":\"scatter\"},{\"line\":{\"color\":\"darkblue\",\"width\":1},\"mode\":\"lines\",\"x\":[0.6108745154405566,0.7848921790023624],\"y\":[-0.5733676800755454,-0.2454827409792513],\"type\":\"scatter\"},{\"line\":{\"color\":\"lightgray\",\"width\":1},\"mode\":\"lines\",\"x\":[-0.8960744076451393,0.7903440977923845],\"y\":[-0.12230556515037556,-0.5228755269922652],\"type\":\"scatter\"},{\"line\":{\"color\":\"darkblue\",\"width\":1},\"mode\":\"lines\",\"x\":[-0.7082756557903018,-0.6004235446281904],\"y\":[0.6253190923496244,0.6370991185146676],\"type\":\"scatter\"},{\"line\":{\"color\":\"lightgray\",\"width\":1},\"mode\":\"lines\",\"x\":[-0.8165996085805034,-0.278231951866899],\"y\":[0.5807746769754708,-0.4788627466713346],\"type\":\"scatter\"},{\"line\":{\"color\":\"lightgray\",\"width\":1},\"mode\":\"lines\",\"x\":[0.17286174615058908,0.8231470249802241],\"y\":[0.6109180479784145,-0.33873032683507903],\"type\":\"scatter\"},{\"line\":{\"color\":\"lightgray\",\"width\":1},\"mode\":\"lines\",\"x\":[-0.8569137617363639,0.7314587219711344],\"y\":[0.27702130549198284,-0.6744984707757519],\"type\":\"scatter\"},{\"line\":{\"color\":\"darkblue\",\"width\":1},\"mode\":\"lines\",\"x\":[0.41841412245343573,-0.8569137617363639],\"y\":[0.6013098799193504,0.27702130549198284],\"type\":\"scatter\"},{\"line\":{\"color\":\"darkblue\",\"width\":1},\"mode\":\"lines\",\"x\":[0.41841412245343573,-0.9739462100511188],\"y\":[0.6013098799193504,0.15588962822060787],\"type\":\"scatter\"},{\"line\":{\"color\":\"darkblue\",\"width\":1},\"mode\":\"lines\",\"x\":[-0.3114456606027594,-0.13617797378549315],\"y\":[-0.6739529679071985,-0.6677698899093224],\"type\":\"scatter\"},{\"line\":{\"color\":\"darkblue\",\"width\":1},\"mode\":\"lines\",\"x\":[-0.7082756557903018,-0.5518346330746787],\"y\":[0.6253190923496244,-0.20347522493435183],\"type\":\"scatter\"},{\"line\":{\"color\":\"darkblue\",\"width\":1},\"mode\":\"lines\",\"x\":[-0.21874065182410288,-0.7605345776401973],\"y\":[0.9173139322490603,0.28735490924116186],\"type\":\"scatter\"},{\"line\":{\"color\":\"darkblue\",\"width\":1},\"mode\":\"lines\",\"x\":[0.014910717236521208,0.7013791398643786],\"y\":[-0.7726759134396349,-0.594040447917239],\"type\":\"scatter\"},{\"line\":{\"color\":\"lightgray\",\"width\":1},\"mode\":\"lines\",\"x\":[-0.9255085009862662,-0.13617797378549315],\"y\":[0.4156074772474138,-0.6677698899093224],\"type\":\"scatter\"},{\"line\":{\"color\":\"lightgray\",\"width\":1},\"mode\":\"lines\",\"x\":[-0.9151372576982943,0.3330448392384936],\"y\":[0.15511979920707278,-0.8340062657872137],\"type\":\"scatter\"},{\"line\":{\"color\":\"darkblue\",\"width\":1},\"mode\":\"lines\",\"x\":[-0.3718304348748292,-0.9255085009862662],\"y\":[0.889405011839641,0.4156074772474138],\"type\":\"scatter\"},{\"line\":{\"color\":\"lightgray\",\"width\":1},\"mode\":\"lines\",\"x\":[-0.7566061026918331,0.7650494797310291],\"y\":[0.7987976960830132,0.26190397562901585],\"type\":\"scatter\"},{\"line\":{\"color\":\"darkblue\",\"width\":1},\"mode\":\"lines\",\"x\":[-0.9739462100511188,-0.7605345776401973],\"y\":[0.15588962822060787,0.28735490924116186],\"type\":\"scatter\"},{\"line\":{\"color\":\"darkblue\",\"width\":1},\"mode\":\"lines\",\"x\":[-0.6004235446281904,-0.9151372576982943],\"y\":[0.6370991185146676,0.15511979920707278],\"type\":\"scatter\"},{\"line\":{\"color\":\"darkblue\",\"width\":1},\"mode\":\"lines\",\"x\":[0.3330448392384936,0.5578103471991686],\"y\":[-0.8340062657872137,0.20540946402350227],\"type\":\"scatter\"},{\"line\":{\"color\":\"darkblue\",\"width\":1},\"mode\":\"lines\",\"x\":[0.17286174615058908,-0.9151372576982943],\"y\":[0.6109180479784145,0.15511979920707278],\"type\":\"scatter\"},{\"line\":{\"color\":\"lightgray\",\"width\":1},\"mode\":\"lines\",\"x\":[0.20122273875243868,-0.038399276125469936],\"y\":[1.0,-0.8589465139367477],\"type\":\"scatter\"},{\"line\":{\"color\":\"darkblue\",\"width\":1},\"mode\":\"lines\",\"x\":[0.41841412245343573,-0.3718304348748292],\"y\":[0.6013098799193504,0.889405011839641],\"type\":\"scatter\"},{\"line\":{\"color\":\"darkblue\",\"width\":1},\"mode\":\"lines\",\"x\":[-0.7082756557903018,-0.8165996085805034],\"y\":[0.6253190923496244,0.5807746769754708],\"type\":\"scatter\"},{\"line\":{\"color\":\"lightgray\",\"width\":1},\"mode\":\"lines\",\"x\":[0.41841412245343573,0.7650494797310291],\"y\":[0.6013098799193504,0.26190397562901585],\"type\":\"scatter\"},{\"line\":{\"color\":\"darkblue\",\"width\":1},\"mode\":\"lines\",\"x\":[-0.8960744076451393,0.20122273875243868],\"y\":[-0.12230556515037556,1.0],\"type\":\"scatter\"},{\"line\":{\"color\":\"lightgray\",\"width\":1},\"mode\":\"lines\",\"x\":[-0.7566061026918331,0.014910717236521208],\"y\":[0.7987976960830132,-0.7726759134396349],\"type\":\"scatter\"},{\"line\":{\"color\":\"lightgray\",\"width\":1},\"mode\":\"lines\",\"x\":[-0.7605345776401973,0.6386071880364272],\"y\":[0.28735490924116186,0.13116385461911206],\"type\":\"scatter\"},{\"line\":{\"color\":\"darkblue\",\"width\":1},\"mode\":\"lines\",\"x\":[0.6108745154405566,0.2156727182715702],\"y\":[-0.5733676800755454,-0.7887235348795513],\"type\":\"scatter\"},{\"line\":{\"color\":\"darkblue\",\"width\":1},\"mode\":\"lines\",\"x\":[0.5578103471991686,0.7903440977923845],\"y\":[0.20540946402350227,-0.5228755269922652],\"type\":\"scatter\"},{\"line\":{\"color\":\"lightgray\",\"width\":1},\"mode\":\"lines\",\"x\":[0.20122273875243868,-0.278231951866899],\"y\":[1.0,-0.4788627466713346],\"type\":\"scatter\"},{\"line\":{\"color\":\"lightgray\",\"width\":1},\"mode\":\"lines\",\"x\":[0.17286174615058908,-0.278231951866899],\"y\":[0.6109180479784145,-0.4788627466713346],\"type\":\"scatter\"},{\"line\":{\"color\":\"lightgray\",\"width\":1},\"mode\":\"lines\",\"x\":[0.3341323589999464,0.7013791398643786],\"y\":[0.6276510584927125,-0.594040447917239],\"type\":\"scatter\"},{\"line\":{\"color\":\"darkblue\",\"width\":1},\"mode\":\"lines\",\"x\":[0.8231470249802241,0.6386071880364272],\"y\":[-0.33873032683507903,0.13116385461911206],\"type\":\"scatter\"},{\"line\":{\"color\":\"darkblue\",\"width\":1},\"mode\":\"lines\",\"x\":[0.7013791398643786,-0.08629914181214383],\"y\":[-0.594040447917239,-0.9369339520980161],\"type\":\"scatter\"},{\"line\":{\"color\":\"lightgray\",\"width\":1},\"mode\":\"lines\",\"x\":[0.20122273875243868,0.7650494797310291],\"y\":[1.0,0.26190397562901585],\"type\":\"scatter\"},{\"line\":{\"color\":\"lightgray\",\"width\":1},\"mode\":\"lines\",\"x\":[-0.9739462100511188,0.7903440977923845],\"y\":[0.15588962822060787,-0.5228755269922652],\"type\":\"scatter\"},{\"line\":{\"color\":\"darkblue\",\"width\":1},\"mode\":\"lines\",\"x\":[-0.9151372576982943,-0.5518346330746787],\"y\":[0.15511979920707278,-0.20347522493435183],\"type\":\"scatter\"},{\"line\":{\"color\":\"lightgray\",\"width\":1},\"mode\":\"lines\",\"x\":[0.3341323589999464,-0.08629914181214383],\"y\":[0.6276510584927125,-0.9369339520980161],\"type\":\"scatter\"},{\"line\":{\"color\":\"lightgray\",\"width\":1},\"mode\":\"lines\",\"x\":[-0.7566061026918331,-0.3114456606027594],\"y\":[0.7987976960830132,-0.6739529679071985],\"type\":\"scatter\"},{\"line\":{\"color\":\"darkblue\",\"width\":1},\"mode\":\"lines\",\"x\":[-0.4782468403548081,0.3341323589999464],\"y\":[0.8192451596907109,0.6276510584927125],\"type\":\"scatter\"},{\"line\":{\"color\":\"lightgray\",\"width\":1},\"mode\":\"lines\",\"x\":[-0.21874065182410288,0.821946468210322],\"y\":[0.9173139322490603,-0.5376566668384067],\"type\":\"scatter\"},{\"line\":{\"color\":\"lightgray\",\"width\":1},\"mode\":\"lines\",\"x\":[-0.9151372576982943,0.7848921790023624],\"y\":[0.15511979920707278,-0.2454827409792513],\"type\":\"scatter\"},{\"line\":{\"color\":\"lightgray\",\"width\":1},\"mode\":\"lines\",\"x\":[-0.8569137617363639,-0.3114456606027594],\"y\":[0.27702130549198284,-0.6739529679071985],\"type\":\"scatter\"},{\"line\":{\"color\":\"darkblue\",\"width\":1},\"mode\":\"lines\",\"x\":[0.7013791398643786,-0.13617797378549315],\"y\":[-0.594040447917239,-0.6677698899093224],\"type\":\"scatter\"},{\"line\":{\"color\":\"darkblue\",\"width\":1},\"mode\":\"lines\",\"x\":[-0.6004235446281904,-0.5518346330746787],\"y\":[0.6370991185146676,-0.20347522493435183],\"type\":\"scatter\"},{\"line\":{\"color\":\"lightgray\",\"width\":1},\"mode\":\"lines\",\"x\":[-0.9739462100511188,0.7650494797310291],\"y\":[0.15588962822060787,0.26190397562901585],\"type\":\"scatter\"},{\"line\":{\"color\":\"darkblue\",\"width\":1},\"mode\":\"lines\",\"x\":[0.07578275185778272,0.6386071880364272],\"y\":[-0.7227296757790806,0.13116385461911206],\"type\":\"scatter\"},{\"line\":{\"color\":\"darkblue\",\"width\":1},\"mode\":\"lines\",\"x\":[0.8231470249802241,0.821946468210322],\"y\":[-0.33873032683507903,-0.5376566668384067],\"type\":\"scatter\"},{\"line\":{\"color\":\"lightgray\",\"width\":1},\"mode\":\"lines\",\"x\":[0.3341323589999464,0.8231470249802241],\"y\":[0.6276510584927125,-0.33873032683507903],\"type\":\"scatter\"},{\"line\":{\"color\":\"lightgray\",\"width\":1},\"mode\":\"lines\",\"x\":[-0.9255085009862662,0.7314587219711344],\"y\":[0.4156074772474138,-0.6744984707757519],\"type\":\"scatter\"},{\"line\":{\"color\":\"lightgray\",\"width\":1},\"mode\":\"lines\",\"x\":[0.0856782687952649,0.821946468210322],\"y\":[0.9124810295755442,-0.5376566668384067],\"type\":\"scatter\"},{\"line\":{\"color\":\"lightgray\",\"width\":1},\"mode\":\"lines\",\"x\":[-0.6140937175337806,0.3330448392384936],\"y\":[0.8892790315579895,-0.8340062657872137],\"type\":\"scatter\"},{\"line\":{\"color\":\"darkblue\",\"width\":1},\"mode\":\"lines\",\"x\":[-0.5518346330746787,-0.8165996085805034],\"y\":[-0.20347522493435183,0.5807746769754708],\"type\":\"scatter\"},{\"line\":{\"color\":\"lightgray\",\"width\":1},\"mode\":\"lines\",\"x\":[-0.5518346330746787,-0.13617797378549315],\"y\":[-0.20347522493435183,-0.6677698899093224],\"type\":\"scatter\"},{\"line\":{\"color\":\"lightgray\",\"width\":1},\"mode\":\"lines\",\"x\":[-0.8569137617363639,0.6386071880364272],\"y\":[0.27702130549198284,0.13116385461911206],\"type\":\"scatter\"},{\"line\":{\"color\":\"lightgray\",\"width\":1},\"mode\":\"lines\",\"x\":[-0.7082756557903018,0.7848921790023624],\"y\":[0.6253190923496244,-0.2454827409792513],\"type\":\"scatter\"},{\"line\":{\"color\":\"lightgray\",\"width\":1},\"mode\":\"lines\",\"x\":[-0.6140937175337806,0.6108745154405566],\"y\":[0.8892790315579895,-0.5733676800755454],\"type\":\"scatter\"},{\"line\":{\"color\":\"lightgray\",\"width\":1},\"mode\":\"lines\",\"x\":[0.3341323589999464,0.510738532629225],\"y\":[0.6276510584927125,-0.8112387243894809],\"type\":\"scatter\"},{\"line\":{\"color\":\"lightgray\",\"width\":1},\"mode\":\"lines\",\"x\":[-0.8569137617363639,-0.13617797378549315],\"y\":[0.27702130549198284,-0.6677698899093224],\"type\":\"scatter\"},{\"line\":{\"color\":\"darkblue\",\"width\":1},\"mode\":\"lines\",\"x\":[-0.8165996085805034,-0.9255085009862662],\"y\":[0.5807746769754708,0.4156074772474138],\"type\":\"scatter\"},{\"line\":{\"color\":\"lightgray\",\"width\":1},\"mode\":\"lines\",\"x\":[-0.9739462100511188,0.6108745154405566],\"y\":[0.15588962822060787,-0.5733676800755454],\"type\":\"scatter\"},{\"line\":{\"color\":\"lightgray\",\"width\":1},\"mode\":\"lines\",\"x\":[-0.7082756557903018,-0.038399276125469936],\"y\":[0.6253190923496244,-0.8589465139367477],\"type\":\"scatter\"},{\"line\":{\"color\":\"darkblue\",\"width\":1},\"mode\":\"lines\",\"x\":[-0.08629914181214383,-0.13617797378549315],\"y\":[-0.9369339520980161,-0.6677698899093224],\"type\":\"scatter\"},{\"line\":{\"color\":\"lightgray\",\"width\":1},\"mode\":\"lines\",\"x\":[-0.8569137617363639,0.3330448392384936],\"y\":[0.27702130549198284,-0.8340062657872137],\"type\":\"scatter\"},{\"line\":{\"color\":\"lightgray\",\"width\":1},\"mode\":\"lines\",\"x\":[-0.7566061026918331,0.5578103471991686],\"y\":[0.7987976960830132,0.20540946402350227],\"type\":\"scatter\"},{\"line\":{\"color\":\"darkblue\",\"width\":1},\"mode\":\"lines\",\"x\":[-0.8165996085805034,-0.5518346330746787],\"y\":[0.5807746769754708,-0.20347522493435183],\"type\":\"scatter\"},{\"line\":{\"color\":\"lightgray\",\"width\":1},\"mode\":\"lines\",\"x\":[-0.4782468403548081,-0.038399276125469936],\"y\":[0.8192451596907109,-0.8589465139367477],\"type\":\"scatter\"},{\"line\":{\"color\":\"darkblue\",\"width\":1},\"mode\":\"lines\",\"x\":[0.07578275185778272,-0.13617797378549315],\"y\":[-0.7227296757790806,-0.6677698899093224],\"type\":\"scatter\"},{\"line\":{\"color\":\"darkblue\",\"width\":1},\"mode\":\"lines\",\"x\":[-0.21874065182410288,-0.8569137617363639],\"y\":[0.9173139322490603,0.27702130549198284],\"type\":\"scatter\"},{\"line\":{\"color\":\"lightgray\",\"width\":1},\"mode\":\"lines\",\"x\":[-0.21874065182410288,0.7845701886498891],\"y\":[0.9173139322490603,-0.4702501081521776],\"type\":\"scatter\"},{\"line\":{\"color\":\"darkblue\",\"width\":1},\"mode\":\"lines\",\"x\":[0.3330448392384936,0.7903440977923845],\"y\":[-0.8340062657872137,-0.5228755269922652],\"type\":\"scatter\"},{\"line\":{\"color\":\"darkblue\",\"width\":1},\"mode\":\"lines\",\"x\":[0.0856782687952649,-0.9739462100511188],\"y\":[0.9124810295755442,0.15588962822060787],\"type\":\"scatter\"},{\"line\":{\"color\":\"lightgray\",\"width\":1},\"mode\":\"lines\",\"x\":[-0.4782468403548081,0.3330448392384936],\"y\":[0.8192451596907109,-0.8340062657872137],\"type\":\"scatter\"},{\"line\":{\"color\":\"lightgray\",\"width\":1},\"mode\":\"lines\",\"x\":[-0.5518346330746787,0.9227817640400293],\"y\":[-0.20347522493435183,0.029458794541957063],\"type\":\"scatter\"},{\"line\":{\"color\":\"lightgray\",\"width\":1},\"mode\":\"lines\",\"x\":[-0.9255085009862662,0.6386071880364272],\"y\":[0.4156074772474138,0.13116385461911206],\"type\":\"scatter\"},{\"line\":{\"color\":\"darkblue\",\"width\":1},\"mode\":\"lines\",\"x\":[-0.6140937175337806,-0.8569137617363639],\"y\":[0.8892790315579895,0.27702130549198284],\"type\":\"scatter\"},{\"line\":{\"color\":\"lightgray\",\"width\":1},\"mode\":\"lines\",\"x\":[-0.7605345776401973,0.9227817640400293],\"y\":[0.28735490924116186,0.029458794541957063],\"type\":\"scatter\"},{\"line\":{\"color\":\"darkblue\",\"width\":1},\"mode\":\"lines\",\"x\":[0.7314587219711344,0.5578103471991686],\"y\":[-0.6744984707757519,0.20540946402350227],\"type\":\"scatter\"},{\"line\":{\"color\":\"lightgray\",\"width\":1},\"mode\":\"lines\",\"x\":[-0.8960744076451393,0.8231470249802241],\"y\":[-0.12230556515037556,-0.33873032683507903],\"type\":\"scatter\"},{\"line\":{\"color\":\"lightgray\",\"width\":1},\"mode\":\"lines\",\"x\":[-0.7082756557903018,0.2156727182715702],\"y\":[0.6253190923496244,-0.7887235348795513],\"type\":\"scatter\"},{\"line\":{\"color\":\"darkblue\",\"width\":1},\"mode\":\"lines\",\"x\":[-0.6140937175337806,-0.7566061026918331],\"y\":[0.8892790315579895,0.7987976960830132],\"type\":\"scatter\"},{\"line\":{\"color\":\"lightgray\",\"width\":1},\"mode\":\"lines\",\"x\":[0.17286174615058908,0.7903440977923845],\"y\":[0.6109180479784145,-0.5228755269922652],\"type\":\"scatter\"},{\"line\":{\"color\":\"lightgray\",\"width\":1},\"mode\":\"lines\",\"x\":[-0.9739462100511188,0.3330448392384936],\"y\":[0.15588962822060787,-0.8340062657872137],\"type\":\"scatter\"},{\"line\":{\"color\":\"darkblue\",\"width\":1},\"mode\":\"lines\",\"x\":[0.7903440977923845,-0.13617797378549315],\"y\":[-0.5228755269922652,-0.6677698899093224],\"type\":\"scatter\"},{\"line\":{\"color\":\"darkblue\",\"width\":1},\"mode\":\"lines\",\"x\":[0.7013791398643786,0.510738532629225],\"y\":[-0.594040447917239,-0.8112387243894809],\"type\":\"scatter\"},{\"line\":{\"color\":\"lightgray\",\"width\":1},\"mode\":\"lines\",\"x\":[-0.6004235446281904,0.7013791398643786],\"y\":[0.6370991185146676,-0.594040447917239],\"type\":\"scatter\"},{\"line\":{\"color\":\"lightgray\",\"width\":1},\"mode\":\"lines\",\"x\":[-0.7082756557903018,0.6108745154405566],\"y\":[0.6253190923496244,-0.5733676800755454],\"type\":\"scatter\"},{\"line\":{\"color\":\"lightgray\",\"width\":1},\"mode\":\"lines\",\"x\":[0.3341323589999464,0.5578103471991686],\"y\":[0.6276510584927125,0.20540946402350227],\"type\":\"scatter\"},{\"line\":{\"color\":\"lightgray\",\"width\":1},\"mode\":\"lines\",\"x\":[-0.9255085009862662,0.510738532629225],\"y\":[0.4156074772474138,-0.8112387243894809],\"type\":\"scatter\"},{\"line\":{\"color\":\"lightgray\",\"width\":1},\"mode\":\"lines\",\"x\":[-0.6004235446281904,0.2156727182715702],\"y\":[0.6370991185146676,-0.7887235348795513],\"type\":\"scatter\"},{\"line\":{\"color\":\"lightgray\",\"width\":1},\"mode\":\"lines\",\"x\":[0.17286174615058908,0.3330448392384936],\"y\":[0.6109180479784145,-0.8340062657872137],\"type\":\"scatter\"},{\"line\":{\"color\":\"darkblue\",\"width\":1},\"mode\":\"lines\",\"x\":[-0.038399276125469936,-0.08629914181214383],\"y\":[-0.8589465139367477,-0.9369339520980161],\"type\":\"scatter\"},{\"line\":{\"color\":\"lightgray\",\"width\":1},\"mode\":\"lines\",\"x\":[0.0856782687952649,0.6108745154405566],\"y\":[0.9124810295755442,-0.5733676800755454],\"type\":\"scatter\"},{\"line\":{\"color\":\"lightgray\",\"width\":1},\"mode\":\"lines\",\"x\":[-0.4782468403548081,0.7903440977923845],\"y\":[0.8192451596907109,-0.5228755269922652],\"type\":\"scatter\"},{\"line\":{\"color\":\"darkblue\",\"width\":1},\"mode\":\"lines\",\"x\":[0.7650494797310291,0.2156727182715702],\"y\":[0.26190397562901585,-0.7887235348795513],\"type\":\"scatter\"},{\"line\":{\"color\":\"darkblue\",\"width\":1},\"mode\":\"lines\",\"x\":[-0.6140937175337806,-0.8960744076451393],\"y\":[0.8892790315579895,-0.12230556515037556],\"type\":\"scatter\"},{\"line\":{\"color\":\"darkblue\",\"width\":1},\"mode\":\"lines\",\"x\":[-0.8960744076451393,-0.5518346330746787],\"y\":[-0.12230556515037556,-0.20347522493435183],\"type\":\"scatter\"},{\"line\":{\"color\":\"darkblue\",\"width\":1},\"mode\":\"lines\",\"x\":[-0.278231951866899,0.510738532629225],\"y\":[-0.4788627466713346,-0.8112387243894809],\"type\":\"scatter\"},{\"line\":{\"color\":\"darkblue\",\"width\":1},\"mode\":\"lines\",\"x\":[0.0856782687952649,-0.5518346330746787],\"y\":[0.9124810295755442,-0.20347522493435183],\"type\":\"scatter\"},{\"line\":{\"color\":\"lightgray\",\"width\":1},\"mode\":\"lines\",\"x\":[-0.5518346330746787,-0.278231951866899],\"y\":[-0.20347522493435183,-0.4788627466713346],\"type\":\"scatter\"},{\"line\":{\"color\":\"lightgray\",\"width\":1},\"mode\":\"lines\",\"x\":[-0.3718304348748292,0.7013791398643786],\"y\":[0.889405011839641,-0.594040447917239],\"type\":\"scatter\"},{\"line\":{\"color\":\"darkblue\",\"width\":1},\"mode\":\"lines\",\"x\":[0.2156727182715702,-0.13617797378549315],\"y\":[-0.7887235348795513,-0.6677698899093224],\"type\":\"scatter\"},{\"line\":{\"color\":\"darkblue\",\"width\":1},\"mode\":\"lines\",\"x\":[0.17286174615058908,-0.8165996085805034],\"y\":[0.6109180479784145,0.5807746769754708],\"type\":\"scatter\"},{\"line\":{\"color\":\"darkblue\",\"width\":1},\"mode\":\"lines\",\"x\":[0.41841412245343573,-0.5518346330746787],\"y\":[0.6013098799193504,-0.20347522493435183],\"type\":\"scatter\"},{\"line\":{\"color\":\"darkblue\",\"width\":1},\"mode\":\"lines\",\"x\":[0.07578275185778272,0.3330448392384936],\"y\":[-0.7227296757790806,-0.8340062657872137],\"type\":\"scatter\"},{\"line\":{\"color\":\"darkblue\",\"width\":1},\"mode\":\"lines\",\"x\":[0.9227817640400293,0.7903440977923845],\"y\":[0.029458794541957063,-0.5228755269922652],\"type\":\"scatter\"},{\"line\":{\"color\":\"darkblue\",\"width\":1},\"mode\":\"lines\",\"x\":[0.07578275185778272,-0.278231951866899],\"y\":[-0.7227296757790806,-0.4788627466713346],\"type\":\"scatter\"},{\"line\":{\"color\":\"lightgray\",\"width\":1},\"mode\":\"lines\",\"x\":[-0.3718304348748292,-0.278231951866899],\"y\":[0.889405011839641,-0.4788627466713346],\"type\":\"scatter\"},{\"line\":{\"color\":\"lightgray\",\"width\":1},\"mode\":\"lines\",\"x\":[-0.21874065182410288,0.7848921790023624],\"y\":[0.9173139322490603,-0.2454827409792513],\"type\":\"scatter\"},{\"line\":{\"color\":\"lightgray\",\"width\":1},\"mode\":\"lines\",\"x\":[-0.8569137617363639,0.9227817640400293],\"y\":[0.27702130549198284,0.029458794541957063],\"type\":\"scatter\"},{\"line\":{\"color\":\"lightgray\",\"width\":1},\"mode\":\"lines\",\"x\":[0.41841412245343573,-0.08629914181214383],\"y\":[0.6013098799193504,-0.9369339520980161],\"type\":\"scatter\"},{\"line\":{\"color\":\"darkblue\",\"width\":1},\"mode\":\"lines\",\"x\":[-0.9739462100511188,-0.21874065182410288],\"y\":[0.15588962822060787,0.9173139322490603],\"type\":\"scatter\"},{\"line\":{\"color\":\"darkblue\",\"width\":1},\"mode\":\"lines\",\"x\":[-0.7082756557903018,-0.8960744076451393],\"y\":[0.6253190923496244,-0.12230556515037556],\"type\":\"scatter\"},{\"line\":{\"color\":\"darkblue\",\"width\":1},\"mode\":\"lines\",\"x\":[0.7013791398643786,-0.038399276125469936],\"y\":[-0.594040447917239,-0.8589465139367477],\"type\":\"scatter\"},{\"line\":{\"color\":\"darkblue\",\"width\":1},\"mode\":\"lines\",\"x\":[0.7650494797310291,0.6108745154405566],\"y\":[0.26190397562901585,-0.5733676800755454],\"type\":\"scatter\"},{\"line\":{\"color\":\"lightgray\",\"width\":1},\"mode\":\"lines\",\"x\":[-0.6004235446281904,0.7903440977923845],\"y\":[0.6370991185146676,-0.5228755269922652],\"type\":\"scatter\"},{\"line\":{\"color\":\"darkblue\",\"width\":1},\"mode\":\"lines\",\"x\":[0.6108745154405566,0.6386071880364272],\"y\":[-0.5733676800755454,0.13116385461911206],\"type\":\"scatter\"},{\"line\":{\"color\":\"lightgray\",\"width\":1},\"mode\":\"lines\",\"x\":[0.0856782687952649,0.2156727182715702],\"y\":[0.9124810295755442,-0.7887235348795513],\"type\":\"scatter\"},{\"line\":{\"color\":\"darkblue\",\"width\":1},\"mode\":\"lines\",\"x\":[-0.6004235446281904,0.20122273875243868],\"y\":[0.6370991185146676,1.0],\"type\":\"scatter\"},{\"line\":{\"color\":\"darkblue\",\"width\":1},\"mode\":\"lines\",\"x\":[-0.8569137617363639,-0.9255085009862662],\"y\":[0.27702130549198284,0.4156074772474138],\"type\":\"scatter\"},{\"line\":{\"color\":\"darkblue\",\"width\":1},\"mode\":\"lines\",\"x\":[0.7314587219711344,-0.278231951866899],\"y\":[-0.6744984707757519,-0.4788627466713346],\"type\":\"scatter\"},{\"line\":{\"color\":\"darkblue\",\"width\":1},\"mode\":\"lines\",\"x\":[0.41841412245343573,-0.7605345776401973],\"y\":[0.6013098799193504,0.28735490924116186],\"type\":\"scatter\"},{\"line\":{\"color\":\"darkblue\",\"width\":1},\"mode\":\"lines\",\"x\":[0.0856782687952649,-0.7566061026918331],\"y\":[0.9124810295755442,0.7987976960830132],\"type\":\"scatter\"},{\"line\":{\"color\":\"darkblue\",\"width\":1},\"mode\":\"lines\",\"x\":[0.17286174615058908,0.20122273875243868],\"y\":[0.6109180479784145,1.0],\"type\":\"scatter\"},{\"line\":{\"color\":\"darkblue\",\"width\":1},\"mode\":\"lines\",\"x\":[-0.7082756557903018,-0.9255085009862662],\"y\":[0.6253190923496244,0.4156074772474138],\"type\":\"scatter\"},{\"line\":{\"color\":\"darkblue\",\"width\":1},\"mode\":\"lines\",\"x\":[-0.7605345776401973,-0.5518346330746787],\"y\":[0.28735490924116186,-0.20347522493435183],\"type\":\"scatter\"},{\"line\":{\"color\":\"darkblue\",\"width\":1},\"mode\":\"lines\",\"x\":[-0.038399276125469936,0.5578103471991686],\"y\":[-0.8589465139367477,0.20540946402350227],\"type\":\"scatter\"},{\"line\":{\"color\":\"lightgray\",\"width\":1},\"mode\":\"lines\",\"x\":[-0.9739462100511188,0.6386071880364272],\"y\":[0.15588962822060787,0.13116385461911206],\"type\":\"scatter\"},{\"line\":{\"color\":\"lightgray\",\"width\":1},\"mode\":\"lines\",\"x\":[-0.4782468403548081,-0.278231951866899],\"y\":[0.8192451596907109,-0.4788627466713346],\"type\":\"scatter\"},{\"line\":{\"color\":\"lightgray\",\"width\":1},\"mode\":\"lines\",\"x\":[-0.8569137617363639,0.2156727182715702],\"y\":[0.27702130549198284,-0.7887235348795513],\"type\":\"scatter\"},{\"line\":{\"color\":\"darkblue\",\"width\":1},\"mode\":\"lines\",\"x\":[-0.9739462100511188,-0.9255085009862662],\"y\":[0.15588962822060787,0.4156074772474138],\"type\":\"scatter\"},{\"line\":{\"color\":\"lightgray\",\"width\":1},\"mode\":\"lines\",\"x\":[-0.6004235446281904,0.6386071880364272],\"y\":[0.6370991185146676,0.13116385461911206],\"type\":\"scatter\"},{\"line\":{\"color\":\"darkblue\",\"width\":1},\"mode\":\"lines\",\"x\":[0.014910717236521208,0.7845701886498891],\"y\":[-0.7726759134396349,-0.4702501081521776],\"type\":\"scatter\"},{\"line\":{\"color\":\"darkblue\",\"width\":1},\"mode\":\"lines\",\"x\":[0.6108745154405566,0.3330448392384936],\"y\":[-0.5733676800755454,-0.8340062657872137],\"type\":\"scatter\"},{\"line\":{\"color\":\"lightgray\",\"width\":1},\"mode\":\"lines\",\"x\":[-0.5518346330746787,0.9227817640400293],\"y\":[-0.20347522493435183,0.029458794541957063],\"type\":\"scatter\"},{\"line\":{\"color\":\"darkblue\",\"width\":1},\"mode\":\"lines\",\"x\":[0.014910717236521208,0.510738532629225],\"y\":[-0.7726759134396349,-0.8112387243894809],\"type\":\"scatter\"},{\"line\":{\"color\":\"lightgray\",\"width\":1},\"mode\":\"lines\",\"x\":[-0.7605345776401973,0.07578275185778272],\"y\":[0.28735490924116186,-0.7227296757790806],\"type\":\"scatter\"},{\"line\":{\"color\":\"darkblue\",\"width\":1},\"mode\":\"lines\",\"x\":[-0.21874065182410288,-0.6004235446281904],\"y\":[0.9173139322490603,0.6370991185146676],\"type\":\"scatter\"},{\"line\":{\"color\":\"darkblue\",\"width\":1},\"mode\":\"lines\",\"x\":[0.5578103471991686,-0.13617797378549315],\"y\":[0.20540946402350227,-0.6677698899093224],\"type\":\"scatter\"},{\"line\":{\"color\":\"darkblue\",\"width\":1},\"mode\":\"lines\",\"x\":[-0.6140937175337806,-0.9739462100511188],\"y\":[0.8892790315579895,0.15588962822060787],\"type\":\"scatter\"},{\"line\":{\"color\":\"darkblue\",\"width\":1},\"mode\":\"lines\",\"x\":[0.7314587219711344,0.3330448392384936],\"y\":[-0.6744984707757519,-0.8340062657872137],\"type\":\"scatter\"},{\"line\":{\"color\":\"lightgray\",\"width\":1},\"mode\":\"lines\",\"x\":[0.0856782687952649,-0.038399276125469936],\"y\":[0.9124810295755442,-0.8589465139367477],\"type\":\"scatter\"},{\"line\":{\"color\":\"lightgray\",\"width\":1},\"mode\":\"lines\",\"x\":[-0.6004235446281904,0.2156727182715702],\"y\":[0.6370991185146676,-0.7887235348795513],\"type\":\"scatter\"},{\"line\":{\"color\":\"darkblue\",\"width\":1},\"mode\":\"lines\",\"x\":[-0.9739462100511188,-0.3718304348748292],\"y\":[0.15588962822060787,0.889405011839641],\"type\":\"scatter\"},{\"line\":{\"color\":\"darkblue\",\"width\":1},\"mode\":\"lines\",\"x\":[0.41841412245343573,-0.9151372576982943],\"y\":[0.6013098799193504,0.15511979920707278],\"type\":\"scatter\"},{\"line\":{\"color\":\"darkblue\",\"width\":1},\"mode\":\"lines\",\"x\":[-0.21874065182410288,0.20122273875243868],\"y\":[0.9173139322490603,1.0],\"type\":\"scatter\"},{\"line\":{\"color\":\"darkblue\",\"width\":1},\"mode\":\"lines\",\"x\":[-0.6140937175337806,-0.6004235446281904],\"y\":[0.8892790315579895,0.6370991185146676],\"type\":\"scatter\"},{\"line\":{\"color\":\"darkblue\",\"width\":1},\"mode\":\"lines\",\"x\":[-0.038399276125469936,-0.13617797378549315],\"y\":[-0.8589465139367477,-0.6677698899093224],\"type\":\"scatter\"},{\"line\":{\"color\":\"darkblue\",\"width\":1},\"mode\":\"lines\",\"x\":[0.7845701886498891,0.6386071880364272],\"y\":[-0.4702501081521776,0.13116385461911206],\"type\":\"scatter\"},{\"line\":{\"color\":\"darkblue\",\"width\":1},\"mode\":\"lines\",\"x\":[-0.21874065182410288,-0.9255085009862662],\"y\":[0.9173139322490603,0.4156074772474138],\"type\":\"scatter\"},{\"line\":{\"color\":\"lightgray\",\"width\":1},\"mode\":\"lines\",\"x\":[-0.9255085009862662,0.7650494797310291],\"y\":[0.4156074772474138,0.26190397562901585],\"type\":\"scatter\"},{\"line\":{\"color\":\"lightgray\",\"width\":1},\"mode\":\"lines\",\"x\":[-0.5518346330746787,-0.13617797378549315],\"y\":[-0.20347522493435183,-0.6677698899093224],\"type\":\"scatter\"},{\"line\":{\"color\":\"darkblue\",\"width\":1},\"mode\":\"lines\",\"x\":[-0.6004235446281904,0.3341323589999464],\"y\":[0.6370991185146676,0.6276510584927125],\"type\":\"scatter\"},{\"line\":{\"color\":\"darkblue\",\"width\":1},\"mode\":\"lines\",\"x\":[0.7650494797310291,0.7848921790023624],\"y\":[0.26190397562901585,-0.2454827409792513],\"type\":\"scatter\"},{\"line\":{\"color\":\"lightgray\",\"width\":1},\"mode\":\"lines\",\"x\":[-0.7566061026918331,0.7845701886498891],\"y\":[0.7987976960830132,-0.4702501081521776],\"type\":\"scatter\"},{\"line\":{\"color\":\"lightgray\",\"width\":1},\"mode\":\"lines\",\"x\":[0.41841412245343573,0.6108745154405566],\"y\":[0.6013098799193504,-0.5733676800755454],\"type\":\"scatter\"},{\"line\":{\"color\":\"darkblue\",\"width\":1},\"mode\":\"lines\",\"x\":[0.7650494797310291,0.8231470249802241],\"y\":[0.26190397562901585,-0.33873032683507903],\"type\":\"scatter\"},{\"line\":{\"color\":\"lightgray\",\"width\":1},\"mode\":\"lines\",\"x\":[0.3341323589999464,0.821946468210322],\"y\":[0.6276510584927125,-0.5376566668384067],\"type\":\"scatter\"},{\"line\":{\"color\":\"darkblue\",\"width\":1},\"mode\":\"lines\",\"x\":[-0.278231951866899,0.7848921790023624],\"y\":[-0.4788627466713346,-0.2454827409792513],\"type\":\"scatter\"},{\"line\":{\"color\":\"lightgray\",\"width\":1},\"mode\":\"lines\",\"x\":[-0.8960744076451393,0.7650494797310291],\"y\":[-0.12230556515037556,0.26190397562901585],\"type\":\"scatter\"},{\"line\":{\"color\":\"lightgray\",\"width\":1},\"mode\":\"lines\",\"x\":[-0.7566061026918331,0.7314587219711344],\"y\":[0.7987976960830132,-0.6744984707757519],\"type\":\"scatter\"},{\"line\":{\"color\":\"lightgray\",\"width\":1},\"mode\":\"lines\",\"x\":[0.41841412245343573,-0.3114456606027594],\"y\":[0.6013098799193504,-0.6739529679071985],\"type\":\"scatter\"},{\"line\":{\"color\":\"darkblue\",\"width\":1},\"mode\":\"lines\",\"x\":[-0.038399276125469936,-0.3114456606027594],\"y\":[-0.8589465139367477,-0.6739529679071985],\"type\":\"scatter\"},{\"line\":{\"color\":\"lightgray\",\"width\":1},\"mode\":\"lines\",\"x\":[-0.8960744076451393,-0.278231951866899],\"y\":[-0.12230556515037556,-0.4788627466713346],\"type\":\"scatter\"},{\"line\":{\"color\":\"lightgray\",\"width\":1},\"mode\":\"lines\",\"x\":[-0.5518346330746787,0.2156727182715702],\"y\":[-0.20347522493435183,-0.7887235348795513],\"type\":\"scatter\"},{\"line\":{\"color\":\"darkblue\",\"width\":1},\"mode\":\"lines\",\"x\":[-0.038399276125469936,0.510738532629225],\"y\":[-0.8589465139367477,-0.8112387243894809],\"type\":\"scatter\"},{\"line\":{\"color\":\"darkblue\",\"width\":1},\"mode\":\"lines\",\"x\":[0.7845701886498891,-0.3114456606027594],\"y\":[-0.4702501081521776,-0.6739529679071985],\"type\":\"scatter\"},{\"line\":{\"color\":\"lightgray\",\"width\":1},\"mode\":\"lines\",\"x\":[-0.5518346330746787,-0.3114456606027594],\"y\":[-0.20347522493435183,-0.6739529679071985],\"type\":\"scatter\"},{\"line\":{\"color\":\"lightgray\",\"width\":1},\"mode\":\"lines\",\"x\":[-0.9739462100511188,-0.278231951866899],\"y\":[0.15588962822060787,-0.4788627466713346],\"type\":\"scatter\"},{\"line\":{\"color\":\"darkblue\",\"width\":1},\"mode\":\"lines\",\"x\":[0.7845701886498891,0.7848921790023624],\"y\":[-0.4702501081521776,-0.2454827409792513],\"type\":\"scatter\"},{\"line\":{\"color\":\"darkblue\",\"width\":1},\"mode\":\"lines\",\"x\":[0.6108745154405566,-0.038399276125469936],\"y\":[-0.5733676800755454,-0.8589465139367477],\"type\":\"scatter\"},{\"line\":{\"color\":\"lightgray\",\"width\":1},\"mode\":\"lines\",\"x\":[-0.8165996085805034,0.9227817640400293],\"y\":[0.5807746769754708,0.029458794541957063],\"type\":\"scatter\"},{\"line\":{\"color\":\"darkblue\",\"width\":1},\"mode\":\"lines\",\"x\":[-0.038399276125469936,0.7903440977923845],\"y\":[-0.8589465139367477,-0.5228755269922652],\"type\":\"scatter\"},{\"line\":{\"color\":\"darkblue\",\"width\":1},\"mode\":\"lines\",\"x\":[0.7013791398643786,0.9227817640400293],\"y\":[-0.594040447917239,0.029458794541957063],\"type\":\"scatter\"},{\"line\":{\"color\":\"lightgray\",\"width\":1},\"mode\":\"lines\",\"x\":[-0.8569137617363639,0.8231470249802241],\"y\":[0.27702130549198284,-0.33873032683507903],\"type\":\"scatter\"},{\"line\":{\"color\":\"darkblue\",\"width\":1},\"mode\":\"lines\",\"x\":[-0.038399276125469936,0.7848921790023624],\"y\":[-0.8589465139367477,-0.2454827409792513],\"type\":\"scatter\"},{\"line\":{\"color\":\"lightgray\",\"width\":1},\"mode\":\"lines\",\"x\":[0.0856782687952649,0.510738532629225],\"y\":[0.9124810295755442,-0.8112387243894809],\"type\":\"scatter\"},{\"line\":{\"color\":\"lightgray\",\"width\":1},\"mode\":\"lines\",\"x\":[-0.9255085009862662,-0.3114456606027594],\"y\":[0.4156074772474138,-0.6739529679071985],\"type\":\"scatter\"},{\"line\":{\"color\":\"lightgray\",\"width\":1},\"mode\":\"lines\",\"x\":[0.0856782687952649,0.7314587219711344],\"y\":[0.9124810295755442,-0.6744984707757519],\"type\":\"scatter\"},{\"line\":{\"color\":\"lightgray\",\"width\":1},\"mode\":\"lines\",\"x\":[-0.7605345776401973,0.7903440977923845],\"y\":[0.28735490924116186,-0.5228755269922652],\"type\":\"scatter\"},{\"line\":{\"color\":\"lightgray\",\"width\":1},\"mode\":\"lines\",\"x\":[-0.9255085009862662,0.9227817640400293],\"y\":[0.4156074772474138,0.029458794541957063],\"type\":\"scatter\"},{\"line\":{\"color\":\"lightgray\",\"width\":1},\"mode\":\"lines\",\"x\":[-0.6004235446281904,-0.13617797378549315],\"y\":[0.6370991185146676,-0.6677698899093224],\"type\":\"scatter\"},{\"line\":{\"color\":\"lightgray\",\"width\":1},\"mode\":\"lines\",\"x\":[-0.4782468403548081,0.6386071880364272],\"y\":[0.8192451596907109,0.13116385461911206],\"type\":\"scatter\"},{\"line\":{\"color\":\"lightgray\",\"width\":1},\"mode\":\"lines\",\"x\":[-0.7566061026918331,0.6108745154405566],\"y\":[0.7987976960830132,-0.5733676800755454],\"type\":\"scatter\"},{\"line\":{\"color\":\"lightgray\",\"width\":1},\"mode\":\"lines\",\"x\":[-0.9255085009862662,0.07578275185778272],\"y\":[0.4156074772474138,-0.7227296757790806],\"type\":\"scatter\"},{\"line\":{\"color\":\"darkblue\",\"width\":1},\"mode\":\"lines\",\"x\":[-0.4782468403548081,-0.6004235446281904],\"y\":[0.8192451596907109,0.6370991185146676],\"type\":\"scatter\"},{\"line\":{\"color\":\"darkblue\",\"width\":1},\"mode\":\"lines\",\"x\":[0.3341323589999464,0.20122273875243868],\"y\":[0.6276510584927125,1.0],\"type\":\"scatter\"},{\"line\":{\"color\":\"darkblue\",\"width\":1},\"mode\":\"lines\",\"x\":[0.3341323589999464,-0.8165996085805034],\"y\":[0.6276510584927125,0.5807746769754708],\"type\":\"scatter\"},{\"line\":{\"color\":\"darkblue\",\"width\":1},\"mode\":\"lines\",\"x\":[0.014910717236521208,-0.13617797378549315],\"y\":[-0.7726759134396349,-0.6677698899093224],\"type\":\"scatter\"},{\"line\":{\"color\":\"lightgray\",\"width\":1},\"mode\":\"lines\",\"x\":[-0.8569137617363639,-0.038399276125469936],\"y\":[0.27702130549198284,-0.8589465139367477],\"type\":\"scatter\"},{\"line\":{\"color\":\"darkblue\",\"width\":1},\"mode\":\"lines\",\"x\":[0.7845701886498891,0.8231470249802241],\"y\":[-0.4702501081521776,-0.33873032683507903],\"type\":\"scatter\"},{\"line\":{\"color\":\"lightgray\",\"width\":1},\"mode\":\"lines\",\"x\":[-0.4782468403548081,0.5578103471991686],\"y\":[0.8192451596907109,0.20540946402350227],\"type\":\"scatter\"},{\"line\":{\"color\":\"darkblue\",\"width\":1},\"mode\":\"lines\",\"x\":[-0.6140937175337806,-0.5518346330746787],\"y\":[0.8892790315579895,-0.20347522493435183],\"type\":\"scatter\"},{\"line\":{\"color\":\"lightgray\",\"width\":1},\"mode\":\"lines\",\"x\":[0.0856782687952649,0.6386071880364272],\"y\":[0.9124810295755442,0.13116385461911206],\"type\":\"scatter\"},{\"line\":{\"color\":\"lightgray\",\"width\":1},\"mode\":\"lines\",\"x\":[-0.3718304348748292,0.6386071880364272],\"y\":[0.889405011839641,0.13116385461911206],\"type\":\"scatter\"},{\"line\":{\"color\":\"darkblue\",\"width\":1},\"mode\":\"lines\",\"x\":[-0.278231951866899,-0.038399276125469936],\"y\":[-0.4788627466713346,-0.8589465139367477],\"type\":\"scatter\"},{\"line\":{\"color\":\"darkblue\",\"width\":1},\"mode\":\"lines\",\"x\":[-0.7566061026918331,0.17286174615058908],\"y\":[0.7987976960830132,0.6109180479784145],\"type\":\"scatter\"},{\"line\":{\"color\":\"darkblue\",\"width\":1},\"mode\":\"lines\",\"x\":[0.7845701886498891,0.2156727182715702],\"y\":[-0.4702501081521776,-0.7887235348795513],\"type\":\"scatter\"},{\"line\":{\"color\":\"darkblue\",\"width\":1},\"mode\":\"lines\",\"x\":[0.014910717236521208,0.6386071880364272],\"y\":[-0.7726759134396349,0.13116385461911206],\"type\":\"scatter\"},{\"line\":{\"color\":\"darkblue\",\"width\":1},\"mode\":\"lines\",\"x\":[0.41841412245343573,-0.8960744076451393],\"y\":[0.6013098799193504,-0.12230556515037556],\"type\":\"scatter\"},{\"line\":{\"color\":\"darkblue\",\"width\":1},\"mode\":\"lines\",\"x\":[0.8231470249802241,-0.3114456606027594],\"y\":[-0.33873032683507903,-0.6739529679071985],\"type\":\"scatter\"},{\"line\":{\"color\":\"lightgray\",\"width\":1},\"mode\":\"lines\",\"x\":[0.41841412245343573,0.5578103471991686],\"y\":[0.6013098799193504,0.20540946402350227],\"type\":\"scatter\"},{\"line\":{\"color\":\"darkblue\",\"width\":1},\"mode\":\"lines\",\"x\":[-0.5518346330746787,0.20122273875243868],\"y\":[-0.20347522493435183,1.0],\"type\":\"scatter\"},{\"line\":{\"color\":\"darkblue\",\"width\":1},\"mode\":\"lines\",\"x\":[-0.7082756557903018,-0.9151372576982943],\"y\":[0.6253190923496244,0.15511979920707278],\"type\":\"scatter\"},{\"line\":{\"color\":\"lightgray\",\"width\":1},\"mode\":\"lines\",\"x\":[-0.6004235446281904,0.821946468210322],\"y\":[0.6370991185146676,-0.5376566668384067],\"type\":\"scatter\"},{\"line\":{\"color\":\"lightgray\",\"width\":1},\"mode\":\"lines\",\"x\":[-0.6004235446281904,0.3330448392384936],\"y\":[0.6370991185146676,-0.8340062657872137],\"type\":\"scatter\"},{\"line\":{\"color\":\"darkblue\",\"width\":1},\"mode\":\"lines\",\"x\":[-0.8569137617363639,-0.5518346330746787],\"y\":[0.27702130549198284,-0.20347522493435183],\"type\":\"scatter\"},{\"line\":{\"color\":\"darkblue\",\"width\":1},\"mode\":\"lines\",\"x\":[-0.7605345776401973,-0.6004235446281904],\"y\":[0.28735490924116186,0.6370991185146676],\"type\":\"scatter\"},{\"line\":{\"color\":\"lightgray\",\"width\":1},\"mode\":\"lines\",\"x\":[-0.6004235446281904,0.7650494797310291],\"y\":[0.6370991185146676,0.26190397562901585],\"type\":\"scatter\"},{\"line\":{\"color\":\"darkblue\",\"width\":1},\"mode\":\"lines\",\"x\":[0.07578275185778272,0.6108745154405566],\"y\":[-0.7227296757790806,-0.5733676800755454],\"type\":\"scatter\"},{\"line\":{\"color\":\"lightgray\",\"width\":1},\"mode\":\"lines\",\"x\":[-0.7082756557903018,0.7845701886498891],\"y\":[0.6253190923496244,-0.4702501081521776],\"type\":\"scatter\"},{\"line\":{\"color\":\"lightgray\",\"width\":1},\"mode\":\"lines\",\"x\":[-0.9151372576982943,-0.278231951866899],\"y\":[0.15511979920707278,-0.4788627466713346],\"type\":\"scatter\"},{\"line\":{\"color\":\"lightgray\",\"width\":1},\"mode\":\"lines\",\"x\":[-0.6004235446281904,0.7013791398643786],\"y\":[0.6370991185146676,-0.594040447917239],\"type\":\"scatter\"},{\"line\":{\"color\":\"lightgray\",\"width\":1},\"mode\":\"lines\",\"x\":[-0.3718304348748292,0.510738532629225],\"y\":[0.889405011839641,-0.8112387243894809],\"type\":\"scatter\"},{\"line\":{\"color\":\"lightgray\",\"width\":1},\"mode\":\"lines\",\"x\":[0.0856782687952649,0.8231470249802241],\"y\":[0.9124810295755442,-0.33873032683507903],\"type\":\"scatter\"},{\"line\":{\"color\":\"darkblue\",\"width\":1},\"mode\":\"lines\",\"x\":[0.7650494797310291,0.3330448392384936],\"y\":[0.26190397562901585,-0.8340062657872137],\"type\":\"scatter\"},{\"line\":{\"color\":\"lightgray\",\"width\":1},\"mode\":\"lines\",\"x\":[-0.7605345776401973,-0.3114456606027594],\"y\":[0.28735490924116186,-0.6739529679071985],\"type\":\"scatter\"},{\"line\":{\"color\":\"darkblue\",\"width\":1},\"mode\":\"lines\",\"x\":[0.8231470249802241,0.7903440977923845],\"y\":[-0.33873032683507903,-0.5228755269922652],\"type\":\"scatter\"},{\"line\":{\"color\":\"lightgray\",\"width\":1},\"mode\":\"lines\",\"x\":[0.20122273875243868,0.7845701886498891],\"y\":[1.0,-0.4702501081521776],\"type\":\"scatter\"},{\"line\":{\"color\":\"darkblue\",\"width\":1},\"mode\":\"lines\",\"x\":[0.7650494797310291,0.5578103471991686],\"y\":[0.26190397562901585,0.20540946402350227],\"type\":\"scatter\"},{\"line\":{\"color\":\"darkblue\",\"width\":1},\"mode\":\"lines\",\"x\":[-0.8165996085805034,-0.6004235446281904],\"y\":[0.5807746769754708,0.6370991185146676],\"type\":\"scatter\"},{\"line\":{\"color\":\"lightgray\",\"width\":1},\"mode\":\"lines\",\"x\":[0.0856782687952649,0.7013791398643786],\"y\":[0.9124810295755442,-0.594040447917239],\"type\":\"scatter\"},{\"line\":{\"color\":\"lightgray\",\"width\":1},\"mode\":\"lines\",\"x\":[0.0856782687952649,0.07578275185778272],\"y\":[0.9124810295755442,-0.7227296757790806],\"type\":\"scatter\"},{\"line\":{\"color\":\"lightgray\",\"width\":1},\"mode\":\"lines\",\"x\":[-0.5518346330746787,-0.278231951866899],\"y\":[-0.20347522493435183,-0.4788627466713346],\"type\":\"scatter\"},{\"line\":{\"color\":\"darkblue\",\"width\":1},\"mode\":\"lines\",\"x\":[0.821946468210322,0.7903440977923845],\"y\":[-0.5376566668384067,-0.5228755269922652],\"type\":\"scatter\"},{\"line\":{\"color\":\"darkblue\",\"width\":1},\"mode\":\"lines\",\"x\":[0.3330448392384936,0.9227817640400293],\"y\":[-0.8340062657872137,0.029458794541957063],\"type\":\"scatter\"},{\"line\":{\"color\":\"lightgray\",\"width\":1},\"mode\":\"lines\",\"x\":[-0.9255085009862662,-0.278231951866899],\"y\":[0.4156074772474138,-0.4788627466713346],\"type\":\"scatter\"},{\"line\":{\"color\":\"lightgray\",\"width\":1},\"mode\":\"lines\",\"x\":[0.17286174615058908,0.7848921790023624],\"y\":[0.6109180479784145,-0.2454827409792513],\"type\":\"scatter\"},{\"line\":{\"color\":\"lightgray\",\"width\":1},\"mode\":\"lines\",\"x\":[-0.5518346330746787,0.7845701886498891],\"y\":[-0.20347522493435183,-0.4702501081521776],\"type\":\"scatter\"},{\"line\":{\"color\":\"darkblue\",\"width\":1},\"mode\":\"lines\",\"x\":[0.17286174615058908,-0.7605345776401973],\"y\":[0.6109180479784145,0.28735490924116186],\"type\":\"scatter\"},{\"line\":{\"color\":\"lightgray\",\"width\":1},\"mode\":\"lines\",\"x\":[-0.9739462100511188,0.7013791398643786],\"y\":[0.15588962822060787,-0.594040447917239],\"type\":\"scatter\"},{\"line\":{\"color\":\"lightgray\",\"width\":1},\"mode\":\"lines\",\"x\":[-0.4782468403548081,0.7848921790023624],\"y\":[0.8192451596907109,-0.2454827409792513],\"type\":\"scatter\"},{\"line\":{\"color\":\"darkblue\",\"width\":1},\"mode\":\"lines\",\"x\":[0.7845701886498891,0.510738532629225],\"y\":[-0.4702501081521776,-0.8112387243894809],\"type\":\"scatter\"},{\"line\":{\"color\":\"lightgray\",\"width\":1},\"mode\":\"lines\",\"x\":[-0.9151372576982943,0.821946468210322],\"y\":[0.15511979920707278,-0.5376566668384067],\"type\":\"scatter\"},{\"line\":{\"color\":\"darkblue\",\"width\":1},\"mode\":\"lines\",\"x\":[0.0856782687952649,-0.6004235446281904],\"y\":[0.9124810295755442,0.6370991185146676],\"type\":\"scatter\"},{\"line\":{\"color\":\"darkblue\",\"width\":1},\"mode\":\"lines\",\"x\":[0.3330448392384936,-0.08629914181214383],\"y\":[-0.8340062657872137,-0.9369339520980161],\"type\":\"scatter\"},{\"line\":{\"color\":\"lightgray\",\"width\":1},\"mode\":\"lines\",\"x\":[-0.9739462100511188,0.9227817640400293],\"y\":[0.15588962822060787,0.029458794541957063],\"type\":\"scatter\"},{\"line\":{\"color\":\"lightgray\",\"width\":1},\"mode\":\"lines\",\"x\":[-0.9151372576982943,0.2156727182715702],\"y\":[0.15511979920707278,-0.7887235348795513],\"type\":\"scatter\"},{\"line\":{\"color\":\"lightgray\",\"width\":1},\"mode\":\"lines\",\"x\":[-0.7082756557903018,-0.13617797378549315],\"y\":[0.6253190923496244,-0.6677698899093224],\"type\":\"scatter\"},{\"line\":{\"color\":\"darkblue\",\"width\":1},\"mode\":\"lines\",\"x\":[-0.6004235446281904,-0.6004235446281904],\"y\":[0.6370991185146676,0.6370991185146676],\"type\":\"scatter\"},{\"line\":{\"color\":\"lightgray\",\"width\":1},\"mode\":\"lines\",\"x\":[-0.3718304348748292,0.7845701886498891],\"y\":[0.889405011839641,-0.4702501081521776],\"type\":\"scatter\"},{\"line\":{\"color\":\"lightgray\",\"width\":1},\"mode\":\"lines\",\"x\":[-0.4782468403548081,0.510738532629225],\"y\":[0.8192451596907109,-0.8112387243894809],\"type\":\"scatter\"},{\"line\":{\"color\":\"lightgray\",\"width\":1},\"mode\":\"lines\",\"x\":[-0.9739462100511188,0.014910717236521208],\"y\":[0.15588962822060787,-0.7726759134396349],\"type\":\"scatter\"},{\"line\":{\"color\":\"lightgray\",\"width\":1},\"mode\":\"lines\",\"x\":[-0.9739462100511188,0.7848921790023624],\"y\":[0.15588962822060787,-0.2454827409792513],\"type\":\"scatter\"},{\"line\":{\"color\":\"lightgray\",\"width\":1},\"mode\":\"lines\",\"x\":[0.3341323589999464,0.2156727182715702],\"y\":[0.6276510584927125,-0.7887235348795513],\"type\":\"scatter\"},{\"line\":{\"color\":\"darkblue\",\"width\":1},\"mode\":\"lines\",\"x\":[-0.7082756557903018,-0.3718304348748292],\"y\":[0.6253190923496244,0.889405011839641],\"type\":\"scatter\"},{\"line\":{\"color\":\"lightgray\",\"width\":1},\"mode\":\"lines\",\"x\":[-0.3718304348748292,0.7848921790023624],\"y\":[0.889405011839641,-0.2454827409792513],\"type\":\"scatter\"},{\"line\":{\"color\":\"darkblue\",\"width\":1},\"mode\":\"lines\",\"x\":[0.6386071880364272,0.821946468210322],\"y\":[0.13116385461911206,-0.5376566668384067],\"type\":\"scatter\"},{\"line\":{\"color\":\"darkblue\",\"width\":1},\"mode\":\"lines\",\"x\":[0.7845701886498891,-0.278231951866899],\"y\":[-0.4702501081521776,-0.4788627466713346],\"type\":\"scatter\"},{\"line\":{\"color\":\"darkblue\",\"width\":1},\"mode\":\"lines\",\"x\":[0.8231470249802241,0.7848921790023624],\"y\":[-0.33873032683507903,-0.2454827409792513],\"type\":\"scatter\"},{\"line\":{\"color\":\"darkblue\",\"width\":1},\"mode\":\"lines\",\"x\":[0.0856782687952649,-0.6004235446281904],\"y\":[0.9124810295755442,0.6370991185146676],\"type\":\"scatter\"},{\"line\":{\"color\":\"lightgray\",\"width\":1},\"mode\":\"lines\",\"x\":[-0.7605345776401973,-0.038399276125469936],\"y\":[0.28735490924116186,-0.8589465139367477],\"type\":\"scatter\"},{\"line\":{\"color\":\"lightgray\",\"width\":1},\"mode\":\"lines\",\"x\":[-0.3718304348748292,0.8231470249802241],\"y\":[0.889405011839641,-0.33873032683507903],\"type\":\"scatter\"},{\"line\":{\"color\":\"darkblue\",\"width\":1},\"mode\":\"lines\",\"x\":[0.7013791398643786,0.8231470249802241],\"y\":[-0.594040447917239,-0.33873032683507903],\"type\":\"scatter\"},{\"line\":{\"color\":\"darkblue\",\"width\":1},\"mode\":\"lines\",\"x\":[0.7314587219711344,0.821946468210322],\"y\":[-0.6744984707757519,-0.5376566668384067],\"type\":\"scatter\"},{\"line\":{\"color\":\"darkblue\",\"width\":1},\"mode\":\"lines\",\"x\":[0.7314587219711344,-0.3114456606027594],\"y\":[-0.6744984707757519,-0.6739529679071985],\"type\":\"scatter\"},{\"line\":{\"color\":\"darkblue\",\"width\":1},\"mode\":\"lines\",\"x\":[-0.7566061026918331,-0.5518346330746787],\"y\":[0.7987976960830132,-0.20347522493435183],\"type\":\"scatter\"},{\"line\":{\"color\":\"lightgray\",\"width\":1},\"mode\":\"lines\",\"x\":[-0.7605345776401973,-0.08629914181214383],\"y\":[0.28735490924116186,-0.9369339520980161],\"type\":\"scatter\"},{\"line\":{\"color\":\"darkblue\",\"width\":1},\"mode\":\"lines\",\"x\":[0.7314587219711344,0.510738532629225],\"y\":[-0.6744984707757519,-0.8112387243894809],\"type\":\"scatter\"},{\"line\":{\"color\":\"lightgray\",\"width\":1},\"mode\":\"lines\",\"x\":[-0.6004235446281904,0.510738532629225],\"y\":[0.6370991185146676,-0.8112387243894809],\"type\":\"scatter\"},{\"line\":{\"color\":\"darkblue\",\"width\":1},\"mode\":\"lines\",\"x\":[0.07578275185778272,0.821946468210322],\"y\":[-0.7227296757790806,-0.5376566668384067],\"type\":\"scatter\"},{\"line\":{\"color\":\"darkblue\",\"width\":1},\"mode\":\"lines\",\"x\":[0.7314587219711344,-0.13617797378549315],\"y\":[-0.6744984707757519,-0.6677698899093224],\"type\":\"scatter\"},{\"line\":{\"color\":\"lightgray\",\"width\":1},\"mode\":\"lines\",\"x\":[-0.7605345776401973,0.014910717236521208],\"y\":[0.28735490924116186,-0.7726759134396349],\"type\":\"scatter\"},{\"line\":{\"color\":\"darkblue\",\"width\":1},\"mode\":\"lines\",\"x\":[0.7845701886498891,0.6108745154405566],\"y\":[-0.4702501081521776,-0.5733676800755454],\"type\":\"scatter\"},{\"line\":{\"color\":\"darkblue\",\"width\":1},\"mode\":\"lines\",\"x\":[0.6386071880364272,0.7314587219711344],\"y\":[0.13116385461911206,-0.6744984707757519],\"type\":\"scatter\"},{\"line\":{\"color\":\"darkblue\",\"width\":1},\"mode\":\"lines\",\"x\":[-0.3718304348748292,-0.5518346330746787],\"y\":[0.889405011839641,-0.20347522493435183],\"type\":\"scatter\"},{\"line\":{\"color\":\"darkblue\",\"width\":1},\"mode\":\"lines\",\"x\":[0.9227817640400293,0.5578103471991686],\"y\":[0.029458794541957063,0.20540946402350227],\"type\":\"scatter\"},{\"line\":{\"color\":\"lightgray\",\"width\":1},\"mode\":\"lines\",\"x\":[-0.8165996085805034,0.7903440977923845],\"y\":[0.5807746769754708,-0.5228755269922652],\"type\":\"scatter\"},{\"line\":{\"color\":\"lightgray\",\"width\":1},\"mode\":\"lines\",\"x\":[-0.7082756557903018,0.821946468210322],\"y\":[0.6253190923496244,-0.5376566668384067],\"type\":\"scatter\"},{\"line\":{\"color\":\"darkblue\",\"width\":1},\"mode\":\"lines\",\"x\":[0.821946468210322,0.3330448392384936],\"y\":[-0.5376566668384067,-0.8340062657872137],\"type\":\"scatter\"},{\"line\":{\"color\":\"lightgray\",\"width\":1},\"mode\":\"lines\",\"x\":[0.3341323589999464,-0.038399276125469936],\"y\":[0.6276510584927125,-0.8589465139367477],\"type\":\"scatter\"},{\"line\":{\"color\":\"lightgray\",\"width\":1},\"mode\":\"lines\",\"x\":[-0.8165996085805034,0.6386071880364272],\"y\":[0.5807746769754708,0.13116385461911206],\"type\":\"scatter\"},{\"line\":{\"color\":\"lightgray\",\"width\":1},\"mode\":\"lines\",\"x\":[-0.4782468403548081,0.7314587219711344],\"y\":[0.8192451596907109,-0.6744984707757519],\"type\":\"scatter\"},{\"line\":{\"color\":\"lightgray\",\"width\":1},\"mode\":\"lines\",\"x\":[-0.5518346330746787,0.7903440977923845],\"y\":[-0.20347522493435183,-0.5228755269922652],\"type\":\"scatter\"},{\"line\":{\"color\":\"lightgray\",\"width\":1},\"mode\":\"lines\",\"x\":[-0.7566061026918331,-0.278231951866899],\"y\":[0.7987976960830132,-0.4788627466713346],\"type\":\"scatter\"},{\"line\":{\"color\":\"darkblue\",\"width\":1},\"mode\":\"lines\",\"x\":[0.6108745154405566,0.510738532629225],\"y\":[-0.5733676800755454,-0.8112387243894809],\"type\":\"scatter\"},{\"line\":{\"color\":\"lightgray\",\"width\":1},\"mode\":\"lines\",\"x\":[-0.9151372576982943,0.7314587219711344],\"y\":[0.15511979920707278,-0.6744984707757519],\"type\":\"scatter\"},{\"line\":{\"color\":\"lightgray\",\"width\":1},\"mode\":\"lines\",\"x\":[-0.5518346330746787,0.014910717236521208],\"y\":[-0.20347522493435183,-0.7726759134396349],\"type\":\"scatter\"},{\"line\":{\"color\":\"lightgray\",\"width\":1},\"mode\":\"lines\",\"x\":[-0.8960744076451393,0.2156727182715702],\"y\":[-0.12230556515037556,-0.7887235348795513],\"type\":\"scatter\"},{\"line\":{\"color\":\"darkblue\",\"width\":1},\"mode\":\"lines\",\"x\":[0.5578103471991686,0.510738532629225],\"y\":[0.20540946402350227,-0.8112387243894809],\"type\":\"scatter\"},{\"line\":{\"color\":\"darkblue\",\"width\":1},\"mode\":\"lines\",\"x\":[0.7845701886498891,0.821946468210322],\"y\":[-0.4702501081521776,-0.5376566668384067],\"type\":\"scatter\"},{\"line\":{\"color\":\"lightgray\",\"width\":1},\"mode\":\"lines\",\"x\":[-0.7566061026918331,0.3330448392384936],\"y\":[0.7987976960830132,-0.8340062657872137],\"type\":\"scatter\"},{\"line\":{\"color\":\"darkblue\",\"width\":1},\"mode\":\"lines\",\"x\":[0.7650494797310291,0.821946468210322],\"y\":[0.26190397562901585,-0.5376566668384067],\"type\":\"scatter\"},{\"line\":{\"color\":\"lightgray\",\"width\":1},\"mode\":\"lines\",\"x\":[-0.5518346330746787,0.6108745154405566],\"y\":[-0.20347522493435183,-0.5733676800755454],\"type\":\"scatter\"},{\"line\":{\"color\":\"darkblue\",\"width\":1},\"mode\":\"lines\",\"x\":[0.17286174615058908,-0.3718304348748292],\"y\":[0.6109180479784145,0.889405011839641],\"type\":\"scatter\"},{\"line\":{\"color\":\"lightgray\",\"width\":1},\"mode\":\"lines\",\"x\":[-0.9255085009862662,0.014910717236521208],\"y\":[0.4156074772474138,-0.7726759134396349],\"type\":\"scatter\"},{\"line\":{\"color\":\"lightgray\",\"width\":1},\"mode\":\"lines\",\"x\":[-0.3718304348748292,0.9227817640400293],\"y\":[0.889405011839641,0.029458794541957063],\"type\":\"scatter\"},{\"line\":{\"color\":\"darkblue\",\"width\":1},\"mode\":\"lines\",\"x\":[0.6386071880364272,0.5578103471991686],\"y\":[0.13116385461911206,0.20540946402350227],\"type\":\"scatter\"},{\"line\":{\"color\":\"lightgray\",\"width\":1},\"mode\":\"lines\",\"x\":[-0.6004235446281904,-0.3114456606027594],\"y\":[0.6370991185146676,-0.6739529679071985],\"type\":\"scatter\"},{\"line\":{\"color\":\"darkblue\",\"width\":1},\"mode\":\"lines\",\"x\":[-0.8960744076451393,-0.9151372576982943],\"y\":[-0.12230556515037556,0.15511979920707278],\"type\":\"scatter\"},{\"line\":{\"color\":\"lightgray\",\"width\":1},\"mode\":\"lines\",\"x\":[-0.7082756557903018,0.014910717236521208],\"y\":[0.6253190923496244,-0.7726759134396349],\"type\":\"scatter\"},{\"line\":{\"color\":\"lightgray\",\"width\":1},\"mode\":\"lines\",\"x\":[-0.7605345776401973,0.7013791398643786],\"y\":[0.28735490924116186,-0.594040447917239],\"type\":\"scatter\"},{\"line\":{\"color\":\"lightgray\",\"width\":1},\"mode\":\"lines\",\"x\":[-0.7605345776401973,0.7314587219711344],\"y\":[0.28735490924116186,-0.6744984707757519],\"type\":\"scatter\"},{\"line\":{\"color\":\"darkblue\",\"width\":1},\"mode\":\"lines\",\"x\":[-0.6004235446281904,-0.3718304348748292],\"y\":[0.6370991185146676,0.889405011839641],\"type\":\"scatter\"},{\"line\":{\"color\":\"lightgray\",\"width\":1},\"mode\":\"lines\",\"x\":[-0.8960744076451393,-0.038399276125469936],\"y\":[-0.12230556515037556,-0.8589465139367477],\"type\":\"scatter\"},{\"line\":{\"color\":\"lightgray\",\"width\":1},\"mode\":\"lines\",\"x\":[-0.8960744076451393,-0.13617797378549315],\"y\":[-0.12230556515037556,-0.6677698899093224],\"type\":\"scatter\"},{\"line\":{\"color\":\"lightgray\",\"width\":1},\"mode\":\"lines\",\"x\":[-0.7566061026918331,0.7013791398643786],\"y\":[0.7987976960830132,-0.594040447917239],\"type\":\"scatter\"},{\"line\":{\"color\":\"darkblue\",\"width\":1},\"mode\":\"lines\",\"x\":[-0.278231951866899,-0.13617797378549315],\"y\":[-0.4788627466713346,-0.6677698899093224],\"type\":\"scatter\"},{\"line\":{\"color\":\"darkblue\",\"width\":1},\"mode\":\"lines\",\"x\":[0.07578275185778272,-0.08629914181214383],\"y\":[-0.7227296757790806,-0.9369339520980161],\"type\":\"scatter\"},{\"line\":{\"color\":\"lightgray\",\"width\":1},\"mode\":\"lines\",\"x\":[-0.5518346330746787,-0.038399276125469936],\"y\":[-0.20347522493435183,-0.8589465139367477],\"type\":\"scatter\"},{\"line\":{\"color\":\"lightgray\",\"width\":1},\"mode\":\"lines\",\"x\":[0.17286174615058908,0.510738532629225],\"y\":[0.6109180479784145,-0.8112387243894809],\"type\":\"scatter\"},{\"line\":{\"color\":\"lightgray\",\"width\":1},\"mode\":\"lines\",\"x\":[-0.8165996085805034,-0.3114456606027594],\"y\":[0.5807746769754708,-0.6739529679071985],\"type\":\"scatter\"},{\"line\":{\"color\":\"lightgray\",\"width\":1},\"mode\":\"lines\",\"x\":[-0.7605345776401973,0.5578103471991686],\"y\":[0.28735490924116186,0.20540946402350227],\"type\":\"scatter\"},{\"line\":{\"color\":\"darkblue\",\"width\":1},\"mode\":\"lines\",\"x\":[-0.3114456606027594,0.7848921790023624],\"y\":[-0.6739529679071985,-0.2454827409792513],\"type\":\"scatter\"},{\"line\":{\"color\":\"darkblue\",\"width\":1},\"mode\":\"lines\",\"x\":[0.821946468210322,0.510738532629225],\"y\":[-0.5376566668384067,-0.8112387243894809],\"type\":\"scatter\"},{\"line\":{\"color\":\"darkblue\",\"width\":1},\"mode\":\"lines\",\"x\":[0.6386071880364272,-0.13617797378549315],\"y\":[0.13116385461911206,-0.6677698899093224],\"type\":\"scatter\"},{\"line\":{\"color\":\"lightgray\",\"width\":1},\"mode\":\"lines\",\"x\":[-0.9151372576982943,0.7903440977923845],\"y\":[0.15511979920707278,-0.5228755269922652],\"type\":\"scatter\"},{\"line\":{\"color\":\"darkblue\",\"width\":1},\"mode\":\"lines\",\"x\":[0.7845701886498891,0.7903440977923845],\"y\":[-0.4702501081521776,-0.5228755269922652],\"type\":\"scatter\"},{\"line\":{\"color\":\"lightgray\",\"width\":1},\"mode\":\"lines\",\"x\":[-0.7605345776401973,-0.13617797378549315],\"y\":[0.28735490924116186,-0.6677698899093224],\"type\":\"scatter\"},{\"line\":{\"color\":\"darkblue\",\"width\":1},\"mode\":\"lines\",\"x\":[0.7845701886498891,0.3330448392384936],\"y\":[-0.4702501081521776,-0.8340062657872137],\"type\":\"scatter\"},{\"line\":{\"color\":\"lightgray\",\"width\":1},\"mode\":\"lines\",\"x\":[0.20122273875243868,0.2156727182715702],\"y\":[1.0,-0.7887235348795513],\"type\":\"scatter\"},{\"line\":{\"color\":\"darkblue\",\"width\":1},\"mode\":\"lines\",\"x\":[0.3330448392384936,-0.3114456606027594],\"y\":[-0.8340062657872137,-0.6739529679071985],\"type\":\"scatter\"},{\"line\":{\"color\":\"lightgray\",\"width\":1},\"mode\":\"lines\",\"x\":[-0.8569137617363639,0.7845701886498891],\"y\":[0.27702130549198284,-0.4702501081521776],\"type\":\"scatter\"},{\"line\":{\"color\":\"darkblue\",\"width\":1},\"mode\":\"lines\",\"x\":[-0.4782468403548081,0.0856782687952649],\"y\":[0.8192451596907109,0.9124810295755442],\"type\":\"scatter\"},{\"line\":{\"color\":\"lightgray\",\"width\":1},\"mode\":\"lines\",\"x\":[-0.7566061026918331,-0.13617797378549315],\"y\":[0.7987976960830132,-0.6677698899093224],\"type\":\"scatter\"},{\"line\":{\"color\":\"lightgray\",\"width\":1},\"mode\":\"lines\",\"x\":[-0.6004235446281904,0.6108745154405566],\"y\":[0.6370991185146676,-0.5733676800755454],\"type\":\"scatter\"},{\"line\":{\"color\":\"lightgray\",\"width\":1},\"mode\":\"lines\",\"x\":[0.0856782687952649,0.5578103471991686],\"y\":[0.9124810295755442,0.20540946402350227],\"type\":\"scatter\"},{\"line\":{\"color\":\"lightgray\",\"width\":1},\"mode\":\"lines\",\"x\":[-0.21874065182410288,0.8231470249802241],\"y\":[0.9173139322490603,-0.33873032683507903],\"type\":\"scatter\"},{\"line\":{\"color\":\"lightgray\",\"width\":1},\"mode\":\"lines\",\"x\":[0.41841412245343573,0.9227817640400293],\"y\":[0.6013098799193504,0.029458794541957063],\"type\":\"scatter\"},{\"line\":{\"color\":\"darkblue\",\"width\":1},\"mode\":\"lines\",\"x\":[0.20122273875243868,-0.8569137617363639],\"y\":[1.0,0.27702130549198284],\"type\":\"scatter\"},{\"line\":{\"color\":\"darkblue\",\"width\":1},\"mode\":\"lines\",\"x\":[-0.9739462100511188,-0.8960744076451393],\"y\":[0.15588962822060787,-0.12230556515037556],\"type\":\"scatter\"},{\"line\":{\"color\":\"lightgray\",\"width\":1},\"mode\":\"lines\",\"x\":[-0.9255085009862662,0.8231470249802241],\"y\":[0.4156074772474138,-0.33873032683507903],\"type\":\"scatter\"},{\"line\":{\"color\":\"darkblue\",\"width\":1},\"mode\":\"lines\",\"x\":[0.2156727182715702,0.510738532629225],\"y\":[-0.7887235348795513,-0.8112387243894809],\"type\":\"scatter\"},{\"line\":{\"color\":\"darkblue\",\"width\":1},\"mode\":\"lines\",\"x\":[0.6108745154405566,0.8231470249802241],\"y\":[-0.5733676800755454,-0.33873032683507903],\"type\":\"scatter\"},{\"line\":{\"color\":\"darkblue\",\"width\":1},\"mode\":\"lines\",\"x\":[0.7845701886498891,-0.038399276125469936],\"y\":[-0.4702501081521776,-0.8589465139367477],\"type\":\"scatter\"},{\"line\":{\"color\":\"darkblue\",\"width\":1},\"mode\":\"lines\",\"x\":[-0.278231951866899,0.3330448392384936],\"y\":[-0.4788627466713346,-0.8340062657872137],\"type\":\"scatter\"},{\"line\":{\"color\":\"darkblue\",\"width\":1},\"mode\":\"lines\",\"x\":[0.014910717236521208,0.7848921790023624],\"y\":[-0.7726759134396349,-0.2454827409792513],\"type\":\"scatter\"},{\"line\":{\"color\":\"darkblue\",\"width\":1},\"mode\":\"lines\",\"x\":[-0.4782468403548081,-0.8165996085805034],\"y\":[0.8192451596907109,0.5807746769754708],\"type\":\"scatter\"},{\"line\":{\"color\":\"lightgray\",\"width\":1},\"mode\":\"lines\",\"x\":[0.20122273875243868,-0.08629914181214383],\"y\":[1.0,-0.9369339520980161],\"type\":\"scatter\"},{\"line\":{\"color\":\"lightgray\",\"width\":1},\"mode\":\"lines\",\"x\":[-0.7566061026918331,0.7848921790023624],\"y\":[0.7987976960830132,-0.2454827409792513],\"type\":\"scatter\"},{\"line\":{\"color\":\"darkblue\",\"width\":1},\"mode\":\"lines\",\"x\":[0.7650494797310291,0.7314587219711344],\"y\":[0.26190397562901585,-0.6744984707757519],\"type\":\"scatter\"},{\"line\":{\"color\":\"lightgray\",\"width\":1},\"mode\":\"lines\",\"x\":[-0.8569137617363639,0.7650494797310291],\"y\":[0.27702130549198284,0.26190397562901585],\"type\":\"scatter\"},{\"line\":{\"color\":\"lightgray\",\"width\":1},\"mode\":\"lines\",\"x\":[-0.5518346330746787,0.7848921790023624],\"y\":[-0.20347522493435183,-0.2454827409792513],\"type\":\"scatter\"},{\"line\":{\"color\":\"lightgray\",\"width\":1},\"mode\":\"lines\",\"x\":[-0.5518346330746787,0.7650494797310291],\"y\":[-0.20347522493435183,0.26190397562901585],\"type\":\"scatter\"},{\"line\":{\"color\":\"lightgray\",\"width\":1},\"mode\":\"lines\",\"x\":[0.20122273875243868,0.6386071880364272],\"y\":[1.0,0.13116385461911206],\"type\":\"scatter\"},{\"line\":{\"color\":\"darkblue\",\"width\":1},\"mode\":\"lines\",\"x\":[0.8231470249802241,0.2156727182715702],\"y\":[-0.33873032683507903,-0.7887235348795513],\"type\":\"scatter\"},{\"line\":{\"color\":\"darkblue\",\"width\":1},\"mode\":\"lines\",\"x\":[-0.7566061026918331,-0.6004235446281904],\"y\":[0.7987976960830132,0.6370991185146676],\"type\":\"scatter\"},{\"line\":{\"color\":\"darkblue\",\"width\":1},\"mode\":\"lines\",\"x\":[-0.3718304348748292,-0.7605345776401973],\"y\":[0.889405011839641,0.28735490924116186],\"type\":\"scatter\"},{\"line\":{\"color\":\"lightgray\",\"width\":1},\"mode\":\"lines\",\"x\":[-0.3718304348748292,0.7650494797310291],\"y\":[0.889405011839641,0.26190397562901585],\"type\":\"scatter\"},{\"line\":{\"color\":\"darkblue\",\"width\":1},\"mode\":\"lines\",\"x\":[0.07578275185778272,-0.038399276125469936],\"y\":[-0.7227296757790806,-0.8589465139367477],\"type\":\"scatter\"},{\"line\":{\"color\":\"darkblue\",\"width\":1},\"mode\":\"lines\",\"x\":[0.7845701886498891,0.9227817640400293],\"y\":[-0.4702501081521776,0.029458794541957063],\"type\":\"scatter\"},{\"line\":{\"color\":\"darkblue\",\"width\":1},\"mode\":\"lines\",\"x\":[-0.7566061026918331,-0.7605345776401973],\"y\":[0.7987976960830132,0.28735490924116186],\"type\":\"scatter\"},{\"line\":{\"color\":\"darkblue\",\"width\":1},\"mode\":\"lines\",\"x\":[0.41841412245343573,-0.7566061026918331],\"y\":[0.6013098799193504,0.7987976960830132],\"type\":\"scatter\"},{\"line\":{\"color\":\"darkblue\",\"width\":1},\"mode\":\"lines\",\"x\":[0.07578275185778272,0.5578103471991686],\"y\":[-0.7227296757790806,0.20540946402350227],\"type\":\"scatter\"},{\"line\":{\"color\":\"lightgray\",\"width\":1},\"mode\":\"lines\",\"x\":[-0.7605345776401973,0.510738532629225],\"y\":[0.28735490924116186,-0.8112387243894809],\"type\":\"scatter\"},{\"line\":{\"color\":\"darkblue\",\"width\":1},\"mode\":\"lines\",\"x\":[0.6386071880364272,0.9227817640400293],\"y\":[0.13116385461911206,0.029458794541957063],\"type\":\"scatter\"},{\"line\":{\"color\":\"lightgray\",\"width\":1},\"mode\":\"lines\",\"x\":[-0.9151372576982943,-0.038399276125469936],\"y\":[0.15511979920707278,-0.8589465139367477],\"type\":\"scatter\"},{\"line\":{\"color\":\"darkblue\",\"width\":1},\"mode\":\"lines\",\"x\":[0.7650494797310291,0.7845701886498891],\"y\":[0.26190397562901585,-0.4702501081521776],\"type\":\"scatter\"},{\"line\":{\"color\":\"lightgray\",\"width\":1},\"mode\":\"lines\",\"x\":[0.20122273875243868,0.014910717236521208],\"y\":[1.0,-0.7726759134396349],\"type\":\"scatter\"},{\"line\":{\"color\":\"darkblue\",\"width\":1},\"mode\":\"lines\",\"x\":[0.014910717236521208,-0.278231951866899],\"y\":[-0.7726759134396349,-0.4788627466713346],\"type\":\"scatter\"},{\"line\":{\"color\":\"lightgray\",\"width\":1},\"mode\":\"lines\",\"x\":[-0.5518346330746787,0.3330448392384936],\"y\":[-0.20347522493435183,-0.8340062657872137],\"type\":\"scatter\"},{\"line\":{\"color\":\"darkblue\",\"width\":1},\"mode\":\"lines\",\"x\":[-0.4782468403548081,-0.8569137617363639],\"y\":[0.8192451596907109,0.27702130549198284],\"type\":\"scatter\"},{\"line\":{\"color\":\"darkblue\",\"width\":1},\"mode\":\"lines\",\"x\":[0.014910717236521208,-0.038399276125469936],\"y\":[-0.7726759134396349,-0.8589465139367477],\"type\":\"scatter\"},{\"line\":{\"color\":\"lightgray\",\"width\":1},\"mode\":\"lines\",\"x\":[-0.8569137617363639,0.014910717236521208],\"y\":[0.27702130549198284,-0.7726759134396349],\"type\":\"scatter\"},{\"line\":{\"color\":\"lightgray\",\"width\":1},\"mode\":\"lines\",\"x\":[-0.3718304348748292,0.2156727182715702],\"y\":[0.889405011839641,-0.7887235348795513],\"type\":\"scatter\"},{\"line\":{\"color\":\"lightgray\",\"width\":1},\"mode\":\"lines\",\"x\":[-0.8165996085805034,-0.038399276125469936],\"y\":[0.5807746769754708,-0.8589465139367477],\"type\":\"scatter\"},{\"line\":{\"color\":\"darkblue\",\"width\":1},\"mode\":\"lines\",\"x\":[-0.6140937175337806,-0.7082756557903018],\"y\":[0.8892790315579895,0.6253190923496244],\"type\":\"scatter\"},{\"line\":{\"color\":\"lightgray\",\"width\":1},\"mode\":\"lines\",\"x\":[0.41841412245343573,-0.278231951866899],\"y\":[0.6013098799193504,-0.4788627466713346],\"type\":\"scatter\"},{\"line\":{\"color\":\"darkblue\",\"width\":1},\"mode\":\"lines\",\"x\":[0.7013791398643786,0.7314587219711344],\"y\":[-0.594040447917239,-0.6744984707757519],\"type\":\"scatter\"},{\"line\":{\"color\":\"lightgray\",\"width\":1},\"mode\":\"lines\",\"x\":[-0.9739462100511188,-0.08629914181214383],\"y\":[0.15588962822060787,-0.9369339520980161],\"type\":\"scatter\"},{\"line\":{\"color\":\"darkblue\",\"width\":1},\"mode\":\"lines\",\"x\":[0.0856782687952649,-0.5518346330746787],\"y\":[0.9124810295755442,-0.20347522493435183],\"type\":\"scatter\"},{\"line\":{\"color\":\"lightgray\",\"width\":1},\"mode\":\"lines\",\"x\":[0.41841412245343573,0.8231470249802241],\"y\":[0.6013098799193504,-0.33873032683507903],\"type\":\"scatter\"},{\"line\":{\"color\":\"darkblue\",\"width\":1},\"mode\":\"lines\",\"x\":[-0.278231951866899,0.5578103471991686],\"y\":[-0.4788627466713346,0.20540946402350227],\"type\":\"scatter\"},{\"line\":{\"color\":\"lightgray\",\"width\":1},\"mode\":\"lines\",\"x\":[-0.7566061026918331,0.821946468210322],\"y\":[0.7987976960830132,-0.5376566668384067],\"type\":\"scatter\"},{\"line\":{\"color\":\"lightgray\",\"width\":1},\"mode\":\"lines\",\"x\":[-0.8165996085805034,0.014910717236521208],\"y\":[0.5807746769754708,-0.7726759134396349],\"type\":\"scatter\"},{\"line\":{\"color\":\"darkblue\",\"width\":1},\"mode\":\"lines\",\"x\":[0.07578275185778272,0.7848921790023624],\"y\":[-0.7227296757790806,-0.2454827409792513],\"type\":\"scatter\"},{\"line\":{\"color\":\"lightgray\",\"width\":1},\"mode\":\"lines\",\"x\":[-0.8960744076451393,0.5578103471991686],\"y\":[-0.12230556515037556,0.20540946402350227],\"type\":\"scatter\"},{\"line\":{\"color\":\"darkblue\",\"width\":1},\"mode\":\"lines\",\"x\":[-0.6004235446281904,-0.8569137617363639],\"y\":[0.6370991185146676,0.27702130549198284],\"type\":\"scatter\"},{\"line\":{\"color\":\"darkblue\",\"width\":1},\"mode\":\"lines\",\"x\":[0.3341323589999464,-0.5518346330746787],\"y\":[0.6276510584927125,-0.20347522493435183],\"type\":\"scatter\"},{\"line\":{\"color\":\"lightgray\",\"width\":1},\"mode\":\"lines\",\"x\":[-0.5518346330746787,0.7013791398643786],\"y\":[-0.20347522493435183,-0.594040447917239],\"type\":\"scatter\"},{\"line\":{\"color\":\"darkblue\",\"width\":1},\"mode\":\"lines\",\"x\":[-0.3718304348748292,-0.9151372576982943],\"y\":[0.889405011839641,0.15511979920707278],\"type\":\"scatter\"},{\"line\":{\"color\":\"lightgray\",\"width\":1},\"mode\":\"lines\",\"x\":[-0.8569137617363639,0.7848921790023624],\"y\":[0.27702130549198284,-0.2454827409792513],\"type\":\"scatter\"},{\"line\":{\"color\":\"lightgray\",\"width\":1},\"mode\":\"lines\",\"x\":[-0.8165996085805034,0.821946468210322],\"y\":[0.5807746769754708,-0.5376566668384067],\"type\":\"scatter\"},{\"line\":{\"color\":\"darkblue\",\"width\":1},\"mode\":\"lines\",\"x\":[0.0856782687952649,-0.8569137617363639],\"y\":[0.9124810295755442,0.27702130549198284],\"type\":\"scatter\"},{\"line\":{\"color\":\"darkblue\",\"width\":1},\"mode\":\"lines\",\"x\":[-0.6140937175337806,-0.6004235446281904],\"y\":[0.8892790315579895,0.6370991185146676],\"type\":\"scatter\"},{\"line\":{\"color\":\"lightgray\",\"width\":1},\"mode\":\"lines\",\"x\":[-0.5518346330746787,0.3330448392384936],\"y\":[-0.20347522493435183,-0.8340062657872137],\"type\":\"scatter\"},{\"line\":{\"color\":\"darkblue\",\"width\":1},\"mode\":\"lines\",\"x\":[-0.9255085009862662,-0.6004235446281904],\"y\":[0.4156074772474138,0.6370991185146676],\"type\":\"scatter\"},{\"line\":{\"color\":\"darkblue\",\"width\":1},\"mode\":\"lines\",\"x\":[0.0856782687952649,-0.7082756557903018],\"y\":[0.9124810295755442,0.6253190923496244],\"type\":\"scatter\"},{\"line\":{\"color\":\"darkblue\",\"width\":1},\"mode\":\"lines\",\"x\":[0.9227817640400293,0.7848921790023624],\"y\":[0.029458794541957063,-0.2454827409792513],\"type\":\"scatter\"},{\"line\":{\"color\":\"lightgray\",\"width\":1},\"mode\":\"lines\",\"x\":[-0.21874065182410288,0.07578275185778272],\"y\":[0.9173139322490603,-0.7227296757790806],\"type\":\"scatter\"},{\"line\":{\"color\":\"lightgray\",\"width\":1},\"mode\":\"lines\",\"x\":[-0.6140937175337806,0.7650494797310291],\"y\":[0.8892790315579895,0.26190397562901585],\"type\":\"scatter\"},{\"line\":{\"color\":\"darkblue\",\"width\":1},\"mode\":\"lines\",\"x\":[0.6108745154405566,0.7314587219711344],\"y\":[-0.5733676800755454,-0.6744984707757519],\"type\":\"scatter\"},{\"line\":{\"color\":\"darkblue\",\"width\":1},\"mode\":\"lines\",\"x\":[0.41841412245343573,0.20122273875243868],\"y\":[0.6013098799193504,1.0],\"type\":\"scatter\"},{\"line\":{\"color\":\"lightgray\",\"width\":1},\"mode\":\"lines\",\"x\":[0.0856782687952649,0.3330448392384936],\"y\":[0.9124810295755442,-0.8340062657872137],\"type\":\"scatter\"},{\"line\":{\"color\":\"lightgray\",\"width\":1},\"mode\":\"lines\",\"x\":[0.41841412245343573,0.7848921790023624],\"y\":[0.6013098799193504,-0.2454827409792513],\"type\":\"scatter\"},{\"line\":{\"color\":\"lightgray\",\"width\":1},\"mode\":\"lines\",\"x\":[-0.8165996085805034,0.7013791398643786],\"y\":[0.5807746769754708,-0.594040447917239],\"type\":\"scatter\"},{\"line\":{\"color\":\"lightgray\",\"width\":1},\"mode\":\"lines\",\"x\":[-0.8960744076451393,-0.3114456606027594],\"y\":[-0.12230556515037556,-0.6739529679071985],\"type\":\"scatter\"},{\"line\":{\"color\":\"lightgray\",\"width\":1},\"mode\":\"lines\",\"x\":[-0.9739462100511188,0.7845701886498891],\"y\":[0.15588962822060787,-0.4702501081521776],\"type\":\"scatter\"},{\"line\":{\"color\":\"darkblue\",\"width\":1},\"mode\":\"lines\",\"x\":[0.07578275185778272,0.2156727182715702],\"y\":[-0.7227296757790806,-0.7887235348795513],\"type\":\"scatter\"},{\"line\":{\"color\":\"darkblue\",\"width\":1},\"mode\":\"lines\",\"x\":[-0.7566061026918331,-0.9151372576982943],\"y\":[0.7987976960830132,0.15511979920707278],\"type\":\"scatter\"},{\"line\":{\"color\":\"darkblue\",\"width\":1},\"mode\":\"lines\",\"x\":[0.7013791398643786,0.7903440977923845],\"y\":[-0.594040447917239,-0.5228755269922652],\"type\":\"scatter\"},{\"line\":{\"color\":\"darkblue\",\"width\":1},\"mode\":\"lines\",\"x\":[-0.6140937175337806,0.3341323589999464],\"y\":[0.8892790315579895,0.6276510584927125],\"type\":\"scatter\"},{\"line\":{\"color\":\"lightgray\",\"width\":1},\"mode\":\"lines\",\"x\":[0.17286174615058908,0.7314587219711344],\"y\":[0.6109180479784145,-0.6744984707757519],\"type\":\"scatter\"},{\"line\":{\"color\":\"darkblue\",\"width\":1},\"mode\":\"lines\",\"x\":[0.7650494797310291,0.9227817640400293],\"y\":[0.26190397562901585,0.029458794541957063],\"type\":\"scatter\"},{\"line\":{\"color\":\"darkblue\",\"width\":1},\"mode\":\"lines\",\"x\":[0.014910717236521208,0.6108745154405566],\"y\":[-0.7726759134396349,-0.5733676800755454],\"type\":\"scatter\"},{\"line\":{\"color\":\"darkblue\",\"width\":1},\"mode\":\"lines\",\"x\":[0.014910717236521208,0.2156727182715702],\"y\":[-0.7726759134396349,-0.7887235348795513],\"type\":\"scatter\"},{\"line\":{\"color\":\"lightgray\",\"width\":1},\"mode\":\"lines\",\"x\":[-0.6004235446281904,0.7650494797310291],\"y\":[0.6370991185146676,0.26190397562901585],\"type\":\"scatter\"},{\"line\":{\"color\":\"lightgray\",\"width\":1},\"mode\":\"lines\",\"x\":[-0.6004235446281904,0.7314587219711344],\"y\":[0.6370991185146676,-0.6744984707757519],\"type\":\"scatter\"},{\"line\":{\"color\":\"darkblue\",\"width\":1},\"mode\":\"lines\",\"x\":[-0.7082756557903018,0.20122273875243868],\"y\":[0.6253190923496244,1.0],\"type\":\"scatter\"},{\"line\":{\"color\":\"darkblue\",\"width\":1},\"mode\":\"lines\",\"x\":[0.014910717236521208,0.3330448392384936],\"y\":[-0.7726759134396349,-0.8340062657872137],\"type\":\"scatter\"},{\"line\":{\"color\":\"lightgray\",\"width\":1},\"mode\":\"lines\",\"x\":[-0.5518346330746787,0.07578275185778272],\"y\":[-0.20347522493435183,-0.7227296757790806],\"type\":\"scatter\"},{\"line\":{\"color\":\"darkblue\",\"width\":1},\"mode\":\"lines\",\"x\":[-0.5518346330746787,-0.7605345776401973],\"y\":[-0.20347522493435183,0.28735490924116186],\"type\":\"scatter\"},{\"line\":{\"color\":\"darkblue\",\"width\":1},\"mode\":\"lines\",\"x\":[0.510738532629225,-0.13617797378549315],\"y\":[-0.8112387243894809,-0.6677698899093224],\"type\":\"scatter\"},{\"line\":{\"color\":\"darkblue\",\"width\":1},\"mode\":\"lines\",\"x\":[0.6108745154405566,-0.278231951866899],\"y\":[-0.5733676800755454,-0.4788627466713346],\"type\":\"scatter\"},{\"line\":{\"color\":\"lightgray\",\"width\":1},\"mode\":\"lines\",\"x\":[-0.7082756557903018,-0.278231951866899],\"y\":[0.6253190923496244,-0.4788627466713346],\"type\":\"scatter\"},{\"line\":{\"color\":\"lightgray\",\"width\":1},\"mode\":\"lines\",\"x\":[-0.9739462100511188,0.510738532629225],\"y\":[0.15588962822060787,-0.8112387243894809],\"type\":\"scatter\"},{\"line\":{\"color\":\"lightgray\",\"width\":1},\"mode\":\"lines\",\"x\":[0.0856782687952649,-0.08629914181214383],\"y\":[0.9124810295755442,-0.9369339520980161],\"type\":\"scatter\"},{\"line\":{\"color\":\"lightgray\",\"width\":1},\"mode\":\"lines\",\"x\":[0.20122273875243868,0.821946468210322],\"y\":[1.0,-0.5376566668384067],\"type\":\"scatter\"},{\"line\":{\"color\":\"darkblue\",\"width\":1},\"mode\":\"lines\",\"x\":[0.014910717236521208,0.5578103471991686],\"y\":[-0.7726759134396349,0.20540946402350227],\"type\":\"scatter\"},{\"line\":{\"color\":\"lightgray\",\"width\":1},\"mode\":\"lines\",\"x\":[-0.3718304348748292,0.6108745154405566],\"y\":[0.889405011839641,-0.5733676800755454],\"type\":\"scatter\"},{\"line\":{\"color\":\"lightgray\",\"width\":1},\"mode\":\"lines\",\"x\":[-0.6004235446281904,0.821946468210322],\"y\":[0.6370991185146676,-0.5376566668384067],\"type\":\"scatter\"},{\"line\":{\"color\":\"lightgray\",\"width\":1},\"mode\":\"lines\",\"x\":[-0.5518346330746787,-0.08629914181214383],\"y\":[-0.20347522493435183,-0.9369339520980161],\"type\":\"scatter\"},{\"line\":{\"color\":\"darkblue\",\"width\":1},\"mode\":\"lines\",\"x\":[0.6108745154405566,-0.08629914181214383],\"y\":[-0.5733676800755454,-0.9369339520980161],\"type\":\"scatter\"},{\"line\":{\"color\":\"darkblue\",\"width\":1},\"mode\":\"lines\",\"x\":[0.07578275185778272,0.510738532629225],\"y\":[-0.7227296757790806,-0.8112387243894809],\"type\":\"scatter\"},{\"line\":{\"color\":\"lightgray\",\"width\":1},\"mode\":\"lines\",\"x\":[-0.4782468403548081,0.7650494797310291],\"y\":[0.8192451596907109,0.26190397562901585],\"type\":\"scatter\"},{\"line\":{\"color\":\"lightgray\",\"width\":1},\"mode\":\"lines\",\"x\":[0.20122273875243868,0.7848921790023624],\"y\":[1.0,-0.2454827409792513],\"type\":\"scatter\"},{\"line\":{\"color\":\"darkblue\",\"width\":1},\"mode\":\"lines\",\"x\":[-0.3718304348748292,0.20122273875243868],\"y\":[0.889405011839641,1.0],\"type\":\"scatter\"},{\"line\":{\"color\":\"darkblue\",\"width\":1},\"mode\":\"lines\",\"x\":[0.41841412245343573,-0.4782468403548081],\"y\":[0.6013098799193504,0.8192451596907109],\"type\":\"scatter\"},{\"line\":{\"color\":\"darkblue\",\"width\":1},\"mode\":\"lines\",\"x\":[0.2156727182715702,0.5578103471991686],\"y\":[-0.7887235348795513,0.20540946402350227],\"type\":\"scatter\"},{\"line\":{\"color\":\"lightgray\",\"width\":1},\"mode\":\"lines\",\"x\":[0.20122273875243868,0.5578103471991686],\"y\":[1.0,0.20540946402350227],\"type\":\"scatter\"},{\"line\":{\"color\":\"lightgray\",\"width\":1},\"mode\":\"lines\",\"x\":[-0.6140937175337806,-0.08629914181214383],\"y\":[0.8892790315579895,-0.9369339520980161],\"type\":\"scatter\"},{\"line\":{\"color\":\"darkblue\",\"width\":1},\"mode\":\"lines\",\"x\":[-0.7566061026918331,-0.7082756557903018],\"y\":[0.7987976960830132,0.6253190923496244],\"type\":\"scatter\"},{\"line\":{\"color\":\"lightgray\",\"width\":1},\"mode\":\"lines\",\"x\":[0.41841412245343573,-0.038399276125469936],\"y\":[0.6013098799193504,-0.8589465139367477],\"type\":\"scatter\"},{\"line\":{\"color\":\"darkblue\",\"width\":1},\"mode\":\"lines\",\"x\":[0.7013791398643786,0.7845701886498891],\"y\":[-0.594040447917239,-0.4702501081521776],\"type\":\"scatter\"},{\"line\":{\"color\":\"lightgray\",\"width\":1},\"mode\":\"lines\",\"x\":[-0.8165996085805034,0.7848921790023624],\"y\":[0.5807746769754708,-0.2454827409792513],\"type\":\"scatter\"},{\"line\":{\"color\":\"darkblue\",\"width\":1},\"mode\":\"lines\",\"x\":[0.3341323589999464,-0.6004235446281904],\"y\":[0.6276510584927125,0.6370991185146676],\"type\":\"scatter\"},{\"line\":{\"color\":\"darkblue\",\"width\":1},\"mode\":\"lines\",\"x\":[-0.5518346330746787,-0.9151372576982943],\"y\":[-0.20347522493435183,0.15511979920707278],\"type\":\"scatter\"},{\"line\":{\"color\":\"lightgray\",\"width\":1},\"mode\":\"lines\",\"x\":[-0.8960744076451393,0.7013791398643786],\"y\":[-0.12230556515037556,-0.594040447917239],\"type\":\"scatter\"},{\"line\":{\"color\":\"darkblue\",\"width\":1},\"mode\":\"lines\",\"x\":[-0.4782468403548081,-0.8960744076451393],\"y\":[0.8192451596907109,-0.12230556515037556],\"type\":\"scatter\"},{\"line\":{\"color\":\"lightgray\",\"width\":1},\"mode\":\"lines\",\"x\":[0.17286174615058908,0.2156727182715702],\"y\":[0.6109180479784145,-0.7887235348795513],\"type\":\"scatter\"},{\"line\":{\"color\":\"lightgray\",\"width\":1},\"mode\":\"lines\",\"x\":[0.20122273875243868,0.510738532629225],\"y\":[1.0,-0.8112387243894809],\"type\":\"scatter\"},{\"line\":{\"color\":\"lightgray\",\"width\":1},\"mode\":\"lines\",\"x\":[0.17286174615058908,-0.3114456606027594],\"y\":[0.6109180479784145,-0.6739529679071985],\"type\":\"scatter\"},{\"line\":{\"color\":\"darkblue\",\"width\":1},\"mode\":\"lines\",\"x\":[0.7013791398643786,0.6108745154405566],\"y\":[-0.594040447917239,-0.5733676800755454],\"type\":\"scatter\"},{\"line\":{\"color\":\"lightgray\",\"width\":1},\"mode\":\"lines\",\"x\":[-0.7566061026918331,0.7903440977923845],\"y\":[0.7987976960830132,-0.5228755269922652],\"type\":\"scatter\"},{\"line\":{\"color\":\"darkblue\",\"width\":1},\"mode\":\"lines\",\"x\":[0.41841412245343573,-0.21874065182410288],\"y\":[0.6013098799193504,0.9173139322490603],\"type\":\"scatter\"},{\"line\":{\"color\":\"lightgray\",\"width\":1},\"mode\":\"lines\",\"x\":[-0.6004235446281904,-0.13617797378549315],\"y\":[0.6370991185146676,-0.6677698899093224],\"type\":\"scatter\"},{\"line\":{\"color\":\"lightgray\",\"width\":1},\"mode\":\"lines\",\"x\":[-0.9151372576982943,0.7650494797310291],\"y\":[0.15511979920707278,0.26190397562901585],\"type\":\"scatter\"},{\"line\":{\"color\":\"darkblue\",\"width\":1},\"mode\":\"lines\",\"x\":[-0.3718304348748292,-0.8165996085805034],\"y\":[0.889405011839641,0.5807746769754708],\"type\":\"scatter\"},{\"line\":{\"color\":\"lightgray\",\"width\":1},\"mode\":\"lines\",\"x\":[-0.7082756557903018,0.5578103471991686],\"y\":[0.6253190923496244,0.20540946402350227],\"type\":\"scatter\"},{\"line\":{\"color\":\"darkblue\",\"width\":1},\"mode\":\"lines\",\"x\":[-0.9739462100511188,-0.7566061026918331],\"y\":[0.15588962822060787,0.7987976960830132],\"type\":\"scatter\"},{\"line\":{\"color\":\"darkblue\",\"width\":1},\"mode\":\"lines\",\"x\":[0.8231470249802241,-0.13617797378549315],\"y\":[-0.33873032683507903,-0.6677698899093224],\"type\":\"scatter\"},{\"line\":{\"color\":\"darkblue\",\"width\":1},\"mode\":\"lines\",\"x\":[-0.08629914181214383,0.7903440977923845],\"y\":[-0.9369339520980161,-0.5228755269922652],\"type\":\"scatter\"},{\"line\":{\"color\":\"darkblue\",\"width\":1},\"mode\":\"lines\",\"x\":[-0.9255085009862662,-0.5518346330746787],\"y\":[0.4156074772474138,-0.20347522493435183],\"type\":\"scatter\"},{\"line\":{\"color\":\"darkblue\",\"width\":1},\"mode\":\"lines\",\"x\":[0.6108745154405566,0.9227817640400293],\"y\":[-0.5733676800755454,0.029458794541957063],\"type\":\"scatter\"},{\"line\":{\"color\":\"darkblue\",\"width\":1},\"mode\":\"lines\",\"x\":[-0.8165996085805034,-0.9151372576982943],\"y\":[0.5807746769754708,0.15511979920707278],\"type\":\"scatter\"},{\"line\":{\"color\":\"darkblue\",\"width\":1},\"mode\":\"lines\",\"x\":[0.5578103471991686,-0.08629914181214383],\"y\":[0.20540946402350227,-0.9369339520980161],\"type\":\"scatter\"},{\"line\":{\"color\":\"lightgray\",\"width\":1},\"mode\":\"lines\",\"x\":[-0.8165996085805034,0.5578103471991686],\"y\":[0.5807746769754708,0.20540946402350227],\"type\":\"scatter\"},{\"line\":{\"color\":\"darkblue\",\"width\":1},\"mode\":\"lines\",\"x\":[0.8231470249802241,0.3330448392384936],\"y\":[-0.33873032683507903,-0.8340062657872137],\"type\":\"scatter\"},{\"line\":{\"color\":\"darkblue\",\"width\":1},\"mode\":\"lines\",\"x\":[-0.7082756557903018,-0.6004235446281904],\"y\":[0.6253190923496244,0.6370991185146676],\"type\":\"scatter\"},{\"line\":{\"color\":\"lightgray\",\"width\":1},\"mode\":\"lines\",\"x\":[0.20122273875243868,0.7903440977923845],\"y\":[1.0,-0.5228755269922652],\"type\":\"scatter\"},{\"line\":{\"color\":\"darkblue\",\"width\":1},\"mode\":\"lines\",\"x\":[0.821946468210322,-0.08629914181214383],\"y\":[-0.5376566668384067,-0.9369339520980161],\"type\":\"scatter\"},{\"line\":{\"color\":\"lightgray\",\"width\":1},\"mode\":\"lines\",\"x\":[0.20122273875243868,-0.3114456606027594],\"y\":[1.0,-0.6739529679071985],\"type\":\"scatter\"},{\"line\":{\"color\":\"lightgray\",\"width\":1},\"mode\":\"lines\",\"x\":[-0.5518346330746787,0.5578103471991686],\"y\":[-0.20347522493435183,0.20540946402350227],\"type\":\"scatter\"},{\"line\":{\"color\":\"lightgray\",\"width\":1},\"mode\":\"lines\",\"x\":[-0.9739462100511188,0.8231470249802241],\"y\":[0.15588962822060787,-0.33873032683507903],\"type\":\"scatter\"},{\"line\":{\"color\":\"darkblue\",\"width\":1},\"mode\":\"lines\",\"x\":[0.7013791398643786,-0.278231951866899],\"y\":[-0.594040447917239,-0.4788627466713346],\"type\":\"scatter\"},{\"line\":{\"color\":\"lightgray\",\"width\":1},\"mode\":\"lines\",\"x\":[-0.6004235446281904,0.8231470249802241],\"y\":[0.6370991185146676,-0.33873032683507903],\"type\":\"scatter\"},{\"line\":{\"color\":\"lightgray\",\"width\":1},\"mode\":\"lines\",\"x\":[-0.5518346330746787,-0.3114456606027594],\"y\":[-0.20347522493435183,-0.6739529679071985],\"type\":\"scatter\"},{\"line\":{\"color\":\"lightgray\",\"width\":1},\"mode\":\"lines\",\"x\":[-0.5518346330746787,0.2156727182715702],\"y\":[-0.20347522493435183,-0.7887235348795513],\"type\":\"scatter\"},{\"line\":{\"color\":\"lightgray\",\"width\":1},\"mode\":\"lines\",\"x\":[-0.8165996085805034,-0.13617797378549315],\"y\":[0.5807746769754708,-0.6677698899093224],\"type\":\"scatter\"},{\"line\":{\"color\":\"darkblue\",\"width\":1},\"mode\":\"lines\",\"x\":[-0.6140937175337806,-0.9151372576982943],\"y\":[0.8892790315579895,0.15511979920707278],\"type\":\"scatter\"},{\"line\":{\"color\":\"lightgray\",\"width\":1},\"mode\":\"lines\",\"x\":[-0.5518346330746787,0.5578103471991686],\"y\":[-0.20347522493435183,0.20540946402350227],\"type\":\"scatter\"},{\"line\":{\"color\":\"lightgray\",\"width\":1},\"mode\":\"lines\",\"x\":[0.20122273875243868,0.9227817640400293],\"y\":[1.0,0.029458794541957063],\"type\":\"scatter\"},{\"line\":{\"color\":\"darkblue\",\"width\":1},\"mode\":\"lines\",\"x\":[0.7314587219711344,0.2156727182715702],\"y\":[-0.6744984707757519,-0.7887235348795513],\"type\":\"scatter\"},{\"line\":{\"color\":\"darkblue\",\"width\":1},\"mode\":\"lines\",\"x\":[0.7650494797310291,-0.038399276125469936],\"y\":[0.26190397562901585,-0.8589465139367477],\"type\":\"scatter\"},{\"line\":{\"color\":\"darkblue\",\"width\":1},\"mode\":\"lines\",\"x\":[-0.7082756557903018,-0.8569137617363639],\"y\":[0.6253190923496244,0.27702130549198284],\"type\":\"scatter\"},{\"line\":{\"color\":\"lightgray\",\"width\":1},\"mode\":\"lines\",\"x\":[0.41841412245343573,0.014910717236521208],\"y\":[0.6013098799193504,-0.7726759134396349],\"type\":\"scatter\"},{\"line\":{\"color\":\"lightgray\",\"width\":1},\"mode\":\"lines\",\"x\":[-0.6004235446281904,0.7848921790023624],\"y\":[0.6370991185146676,-0.2454827409792513],\"type\":\"scatter\"},{\"line\":{\"color\":\"lightgray\",\"width\":1},\"mode\":\"lines\",\"x\":[-0.5518346330746787,0.014910717236521208],\"y\":[-0.20347522493435183,-0.7726759134396349],\"type\":\"scatter\"},{\"line\":{\"color\":\"lightgray\",\"width\":1},\"mode\":\"lines\",\"x\":[0.0856782687952649,-0.3114456606027594],\"y\":[0.9124810295755442,-0.6739529679071985],\"type\":\"scatter\"},{\"line\":{\"color\":\"lightgray\",\"width\":1},\"mode\":\"lines\",\"x\":[-0.7082756557903018,0.510738532629225],\"y\":[0.6253190923496244,-0.8112387243894809],\"type\":\"scatter\"},{\"line\":{\"color\":\"lightgray\",\"width\":1},\"mode\":\"lines\",\"x\":[-0.9739462100511188,0.7314587219711344],\"y\":[0.15588962822060787,-0.6744984707757519],\"type\":\"scatter\"},{\"line\":{\"color\":\"darkblue\",\"width\":1},\"mode\":\"lines\",\"x\":[-0.3718304348748292,0.3341323589999464],\"y\":[0.889405011839641,0.6276510584927125],\"type\":\"scatter\"},{\"line\":{\"color\":\"darkblue\",\"width\":1},\"mode\":\"lines\",\"x\":[0.7845701886498891,-0.08629914181214383],\"y\":[-0.4702501081521776,-0.9369339520980161],\"type\":\"scatter\"},{\"line\":{\"color\":\"lightgray\",\"width\":1},\"mode\":\"lines\",\"x\":[-0.3718304348748292,-0.08629914181214383],\"y\":[0.889405011839641,-0.9369339520980161],\"type\":\"scatter\"},{\"line\":{\"color\":\"lightgray\",\"width\":1},\"mode\":\"lines\",\"x\":[-0.8165996085805034,0.07578275185778272],\"y\":[0.5807746769754708,-0.7227296757790806],\"type\":\"scatter\"},{\"line\":{\"color\":\"lightgray\",\"width\":1},\"mode\":\"lines\",\"x\":[0.17286174615058908,0.9227817640400293],\"y\":[0.6109180479784145,0.029458794541957063],\"type\":\"scatter\"},{\"line\":{\"color\":\"darkblue\",\"width\":1},\"mode\":\"lines\",\"x\":[0.07578275185778272,-0.3114456606027594],\"y\":[-0.7227296757790806,-0.6739529679071985],\"type\":\"scatter\"},{\"line\":{\"color\":\"lightgray\",\"width\":1},\"mode\":\"lines\",\"x\":[-0.6004235446281904,0.9227817640400293],\"y\":[0.6370991185146676,0.029458794541957063],\"type\":\"scatter\"},{\"line\":{\"color\":\"lightgray\",\"width\":1},\"mode\":\"lines\",\"x\":[-0.9255085009862662,-0.038399276125469936],\"y\":[0.4156074772474138,-0.8589465139367477],\"type\":\"scatter\"},{\"line\":{\"color\":\"darkblue\",\"width\":1},\"mode\":\"lines\",\"x\":[0.0856782687952649,0.17286174615058908],\"y\":[0.9124810295755442,0.6109180479784145],\"type\":\"scatter\"},{\"line\":{\"color\":\"lightgray\",\"width\":1},\"mode\":\"lines\",\"x\":[-0.9255085009862662,0.5578103471991686],\"y\":[0.4156074772474138,0.20540946402350227],\"type\":\"scatter\"},{\"line\":{\"color\":\"darkblue\",\"width\":1},\"mode\":\"lines\",\"x\":[0.821946468210322,-0.038399276125469936],\"y\":[-0.5376566668384067,-0.8589465139367477],\"type\":\"scatter\"},{\"line\":{\"color\":\"darkblue\",\"width\":1},\"mode\":\"lines\",\"x\":[-0.4782468403548081,-0.9151372576982943],\"y\":[0.8192451596907109,0.15511979920707278],\"type\":\"scatter\"},{\"line\":{\"color\":\"lightgray\",\"width\":1},\"mode\":\"lines\",\"x\":[-0.8960744076451393,0.821946468210322],\"y\":[-0.12230556515037556,-0.5376566668384067],\"type\":\"scatter\"},{\"line\":{\"color\":\"darkblue\",\"width\":1},\"mode\":\"lines\",\"x\":[-0.4782468403548081,-0.7566061026918331],\"y\":[0.8192451596907109,0.7987976960830132],\"type\":\"scatter\"},{\"line\":{\"color\":\"darkblue\",\"width\":1},\"mode\":\"lines\",\"x\":[-0.5518346330746787,-0.6004235446281904],\"y\":[-0.20347522493435183,0.6370991185146676],\"type\":\"scatter\"},{\"line\":{\"color\":\"lightgray\",\"width\":1},\"mode\":\"lines\",\"x\":[0.17286174615058908,0.7650494797310291],\"y\":[0.6109180479784145,0.26190397562901585],\"type\":\"scatter\"},{\"line\":{\"color\":\"darkblue\",\"width\":1},\"mode\":\"lines\",\"x\":[-0.7566061026918331,0.20122273875243868],\"y\":[0.7987976960830132,1.0],\"type\":\"scatter\"},{\"line\":{\"color\":\"lightgray\",\"width\":1},\"mode\":\"lines\",\"x\":[-0.5518346330746787,0.6386071880364272],\"y\":[-0.20347522493435183,0.13116385461911206],\"type\":\"scatter\"},{\"line\":{\"color\":\"lightgray\",\"width\":1},\"mode\":\"lines\",\"x\":[-0.4782468403548081,-0.08629914181214383],\"y\":[0.8192451596907109,-0.9369339520980161],\"type\":\"scatter\"},{\"line\":{\"color\":\"lightgray\",\"width\":1},\"mode\":\"lines\",\"x\":[-0.9151372576982943,0.5578103471991686],\"y\":[0.15511979920707278,0.20540946402350227],\"type\":\"scatter\"},{\"line\":{\"color\":\"darkblue\",\"width\":1},\"mode\":\"lines\",\"x\":[0.41841412245343573,-0.6004235446281904],\"y\":[0.6013098799193504,0.6370991185146676],\"type\":\"scatter\"},{\"line\":{\"color\":\"lightgray\",\"width\":1},\"mode\":\"lines\",\"x\":[-0.6004235446281904,0.6386071880364272],\"y\":[0.6370991185146676,0.13116385461911206],\"type\":\"scatter\"},{\"line\":{\"color\":\"lightgray\",\"width\":1},\"mode\":\"lines\",\"x\":[-0.6140937175337806,0.7314587219711344],\"y\":[0.8892790315579895,-0.6744984707757519],\"type\":\"scatter\"},{\"line\":{\"color\":\"lightgray\",\"width\":1},\"mode\":\"lines\",\"x\":[-0.4782468403548081,0.07578275185778272],\"y\":[0.8192451596907109,-0.7227296757790806],\"type\":\"scatter\"},{\"line\":{\"color\":\"lightgray\",\"width\":1},\"mode\":\"lines\",\"x\":[-0.7082756557903018,0.3330448392384936],\"y\":[0.6253190923496244,-0.8340062657872137],\"type\":\"scatter\"},{\"line\":{\"color\":\"darkblue\",\"width\":1},\"mode\":\"lines\",\"x\":[0.7314587219711344,0.9227817640400293],\"y\":[-0.6744984707757519,0.029458794541957063],\"type\":\"scatter\"},{\"line\":{\"color\":\"lightgray\",\"width\":1},\"mode\":\"lines\",\"x\":[0.3341323589999464,0.6386071880364272],\"y\":[0.6276510584927125,0.13116385461911206],\"type\":\"scatter\"},{\"line\":{\"color\":\"darkblue\",\"width\":1},\"mode\":\"lines\",\"x\":[-0.4782468403548081,-0.5518346330746787],\"y\":[0.8192451596907109,-0.20347522493435183],\"type\":\"scatter\"},{\"hoverinfo\":\"text\",\"marker\":{\"color\":[0,0,1,1,0,0,0,1,1,0,0,1,0,1,1,1,0,1,0,0,1,1,1,0,0,1,0,0,0,0,1,1,0,1,1,1,1,1,1,0,1,0],\"colorbar\":{\"thickness\":15,\"title\":{\"side\":\"right\",\"text\":\"Side\"},\"xanchor\":\"left\"},\"colorscale\":[[0.0,\"rgb(0, 155, 158)\"],[0.16666666666666666,\"rgb(66, 183, 185)\"],[0.3333333333333333,\"rgb(167, 211, 212)\"],[0.5,\"rgb(241, 241, 241)\"],[0.6666666666666666,\"rgb(228, 193, 217)\"],[0.8333333333333334,\"rgb(214, 145, 193)\"],[1.0,\"rgb(199, 93, 171)\"]],\"line\":{\"width\":2},\"showscale\":true,\"size\":10},\"mode\":\"markers\",\"text\":[\"Dolores Umbridge\",\"Bellatrix Lestrange\",\"Cedric Diggory\",\"Nearly Headless Nick\",\"Narcissa Malfoy\",\"Severus Snape\",\"Lucius Malfoy\",\"Cho Chang\",\"Molly Weasley\",\"Aragog\",\"Morfin Gaunt\",\"Dobby\",\"Quirinus Quirrell\",\"Lee Jordan\",\"Sirius Black\",\"Alastor Moody\",\"Gregory Goyle\",\"Fleur Delacour\",\"Gellert Grindelwald\",\"Barty Crouch Jr.\",\"George Weasley\",\"Remus Lupin\",\"Professor Albus Dumbledore\",\"Draco Malfoy\",\"Vincent Crabbe\",\"Percy Weasley\",\"Credence Barebone\",\"Lord Voldemort\",\"Gilderoy Lockhart\",\"Fenrir Greyback\",\"Minerva McGonagall\",\"Rubeus Hagrid\",\"Peter Pettigrew\",\"Luna Lovegood\",\"Nymphadora Tonks\",\"Neville Longbottom\",\"Ron Weasley\",\"Ginny Weasley\",\"Hermione Granger\",\"Nagini\",\"Harry Potter\",\"The Serpent of Slytherin\"],\"x\":[-0.6140937175337806,0.41841412245343573,0.7314587219711344,0.7903440977923845,-0.21874065182410288,0.17286174615058908,-0.6004235446281904,-0.3114456606027594,-0.038399276125469936,-0.8165996085805034,-0.7605345776401973,0.8231470249802241,-0.7566061026918331,0.7848921790023624,0.6386071880364272,0.5578103471991686,-0.8569137617363639,-0.08629914181214383,-0.3718304348748292,0.0856782687952649,0.510738532629225,-0.278231951866899,0.07578275185778272,-0.7082756557903018,0.20122273875243868,-0.13617797378549315,-0.9151372576982943,-0.4782468403548081,-0.5518346330746787,-0.8960744076451393,0.2156727182715702,0.6108745154405566,-0.9739462100511188,0.7845701886498891,0.9227817640400293,0.821946468210322,0.7013791398643786,0.3330448392384936,0.7650494797310291,0.3341323589999464,0.014910717236521208,-0.9255085009862662],\"y\":[0.8892790315579895,0.6013098799193504,-0.6744984707757519,-0.5228755269922652,0.9173139322490603,0.6109180479784145,0.6370991185146676,-0.6739529679071985,-0.8589465139367477,0.5807746769754708,0.28735490924116186,-0.33873032683507903,0.7987976960830132,-0.2454827409792513,0.13116385461911206,0.20540946402350227,0.27702130549198284,-0.9369339520980161,0.889405011839641,0.9124810295755442,-0.8112387243894809,-0.4788627466713346,-0.7227296757790806,0.6253190923496244,1.0,-0.6677698899093224,0.15511979920707278,0.8192451596907109,-0.20347522493435183,-0.12230556515037556,-0.7887235348795513,-0.5733676800755454,0.15588962822060787,-0.4702501081521776,0.029458794541957063,-0.5376566668384067,-0.594040447917239,-0.8340062657872137,0.26190397562901585,0.6276510584927125,-0.7726759134396349,0.4156074772474138],\"type\":\"scatter\"}],                        {\"hovermode\":\"closest\",\"margin\":{\"b\":20,\"l\":5,\"r\":5,\"t\":40},\"showlegend\":false,\"title\":{\"font\":{\"size\":16},\"text\":\"Relationship graph of all characters\"},\"xaxis\":{\"showgrid\":false,\"showticklabels\":false,\"zeroline\":false},\"yaxis\":{\"showgrid\":false,\"showticklabels\":false,\"zeroline\":false},\"template\":{\"data\":{\"histogram2dcontour\":[{\"type\":\"histogram2dcontour\",\"colorbar\":{\"outlinewidth\":0,\"ticks\":\"\"},\"colorscale\":[[0.0,\"#0d0887\"],[0.1111111111111111,\"#46039f\"],[0.2222222222222222,\"#7201a8\"],[0.3333333333333333,\"#9c179e\"],[0.4444444444444444,\"#bd3786\"],[0.5555555555555556,\"#d8576b\"],[0.6666666666666666,\"#ed7953\"],[0.7777777777777778,\"#fb9f3a\"],[0.8888888888888888,\"#fdca26\"],[1.0,\"#f0f921\"]]}],\"choropleth\":[{\"type\":\"choropleth\",\"colorbar\":{\"outlinewidth\":0,\"ticks\":\"\"}}],\"histogram2d\":[{\"type\":\"histogram2d\",\"colorbar\":{\"outlinewidth\":0,\"ticks\":\"\"},\"colorscale\":[[0.0,\"#0d0887\"],[0.1111111111111111,\"#46039f\"],[0.2222222222222222,\"#7201a8\"],[0.3333333333333333,\"#9c179e\"],[0.4444444444444444,\"#bd3786\"],[0.5555555555555556,\"#d8576b\"],[0.6666666666666666,\"#ed7953\"],[0.7777777777777778,\"#fb9f3a\"],[0.8888888888888888,\"#fdca26\"],[1.0,\"#f0f921\"]]}],\"heatmap\":[{\"type\":\"heatmap\",\"colorbar\":{\"outlinewidth\":0,\"ticks\":\"\"},\"colorscale\":[[0.0,\"#0d0887\"],[0.1111111111111111,\"#46039f\"],[0.2222222222222222,\"#7201a8\"],[0.3333333333333333,\"#9c179e\"],[0.4444444444444444,\"#bd3786\"],[0.5555555555555556,\"#d8576b\"],[0.6666666666666666,\"#ed7953\"],[0.7777777777777778,\"#fb9f3a\"],[0.8888888888888888,\"#fdca26\"],[1.0,\"#f0f921\"]]}],\"heatmapgl\":[{\"type\":\"heatmapgl\",\"colorbar\":{\"outlinewidth\":0,\"ticks\":\"\"},\"colorscale\":[[0.0,\"#0d0887\"],[0.1111111111111111,\"#46039f\"],[0.2222222222222222,\"#7201a8\"],[0.3333333333333333,\"#9c179e\"],[0.4444444444444444,\"#bd3786\"],[0.5555555555555556,\"#d8576b\"],[0.6666666666666666,\"#ed7953\"],[0.7777777777777778,\"#fb9f3a\"],[0.8888888888888888,\"#fdca26\"],[1.0,\"#f0f921\"]]}],\"contourcarpet\":[{\"type\":\"contourcarpet\",\"colorbar\":{\"outlinewidth\":0,\"ticks\":\"\"}}],\"contour\":[{\"type\":\"contour\",\"colorbar\":{\"outlinewidth\":0,\"ticks\":\"\"},\"colorscale\":[[0.0,\"#0d0887\"],[0.1111111111111111,\"#46039f\"],[0.2222222222222222,\"#7201a8\"],[0.3333333333333333,\"#9c179e\"],[0.4444444444444444,\"#bd3786\"],[0.5555555555555556,\"#d8576b\"],[0.6666666666666666,\"#ed7953\"],[0.7777777777777778,\"#fb9f3a\"],[0.8888888888888888,\"#fdca26\"],[1.0,\"#f0f921\"]]}],\"surface\":[{\"type\":\"surface\",\"colorbar\":{\"outlinewidth\":0,\"ticks\":\"\"},\"colorscale\":[[0.0,\"#0d0887\"],[0.1111111111111111,\"#46039f\"],[0.2222222222222222,\"#7201a8\"],[0.3333333333333333,\"#9c179e\"],[0.4444444444444444,\"#bd3786\"],[0.5555555555555556,\"#d8576b\"],[0.6666666666666666,\"#ed7953\"],[0.7777777777777778,\"#fb9f3a\"],[0.8888888888888888,\"#fdca26\"],[1.0,\"#f0f921\"]]}],\"mesh3d\":[{\"type\":\"mesh3d\",\"colorbar\":{\"outlinewidth\":0,\"ticks\":\"\"}}],\"scatter\":[{\"fillpattern\":{\"fillmode\":\"overlay\",\"size\":10,\"solidity\":0.2},\"type\":\"scatter\"}],\"parcoords\":[{\"type\":\"parcoords\",\"line\":{\"colorbar\":{\"outlinewidth\":0,\"ticks\":\"\"}}}],\"scatterpolargl\":[{\"type\":\"scatterpolargl\",\"marker\":{\"colorbar\":{\"outlinewidth\":0,\"ticks\":\"\"}}}],\"bar\":[{\"error_x\":{\"color\":\"#2a3f5f\"},\"error_y\":{\"color\":\"#2a3f5f\"},\"marker\":{\"line\":{\"color\":\"#E5ECF6\",\"width\":0.5},\"pattern\":{\"fillmode\":\"overlay\",\"size\":10,\"solidity\":0.2}},\"type\":\"bar\"}],\"scattergeo\":[{\"type\":\"scattergeo\",\"marker\":{\"colorbar\":{\"outlinewidth\":0,\"ticks\":\"\"}}}],\"scatterpolar\":[{\"type\":\"scatterpolar\",\"marker\":{\"colorbar\":{\"outlinewidth\":0,\"ticks\":\"\"}}}],\"histogram\":[{\"marker\":{\"pattern\":{\"fillmode\":\"overlay\",\"size\":10,\"solidity\":0.2}},\"type\":\"histogram\"}],\"scattergl\":[{\"type\":\"scattergl\",\"marker\":{\"colorbar\":{\"outlinewidth\":0,\"ticks\":\"\"}}}],\"scatter3d\":[{\"type\":\"scatter3d\",\"line\":{\"colorbar\":{\"outlinewidth\":0,\"ticks\":\"\"}},\"marker\":{\"colorbar\":{\"outlinewidth\":0,\"ticks\":\"\"}}}],\"scattermapbox\":[{\"type\":\"scattermapbox\",\"marker\":{\"colorbar\":{\"outlinewidth\":0,\"ticks\":\"\"}}}],\"scatterternary\":[{\"type\":\"scatterternary\",\"marker\":{\"colorbar\":{\"outlinewidth\":0,\"ticks\":\"\"}}}],\"scattercarpet\":[{\"type\":\"scattercarpet\",\"marker\":{\"colorbar\":{\"outlinewidth\":0,\"ticks\":\"\"}}}],\"carpet\":[{\"aaxis\":{\"endlinecolor\":\"#2a3f5f\",\"gridcolor\":\"white\",\"linecolor\":\"white\",\"minorgridcolor\":\"white\",\"startlinecolor\":\"#2a3f5f\"},\"baxis\":{\"endlinecolor\":\"#2a3f5f\",\"gridcolor\":\"white\",\"linecolor\":\"white\",\"minorgridcolor\":\"white\",\"startlinecolor\":\"#2a3f5f\"},\"type\":\"carpet\"}],\"table\":[{\"cells\":{\"fill\":{\"color\":\"#EBF0F8\"},\"line\":{\"color\":\"white\"}},\"header\":{\"fill\":{\"color\":\"#C8D4E3\"},\"line\":{\"color\":\"white\"}},\"type\":\"table\"}],\"barpolar\":[{\"marker\":{\"line\":{\"color\":\"#E5ECF6\",\"width\":0.5},\"pattern\":{\"fillmode\":\"overlay\",\"size\":10,\"solidity\":0.2}},\"type\":\"barpolar\"}],\"pie\":[{\"automargin\":true,\"type\":\"pie\"}]},\"layout\":{\"autotypenumbers\":\"strict\",\"colorway\":[\"#636efa\",\"#EF553B\",\"#00cc96\",\"#ab63fa\",\"#FFA15A\",\"#19d3f3\",\"#FF6692\",\"#B6E880\",\"#FF97FF\",\"#FECB52\"],\"font\":{\"color\":\"#2a3f5f\"},\"hovermode\":\"closest\",\"hoverlabel\":{\"align\":\"left\"},\"paper_bgcolor\":\"white\",\"plot_bgcolor\":\"#E5ECF6\",\"polar\":{\"bgcolor\":\"#E5ECF6\",\"angularaxis\":{\"gridcolor\":\"white\",\"linecolor\":\"white\",\"ticks\":\"\"},\"radialaxis\":{\"gridcolor\":\"white\",\"linecolor\":\"white\",\"ticks\":\"\"}},\"ternary\":{\"bgcolor\":\"#E5ECF6\",\"aaxis\":{\"gridcolor\":\"white\",\"linecolor\":\"white\",\"ticks\":\"\"},\"baxis\":{\"gridcolor\":\"white\",\"linecolor\":\"white\",\"ticks\":\"\"},\"caxis\":{\"gridcolor\":\"white\",\"linecolor\":\"white\",\"ticks\":\"\"}},\"coloraxis\":{\"colorbar\":{\"outlinewidth\":0,\"ticks\":\"\"}},\"colorscale\":{\"sequential\":[[0.0,\"#0d0887\"],[0.1111111111111111,\"#46039f\"],[0.2222222222222222,\"#7201a8\"],[0.3333333333333333,\"#9c179e\"],[0.4444444444444444,\"#bd3786\"],[0.5555555555555556,\"#d8576b\"],[0.6666666666666666,\"#ed7953\"],[0.7777777777777778,\"#fb9f3a\"],[0.8888888888888888,\"#fdca26\"],[1.0,\"#f0f921\"]],\"sequentialminus\":[[0.0,\"#0d0887\"],[0.1111111111111111,\"#46039f\"],[0.2222222222222222,\"#7201a8\"],[0.3333333333333333,\"#9c179e\"],[0.4444444444444444,\"#bd3786\"],[0.5555555555555556,\"#d8576b\"],[0.6666666666666666,\"#ed7953\"],[0.7777777777777778,\"#fb9f3a\"],[0.8888888888888888,\"#fdca26\"],[1.0,\"#f0f921\"]],\"diverging\":[[0,\"#8e0152\"],[0.1,\"#c51b7d\"],[0.2,\"#de77ae\"],[0.3,\"#f1b6da\"],[0.4,\"#fde0ef\"],[0.5,\"#f7f7f7\"],[0.6,\"#e6f5d0\"],[0.7,\"#b8e186\"],[0.8,\"#7fbc41\"],[0.9,\"#4d9221\"],[1,\"#276419\"]]},\"xaxis\":{\"gridcolor\":\"white\",\"linecolor\":\"white\",\"ticks\":\"\",\"title\":{\"standoff\":15},\"zerolinecolor\":\"white\",\"automargin\":true,\"zerolinewidth\":2},\"yaxis\":{\"gridcolor\":\"white\",\"linecolor\":\"white\",\"ticks\":\"\",\"title\":{\"standoff\":15},\"zerolinecolor\":\"white\",\"automargin\":true,\"zerolinewidth\":2},\"scene\":{\"xaxis\":{\"backgroundcolor\":\"#E5ECF6\",\"gridcolor\":\"white\",\"linecolor\":\"white\",\"showbackground\":true,\"ticks\":\"\",\"zerolinecolor\":\"white\",\"gridwidth\":2},\"yaxis\":{\"backgroundcolor\":\"#E5ECF6\",\"gridcolor\":\"white\",\"linecolor\":\"white\",\"showbackground\":true,\"ticks\":\"\",\"zerolinecolor\":\"white\",\"gridwidth\":2},\"zaxis\":{\"backgroundcolor\":\"#E5ECF6\",\"gridcolor\":\"white\",\"linecolor\":\"white\",\"showbackground\":true,\"ticks\":\"\",\"zerolinecolor\":\"white\",\"gridwidth\":2}},\"shapedefaults\":{\"line\":{\"color\":\"#2a3f5f\"}},\"annotationdefaults\":{\"arrowcolor\":\"#2a3f5f\",\"arrowhead\":0,\"arrowwidth\":1},\"geo\":{\"bgcolor\":\"white\",\"landcolor\":\"#E5ECF6\",\"subunitcolor\":\"white\",\"showland\":true,\"showlakes\":true,\"lakecolor\":\"white\"},\"title\":{\"x\":0.05},\"mapbox\":{\"style\":\"light\"}}},\"width\":800,\"height\":500},                        {\"responsive\": true}                    ).then(function(){\n",
       "                            \n",
       "var gd = document.getElementById('538ee85d-1a6f-4baf-8a11-d68fa5c7a0bd');\n",
       "var x = new MutationObserver(function (mutations, observer) {{\n",
       "        var display = window.getComputedStyle(gd).display;\n",
       "        if (!display || display === 'none') {{\n",
       "            console.log([gd, 'removed!']);\n",
       "            Plotly.purge(gd);\n",
       "            observer.disconnect();\n",
       "        }}\n",
       "}});\n",
       "\n",
       "// Listen for the removal of the full notebook cells\n",
       "var notebookContainer = gd.closest('#notebook-container');\n",
       "if (notebookContainer) {{\n",
       "    x.observe(notebookContainer, {childList: true});\n",
       "}}\n",
       "\n",
       "// Listen for the clearing of the current output cell\n",
       "var outputEl = gd.closest('.output');\n",
       "if (outputEl) {{\n",
       "    x.observe(outputEl, {childList: true});\n",
       "}}\n",
       "\n",
       "                        })                };                });            </script>        </div>"
      ]
     },
     "metadata": {},
     "output_type": "display_data"
    }
   ],
   "source": [
    "## To visualize the relations one can plot a graph of the characters as nodes and their relationship as edge\n",
    "# in this simple world, there is the good camp and the bad camp, and everybody is friend within their own camp, but enemy with all members of the other camp.\n",
    "\n",
    "from utils import plot_graph, graph_positions\n",
    "\n",
    "positions = graph_positions(relations)\n",
    "\n",
    "plot_graph(positions, relations, column='chosen')"
   ]
  },
  {
   "cell_type": "code",
   "execution_count": 38,
   "id": "9f5fc1f2-36ce-4fe2-94d5-eb3fea7506b0",
   "metadata": {},
   "outputs": [
    {
     "name": "stderr",
     "output_type": "stream",
     "text": [
      "Setting `pad_token_id` to `eos_token_id`:0 for open-end generation.\n",
      "Setting `pad_token_id` to `eos_token_id`:0 for open-end generation.\n"
     ]
    },
    {
     "name": "stdout",
     "output_type": "stream",
     "text": [
      "Harry Potter's goes to school at Hogwarts, and Harry Potter's goes to school at Hog\n",
      "Harry Potter's friends are Ron and Hermione, who are both in their early twenties. They\n"
     ]
    }
   ],
   "source": [
    "# first of all, has the model read about Harry potter? (could be the book, or online content)\n",
    "encoded_input = tokenizer(\"Harry Potter's goes to school at\", return_tensors='pt')\n",
    "generated_output = model.generate(**encoded_input, max_length=20)\n",
    "print(tokenizer.decode(generated_output[0]))\n",
    "\n",
    "encoded_input = tokenizer(\"Harry Potter's friends are Ron\", return_tensors='pt')\n",
    "generated_output = model.generate(**encoded_input, max_length=20)\n",
    "print(tokenizer.decode(generated_output[0]))\n",
    "\n",
    "# => More or less."
   ]
  },
  {
   "cell_type": "code",
   "execution_count": 72,
   "id": "d0a07c4b-16c4-468c-9901-109ae9d94cef",
   "metadata": {},
   "outputs": [
    {
     "name": "stdout",
     "output_type": "stream",
     "text": [
      "Bellatrix Lestrange is Neville Longbottom's enemy | Bellatrix Lestrange is Neville Longbottom's friend\n",
      "odict_keys(['logits', 'past_key_values', 'hidden_states'])\n"
     ]
    }
   ],
   "source": [
    "# now calculate the score of the fact from the model's output logits\n",
    "fiction = relations.iloc[1]['fiction'] # for later\n",
    "fact = relations.iloc[1]['fact']\n",
    "print(fact, '|', fiction)\n",
    "encoded_input = tokenizer(fact, return_tensors='pt')\n",
    "model_output = model(**encoded_input, output_hidden_states=True)\n",
    "print(model_output.keys())"
   ]
  },
  {
   "cell_type": "code",
   "execution_count": 40,
   "id": "3acf19d4-a4cd-4b74-a64a-be2393fbd98d",
   "metadata": {},
   "outputs": [
    {
     "data": {
      "text/plain": [
       "torch.Size([1, 12])"
      ]
     },
     "execution_count": 40,
     "metadata": {},
     "output_type": "execute_result"
    }
   ],
   "source": [
    "# for each input token...\n",
    "encoded_input['input_ids'].shape"
   ]
  },
  {
   "cell_type": "code",
   "execution_count": 41,
   "id": "df535e42-6a1d-4be6-8dc6-cd72b5df03cf",
   "metadata": {},
   "outputs": [
    {
     "data": {
      "text/plain": [
       "torch.Size([12, 50304])"
      ]
     },
     "execution_count": 41,
     "metadata": {},
     "output_type": "execute_result"
    }
   ],
   "source": [
    "# predictions are assigned to the following token\n",
    "logits = model_output['logits'][0, :, :]\n",
    "logits.shape"
   ]
  },
  {
   "cell_type": "code",
   "execution_count": 42,
   "id": "0987fda9-e13f-4fe5-b434-f2bd2152e516",
   "metadata": {},
   "outputs": [
    {
     "data": {
      "text/plain": [
       "tensor([[28491,   418,   383,  6324,   310, 16393,  4002,  8057, 10492,   434,\n",
       "          9054]])"
      ]
     },
     "execution_count": 42,
     "metadata": {},
     "output_type": "execute_result"
    }
   ],
   "source": [
    "# these are the token ids of the sentence\n",
    "# and we need to shift by one and drop last token (which is the prediction of the word following our fact)\n",
    "labels = encoded_input['input_ids'][:, 1:]\n",
    "labels"
   ]
  },
  {
   "cell_type": "code",
   "execution_count": 43,
   "id": "ce587fd1-2319-40a9-8ba2-53a6b3a6c26d",
   "metadata": {},
   "outputs": [
    {
     "data": {
      "text/plain": [
       "tensor([[ 2.3523],\n",
       "        [ 9.5285],\n",
       "        [14.0712],\n",
       "        [18.8797],\n",
       "        [12.1508],\n",
       "        [ 5.2060],\n",
       "        [22.4017],\n",
       "        [16.1292],\n",
       "        [19.2569],\n",
       "        [17.8785],\n",
       "        [ 8.4963]], grad_fn=<GatherBackward0>)"
      ]
     },
     "execution_count": 43,
     "metadata": {},
     "output_type": "execute_result"
    }
   ],
   "source": [
    "# to find the logits of the actually appearing tokens\n",
    "\n",
    "per_token_logps = torch.gather(logits[:, 0:-1], dim=1, index=labels.T)\n",
    "\n",
    "per_token_logps\n"
   ]
  },
  {
   "cell_type": "code",
   "execution_count": 44,
   "id": "adb04f9f-a6cd-4c6c-be33-76787eac0b14",
   "metadata": {},
   "outputs": [
    {
     "name": "stdout",
     "output_type": "stream",
     "text": [
      "tensor(418)\n"
     ]
    },
    {
     "data": {
      "text/plain": [
       "tensor(9.5285, grad_fn=<SelectBackward0>)"
      ]
     },
     "execution_count": 44,
     "metadata": {},
     "output_type": "execute_result"
    }
   ],
   "source": [
    "# double check it is gathered correctly\n",
    "\n",
    "second_id = labels[0, 1]\n",
    "print(second_id)\n",
    "logits[1, second_id]\n"
   ]
  },
  {
   "cell_type": "code",
   "execution_count": 45,
   "id": "2bd174be-9729-4b2f-9a05-5e974787e4cb",
   "metadata": {},
   "outputs": [
    {
     "data": {
      "text/plain": [
       "\"atrix Lestrange is Neville Longbottom's enemy\""
      ]
     },
     "execution_count": 45,
     "metadata": {},
     "output_type": "execute_result"
    }
   ],
   "source": [
    "# double check what is done here: the labels are the original fact tokens, without the first one.\n",
    "tokenizer.decode(labels[0, :])"
   ]
  },
  {
   "cell_type": "code",
   "execution_count": 46,
   "id": "b1463a9e-8100-4924-8c3b-e2b440586259",
   "metadata": {},
   "outputs": [
    {
     "data": {
      "text/plain": [
       "tensor([   13,    13,   383,  6324,    13,   247,  4002,   434, 10492,   434,\n",
       "         3101,    13])"
      ]
     },
     "execution_count": 46,
     "metadata": {},
     "output_type": "execute_result"
    }
   ],
   "source": [
    "# ... these are the tokens that the model would predict, given the logits ...\n",
    "next_token = torch.argmax(logits, dim=1)\n",
    "next_token"
   ]
  },
  {
   "cell_type": "code",
   "execution_count": 47,
   "id": "b60a6835-dcd3-4fa6-a884-66a9213b8de2",
   "metadata": {},
   "outputs": [
    {
     "data": {
      "text/plain": [
       "\",,estrange, aille'sbottom's mother,\""
      ]
     },
     "execution_count": 47,
     "metadata": {},
     "output_type": "execute_result"
    }
   ],
   "source": [
    "# ... and those are the decoded tokens\n",
    "tokenizer.decode(next_token) \n",
    "# => logits predict the probability of not the current, but the next token:"
   ]
  },
  {
   "cell_type": "code",
   "execution_count": 74,
   "id": "02f7b6ed-0bf6-4fee-b2b6-072885969f5d",
   "metadata": {},
   "outputs": [
    {
     "name": "stdout",
     "output_type": "stream",
     "text": [
      "tensor([[ 2.3523],\n",
      "        [ 9.5285],\n",
      "        [14.0712],\n",
      "        [18.8797],\n",
      "        [12.1508],\n",
      "        [ 5.2060],\n",
      "        [22.4017],\n",
      "        [16.1292],\n",
      "        [19.2569],\n",
      "        [17.8785],\n",
      "        [ 8.4963]], grad_fn=<GatherBackward0>)\n",
      "tensor([[ 2.3523],\n",
      "        [ 9.5285],\n",
      "        [14.0712],\n",
      "        [18.8797],\n",
      "        [12.1508],\n",
      "        [ 5.2060],\n",
      "        [22.4017],\n",
      "        [16.1292],\n",
      "        [19.2569],\n",
      "        [17.8785],\n",
      "        [10.5976]], grad_fn=<GatherBackward0>)\n"
     ]
    },
    {
     "data": {
      "text/plain": [
       "(146.3512420654297, 148.45249938964844)"
      ]
     },
     "execution_count": 74,
     "metadata": {},
     "output_type": "execute_result"
    }
   ],
   "source": [
    "# collect this code in a function\n",
    "\n",
    "def fact_score(fact, model, tokenizer, softmax=False):\n",
    "    encoded_input = tokenizer(fact, return_tensors='pt')\n",
    "    model_output = model(**encoded_input, output_hidden_states=True)\n",
    "    logits = model_output['logits'][0, :, :]\n",
    "    # need to shift by one for predictions\n",
    "    labels = encoded_input['input_ids'][:, 1:]\n",
    "    if softmax:\n",
    "        logits = logits.softmax(-1)\n",
    "    # collect the log probabilities for the labels, drop last token which is the prediction of the word following our fact\n",
    "    per_token_logps = torch.gather(logits[:, 0:-1], dim=1, index=labels.T)\n",
    "    print(per_token_logps)\n",
    "    score = per_token_logps.sum()\n",
    "    return score.item()\n",
    "\n",
    "fact_score(fact, model, tokenizer, softmax=False), fact_score(fiction, model, tokenizer, softmax=False)\n",
    "# we see that only the score for the final token (enemy/friend) is different"
   ]
  },
  {
   "cell_type": "code",
   "execution_count": 53,
   "id": "9a59cda4-4973-48c6-a43d-19db9ad6b76a",
   "metadata": {},
   "outputs": [],
   "source": [
    "# let's pick only a few examples to save time.\n",
    "test = relations.sample(n=50, random_state=42)"
   ]
  },
  {
   "cell_type": "code",
   "execution_count": 54,
   "id": "7074e3c6-855d-4129-947c-5d9f5259c26c",
   "metadata": {},
   "outputs": [],
   "source": [
    "test['fact_score'] = test['fact'].apply(lambda f: fact_score(f, model, tokenizer))\n",
    "test['fiction_score'] = test['fiction'].apply(lambda f: fact_score(f, model, tokenizer))"
   ]
  },
  {
   "cell_type": "code",
   "execution_count": 56,
   "id": "d55a962a-0fb4-4952-a377-5e2c9859a379",
   "metadata": {},
   "outputs": [
    {
     "data": {
      "text/html": [
       "<div>\n",
       "<style scoped>\n",
       "    .dataframe tbody tr th:only-of-type {\n",
       "        vertical-align: middle;\n",
       "    }\n",
       "\n",
       "    .dataframe tbody tr th {\n",
       "        vertical-align: top;\n",
       "    }\n",
       "\n",
       "    .dataframe thead th {\n",
       "        text-align: right;\n",
       "    }\n",
       "</style>\n",
       "<table border=\"1\" class=\"dataframe\">\n",
       "  <thead>\n",
       "    <tr style=\"text-align: right;\">\n",
       "      <th></th>\n",
       "      <th>first</th>\n",
       "      <th>second</th>\n",
       "      <th>first_side</th>\n",
       "      <th>second_side</th>\n",
       "      <th>chosen</th>\n",
       "      <th>rejected</th>\n",
       "      <th>prompt</th>\n",
       "      <th>fact</th>\n",
       "      <th>fiction</th>\n",
       "      <th>fact_score</th>\n",
       "      <th>fiction_score</th>\n",
       "      <th>correct</th>\n",
       "    </tr>\n",
       "  </thead>\n",
       "  <tbody>\n",
       "    <tr>\n",
       "      <th>478</th>\n",
       "      <td>Gilderoy Lockhart</td>\n",
       "      <td>Lee Jordan</td>\n",
       "      <td>0</td>\n",
       "      <td>1</td>\n",
       "      <td>enemy</td>\n",
       "      <td>friend</td>\n",
       "      <td>Gilderoy Lockhart is Lee Jordan's</td>\n",
       "      <td>Gilderoy Lockhart is Lee Jordan's enemy</td>\n",
       "      <td>Gilderoy Lockhart is Lee Jordan's friend</td>\n",
       "      <td>88.623856</td>\n",
       "      <td>90.393066</td>\n",
       "      <td>False</td>\n",
       "    </tr>\n",
       "    <tr>\n",
       "      <th>728</th>\n",
       "      <td>Harry Potter</td>\n",
       "      <td>Nymphadora Tonks</td>\n",
       "      <td>1</td>\n",
       "      <td>1</td>\n",
       "      <td>friend</td>\n",
       "      <td>enemy</td>\n",
       "      <td>Harry Potter is Nymphadora Tonks's</td>\n",
       "      <td>Harry Potter is Nymphadora Tonks's friend</td>\n",
       "      <td>Harry Potter is Nymphadora Tonks's enemy</td>\n",
       "      <td>137.432541</td>\n",
       "      <td>133.116638</td>\n",
       "      <td>True</td>\n",
       "    </tr>\n",
       "    <tr>\n",
       "      <th>138</th>\n",
       "      <td>Barty Crouch Jr.</td>\n",
       "      <td>Gregory Goyle</td>\n",
       "      <td>0</td>\n",
       "      <td>0</td>\n",
       "      <td>friend</td>\n",
       "      <td>enemy</td>\n",
       "      <td>Barty Crouch Jr. is Gregory Goyle's</td>\n",
       "      <td>Barty Crouch Jr. is Gregory Goyle's friend</td>\n",
       "      <td>Barty Crouch Jr. is Gregory Goyle's enemy</td>\n",
       "      <td>104.408287</td>\n",
       "      <td>102.048744</td>\n",
       "      <td>True</td>\n",
       "    </tr>\n",
       "    <tr>\n",
       "      <th>375</th>\n",
       "      <td>Fenrir Greyback</td>\n",
       "      <td>Ginny Weasley</td>\n",
       "      <td>0</td>\n",
       "      <td>1</td>\n",
       "      <td>enemy</td>\n",
       "      <td>friend</td>\n",
       "      <td>Fenrir Greyback is Ginny Weasley's</td>\n",
       "      <td>Fenrir Greyback is Ginny Weasley's enemy</td>\n",
       "      <td>Fenrir Greyback is Ginny Weasley's friend</td>\n",
       "      <td>129.731781</td>\n",
       "      <td>132.356674</td>\n",
       "      <td>False</td>\n",
       "    </tr>\n",
       "    <tr>\n",
       "      <th>88</th>\n",
       "      <td>Lord Voldemort</td>\n",
       "      <td>Draco Malfoy</td>\n",
       "      <td>0</td>\n",
       "      <td>0</td>\n",
       "      <td>friend</td>\n",
       "      <td>enemy</td>\n",
       "      <td>Lord Voldemort is Draco Malfoy's</td>\n",
       "      <td>Lord Voldemort is Draco Malfoy's friend</td>\n",
       "      <td>Lord Voldemort is Draco Malfoy's enemy</td>\n",
       "      <td>185.150406</td>\n",
       "      <td>184.898865</td>\n",
       "      <td>True</td>\n",
       "    </tr>\n",
       "  </tbody>\n",
       "</table>\n",
       "</div>"
      ],
      "text/plain": [
       "                 first            second  first_side  second_side  chosen  \\\n",
       "478  Gilderoy Lockhart        Lee Jordan           0            1   enemy   \n",
       "728       Harry Potter  Nymphadora Tonks           1            1  friend   \n",
       "138   Barty Crouch Jr.     Gregory Goyle           0            0  friend   \n",
       "375    Fenrir Greyback     Ginny Weasley           0            1   enemy   \n",
       "88      Lord Voldemort      Draco Malfoy           0            0  friend   \n",
       "\n",
       "    rejected                               prompt  \\\n",
       "478   friend    Gilderoy Lockhart is Lee Jordan's   \n",
       "728    enemy   Harry Potter is Nymphadora Tonks's   \n",
       "138    enemy  Barty Crouch Jr. is Gregory Goyle's   \n",
       "375   friend   Fenrir Greyback is Ginny Weasley's   \n",
       "88     enemy     Lord Voldemort is Draco Malfoy's   \n",
       "\n",
       "                                           fact  \\\n",
       "478     Gilderoy Lockhart is Lee Jordan's enemy   \n",
       "728   Harry Potter is Nymphadora Tonks's friend   \n",
       "138  Barty Crouch Jr. is Gregory Goyle's friend   \n",
       "375    Fenrir Greyback is Ginny Weasley's enemy   \n",
       "88      Lord Voldemort is Draco Malfoy's friend   \n",
       "\n",
       "                                       fiction  fact_score  fiction_score  \\\n",
       "478   Gilderoy Lockhart is Lee Jordan's friend   88.623856      90.393066   \n",
       "728   Harry Potter is Nymphadora Tonks's enemy  137.432541     133.116638   \n",
       "138  Barty Crouch Jr. is Gregory Goyle's enemy  104.408287     102.048744   \n",
       "375  Fenrir Greyback is Ginny Weasley's friend  129.731781     132.356674   \n",
       "88      Lord Voldemort is Draco Malfoy's enemy  185.150406     184.898865   \n",
       "\n",
       "     correct  \n",
       "478    False  \n",
       "728     True  \n",
       "138     True  \n",
       "375    False  \n",
       "88      True  "
      ]
     },
     "execution_count": 56,
     "metadata": {},
     "output_type": "execute_result"
    }
   ],
   "source": [
    "test.head()"
   ]
  },
  {
   "cell_type": "code",
   "execution_count": 57,
   "id": "ebc479ed-df70-41b4-8284-8792756c17f7",
   "metadata": {},
   "outputs": [],
   "source": [
    "test['correct'] = test['fact_score'] > test['fiction_score']\n",
    "test['chosen_model'] = test.apply(lambda row: row['chosen'] if row['correct'] else row['rejected'], axis=1)"
   ]
  },
  {
   "cell_type": "markdown",
   "id": "3f746bd6-0026-4cd6-a8c8-b027436708ee",
   "metadata": {},
   "source": [
    "## How good is the models estimation of the relations?"
   ]
  },
  {
   "cell_type": "code",
   "execution_count": 76,
   "id": "0bf2d61d-c628-474b-b555-3858f71df42d",
   "metadata": {},
   "outputs": [
    {
     "data": {
      "text/plain": [
       "0.52"
      ]
     },
     "execution_count": 76,
     "metadata": {},
     "output_type": "execute_result"
    }
   ],
   "source": [
    "test['correct'].mean()"
   ]
  },
  {
   "cell_type": "code",
   "execution_count": null,
   "id": "9bcf258f-d22e-4f09-a1e5-b58671b9afb1",
   "metadata": {},
   "outputs": [],
   "source": [
    "# not that good, apparently"
   ]
  },
  {
   "cell_type": "code",
   "execution_count": 58,
   "id": "7b29e0cc-5407-44b6-b1d7-1820f8c2654d",
   "metadata": {},
   "outputs": [
    {
     "data": {
      "text/plain": [
       "chosen_model\n",
       "friend    50\n",
       "Name: count, dtype: int64"
      ]
     },
     "execution_count": 58,
     "metadata": {},
     "output_type": "execute_result"
    }
   ],
   "source": [
    "test['chosen_model'].value_counts()"
   ]
  },
  {
   "cell_type": "code",
   "execution_count": 81,
   "id": "1c999823-df7e-4eee-9e7c-ea5755e2d736",
   "metadata": {},
   "outputs": [],
   "source": [
    "# the model just prefers everybody to be friendly"
   ]
  },
  {
   "cell_type": "code",
   "execution_count": 68,
   "id": "23019732-0ce7-4c9b-9771-0948fd40176b",
   "metadata": {},
   "outputs": [
    {
     "data": {
      "application/vnd.plotly.v1+json": {
       "config": {
        "plotlyServerURL": "https://plot.ly"
       },
       "data": [
        {
         "line": {
          "color": "darkblue",
          "width": 1
         },
         "mode": "lines",
         "type": "scatter",
         "x": [
          -0.5518346330746787,
          0.7848921790023624
         ],
         "y": [
          -0.20347522493435183,
          -0.2454827409792513
         ]
        },
        {
         "line": {
          "color": "darkblue",
          "width": 1
         },
         "mode": "lines",
         "type": "scatter",
         "x": [
          0.014910717236521208,
          0.9227817640400293
         ],
         "y": [
          -0.7726759134396349,
          0.029458794541957063
         ]
        },
        {
         "line": {
          "color": "darkblue",
          "width": 1
         },
         "mode": "lines",
         "type": "scatter",
         "x": [
          0.0856782687952649,
          -0.8569137617363639
         ],
         "y": [
          0.9124810295755442,
          0.27702130549198284
         ]
        },
        {
         "line": {
          "color": "darkblue",
          "width": 1
         },
         "mode": "lines",
         "type": "scatter",
         "x": [
          -0.8960744076451393,
          0.3330448392384936
         ],
         "y": [
          -0.12230556515037556,
          -0.8340062657872137
         ]
        },
        {
         "line": {
          "color": "darkblue",
          "width": 1
         },
         "mode": "lines",
         "type": "scatter",
         "x": [
          -0.4782468403548081,
          -0.7082756557903018
         ],
         "y": [
          0.8192451596907109,
          0.6253190923496244
         ]
        },
        {
         "line": {
          "color": "darkblue",
          "width": 1
         },
         "mode": "lines",
         "type": "scatter",
         "x": [
          -0.7605345776401973,
          0.9227817640400293
         ],
         "y": [
          0.28735490924116186,
          0.029458794541957063
         ]
        },
        {
         "line": {
          "color": "darkblue",
          "width": 1
         },
         "mode": "lines",
         "type": "scatter",
         "x": [
          -0.4782468403548081,
          0.07578275185778272
         ],
         "y": [
          0.8192451596907109,
          -0.7227296757790806
         ]
        },
        {
         "line": {
          "color": "darkblue",
          "width": 1
         },
         "mode": "lines",
         "type": "scatter",
         "x": [
          0.3330448392384936,
          -0.038399276125469936
         ],
         "y": [
          -0.8340062657872137,
          -0.8589465139367477
         ]
        },
        {
         "line": {
          "color": "darkblue",
          "width": 1
         },
         "mode": "lines",
         "type": "scatter",
         "x": [
          -0.7082756557903018,
          -0.5518346330746787
         ],
         "y": [
          0.6253190923496244,
          -0.20347522493435183
         ]
        },
        {
         "line": {
          "color": "darkblue",
          "width": 1
         },
         "mode": "lines",
         "type": "scatter",
         "x": [
          0.014910717236521208,
          -0.278231951866899
         ],
         "y": [
          -0.7726759134396349,
          -0.4788627466713346
         ]
        },
        {
         "line": {
          "color": "darkblue",
          "width": 1
         },
         "mode": "lines",
         "type": "scatter",
         "x": [
          0.2156727182715702,
          0.7903440977923845
         ],
         "y": [
          -0.7887235348795513,
          -0.5228755269922652
         ]
        },
        {
         "line": {
          "color": "darkblue",
          "width": 1
         },
         "mode": "lines",
         "type": "scatter",
         "x": [
          -0.8960744076451393,
          -0.7605345776401973
         ],
         "y": [
          -0.12230556515037556,
          0.28735490924116186
         ]
        },
        {
         "line": {
          "color": "darkblue",
          "width": 1
         },
         "mode": "lines",
         "type": "scatter",
         "x": [
          0.0856782687952649,
          -0.6004235446281904
         ],
         "y": [
          0.9124810295755442,
          0.6370991185146676
         ]
        },
        {
         "line": {
          "color": "darkblue",
          "width": 1
         },
         "mode": "lines",
         "type": "scatter",
         "x": [
          -0.6004235446281904,
          0.7848921790023624
         ],
         "y": [
          0.6370991185146676,
          -0.2454827409792513
         ]
        },
        {
         "line": {
          "color": "darkblue",
          "width": 1
         },
         "mode": "lines",
         "type": "scatter",
         "x": [
          0.17286174615058908,
          -0.278231951866899
         ],
         "y": [
          0.6109180479784145,
          -0.4788627466713346
         ]
        },
        {
         "line": {
          "color": "darkblue",
          "width": 1
         },
         "mode": "lines",
         "type": "scatter",
         "x": [
          -0.7566061026918331,
          0.3341323589999464
         ],
         "y": [
          0.7987976960830132,
          0.6276510584927125
         ]
        },
        {
         "line": {
          "color": "darkblue",
          "width": 1
         },
         "mode": "lines",
         "type": "scatter",
         "x": [
          0.17286174615058908,
          0.6386071880364272
         ],
         "y": [
          0.6109180479784145,
          0.13116385461911206
         ]
        },
        {
         "line": {
          "color": "darkblue",
          "width": 1
         },
         "mode": "lines",
         "type": "scatter",
         "x": [
          0.0856782687952649,
          -0.7566061026918331
         ],
         "y": [
          0.9124810295755442,
          0.7987976960830132
         ]
        },
        {
         "line": {
          "color": "darkblue",
          "width": 1
         },
         "mode": "lines",
         "type": "scatter",
         "x": [
          -0.5518346330746787,
          0.5578103471991686
         ],
         "y": [
          -0.20347522493435183,
          0.20540946402350227
         ]
        },
        {
         "line": {
          "color": "darkblue",
          "width": 1
         },
         "mode": "lines",
         "type": "scatter",
         "x": [
          -0.7566061026918331,
          0.7845701886498891
         ],
         "y": [
          0.7987976960830132,
          -0.4702501081521776
         ]
        },
        {
         "line": {
          "color": "darkblue",
          "width": 1
         },
         "mode": "lines",
         "type": "scatter",
         "x": [
          0.3341323589999464,
          -0.6004235446281904
         ],
         "y": [
          0.6276510584927125,
          0.6370991185146676
         ]
        },
        {
         "line": {
          "color": "darkblue",
          "width": 1
         },
         "mode": "lines",
         "type": "scatter",
         "x": [
          -0.4782468403548081,
          -0.7566061026918331
         ],
         "y": [
          0.8192451596907109,
          0.7987976960830132
         ]
        },
        {
         "line": {
          "color": "darkblue",
          "width": 1
         },
         "mode": "lines",
         "type": "scatter",
         "x": [
          0.07578275185778272,
          -0.038399276125469936
         ],
         "y": [
          -0.7227296757790806,
          -0.8589465139367477
         ]
        },
        {
         "line": {
          "color": "darkblue",
          "width": 1
         },
         "mode": "lines",
         "type": "scatter",
         "x": [
          0.7013791398643786,
          0.7903440977923845
         ],
         "y": [
          -0.594040447917239,
          -0.5228755269922652
         ]
        },
        {
         "line": {
          "color": "darkblue",
          "width": 1
         },
         "mode": "lines",
         "type": "scatter",
         "x": [
          -0.4782468403548081,
          -0.7605345776401973
         ],
         "y": [
          0.8192451596907109,
          0.28735490924116186
         ]
        },
        {
         "line": {
          "color": "darkblue",
          "width": 1
         },
         "mode": "lines",
         "type": "scatter",
         "x": [
          -0.8960744076451393,
          -0.3718304348748292
         ],
         "y": [
          -0.12230556515037556,
          0.889405011839641
         ]
        },
        {
         "line": {
          "color": "darkblue",
          "width": 1
         },
         "mode": "lines",
         "type": "scatter",
         "x": [
          -0.7566061026918331,
          -0.13617797378549315
         ],
         "y": [
          0.7987976960830132,
          -0.6677698899093224
         ]
        },
        {
         "line": {
          "color": "darkblue",
          "width": 1
         },
         "mode": "lines",
         "type": "scatter",
         "x": [
          0.0856782687952649,
          0.6108745154405566
         ],
         "y": [
          0.9124810295755442,
          -0.5733676800755454
         ]
        },
        {
         "line": {
          "color": "darkblue",
          "width": 1
         },
         "mode": "lines",
         "type": "scatter",
         "x": [
          0.8231470249802241,
          0.510738532629225
         ],
         "y": [
          -0.33873032683507903,
          -0.8112387243894809
         ]
        },
        {
         "line": {
          "color": "darkblue",
          "width": 1
         },
         "mode": "lines",
         "type": "scatter",
         "x": [
          -0.6004235446281904,
          -0.3114456606027594
         ],
         "y": [
          0.6370991185146676,
          -0.6739529679071985
         ]
        },
        {
         "line": {
          "color": "darkblue",
          "width": 1
         },
         "mode": "lines",
         "type": "scatter",
         "x": [
          -0.7566061026918331,
          0.3330448392384936
         ],
         "y": [
          0.7987976960830132,
          -0.8340062657872137
         ]
        },
        {
         "line": {
          "color": "darkblue",
          "width": 1
         },
         "mode": "lines",
         "type": "scatter",
         "x": [
          -0.4782468403548081,
          -0.278231951866899
         ],
         "y": [
          0.8192451596907109,
          -0.4788627466713346
         ]
        },
        {
         "line": {
          "color": "darkblue",
          "width": 1
         },
         "mode": "lines",
         "type": "scatter",
         "x": [
          -0.9255085009862662,
          0.6386071880364272
         ],
         "y": [
          0.4156074772474138,
          0.13116385461911206
         ]
        },
        {
         "line": {
          "color": "darkblue",
          "width": 1
         },
         "mode": "lines",
         "type": "scatter",
         "x": [
          -0.8165996085805034,
          0.20122273875243868
         ],
         "y": [
          0.5807746769754708,
          1
         ]
        },
        {
         "line": {
          "color": "darkblue",
          "width": 1
         },
         "mode": "lines",
         "type": "scatter",
         "x": [
          0.2156727182715702,
          -0.08629914181214383
         ],
         "y": [
          -0.7887235348795513,
          -0.9369339520980161
         ]
        },
        {
         "line": {
          "color": "darkblue",
          "width": 1
         },
         "mode": "lines",
         "type": "scatter",
         "x": [
          -0.9739462100511188,
          -0.278231951866899
         ],
         "y": [
          0.15588962822060787,
          -0.4788627466713346
         ]
        },
        {
         "line": {
          "color": "darkblue",
          "width": 1
         },
         "mode": "lines",
         "type": "scatter",
         "x": [
          0.2156727182715702,
          -0.3114456606027594
         ],
         "y": [
          -0.7887235348795513,
          -0.6739529679071985
         ]
        },
        {
         "line": {
          "color": "darkblue",
          "width": 1
         },
         "mode": "lines",
         "type": "scatter",
         "x": [
          -0.9255085009862662,
          0.2156727182715702
         ],
         "y": [
          0.4156074772474138,
          -0.7887235348795513
         ]
        },
        {
         "line": {
          "color": "darkblue",
          "width": 1
         },
         "mode": "lines",
         "type": "scatter",
         "x": [
          0.821946468210322,
          -0.3114456606027594
         ],
         "y": [
          -0.5376566668384067,
          -0.6739529679071985
         ]
        },
        {
         "line": {
          "color": "darkblue",
          "width": 1
         },
         "mode": "lines",
         "type": "scatter",
         "x": [
          -0.3718304348748292,
          -0.5518346330746787
         ],
         "y": [
          0.889405011839641,
          -0.20347522493435183
         ]
        },
        {
         "line": {
          "color": "darkblue",
          "width": 1
         },
         "mode": "lines",
         "type": "scatter",
         "x": [
          -0.9151372576982943,
          -0.5518346330746787
         ],
         "y": [
          0.15511979920707278,
          -0.20347522493435183
         ]
        },
        {
         "line": {
          "color": "darkblue",
          "width": 1
         },
         "mode": "lines",
         "type": "scatter",
         "x": [
          -0.6004235446281904,
          0.7903440977923845
         ],
         "y": [
          0.6370991185146676,
          -0.5228755269922652
         ]
        },
        {
         "line": {
          "color": "darkblue",
          "width": 1
         },
         "mode": "lines",
         "type": "scatter",
         "x": [
          -0.4782468403548081,
          0.7848921790023624
         ],
         "y": [
          0.8192451596907109,
          -0.2454827409792513
         ]
        },
        {
         "line": {
          "color": "darkblue",
          "width": 1
         },
         "mode": "lines",
         "type": "scatter",
         "x": [
          -0.3718304348748292,
          0.7848921790023624
         ],
         "y": [
          0.889405011839641,
          -0.2454827409792513
         ]
        },
        {
         "line": {
          "color": "darkblue",
          "width": 1
         },
         "mode": "lines",
         "type": "scatter",
         "x": [
          0.7845701886498891,
          0.9227817640400293
         ],
         "y": [
          -0.4702501081521776,
          0.029458794541957063
         ]
        },
        {
         "line": {
          "color": "darkblue",
          "width": 1
         },
         "mode": "lines",
         "type": "scatter",
         "x": [
          -0.8960744076451393,
          0.7903440977923845
         ],
         "y": [
          -0.12230556515037556,
          -0.5228755269922652
         ]
        },
        {
         "line": {
          "color": "darkblue",
          "width": 1
         },
         "mode": "lines",
         "type": "scatter",
         "x": [
          0.17286174615058908,
          -0.5518346330746787
         ],
         "y": [
          0.6109180479784145,
          -0.20347522493435183
         ]
        },
        {
         "line": {
          "color": "darkblue",
          "width": 1
         },
         "mode": "lines",
         "type": "scatter",
         "x": [
          -0.5518346330746787,
          0.5578103471991686
         ],
         "y": [
          -0.20347522493435183,
          0.20540946402350227
         ]
        },
        {
         "line": {
          "color": "darkblue",
          "width": 1
         },
         "mode": "lines",
         "type": "scatter",
         "x": [
          0.3341323589999464,
          0.014910717236521208
         ],
         "y": [
          0.6276510584927125,
          -0.7726759134396349
         ]
        },
        {
         "line": {
          "color": "darkblue",
          "width": 1
         },
         "mode": "lines",
         "type": "scatter",
         "x": [
          -0.5518346330746787,
          0.7845701886498891
         ],
         "y": [
          -0.20347522493435183,
          -0.4702501081521776
         ]
        },
        {
         "hoverinfo": "text",
         "marker": {
          "color": [
           1,
           0,
           0,
           1,
           1,
           0,
           0,
           0,
           1,
           1,
           1,
           1,
           0,
           1,
           0,
           0,
           1,
           1,
           0,
           0,
           1,
           0,
           0,
           0,
           0,
           0,
           1,
           1,
           0,
           1,
           1,
           1,
           1,
           0,
           1,
           1,
           1
          ],
          "colorbar": {
           "thickness": 15,
           "title": {
            "side": "right",
            "text": "Side"
           },
           "xanchor": "left"
          },
          "colorscale": [
           [
            0,
            "rgb(0, 155, 158)"
           ],
           [
            0.16666666666666666,
            "rgb(66, 183, 185)"
           ],
           [
            0.3333333333333333,
            "rgb(167, 211, 212)"
           ],
           [
            0.5,
            "rgb(241, 241, 241)"
           ],
           [
            0.6666666666666666,
            "rgb(228, 193, 217)"
           ],
           [
            0.8333333333333334,
            "rgb(214, 145, 193)"
           ],
           [
            1,
            "rgb(199, 93, 171)"
           ]
          ],
          "line": {
           "width": 2
          },
          "showscale": true,
          "size": 10
         },
         "mode": "markers",
         "text": [
          "Nearly Headless Nick",
          "Severus Snape",
          "Lucius Malfoy",
          "Cho Chang",
          "Molly Weasley",
          "Aragog",
          "Morfin Gaunt",
          "Quirinus Quirrell",
          "Dobby",
          "Lee Jordan",
          "Sirius Black",
          "Alastor Moody",
          "Gregory Goyle",
          "Fleur Delacour",
          "Barty Crouch Jr.",
          "Gellert Grindelwald",
          "George Weasley",
          "Remus Lupin",
          "Draco Malfoy",
          "Vincent Crabbe",
          "Percy Weasley",
          "Credence Barebone",
          "Lord Voldemort",
          "Gilderoy Lockhart",
          "Nagini",
          "Fenrir Greyback",
          "Minerva McGonagall",
          "Rubeus Hagrid",
          "Peter Pettigrew",
          "Luna Lovegood",
          "Nymphadora Tonks",
          "Ginny Weasley",
          "Ron Weasley",
          "The Serpent of Slytherin",
          "Neville Longbottom",
          "Professor Albus Dumbledore",
          "Harry Potter"
         ],
         "type": "scatter",
         "x": [
          0.7903440977923845,
          0.17286174615058908,
          -0.6004235446281904,
          -0.3114456606027594,
          -0.038399276125469936,
          -0.8165996085805034,
          -0.7605345776401973,
          -0.7566061026918331,
          0.8231470249802241,
          0.7848921790023624,
          0.6386071880364272,
          0.5578103471991686,
          -0.8569137617363639,
          -0.08629914181214383,
          0.0856782687952649,
          -0.3718304348748292,
          0.510738532629225,
          -0.278231951866899,
          -0.7082756557903018,
          0.20122273875243868,
          -0.13617797378549315,
          -0.9151372576982943,
          -0.4782468403548081,
          -0.5518346330746787,
          0.3341323589999464,
          -0.8960744076451393,
          0.2156727182715702,
          0.6108745154405566,
          -0.9739462100511188,
          0.7845701886498891,
          0.9227817640400293,
          0.3330448392384936,
          0.7013791398643786,
          -0.9255085009862662,
          0.821946468210322,
          0.07578275185778272,
          0.014910717236521208
         ],
         "y": [
          -0.5228755269922652,
          0.6109180479784145,
          0.6370991185146676,
          -0.6739529679071985,
          -0.8589465139367477,
          0.5807746769754708,
          0.28735490924116186,
          0.7987976960830132,
          -0.33873032683507903,
          -0.2454827409792513,
          0.13116385461911206,
          0.20540946402350227,
          0.27702130549198284,
          -0.9369339520980161,
          0.9124810295755442,
          0.889405011839641,
          -0.8112387243894809,
          -0.4788627466713346,
          0.6253190923496244,
          1,
          -0.6677698899093224,
          0.15511979920707278,
          0.8192451596907109,
          -0.20347522493435183,
          0.6276510584927125,
          -0.12230556515037556,
          -0.7887235348795513,
          -0.5733676800755454,
          0.15588962822060787,
          -0.4702501081521776,
          0.029458794541957063,
          -0.8340062657872137,
          -0.594040447917239,
          0.4156074772474138,
          -0.5376566668384067,
          -0.7227296757790806,
          -0.7726759134396349
         ]
        }
       ],
       "layout": {
        "height": 500,
        "hovermode": "closest",
        "margin": {
         "b": 20,
         "l": 5,
         "r": 5,
         "t": 40
        },
        "showlegend": false,
        "template": {
         "data": {
          "bar": [
           {
            "error_x": {
             "color": "#2a3f5f"
            },
            "error_y": {
             "color": "#2a3f5f"
            },
            "marker": {
             "line": {
              "color": "#E5ECF6",
              "width": 0.5
             },
             "pattern": {
              "fillmode": "overlay",
              "size": 10,
              "solidity": 0.2
             }
            },
            "type": "bar"
           }
          ],
          "barpolar": [
           {
            "marker": {
             "line": {
              "color": "#E5ECF6",
              "width": 0.5
             },
             "pattern": {
              "fillmode": "overlay",
              "size": 10,
              "solidity": 0.2
             }
            },
            "type": "barpolar"
           }
          ],
          "carpet": [
           {
            "aaxis": {
             "endlinecolor": "#2a3f5f",
             "gridcolor": "white",
             "linecolor": "white",
             "minorgridcolor": "white",
             "startlinecolor": "#2a3f5f"
            },
            "baxis": {
             "endlinecolor": "#2a3f5f",
             "gridcolor": "white",
             "linecolor": "white",
             "minorgridcolor": "white",
             "startlinecolor": "#2a3f5f"
            },
            "type": "carpet"
           }
          ],
          "choropleth": [
           {
            "colorbar": {
             "outlinewidth": 0,
             "ticks": ""
            },
            "type": "choropleth"
           }
          ],
          "contour": [
           {
            "colorbar": {
             "outlinewidth": 0,
             "ticks": ""
            },
            "colorscale": [
             [
              0,
              "#0d0887"
             ],
             [
              0.1111111111111111,
              "#46039f"
             ],
             [
              0.2222222222222222,
              "#7201a8"
             ],
             [
              0.3333333333333333,
              "#9c179e"
             ],
             [
              0.4444444444444444,
              "#bd3786"
             ],
             [
              0.5555555555555556,
              "#d8576b"
             ],
             [
              0.6666666666666666,
              "#ed7953"
             ],
             [
              0.7777777777777778,
              "#fb9f3a"
             ],
             [
              0.8888888888888888,
              "#fdca26"
             ],
             [
              1,
              "#f0f921"
             ]
            ],
            "type": "contour"
           }
          ],
          "contourcarpet": [
           {
            "colorbar": {
             "outlinewidth": 0,
             "ticks": ""
            },
            "type": "contourcarpet"
           }
          ],
          "heatmap": [
           {
            "colorbar": {
             "outlinewidth": 0,
             "ticks": ""
            },
            "colorscale": [
             [
              0,
              "#0d0887"
             ],
             [
              0.1111111111111111,
              "#46039f"
             ],
             [
              0.2222222222222222,
              "#7201a8"
             ],
             [
              0.3333333333333333,
              "#9c179e"
             ],
             [
              0.4444444444444444,
              "#bd3786"
             ],
             [
              0.5555555555555556,
              "#d8576b"
             ],
             [
              0.6666666666666666,
              "#ed7953"
             ],
             [
              0.7777777777777778,
              "#fb9f3a"
             ],
             [
              0.8888888888888888,
              "#fdca26"
             ],
             [
              1,
              "#f0f921"
             ]
            ],
            "type": "heatmap"
           }
          ],
          "heatmapgl": [
           {
            "colorbar": {
             "outlinewidth": 0,
             "ticks": ""
            },
            "colorscale": [
             [
              0,
              "#0d0887"
             ],
             [
              0.1111111111111111,
              "#46039f"
             ],
             [
              0.2222222222222222,
              "#7201a8"
             ],
             [
              0.3333333333333333,
              "#9c179e"
             ],
             [
              0.4444444444444444,
              "#bd3786"
             ],
             [
              0.5555555555555556,
              "#d8576b"
             ],
             [
              0.6666666666666666,
              "#ed7953"
             ],
             [
              0.7777777777777778,
              "#fb9f3a"
             ],
             [
              0.8888888888888888,
              "#fdca26"
             ],
             [
              1,
              "#f0f921"
             ]
            ],
            "type": "heatmapgl"
           }
          ],
          "histogram": [
           {
            "marker": {
             "pattern": {
              "fillmode": "overlay",
              "size": 10,
              "solidity": 0.2
             }
            },
            "type": "histogram"
           }
          ],
          "histogram2d": [
           {
            "colorbar": {
             "outlinewidth": 0,
             "ticks": ""
            },
            "colorscale": [
             [
              0,
              "#0d0887"
             ],
             [
              0.1111111111111111,
              "#46039f"
             ],
             [
              0.2222222222222222,
              "#7201a8"
             ],
             [
              0.3333333333333333,
              "#9c179e"
             ],
             [
              0.4444444444444444,
              "#bd3786"
             ],
             [
              0.5555555555555556,
              "#d8576b"
             ],
             [
              0.6666666666666666,
              "#ed7953"
             ],
             [
              0.7777777777777778,
              "#fb9f3a"
             ],
             [
              0.8888888888888888,
              "#fdca26"
             ],
             [
              1,
              "#f0f921"
             ]
            ],
            "type": "histogram2d"
           }
          ],
          "histogram2dcontour": [
           {
            "colorbar": {
             "outlinewidth": 0,
             "ticks": ""
            },
            "colorscale": [
             [
              0,
              "#0d0887"
             ],
             [
              0.1111111111111111,
              "#46039f"
             ],
             [
              0.2222222222222222,
              "#7201a8"
             ],
             [
              0.3333333333333333,
              "#9c179e"
             ],
             [
              0.4444444444444444,
              "#bd3786"
             ],
             [
              0.5555555555555556,
              "#d8576b"
             ],
             [
              0.6666666666666666,
              "#ed7953"
             ],
             [
              0.7777777777777778,
              "#fb9f3a"
             ],
             [
              0.8888888888888888,
              "#fdca26"
             ],
             [
              1,
              "#f0f921"
             ]
            ],
            "type": "histogram2dcontour"
           }
          ],
          "mesh3d": [
           {
            "colorbar": {
             "outlinewidth": 0,
             "ticks": ""
            },
            "type": "mesh3d"
           }
          ],
          "parcoords": [
           {
            "line": {
             "colorbar": {
              "outlinewidth": 0,
              "ticks": ""
             }
            },
            "type": "parcoords"
           }
          ],
          "pie": [
           {
            "automargin": true,
            "type": "pie"
           }
          ],
          "scatter": [
           {
            "fillpattern": {
             "fillmode": "overlay",
             "size": 10,
             "solidity": 0.2
            },
            "type": "scatter"
           }
          ],
          "scatter3d": [
           {
            "line": {
             "colorbar": {
              "outlinewidth": 0,
              "ticks": ""
             }
            },
            "marker": {
             "colorbar": {
              "outlinewidth": 0,
              "ticks": ""
             }
            },
            "type": "scatter3d"
           }
          ],
          "scattercarpet": [
           {
            "marker": {
             "colorbar": {
              "outlinewidth": 0,
              "ticks": ""
             }
            },
            "type": "scattercarpet"
           }
          ],
          "scattergeo": [
           {
            "marker": {
             "colorbar": {
              "outlinewidth": 0,
              "ticks": ""
             }
            },
            "type": "scattergeo"
           }
          ],
          "scattergl": [
           {
            "marker": {
             "colorbar": {
              "outlinewidth": 0,
              "ticks": ""
             }
            },
            "type": "scattergl"
           }
          ],
          "scattermapbox": [
           {
            "marker": {
             "colorbar": {
              "outlinewidth": 0,
              "ticks": ""
             }
            },
            "type": "scattermapbox"
           }
          ],
          "scatterpolar": [
           {
            "marker": {
             "colorbar": {
              "outlinewidth": 0,
              "ticks": ""
             }
            },
            "type": "scatterpolar"
           }
          ],
          "scatterpolargl": [
           {
            "marker": {
             "colorbar": {
              "outlinewidth": 0,
              "ticks": ""
             }
            },
            "type": "scatterpolargl"
           }
          ],
          "scatterternary": [
           {
            "marker": {
             "colorbar": {
              "outlinewidth": 0,
              "ticks": ""
             }
            },
            "type": "scatterternary"
           }
          ],
          "surface": [
           {
            "colorbar": {
             "outlinewidth": 0,
             "ticks": ""
            },
            "colorscale": [
             [
              0,
              "#0d0887"
             ],
             [
              0.1111111111111111,
              "#46039f"
             ],
             [
              0.2222222222222222,
              "#7201a8"
             ],
             [
              0.3333333333333333,
              "#9c179e"
             ],
             [
              0.4444444444444444,
              "#bd3786"
             ],
             [
              0.5555555555555556,
              "#d8576b"
             ],
             [
              0.6666666666666666,
              "#ed7953"
             ],
             [
              0.7777777777777778,
              "#fb9f3a"
             ],
             [
              0.8888888888888888,
              "#fdca26"
             ],
             [
              1,
              "#f0f921"
             ]
            ],
            "type": "surface"
           }
          ],
          "table": [
           {
            "cells": {
             "fill": {
              "color": "#EBF0F8"
             },
             "line": {
              "color": "white"
             }
            },
            "header": {
             "fill": {
              "color": "#C8D4E3"
             },
             "line": {
              "color": "white"
             }
            },
            "type": "table"
           }
          ]
         },
         "layout": {
          "annotationdefaults": {
           "arrowcolor": "#2a3f5f",
           "arrowhead": 0,
           "arrowwidth": 1
          },
          "autotypenumbers": "strict",
          "coloraxis": {
           "colorbar": {
            "outlinewidth": 0,
            "ticks": ""
           }
          },
          "colorscale": {
           "diverging": [
            [
             0,
             "#8e0152"
            ],
            [
             0.1,
             "#c51b7d"
            ],
            [
             0.2,
             "#de77ae"
            ],
            [
             0.3,
             "#f1b6da"
            ],
            [
             0.4,
             "#fde0ef"
            ],
            [
             0.5,
             "#f7f7f7"
            ],
            [
             0.6,
             "#e6f5d0"
            ],
            [
             0.7,
             "#b8e186"
            ],
            [
             0.8,
             "#7fbc41"
            ],
            [
             0.9,
             "#4d9221"
            ],
            [
             1,
             "#276419"
            ]
           ],
           "sequential": [
            [
             0,
             "#0d0887"
            ],
            [
             0.1111111111111111,
             "#46039f"
            ],
            [
             0.2222222222222222,
             "#7201a8"
            ],
            [
             0.3333333333333333,
             "#9c179e"
            ],
            [
             0.4444444444444444,
             "#bd3786"
            ],
            [
             0.5555555555555556,
             "#d8576b"
            ],
            [
             0.6666666666666666,
             "#ed7953"
            ],
            [
             0.7777777777777778,
             "#fb9f3a"
            ],
            [
             0.8888888888888888,
             "#fdca26"
            ],
            [
             1,
             "#f0f921"
            ]
           ],
           "sequentialminus": [
            [
             0,
             "#0d0887"
            ],
            [
             0.1111111111111111,
             "#46039f"
            ],
            [
             0.2222222222222222,
             "#7201a8"
            ],
            [
             0.3333333333333333,
             "#9c179e"
            ],
            [
             0.4444444444444444,
             "#bd3786"
            ],
            [
             0.5555555555555556,
             "#d8576b"
            ],
            [
             0.6666666666666666,
             "#ed7953"
            ],
            [
             0.7777777777777778,
             "#fb9f3a"
            ],
            [
             0.8888888888888888,
             "#fdca26"
            ],
            [
             1,
             "#f0f921"
            ]
           ]
          },
          "colorway": [
           "#636efa",
           "#EF553B",
           "#00cc96",
           "#ab63fa",
           "#FFA15A",
           "#19d3f3",
           "#FF6692",
           "#B6E880",
           "#FF97FF",
           "#FECB52"
          ],
          "font": {
           "color": "#2a3f5f"
          },
          "geo": {
           "bgcolor": "white",
           "lakecolor": "white",
           "landcolor": "#E5ECF6",
           "showlakes": true,
           "showland": true,
           "subunitcolor": "white"
          },
          "hoverlabel": {
           "align": "left"
          },
          "hovermode": "closest",
          "mapbox": {
           "style": "light"
          },
          "paper_bgcolor": "white",
          "plot_bgcolor": "#E5ECF6",
          "polar": {
           "angularaxis": {
            "gridcolor": "white",
            "linecolor": "white",
            "ticks": ""
           },
           "bgcolor": "#E5ECF6",
           "radialaxis": {
            "gridcolor": "white",
            "linecolor": "white",
            "ticks": ""
           }
          },
          "scene": {
           "xaxis": {
            "backgroundcolor": "#E5ECF6",
            "gridcolor": "white",
            "gridwidth": 2,
            "linecolor": "white",
            "showbackground": true,
            "ticks": "",
            "zerolinecolor": "white"
           },
           "yaxis": {
            "backgroundcolor": "#E5ECF6",
            "gridcolor": "white",
            "gridwidth": 2,
            "linecolor": "white",
            "showbackground": true,
            "ticks": "",
            "zerolinecolor": "white"
           },
           "zaxis": {
            "backgroundcolor": "#E5ECF6",
            "gridcolor": "white",
            "gridwidth": 2,
            "linecolor": "white",
            "showbackground": true,
            "ticks": "",
            "zerolinecolor": "white"
           }
          },
          "shapedefaults": {
           "line": {
            "color": "#2a3f5f"
           }
          },
          "ternary": {
           "aaxis": {
            "gridcolor": "white",
            "linecolor": "white",
            "ticks": ""
           },
           "baxis": {
            "gridcolor": "white",
            "linecolor": "white",
            "ticks": ""
           },
           "bgcolor": "#E5ECF6",
           "caxis": {
            "gridcolor": "white",
            "linecolor": "white",
            "ticks": ""
           }
          },
          "title": {
           "x": 0.05
          },
          "xaxis": {
           "automargin": true,
           "gridcolor": "white",
           "linecolor": "white",
           "ticks": "",
           "title": {
            "standoff": 15
           },
           "zerolinecolor": "white",
           "zerolinewidth": 2
          },
          "yaxis": {
           "automargin": true,
           "gridcolor": "white",
           "linecolor": "white",
           "ticks": "",
           "title": {
            "standoff": 15
           },
           "zerolinecolor": "white",
           "zerolinewidth": 2
          }
         }
        },
        "title": {
         "font": {
          "size": 16
         },
         "text": "Relations as chosen by the model"
        },
        "width": 800,
        "xaxis": {
         "showgrid": false,
         "showticklabels": false,
         "zeroline": false
        },
        "yaxis": {
         "showgrid": false,
         "showticklabels": false,
         "zeroline": false
        }
       }
      },
      "text/html": [
       "<div>                            <div id=\"583117e3-e853-4122-8945-7e25e0bd5f0f\" class=\"plotly-graph-div\" style=\"height:500px; width:800px;\"></div>            <script type=\"text/javascript\">                require([\"plotly\"], function(Plotly) {                    window.PLOTLYENV=window.PLOTLYENV || {};                                    if (document.getElementById(\"583117e3-e853-4122-8945-7e25e0bd5f0f\")) {                    Plotly.newPlot(                        \"583117e3-e853-4122-8945-7e25e0bd5f0f\",                        [{\"line\":{\"color\":\"darkblue\",\"width\":1},\"mode\":\"lines\",\"x\":[-0.5518346330746787,0.7848921790023624],\"y\":[-0.20347522493435183,-0.2454827409792513],\"type\":\"scatter\"},{\"line\":{\"color\":\"darkblue\",\"width\":1},\"mode\":\"lines\",\"x\":[0.014910717236521208,0.9227817640400293],\"y\":[-0.7726759134396349,0.029458794541957063],\"type\":\"scatter\"},{\"line\":{\"color\":\"darkblue\",\"width\":1},\"mode\":\"lines\",\"x\":[0.0856782687952649,-0.8569137617363639],\"y\":[0.9124810295755442,0.27702130549198284],\"type\":\"scatter\"},{\"line\":{\"color\":\"darkblue\",\"width\":1},\"mode\":\"lines\",\"x\":[-0.8960744076451393,0.3330448392384936],\"y\":[-0.12230556515037556,-0.8340062657872137],\"type\":\"scatter\"},{\"line\":{\"color\":\"darkblue\",\"width\":1},\"mode\":\"lines\",\"x\":[-0.4782468403548081,-0.7082756557903018],\"y\":[0.8192451596907109,0.6253190923496244],\"type\":\"scatter\"},{\"line\":{\"color\":\"darkblue\",\"width\":1},\"mode\":\"lines\",\"x\":[-0.7605345776401973,0.9227817640400293],\"y\":[0.28735490924116186,0.029458794541957063],\"type\":\"scatter\"},{\"line\":{\"color\":\"darkblue\",\"width\":1},\"mode\":\"lines\",\"x\":[-0.4782468403548081,0.07578275185778272],\"y\":[0.8192451596907109,-0.7227296757790806],\"type\":\"scatter\"},{\"line\":{\"color\":\"darkblue\",\"width\":1},\"mode\":\"lines\",\"x\":[0.3330448392384936,-0.038399276125469936],\"y\":[-0.8340062657872137,-0.8589465139367477],\"type\":\"scatter\"},{\"line\":{\"color\":\"darkblue\",\"width\":1},\"mode\":\"lines\",\"x\":[-0.7082756557903018,-0.5518346330746787],\"y\":[0.6253190923496244,-0.20347522493435183],\"type\":\"scatter\"},{\"line\":{\"color\":\"darkblue\",\"width\":1},\"mode\":\"lines\",\"x\":[0.014910717236521208,-0.278231951866899],\"y\":[-0.7726759134396349,-0.4788627466713346],\"type\":\"scatter\"},{\"line\":{\"color\":\"darkblue\",\"width\":1},\"mode\":\"lines\",\"x\":[0.2156727182715702,0.7903440977923845],\"y\":[-0.7887235348795513,-0.5228755269922652],\"type\":\"scatter\"},{\"line\":{\"color\":\"darkblue\",\"width\":1},\"mode\":\"lines\",\"x\":[-0.8960744076451393,-0.7605345776401973],\"y\":[-0.12230556515037556,0.28735490924116186],\"type\":\"scatter\"},{\"line\":{\"color\":\"darkblue\",\"width\":1},\"mode\":\"lines\",\"x\":[0.0856782687952649,-0.6004235446281904],\"y\":[0.9124810295755442,0.6370991185146676],\"type\":\"scatter\"},{\"line\":{\"color\":\"darkblue\",\"width\":1},\"mode\":\"lines\",\"x\":[-0.6004235446281904,0.7848921790023624],\"y\":[0.6370991185146676,-0.2454827409792513],\"type\":\"scatter\"},{\"line\":{\"color\":\"darkblue\",\"width\":1},\"mode\":\"lines\",\"x\":[0.17286174615058908,-0.278231951866899],\"y\":[0.6109180479784145,-0.4788627466713346],\"type\":\"scatter\"},{\"line\":{\"color\":\"darkblue\",\"width\":1},\"mode\":\"lines\",\"x\":[-0.7566061026918331,0.3341323589999464],\"y\":[0.7987976960830132,0.6276510584927125],\"type\":\"scatter\"},{\"line\":{\"color\":\"darkblue\",\"width\":1},\"mode\":\"lines\",\"x\":[0.17286174615058908,0.6386071880364272],\"y\":[0.6109180479784145,0.13116385461911206],\"type\":\"scatter\"},{\"line\":{\"color\":\"darkblue\",\"width\":1},\"mode\":\"lines\",\"x\":[0.0856782687952649,-0.7566061026918331],\"y\":[0.9124810295755442,0.7987976960830132],\"type\":\"scatter\"},{\"line\":{\"color\":\"darkblue\",\"width\":1},\"mode\":\"lines\",\"x\":[-0.5518346330746787,0.5578103471991686],\"y\":[-0.20347522493435183,0.20540946402350227],\"type\":\"scatter\"},{\"line\":{\"color\":\"darkblue\",\"width\":1},\"mode\":\"lines\",\"x\":[-0.7566061026918331,0.7845701886498891],\"y\":[0.7987976960830132,-0.4702501081521776],\"type\":\"scatter\"},{\"line\":{\"color\":\"darkblue\",\"width\":1},\"mode\":\"lines\",\"x\":[0.3341323589999464,-0.6004235446281904],\"y\":[0.6276510584927125,0.6370991185146676],\"type\":\"scatter\"},{\"line\":{\"color\":\"darkblue\",\"width\":1},\"mode\":\"lines\",\"x\":[-0.4782468403548081,-0.7566061026918331],\"y\":[0.8192451596907109,0.7987976960830132],\"type\":\"scatter\"},{\"line\":{\"color\":\"darkblue\",\"width\":1},\"mode\":\"lines\",\"x\":[0.07578275185778272,-0.038399276125469936],\"y\":[-0.7227296757790806,-0.8589465139367477],\"type\":\"scatter\"},{\"line\":{\"color\":\"darkblue\",\"width\":1},\"mode\":\"lines\",\"x\":[0.7013791398643786,0.7903440977923845],\"y\":[-0.594040447917239,-0.5228755269922652],\"type\":\"scatter\"},{\"line\":{\"color\":\"darkblue\",\"width\":1},\"mode\":\"lines\",\"x\":[-0.4782468403548081,-0.7605345776401973],\"y\":[0.8192451596907109,0.28735490924116186],\"type\":\"scatter\"},{\"line\":{\"color\":\"darkblue\",\"width\":1},\"mode\":\"lines\",\"x\":[-0.8960744076451393,-0.3718304348748292],\"y\":[-0.12230556515037556,0.889405011839641],\"type\":\"scatter\"},{\"line\":{\"color\":\"darkblue\",\"width\":1},\"mode\":\"lines\",\"x\":[-0.7566061026918331,-0.13617797378549315],\"y\":[0.7987976960830132,-0.6677698899093224],\"type\":\"scatter\"},{\"line\":{\"color\":\"darkblue\",\"width\":1},\"mode\":\"lines\",\"x\":[0.0856782687952649,0.6108745154405566],\"y\":[0.9124810295755442,-0.5733676800755454],\"type\":\"scatter\"},{\"line\":{\"color\":\"darkblue\",\"width\":1},\"mode\":\"lines\",\"x\":[0.8231470249802241,0.510738532629225],\"y\":[-0.33873032683507903,-0.8112387243894809],\"type\":\"scatter\"},{\"line\":{\"color\":\"darkblue\",\"width\":1},\"mode\":\"lines\",\"x\":[-0.6004235446281904,-0.3114456606027594],\"y\":[0.6370991185146676,-0.6739529679071985],\"type\":\"scatter\"},{\"line\":{\"color\":\"darkblue\",\"width\":1},\"mode\":\"lines\",\"x\":[-0.7566061026918331,0.3330448392384936],\"y\":[0.7987976960830132,-0.8340062657872137],\"type\":\"scatter\"},{\"line\":{\"color\":\"darkblue\",\"width\":1},\"mode\":\"lines\",\"x\":[-0.4782468403548081,-0.278231951866899],\"y\":[0.8192451596907109,-0.4788627466713346],\"type\":\"scatter\"},{\"line\":{\"color\":\"darkblue\",\"width\":1},\"mode\":\"lines\",\"x\":[-0.9255085009862662,0.6386071880364272],\"y\":[0.4156074772474138,0.13116385461911206],\"type\":\"scatter\"},{\"line\":{\"color\":\"darkblue\",\"width\":1},\"mode\":\"lines\",\"x\":[-0.8165996085805034,0.20122273875243868],\"y\":[0.5807746769754708,1.0],\"type\":\"scatter\"},{\"line\":{\"color\":\"darkblue\",\"width\":1},\"mode\":\"lines\",\"x\":[0.2156727182715702,-0.08629914181214383],\"y\":[-0.7887235348795513,-0.9369339520980161],\"type\":\"scatter\"},{\"line\":{\"color\":\"darkblue\",\"width\":1},\"mode\":\"lines\",\"x\":[-0.9739462100511188,-0.278231951866899],\"y\":[0.15588962822060787,-0.4788627466713346],\"type\":\"scatter\"},{\"line\":{\"color\":\"darkblue\",\"width\":1},\"mode\":\"lines\",\"x\":[0.2156727182715702,-0.3114456606027594],\"y\":[-0.7887235348795513,-0.6739529679071985],\"type\":\"scatter\"},{\"line\":{\"color\":\"darkblue\",\"width\":1},\"mode\":\"lines\",\"x\":[-0.9255085009862662,0.2156727182715702],\"y\":[0.4156074772474138,-0.7887235348795513],\"type\":\"scatter\"},{\"line\":{\"color\":\"darkblue\",\"width\":1},\"mode\":\"lines\",\"x\":[0.821946468210322,-0.3114456606027594],\"y\":[-0.5376566668384067,-0.6739529679071985],\"type\":\"scatter\"},{\"line\":{\"color\":\"darkblue\",\"width\":1},\"mode\":\"lines\",\"x\":[-0.3718304348748292,-0.5518346330746787],\"y\":[0.889405011839641,-0.20347522493435183],\"type\":\"scatter\"},{\"line\":{\"color\":\"darkblue\",\"width\":1},\"mode\":\"lines\",\"x\":[-0.9151372576982943,-0.5518346330746787],\"y\":[0.15511979920707278,-0.20347522493435183],\"type\":\"scatter\"},{\"line\":{\"color\":\"darkblue\",\"width\":1},\"mode\":\"lines\",\"x\":[-0.6004235446281904,0.7903440977923845],\"y\":[0.6370991185146676,-0.5228755269922652],\"type\":\"scatter\"},{\"line\":{\"color\":\"darkblue\",\"width\":1},\"mode\":\"lines\",\"x\":[-0.4782468403548081,0.7848921790023624],\"y\":[0.8192451596907109,-0.2454827409792513],\"type\":\"scatter\"},{\"line\":{\"color\":\"darkblue\",\"width\":1},\"mode\":\"lines\",\"x\":[-0.3718304348748292,0.7848921790023624],\"y\":[0.889405011839641,-0.2454827409792513],\"type\":\"scatter\"},{\"line\":{\"color\":\"darkblue\",\"width\":1},\"mode\":\"lines\",\"x\":[0.7845701886498891,0.9227817640400293],\"y\":[-0.4702501081521776,0.029458794541957063],\"type\":\"scatter\"},{\"line\":{\"color\":\"darkblue\",\"width\":1},\"mode\":\"lines\",\"x\":[-0.8960744076451393,0.7903440977923845],\"y\":[-0.12230556515037556,-0.5228755269922652],\"type\":\"scatter\"},{\"line\":{\"color\":\"darkblue\",\"width\":1},\"mode\":\"lines\",\"x\":[0.17286174615058908,-0.5518346330746787],\"y\":[0.6109180479784145,-0.20347522493435183],\"type\":\"scatter\"},{\"line\":{\"color\":\"darkblue\",\"width\":1},\"mode\":\"lines\",\"x\":[-0.5518346330746787,0.5578103471991686],\"y\":[-0.20347522493435183,0.20540946402350227],\"type\":\"scatter\"},{\"line\":{\"color\":\"darkblue\",\"width\":1},\"mode\":\"lines\",\"x\":[0.3341323589999464,0.014910717236521208],\"y\":[0.6276510584927125,-0.7726759134396349],\"type\":\"scatter\"},{\"line\":{\"color\":\"darkblue\",\"width\":1},\"mode\":\"lines\",\"x\":[-0.5518346330746787,0.7845701886498891],\"y\":[-0.20347522493435183,-0.4702501081521776],\"type\":\"scatter\"},{\"hoverinfo\":\"text\",\"marker\":{\"color\":[1,0,0,1,1,0,0,0,1,1,1,1,0,1,0,0,1,1,0,0,1,0,0,0,0,0,1,1,0,1,1,1,1,0,1,1,1],\"colorbar\":{\"thickness\":15,\"title\":{\"side\":\"right\",\"text\":\"Side\"},\"xanchor\":\"left\"},\"colorscale\":[[0.0,\"rgb(0, 155, 158)\"],[0.16666666666666666,\"rgb(66, 183, 185)\"],[0.3333333333333333,\"rgb(167, 211, 212)\"],[0.5,\"rgb(241, 241, 241)\"],[0.6666666666666666,\"rgb(228, 193, 217)\"],[0.8333333333333334,\"rgb(214, 145, 193)\"],[1.0,\"rgb(199, 93, 171)\"]],\"line\":{\"width\":2},\"showscale\":true,\"size\":10},\"mode\":\"markers\",\"text\":[\"Nearly Headless Nick\",\"Severus Snape\",\"Lucius Malfoy\",\"Cho Chang\",\"Molly Weasley\",\"Aragog\",\"Morfin Gaunt\",\"Quirinus Quirrell\",\"Dobby\",\"Lee Jordan\",\"Sirius Black\",\"Alastor Moody\",\"Gregory Goyle\",\"Fleur Delacour\",\"Barty Crouch Jr.\",\"Gellert Grindelwald\",\"George Weasley\",\"Remus Lupin\",\"Draco Malfoy\",\"Vincent Crabbe\",\"Percy Weasley\",\"Credence Barebone\",\"Lord Voldemort\",\"Gilderoy Lockhart\",\"Nagini\",\"Fenrir Greyback\",\"Minerva McGonagall\",\"Rubeus Hagrid\",\"Peter Pettigrew\",\"Luna Lovegood\",\"Nymphadora Tonks\",\"Ginny Weasley\",\"Ron Weasley\",\"The Serpent of Slytherin\",\"Neville Longbottom\",\"Professor Albus Dumbledore\",\"Harry Potter\"],\"x\":[0.7903440977923845,0.17286174615058908,-0.6004235446281904,-0.3114456606027594,-0.038399276125469936,-0.8165996085805034,-0.7605345776401973,-0.7566061026918331,0.8231470249802241,0.7848921790023624,0.6386071880364272,0.5578103471991686,-0.8569137617363639,-0.08629914181214383,0.0856782687952649,-0.3718304348748292,0.510738532629225,-0.278231951866899,-0.7082756557903018,0.20122273875243868,-0.13617797378549315,-0.9151372576982943,-0.4782468403548081,-0.5518346330746787,0.3341323589999464,-0.8960744076451393,0.2156727182715702,0.6108745154405566,-0.9739462100511188,0.7845701886498891,0.9227817640400293,0.3330448392384936,0.7013791398643786,-0.9255085009862662,0.821946468210322,0.07578275185778272,0.014910717236521208],\"y\":[-0.5228755269922652,0.6109180479784145,0.6370991185146676,-0.6739529679071985,-0.8589465139367477,0.5807746769754708,0.28735490924116186,0.7987976960830132,-0.33873032683507903,-0.2454827409792513,0.13116385461911206,0.20540946402350227,0.27702130549198284,-0.9369339520980161,0.9124810295755442,0.889405011839641,-0.8112387243894809,-0.4788627466713346,0.6253190923496244,1.0,-0.6677698899093224,0.15511979920707278,0.8192451596907109,-0.20347522493435183,0.6276510584927125,-0.12230556515037556,-0.7887235348795513,-0.5733676800755454,0.15588962822060787,-0.4702501081521776,0.029458794541957063,-0.8340062657872137,-0.594040447917239,0.4156074772474138,-0.5376566668384067,-0.7227296757790806,-0.7726759134396349],\"type\":\"scatter\"}],                        {\"hovermode\":\"closest\",\"margin\":{\"b\":20,\"l\":5,\"r\":5,\"t\":40},\"showlegend\":false,\"title\":{\"font\":{\"size\":16},\"text\":\"Relations as chosen by the model\"},\"xaxis\":{\"showgrid\":false,\"showticklabels\":false,\"zeroline\":false},\"yaxis\":{\"showgrid\":false,\"showticklabels\":false,\"zeroline\":false},\"template\":{\"data\":{\"histogram2dcontour\":[{\"type\":\"histogram2dcontour\",\"colorbar\":{\"outlinewidth\":0,\"ticks\":\"\"},\"colorscale\":[[0.0,\"#0d0887\"],[0.1111111111111111,\"#46039f\"],[0.2222222222222222,\"#7201a8\"],[0.3333333333333333,\"#9c179e\"],[0.4444444444444444,\"#bd3786\"],[0.5555555555555556,\"#d8576b\"],[0.6666666666666666,\"#ed7953\"],[0.7777777777777778,\"#fb9f3a\"],[0.8888888888888888,\"#fdca26\"],[1.0,\"#f0f921\"]]}],\"choropleth\":[{\"type\":\"choropleth\",\"colorbar\":{\"outlinewidth\":0,\"ticks\":\"\"}}],\"histogram2d\":[{\"type\":\"histogram2d\",\"colorbar\":{\"outlinewidth\":0,\"ticks\":\"\"},\"colorscale\":[[0.0,\"#0d0887\"],[0.1111111111111111,\"#46039f\"],[0.2222222222222222,\"#7201a8\"],[0.3333333333333333,\"#9c179e\"],[0.4444444444444444,\"#bd3786\"],[0.5555555555555556,\"#d8576b\"],[0.6666666666666666,\"#ed7953\"],[0.7777777777777778,\"#fb9f3a\"],[0.8888888888888888,\"#fdca26\"],[1.0,\"#f0f921\"]]}],\"heatmap\":[{\"type\":\"heatmap\",\"colorbar\":{\"outlinewidth\":0,\"ticks\":\"\"},\"colorscale\":[[0.0,\"#0d0887\"],[0.1111111111111111,\"#46039f\"],[0.2222222222222222,\"#7201a8\"],[0.3333333333333333,\"#9c179e\"],[0.4444444444444444,\"#bd3786\"],[0.5555555555555556,\"#d8576b\"],[0.6666666666666666,\"#ed7953\"],[0.7777777777777778,\"#fb9f3a\"],[0.8888888888888888,\"#fdca26\"],[1.0,\"#f0f921\"]]}],\"heatmapgl\":[{\"type\":\"heatmapgl\",\"colorbar\":{\"outlinewidth\":0,\"ticks\":\"\"},\"colorscale\":[[0.0,\"#0d0887\"],[0.1111111111111111,\"#46039f\"],[0.2222222222222222,\"#7201a8\"],[0.3333333333333333,\"#9c179e\"],[0.4444444444444444,\"#bd3786\"],[0.5555555555555556,\"#d8576b\"],[0.6666666666666666,\"#ed7953\"],[0.7777777777777778,\"#fb9f3a\"],[0.8888888888888888,\"#fdca26\"],[1.0,\"#f0f921\"]]}],\"contourcarpet\":[{\"type\":\"contourcarpet\",\"colorbar\":{\"outlinewidth\":0,\"ticks\":\"\"}}],\"contour\":[{\"type\":\"contour\",\"colorbar\":{\"outlinewidth\":0,\"ticks\":\"\"},\"colorscale\":[[0.0,\"#0d0887\"],[0.1111111111111111,\"#46039f\"],[0.2222222222222222,\"#7201a8\"],[0.3333333333333333,\"#9c179e\"],[0.4444444444444444,\"#bd3786\"],[0.5555555555555556,\"#d8576b\"],[0.6666666666666666,\"#ed7953\"],[0.7777777777777778,\"#fb9f3a\"],[0.8888888888888888,\"#fdca26\"],[1.0,\"#f0f921\"]]}],\"surface\":[{\"type\":\"surface\",\"colorbar\":{\"outlinewidth\":0,\"ticks\":\"\"},\"colorscale\":[[0.0,\"#0d0887\"],[0.1111111111111111,\"#46039f\"],[0.2222222222222222,\"#7201a8\"],[0.3333333333333333,\"#9c179e\"],[0.4444444444444444,\"#bd3786\"],[0.5555555555555556,\"#d8576b\"],[0.6666666666666666,\"#ed7953\"],[0.7777777777777778,\"#fb9f3a\"],[0.8888888888888888,\"#fdca26\"],[1.0,\"#f0f921\"]]}],\"mesh3d\":[{\"type\":\"mesh3d\",\"colorbar\":{\"outlinewidth\":0,\"ticks\":\"\"}}],\"scatter\":[{\"fillpattern\":{\"fillmode\":\"overlay\",\"size\":10,\"solidity\":0.2},\"type\":\"scatter\"}],\"parcoords\":[{\"type\":\"parcoords\",\"line\":{\"colorbar\":{\"outlinewidth\":0,\"ticks\":\"\"}}}],\"scatterpolargl\":[{\"type\":\"scatterpolargl\",\"marker\":{\"colorbar\":{\"outlinewidth\":0,\"ticks\":\"\"}}}],\"bar\":[{\"error_x\":{\"color\":\"#2a3f5f\"},\"error_y\":{\"color\":\"#2a3f5f\"},\"marker\":{\"line\":{\"color\":\"#E5ECF6\",\"width\":0.5},\"pattern\":{\"fillmode\":\"overlay\",\"size\":10,\"solidity\":0.2}},\"type\":\"bar\"}],\"scattergeo\":[{\"type\":\"scattergeo\",\"marker\":{\"colorbar\":{\"outlinewidth\":0,\"ticks\":\"\"}}}],\"scatterpolar\":[{\"type\":\"scatterpolar\",\"marker\":{\"colorbar\":{\"outlinewidth\":0,\"ticks\":\"\"}}}],\"histogram\":[{\"marker\":{\"pattern\":{\"fillmode\":\"overlay\",\"size\":10,\"solidity\":0.2}},\"type\":\"histogram\"}],\"scattergl\":[{\"type\":\"scattergl\",\"marker\":{\"colorbar\":{\"outlinewidth\":0,\"ticks\":\"\"}}}],\"scatter3d\":[{\"type\":\"scatter3d\",\"line\":{\"colorbar\":{\"outlinewidth\":0,\"ticks\":\"\"}},\"marker\":{\"colorbar\":{\"outlinewidth\":0,\"ticks\":\"\"}}}],\"scattermapbox\":[{\"type\":\"scattermapbox\",\"marker\":{\"colorbar\":{\"outlinewidth\":0,\"ticks\":\"\"}}}],\"scatterternary\":[{\"type\":\"scatterternary\",\"marker\":{\"colorbar\":{\"outlinewidth\":0,\"ticks\":\"\"}}}],\"scattercarpet\":[{\"type\":\"scattercarpet\",\"marker\":{\"colorbar\":{\"outlinewidth\":0,\"ticks\":\"\"}}}],\"carpet\":[{\"aaxis\":{\"endlinecolor\":\"#2a3f5f\",\"gridcolor\":\"white\",\"linecolor\":\"white\",\"minorgridcolor\":\"white\",\"startlinecolor\":\"#2a3f5f\"},\"baxis\":{\"endlinecolor\":\"#2a3f5f\",\"gridcolor\":\"white\",\"linecolor\":\"white\",\"minorgridcolor\":\"white\",\"startlinecolor\":\"#2a3f5f\"},\"type\":\"carpet\"}],\"table\":[{\"cells\":{\"fill\":{\"color\":\"#EBF0F8\"},\"line\":{\"color\":\"white\"}},\"header\":{\"fill\":{\"color\":\"#C8D4E3\"},\"line\":{\"color\":\"white\"}},\"type\":\"table\"}],\"barpolar\":[{\"marker\":{\"line\":{\"color\":\"#E5ECF6\",\"width\":0.5},\"pattern\":{\"fillmode\":\"overlay\",\"size\":10,\"solidity\":0.2}},\"type\":\"barpolar\"}],\"pie\":[{\"automargin\":true,\"type\":\"pie\"}]},\"layout\":{\"autotypenumbers\":\"strict\",\"colorway\":[\"#636efa\",\"#EF553B\",\"#00cc96\",\"#ab63fa\",\"#FFA15A\",\"#19d3f3\",\"#FF6692\",\"#B6E880\",\"#FF97FF\",\"#FECB52\"],\"font\":{\"color\":\"#2a3f5f\"},\"hovermode\":\"closest\",\"hoverlabel\":{\"align\":\"left\"},\"paper_bgcolor\":\"white\",\"plot_bgcolor\":\"#E5ECF6\",\"polar\":{\"bgcolor\":\"#E5ECF6\",\"angularaxis\":{\"gridcolor\":\"white\",\"linecolor\":\"white\",\"ticks\":\"\"},\"radialaxis\":{\"gridcolor\":\"white\",\"linecolor\":\"white\",\"ticks\":\"\"}},\"ternary\":{\"bgcolor\":\"#E5ECF6\",\"aaxis\":{\"gridcolor\":\"white\",\"linecolor\":\"white\",\"ticks\":\"\"},\"baxis\":{\"gridcolor\":\"white\",\"linecolor\":\"white\",\"ticks\":\"\"},\"caxis\":{\"gridcolor\":\"white\",\"linecolor\":\"white\",\"ticks\":\"\"}},\"coloraxis\":{\"colorbar\":{\"outlinewidth\":0,\"ticks\":\"\"}},\"colorscale\":{\"sequential\":[[0.0,\"#0d0887\"],[0.1111111111111111,\"#46039f\"],[0.2222222222222222,\"#7201a8\"],[0.3333333333333333,\"#9c179e\"],[0.4444444444444444,\"#bd3786\"],[0.5555555555555556,\"#d8576b\"],[0.6666666666666666,\"#ed7953\"],[0.7777777777777778,\"#fb9f3a\"],[0.8888888888888888,\"#fdca26\"],[1.0,\"#f0f921\"]],\"sequentialminus\":[[0.0,\"#0d0887\"],[0.1111111111111111,\"#46039f\"],[0.2222222222222222,\"#7201a8\"],[0.3333333333333333,\"#9c179e\"],[0.4444444444444444,\"#bd3786\"],[0.5555555555555556,\"#d8576b\"],[0.6666666666666666,\"#ed7953\"],[0.7777777777777778,\"#fb9f3a\"],[0.8888888888888888,\"#fdca26\"],[1.0,\"#f0f921\"]],\"diverging\":[[0,\"#8e0152\"],[0.1,\"#c51b7d\"],[0.2,\"#de77ae\"],[0.3,\"#f1b6da\"],[0.4,\"#fde0ef\"],[0.5,\"#f7f7f7\"],[0.6,\"#e6f5d0\"],[0.7,\"#b8e186\"],[0.8,\"#7fbc41\"],[0.9,\"#4d9221\"],[1,\"#276419\"]]},\"xaxis\":{\"gridcolor\":\"white\",\"linecolor\":\"white\",\"ticks\":\"\",\"title\":{\"standoff\":15},\"zerolinecolor\":\"white\",\"automargin\":true,\"zerolinewidth\":2},\"yaxis\":{\"gridcolor\":\"white\",\"linecolor\":\"white\",\"ticks\":\"\",\"title\":{\"standoff\":15},\"zerolinecolor\":\"white\",\"automargin\":true,\"zerolinewidth\":2},\"scene\":{\"xaxis\":{\"backgroundcolor\":\"#E5ECF6\",\"gridcolor\":\"white\",\"linecolor\":\"white\",\"showbackground\":true,\"ticks\":\"\",\"zerolinecolor\":\"white\",\"gridwidth\":2},\"yaxis\":{\"backgroundcolor\":\"#E5ECF6\",\"gridcolor\":\"white\",\"linecolor\":\"white\",\"showbackground\":true,\"ticks\":\"\",\"zerolinecolor\":\"white\",\"gridwidth\":2},\"zaxis\":{\"backgroundcolor\":\"#E5ECF6\",\"gridcolor\":\"white\",\"linecolor\":\"white\",\"showbackground\":true,\"ticks\":\"\",\"zerolinecolor\":\"white\",\"gridwidth\":2}},\"shapedefaults\":{\"line\":{\"color\":\"#2a3f5f\"}},\"annotationdefaults\":{\"arrowcolor\":\"#2a3f5f\",\"arrowhead\":0,\"arrowwidth\":1},\"geo\":{\"bgcolor\":\"white\",\"landcolor\":\"#E5ECF6\",\"subunitcolor\":\"white\",\"showland\":true,\"showlakes\":true,\"lakecolor\":\"white\"},\"title\":{\"x\":0.05},\"mapbox\":{\"style\":\"light\"}}},\"width\":800,\"height\":500},                        {\"responsive\": true}                    ).then(function(){\n",
       "                            \n",
       "var gd = document.getElementById('583117e3-e853-4122-8945-7e25e0bd5f0f');\n",
       "var x = new MutationObserver(function (mutations, observer) {{\n",
       "        var display = window.getComputedStyle(gd).display;\n",
       "        if (!display || display === 'none') {{\n",
       "            console.log([gd, 'removed!']);\n",
       "            Plotly.purge(gd);\n",
       "            observer.disconnect();\n",
       "        }}\n",
       "}});\n",
       "\n",
       "// Listen for the removal of the full notebook cells\n",
       "var notebookContainer = gd.closest('#notebook-container');\n",
       "if (notebookContainer) {{\n",
       "    x.observe(notebookContainer, {childList: true});\n",
       "}}\n",
       "\n",
       "// Listen for the clearing of the current output cell\n",
       "var outputEl = gd.closest('.output');\n",
       "if (outputEl) {{\n",
       "    x.observe(outputEl, {childList: true});\n",
       "}}\n",
       "\n",
       "                        })                };                });            </script>        </div>"
      ]
     },
     "metadata": {},
     "output_type": "display_data"
    }
   ],
   "source": [
    "# can also plot this graph\n",
    "plot_graph(positions, test, column='chosen_model', title='Relations as chosen by the model')"
   ]
  },
  {
   "cell_type": "markdown",
   "id": "d2f3b177-95d4-45ab-8ba2-bf8f7fa41f38",
   "metadata": {},
   "source": [
    "## Well, this is a bit disappointing. The model's relationship prediction doesn't depend much on the characters."
   ]
  },
  {
   "cell_type": "code",
   "execution_count": 82,
   "id": "69395115-b937-4ad5-85cf-4ae0c1d26fa9",
   "metadata": {},
   "outputs": [
    {
     "name": "stderr",
     "output_type": "stream",
     "text": [
      "Setting `pad_token_id` to `eos_token_id`:0 for open-end generation.\n"
     ]
    },
    {
     "name": "stdout",
     "output_type": "stream",
     "text": [
      "Lord Voldemort is Harry Potter's father.\n",
      "\n",
      "Harry Potter is a wizard.\n",
      "\n"
     ]
    }
   ],
   "source": [
    "encoded_input = tokenizer(\"Lord Voldemort is Harry Potter's\", return_tensors='pt')\n",
    "generated_output = model.generate(**encoded_input, max_length=20)\n",
    "print(tokenizer.decode(generated_output[0]))"
   ]
  },
  {
   "cell_type": "markdown",
   "id": "19a4d66c-246a-4cd9-9eaa-2b6d2b8c9a70",
   "metadata": {},
   "source": [
    "### Double checking, yes, relations are hallucinated.\n",
    "### One could try to find a more neutral way to formulate the facts, but maybe one can also force the model to learn by fine-tuning the pretrained?"
   ]
  },
  {
   "cell_type": "code",
   "execution_count": null,
   "id": "7a4338c6-d99c-4f38-a56b-584067f30173",
   "metadata": {},
   "outputs": [],
   "source": []
  }
 ],
 "metadata": {
  "kernelspec": {
   "display_name": "hf",
   "language": "python",
   "name": "hf"
  },
  "language_info": {
   "codemirror_mode": {
    "name": "ipython",
    "version": 3
   },
   "file_extension": ".py",
   "mimetype": "text/x-python",
   "name": "python",
   "nbconvert_exporter": "python",
   "pygments_lexer": "ipython3",
   "version": "3.11.9"
  }
 },
 "nbformat": 4,
 "nbformat_minor": 5
}
